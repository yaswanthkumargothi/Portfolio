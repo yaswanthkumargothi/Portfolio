{
 "cells": [
  {
   "cell_type": "markdown",
   "metadata": {},
   "source": [
    "### Steps \n",
    "1. Importing the datasets\n",
    "2. Merging the dataset\n",
    "3. Importing clustered Data\n",
    "4. Label encoding\n",
    "5. Fitting a Decision tree with depth 2\n",
    "6. Increasing the depth and checking the scores\n",
    "7. Plotting tree \n",
    "8. plotting variable importance\n",
    "9. Importing the New customer data\n",
    "10. Using the same tree to fit the new data\n",
    "11. Checking the accuracy score\n",
    "12. Getting rules from the Tree for each cluster"
   ]
  },
  {
   "cell_type": "code",
   "execution_count": 1,
   "metadata": {
    "collapsed": true
   },
   "outputs": [],
   "source": [
    "\n",
    "import numpy as np    \n",
    "import pandas as pd "
   ]
  },
  {
   "cell_type": "code",
   "execution_count": 2,
   "metadata": {},
   "outputs": [
    {
     "data": {
      "text/plain": [
       "'E:\\\\MSc\\\\project'"
      ]
     },
     "execution_count": 2,
     "metadata": {},
     "output_type": "execute_result"
    }
   ],
   "source": [
    "import os\n",
    "os.getcwd()"
   ]
  },
  {
   "cell_type": "code",
   "execution_count": 3,
   "metadata": {
    "collapsed": true
   },
   "outputs": [],
   "source": [
    "#importing existing customer Data\n",
    "CustDem = pd.read_csv(\"./Data/ExisitngCustomerDemographics.csv\")"
   ]
  },
  {
   "cell_type": "code",
   "execution_count": 4,
   "metadata": {},
   "outputs": [
    {
     "data": {
      "text/html": [
       "<div>\n",
       "<style scoped>\n",
       "    .dataframe tbody tr th:only-of-type {\n",
       "        vertical-align: middle;\n",
       "    }\n",
       "\n",
       "    .dataframe tbody tr th {\n",
       "        vertical-align: top;\n",
       "    }\n",
       "\n",
       "    .dataframe thead th {\n",
       "        text-align: right;\n",
       "    }\n",
       "</style>\n",
       "<table border=\"1\" class=\"dataframe\">\n",
       "  <thead>\n",
       "    <tr style=\"text-align: right;\">\n",
       "      <th></th>\n",
       "      <th>CustomerID</th>\n",
       "      <th>DOB</th>\n",
       "      <th>gender</th>\n",
       "      <th>MaritalStatus</th>\n",
       "      <th>Familysize</th>\n",
       "    </tr>\n",
       "  </thead>\n",
       "  <tbody>\n",
       "    <tr>\n",
       "      <th>0</th>\n",
       "      <td>C12551</td>\n",
       "      <td>1999-12-19</td>\n",
       "      <td>M</td>\n",
       "      <td>Yes</td>\n",
       "      <td>2</td>\n",
       "    </tr>\n",
       "    <tr>\n",
       "      <th>1</th>\n",
       "      <td>C12552</td>\n",
       "      <td>1985-06-14</td>\n",
       "      <td>M</td>\n",
       "      <td>No</td>\n",
       "      <td>1</td>\n",
       "    </tr>\n",
       "    <tr>\n",
       "      <th>2</th>\n",
       "      <td>C12553</td>\n",
       "      <td>1985-11-21</td>\n",
       "      <td>M</td>\n",
       "      <td>Yes</td>\n",
       "      <td>4</td>\n",
       "    </tr>\n",
       "    <tr>\n",
       "      <th>3</th>\n",
       "      <td>C12554</td>\n",
       "      <td>1984-02-01</td>\n",
       "      <td>M</td>\n",
       "      <td>Yes</td>\n",
       "      <td>4</td>\n",
       "    </tr>\n",
       "    <tr>\n",
       "      <th>4</th>\n",
       "      <td>C12555</td>\n",
       "      <td>1998-04-05</td>\n",
       "      <td>F</td>\n",
       "      <td>Yes</td>\n",
       "      <td>2</td>\n",
       "    </tr>\n",
       "  </tbody>\n",
       "</table>\n",
       "</div>"
      ],
      "text/plain": [
       "  CustomerID         DOB gender MaritalStatus  Familysize\n",
       "0     C12551  1999-12-19      M           Yes           2\n",
       "1     C12552  1985-06-14      M            No           1\n",
       "2     C12553  1985-11-21      M           Yes           4\n",
       "3     C12554  1984-02-01      M           Yes           4\n",
       "4     C12555  1998-04-05      F           Yes           2"
      ]
     },
     "execution_count": 4,
     "metadata": {},
     "output_type": "execute_result"
    }
   ],
   "source": [
    "CustDem.head()"
   ]
  },
  {
   "cell_type": "code",
   "execution_count": 5,
   "metadata": {
    "collapsed": true
   },
   "outputs": [],
   "source": [
    "CustTrans=pd.read_csv('./Data/ExistingCustomersTransactionsData.csv')"
   ]
  },
  {
   "cell_type": "code",
   "execution_count": 6,
   "metadata": {},
   "outputs": [
    {
     "data": {
      "text/html": [
       "<div>\n",
       "<style scoped>\n",
       "    .dataframe tbody tr th:only-of-type {\n",
       "        vertical-align: middle;\n",
       "    }\n",
       "\n",
       "    .dataframe tbody tr th {\n",
       "        vertical-align: top;\n",
       "    }\n",
       "\n",
       "    .dataframe thead th {\n",
       "        text-align: right;\n",
       "    }\n",
       "</style>\n",
       "<table border=\"1\" class=\"dataframe\">\n",
       "  <thead>\n",
       "    <tr style=\"text-align: right;\">\n",
       "      <th></th>\n",
       "      <th>BillNumber</th>\n",
       "      <th>BillDate</th>\n",
       "      <th>CustomerID</th>\n",
       "      <th>ProductID</th>\n",
       "      <th>ProductCategory</th>\n",
       "      <th>Sales</th>\n",
       "      <th>Quantity</th>\n",
       "    </tr>\n",
       "  </thead>\n",
       "  <tbody>\n",
       "    <tr>\n",
       "      <th>0</th>\n",
       "      <td>B32607</td>\n",
       "      <td>2014-01-03</td>\n",
       "      <td>C14797</td>\n",
       "      <td>PR7138</td>\n",
       "      <td>Office Supplies</td>\n",
       "      <td>16.448</td>\n",
       "      <td>2</td>\n",
       "    </tr>\n",
       "    <tr>\n",
       "      <th>1</th>\n",
       "      <td>B37616</td>\n",
       "      <td>2014-01-03</td>\n",
       "      <td>C13917</td>\n",
       "      <td>PR7138</td>\n",
       "      <td>Office Supplies</td>\n",
       "      <td>16.448</td>\n",
       "      <td>2</td>\n",
       "    </tr>\n",
       "    <tr>\n",
       "      <th>2</th>\n",
       "      <td>B42625</td>\n",
       "      <td>2014-01-03</td>\n",
       "      <td>C14353</td>\n",
       "      <td>PR7138</td>\n",
       "      <td>Office Supplies</td>\n",
       "      <td>16.448</td>\n",
       "      <td>2</td>\n",
       "    </tr>\n",
       "    <tr>\n",
       "      <th>3</th>\n",
       "      <td>B32712</td>\n",
       "      <td>2014-01-04</td>\n",
       "      <td>C13351</td>\n",
       "      <td>PR7099</td>\n",
       "      <td>Office Supplies</td>\n",
       "      <td>11.784</td>\n",
       "      <td>3</td>\n",
       "    </tr>\n",
       "    <tr>\n",
       "      <th>4</th>\n",
       "      <td>B32712</td>\n",
       "      <td>2014-01-04</td>\n",
       "      <td>C13351</td>\n",
       "      <td>PR7490</td>\n",
       "      <td>Office Supplies</td>\n",
       "      <td>272.736</td>\n",
       "      <td>3</td>\n",
       "    </tr>\n",
       "  </tbody>\n",
       "</table>\n",
       "</div>"
      ],
      "text/plain": [
       "  BillNumber    BillDate CustomerID ProductID  ProductCategory    Sales  \\\n",
       "0     B32607  2014-01-03     C14797    PR7138  Office Supplies   16.448   \n",
       "1     B37616  2014-01-03     C13917    PR7138  Office Supplies   16.448   \n",
       "2     B42625  2014-01-03     C14353    PR7138  Office Supplies   16.448   \n",
       "3     B32712  2014-01-04     C13351    PR7099  Office Supplies   11.784   \n",
       "4     B32712  2014-01-04     C13351    PR7490  Office Supplies  272.736   \n",
       "\n",
       "   Quantity  \n",
       "0         2  \n",
       "1         2  \n",
       "2         2  \n",
       "3         3  \n",
       "4         3  "
      ]
     },
     "execution_count": 6,
     "metadata": {},
     "output_type": "execute_result"
    }
   ],
   "source": [
    "CustTrans.head()"
   ]
  },
  {
   "cell_type": "code",
   "execution_count": 7,
   "metadata": {},
   "outputs": [
    {
     "data": {
      "text/plain": [
       "(29982, 7)"
      ]
     },
     "execution_count": 7,
     "metadata": {},
     "output_type": "execute_result"
    }
   ],
   "source": [
    "CustTrans.shape"
   ]
  },
  {
   "cell_type": "code",
   "execution_count": 8,
   "metadata": {},
   "outputs": [
    {
     "data": {
      "text/plain": [
       "(2379, 5)"
      ]
     },
     "execution_count": 8,
     "metadata": {},
     "output_type": "execute_result"
    }
   ],
   "source": [
    "CustDem.shape"
   ]
  },
  {
   "cell_type": "code",
   "execution_count": 9,
   "metadata": {
    "collapsed": true
   },
   "outputs": [],
   "source": [
    "MergeData= pd.merge(left=CustTrans, right=CustDem,how='left', left_on='CustomerID',right_on='CustomerID')"
   ]
  },
  {
   "cell_type": "code",
   "execution_count": 10,
   "metadata": {},
   "outputs": [
    {
     "data": {
      "text/html": [
       "<div>\n",
       "<style scoped>\n",
       "    .dataframe tbody tr th:only-of-type {\n",
       "        vertical-align: middle;\n",
       "    }\n",
       "\n",
       "    .dataframe tbody tr th {\n",
       "        vertical-align: top;\n",
       "    }\n",
       "\n",
       "    .dataframe thead th {\n",
       "        text-align: right;\n",
       "    }\n",
       "</style>\n",
       "<table border=\"1\" class=\"dataframe\">\n",
       "  <thead>\n",
       "    <tr style=\"text-align: right;\">\n",
       "      <th></th>\n",
       "      <th>BillNumber</th>\n",
       "      <th>BillDate</th>\n",
       "      <th>CustomerID</th>\n",
       "      <th>ProductID</th>\n",
       "      <th>ProductCategory</th>\n",
       "      <th>Sales</th>\n",
       "      <th>Quantity</th>\n",
       "      <th>DOB</th>\n",
       "      <th>gender</th>\n",
       "      <th>MaritalStatus</th>\n",
       "      <th>Familysize</th>\n",
       "    </tr>\n",
       "  </thead>\n",
       "  <tbody>\n",
       "    <tr>\n",
       "      <th>0</th>\n",
       "      <td>B32607</td>\n",
       "      <td>2014-01-03</td>\n",
       "      <td>C14797</td>\n",
       "      <td>PR7138</td>\n",
       "      <td>Office Supplies</td>\n",
       "      <td>16.448</td>\n",
       "      <td>2</td>\n",
       "      <td>1964-04-18</td>\n",
       "      <td>F</td>\n",
       "      <td>Yes</td>\n",
       "      <td>2</td>\n",
       "    </tr>\n",
       "    <tr>\n",
       "      <th>1</th>\n",
       "      <td>B37616</td>\n",
       "      <td>2014-01-03</td>\n",
       "      <td>C13917</td>\n",
       "      <td>PR7138</td>\n",
       "      <td>Office Supplies</td>\n",
       "      <td>16.448</td>\n",
       "      <td>2</td>\n",
       "      <td>1966-07-22</td>\n",
       "      <td>F</td>\n",
       "      <td>Yes</td>\n",
       "      <td>3</td>\n",
       "    </tr>\n",
       "    <tr>\n",
       "      <th>2</th>\n",
       "      <td>B42625</td>\n",
       "      <td>2014-01-03</td>\n",
       "      <td>C14353</td>\n",
       "      <td>PR7138</td>\n",
       "      <td>Office Supplies</td>\n",
       "      <td>16.448</td>\n",
       "      <td>2</td>\n",
       "      <td>1950-09-01</td>\n",
       "      <td>F</td>\n",
       "      <td>Yes</td>\n",
       "      <td>2</td>\n",
       "    </tr>\n",
       "    <tr>\n",
       "      <th>3</th>\n",
       "      <td>B32712</td>\n",
       "      <td>2014-01-04</td>\n",
       "      <td>C13351</td>\n",
       "      <td>PR7099</td>\n",
       "      <td>Office Supplies</td>\n",
       "      <td>11.784</td>\n",
       "      <td>3</td>\n",
       "      <td>1990-07-15</td>\n",
       "      <td>F</td>\n",
       "      <td>Yes</td>\n",
       "      <td>3</td>\n",
       "    </tr>\n",
       "    <tr>\n",
       "      <th>4</th>\n",
       "      <td>B32712</td>\n",
       "      <td>2014-01-04</td>\n",
       "      <td>C13351</td>\n",
       "      <td>PR7490</td>\n",
       "      <td>Office Supplies</td>\n",
       "      <td>272.736</td>\n",
       "      <td>3</td>\n",
       "      <td>1990-07-15</td>\n",
       "      <td>F</td>\n",
       "      <td>Yes</td>\n",
       "      <td>3</td>\n",
       "    </tr>\n",
       "  </tbody>\n",
       "</table>\n",
       "</div>"
      ],
      "text/plain": [
       "  BillNumber    BillDate CustomerID ProductID  ProductCategory    Sales  \\\n",
       "0     B32607  2014-01-03     C14797    PR7138  Office Supplies   16.448   \n",
       "1     B37616  2014-01-03     C13917    PR7138  Office Supplies   16.448   \n",
       "2     B42625  2014-01-03     C14353    PR7138  Office Supplies   16.448   \n",
       "3     B32712  2014-01-04     C13351    PR7099  Office Supplies   11.784   \n",
       "4     B32712  2014-01-04     C13351    PR7490  Office Supplies  272.736   \n",
       "\n",
       "   Quantity         DOB gender MaritalStatus  Familysize  \n",
       "0         2  1964-04-18      F           Yes           2  \n",
       "1         2  1966-07-22      F           Yes           3  \n",
       "2         2  1950-09-01      F           Yes           2  \n",
       "3         3  1990-07-15      F           Yes           3  \n",
       "4         3  1990-07-15      F           Yes           3  "
      ]
     },
     "execution_count": 10,
     "metadata": {},
     "output_type": "execute_result"
    }
   ],
   "source": [
    "MergeData.head()"
   ]
  },
  {
   "cell_type": "code",
   "execution_count": 11,
   "metadata": {
    "collapsed": true
   },
   "outputs": [],
   "source": [
    "%matplotlib inline"
   ]
  },
  {
   "cell_type": "code",
   "execution_count": 12,
   "metadata": {
    "collapsed": true
   },
   "outputs": [],
   "source": [
    "import matplotlib.pyplot as plt"
   ]
  },
  {
   "cell_type": "markdown",
   "metadata": {},
   "source": [
    "## Clustered Data Decision Tree"
   ]
  },
  {
   "cell_type": "code",
   "execution_count": 13,
   "metadata": {
    "collapsed": true
   },
   "outputs": [],
   "source": [
    "#loading data from clustered dataset of existing customer data\n",
    "clustered = pd.read_csv(\"./Clustered.csv\")"
   ]
  },
  {
   "cell_type": "code",
   "execution_count": 14,
   "metadata": {},
   "outputs": [
    {
     "data": {
      "text/html": [
       "<div>\n",
       "<style scoped>\n",
       "    .dataframe tbody tr th:only-of-type {\n",
       "        vertical-align: middle;\n",
       "    }\n",
       "\n",
       "    .dataframe tbody tr th {\n",
       "        vertical-align: top;\n",
       "    }\n",
       "\n",
       "    .dataframe thead th {\n",
       "        text-align: right;\n",
       "    }\n",
       "</style>\n",
       "<table border=\"1\" class=\"dataframe\">\n",
       "  <thead>\n",
       "    <tr style=\"text-align: right;\">\n",
       "      <th></th>\n",
       "      <th>Unnamed: 0</th>\n",
       "      <th>gender</th>\n",
       "      <th>MaritalStatus</th>\n",
       "      <th>Familysize</th>\n",
       "      <th>ProductCategory</th>\n",
       "      <th>Sales</th>\n",
       "      <th>Quantity</th>\n",
       "      <th>prodbin</th>\n",
       "      <th>Age</th>\n",
       "      <th>Billyear</th>\n",
       "      <th>Billmonth</th>\n",
       "      <th>pam_fit2$clustering</th>\n",
       "    </tr>\n",
       "  </thead>\n",
       "  <tbody>\n",
       "    <tr>\n",
       "      <th>0</th>\n",
       "      <td>1</td>\n",
       "      <td>M</td>\n",
       "      <td>Yes</td>\n",
       "      <td>2</td>\n",
       "      <td>Furniture</td>\n",
       "      <td>60.288</td>\n",
       "      <td>8</td>\n",
       "      <td>(6.4e+03,6.6e+03]</td>\n",
       "      <td>17</td>\n",
       "      <td>2016</td>\n",
       "      <td>7</td>\n",
       "      <td>1</td>\n",
       "    </tr>\n",
       "    <tr>\n",
       "      <th>1</th>\n",
       "      <td>2</td>\n",
       "      <td>M</td>\n",
       "      <td>Yes</td>\n",
       "      <td>2</td>\n",
       "      <td>Office Supplies</td>\n",
       "      <td>2.632</td>\n",
       "      <td>1</td>\n",
       "      <td>(7e+03,7.2e+03]</td>\n",
       "      <td>17</td>\n",
       "      <td>2016</td>\n",
       "      <td>7</td>\n",
       "      <td>2</td>\n",
       "    </tr>\n",
       "    <tr>\n",
       "      <th>2</th>\n",
       "      <td>3</td>\n",
       "      <td>M</td>\n",
       "      <td>Yes</td>\n",
       "      <td>2</td>\n",
       "      <td>Technology</td>\n",
       "      <td>1035.800</td>\n",
       "      <td>4</td>\n",
       "      <td>(7.6e+03,7.8e+03]</td>\n",
       "      <td>16</td>\n",
       "      <td>2015</td>\n",
       "      <td>10</td>\n",
       "      <td>3</td>\n",
       "    </tr>\n",
       "    <tr>\n",
       "      <th>3</th>\n",
       "      <td>4</td>\n",
       "      <td>M</td>\n",
       "      <td>Yes</td>\n",
       "      <td>2</td>\n",
       "      <td>Furniture</td>\n",
       "      <td>253.372</td>\n",
       "      <td>2</td>\n",
       "      <td>(6e+03,6.2e+03]</td>\n",
       "      <td>17</td>\n",
       "      <td>2016</td>\n",
       "      <td>7</td>\n",
       "      <td>1</td>\n",
       "    </tr>\n",
       "    <tr>\n",
       "      <th>4</th>\n",
       "      <td>5</td>\n",
       "      <td>M</td>\n",
       "      <td>Yes</td>\n",
       "      <td>2</td>\n",
       "      <td>Technology</td>\n",
       "      <td>23.976</td>\n",
       "      <td>3</td>\n",
       "      <td>(7.8e+03,8e+03]</td>\n",
       "      <td>18</td>\n",
       "      <td>2017</td>\n",
       "      <td>4</td>\n",
       "      <td>3</td>\n",
       "    </tr>\n",
       "  </tbody>\n",
       "</table>\n",
       "</div>"
      ],
      "text/plain": [
       "   Unnamed: 0 gender MaritalStatus  Familysize  ProductCategory     Sales  \\\n",
       "0           1      M           Yes           2        Furniture    60.288   \n",
       "1           2      M           Yes           2  Office Supplies     2.632   \n",
       "2           3      M           Yes           2       Technology  1035.800   \n",
       "3           4      M           Yes           2        Furniture   253.372   \n",
       "4           5      M           Yes           2       Technology    23.976   \n",
       "\n",
       "   Quantity            prodbin  Age  Billyear  Billmonth  pam_fit2$clustering  \n",
       "0         8  (6.4e+03,6.6e+03]   17      2016          7                    1  \n",
       "1         1    (7e+03,7.2e+03]   17      2016          7                    2  \n",
       "2         4  (7.6e+03,7.8e+03]   16      2015         10                    3  \n",
       "3         2    (6e+03,6.2e+03]   17      2016          7                    1  \n",
       "4         3    (7.8e+03,8e+03]   18      2017          4                    3  "
      ]
     },
     "execution_count": 14,
     "metadata": {},
     "output_type": "execute_result"
    }
   ],
   "source": [
    "clustered.head()"
   ]
  },
  {
   "cell_type": "code",
   "execution_count": 15,
   "metadata": {},
   "outputs": [
    {
     "data": {
      "text/plain": [
       "5    9497\n",
       "2    8581\n",
       "6    3398\n",
       "4    3103\n",
       "1    2965\n",
       "3    2438\n",
       "Name: pam_fit2$clustering, dtype: int64"
      ]
     },
     "execution_count": 15,
     "metadata": {},
     "output_type": "execute_result"
    }
   ],
   "source": [
    "clustered[\"pam_fit2$clustering\"].value_counts()"
   ]
  },
  {
   "cell_type": "code",
   "execution_count": 16,
   "metadata": {},
   "outputs": [
    {
     "data": {
      "text/plain": [
       "Unnamed: 0               int64\n",
       "gender                  object\n",
       "MaritalStatus           object\n",
       "Familysize               int64\n",
       "ProductCategory         object\n",
       "Sales                  float64\n",
       "Quantity                 int64\n",
       "prodbin                 object\n",
       "Age                      int64\n",
       "Billyear                 int64\n",
       "Billmonth                int64\n",
       "pam_fit2$clustering      int64\n",
       "dtype: object"
      ]
     },
     "execution_count": 16,
     "metadata": {},
     "output_type": "execute_result"
    }
   ],
   "source": [
    "clustered.dtypes"
   ]
  },
  {
   "cell_type": "code",
   "execution_count": 17,
   "metadata": {
    "collapsed": true
   },
   "outputs": [],
   "source": [
    "clustered=clustered.drop(clustered.columns[0], axis=1)"
   ]
  },
  {
   "cell_type": "code",
   "execution_count": 18,
   "metadata": {},
   "outputs": [
    {
     "data": {
      "text/plain": [
       "gender                  object\n",
       "MaritalStatus           object\n",
       "Familysize               int64\n",
       "ProductCategory         object\n",
       "Sales                  float64\n",
       "Quantity                 int64\n",
       "prodbin                 object\n",
       "Age                      int64\n",
       "Billyear                 int64\n",
       "Billmonth                int64\n",
       "pam_fit2$clustering      int64\n",
       "dtype: object"
      ]
     },
     "execution_count": 18,
     "metadata": {},
     "output_type": "execute_result"
    }
   ],
   "source": [
    "clustered.dtypes"
   ]
  },
  {
   "cell_type": "code",
   "execution_count": 19,
   "metadata": {
    "collapsed": true
   },
   "outputs": [],
   "source": [
    "clustered.columns= ['gender','MaritalStatus','Familysize','ProductCategory','Sales','Quantity','prodbin','Age','Billyear','Billmonth','cluster']"
   ]
  },
  {
   "cell_type": "code",
   "execution_count": 20,
   "metadata": {},
   "outputs": [
    {
     "data": {
      "text/html": [
       "<div>\n",
       "<style scoped>\n",
       "    .dataframe tbody tr th:only-of-type {\n",
       "        vertical-align: middle;\n",
       "    }\n",
       "\n",
       "    .dataframe tbody tr th {\n",
       "        vertical-align: top;\n",
       "    }\n",
       "\n",
       "    .dataframe thead th {\n",
       "        text-align: right;\n",
       "    }\n",
       "</style>\n",
       "<table border=\"1\" class=\"dataframe\">\n",
       "  <thead>\n",
       "    <tr style=\"text-align: right;\">\n",
       "      <th></th>\n",
       "      <th>gender</th>\n",
       "      <th>MaritalStatus</th>\n",
       "      <th>Familysize</th>\n",
       "      <th>ProductCategory</th>\n",
       "      <th>Sales</th>\n",
       "      <th>Quantity</th>\n",
       "      <th>prodbin</th>\n",
       "      <th>Age</th>\n",
       "      <th>Billyear</th>\n",
       "      <th>Billmonth</th>\n",
       "      <th>cluster</th>\n",
       "    </tr>\n",
       "  </thead>\n",
       "  <tbody>\n",
       "    <tr>\n",
       "      <th>0</th>\n",
       "      <td>M</td>\n",
       "      <td>Yes</td>\n",
       "      <td>2</td>\n",
       "      <td>Furniture</td>\n",
       "      <td>60.288</td>\n",
       "      <td>8</td>\n",
       "      <td>(6.4e+03,6.6e+03]</td>\n",
       "      <td>17</td>\n",
       "      <td>2016</td>\n",
       "      <td>7</td>\n",
       "      <td>1</td>\n",
       "    </tr>\n",
       "    <tr>\n",
       "      <th>1</th>\n",
       "      <td>M</td>\n",
       "      <td>Yes</td>\n",
       "      <td>2</td>\n",
       "      <td>Office Supplies</td>\n",
       "      <td>2.632</td>\n",
       "      <td>1</td>\n",
       "      <td>(7e+03,7.2e+03]</td>\n",
       "      <td>17</td>\n",
       "      <td>2016</td>\n",
       "      <td>7</td>\n",
       "      <td>2</td>\n",
       "    </tr>\n",
       "    <tr>\n",
       "      <th>2</th>\n",
       "      <td>M</td>\n",
       "      <td>Yes</td>\n",
       "      <td>2</td>\n",
       "      <td>Technology</td>\n",
       "      <td>1035.800</td>\n",
       "      <td>4</td>\n",
       "      <td>(7.6e+03,7.8e+03]</td>\n",
       "      <td>16</td>\n",
       "      <td>2015</td>\n",
       "      <td>10</td>\n",
       "      <td>3</td>\n",
       "    </tr>\n",
       "    <tr>\n",
       "      <th>3</th>\n",
       "      <td>M</td>\n",
       "      <td>Yes</td>\n",
       "      <td>2</td>\n",
       "      <td>Furniture</td>\n",
       "      <td>253.372</td>\n",
       "      <td>2</td>\n",
       "      <td>(6e+03,6.2e+03]</td>\n",
       "      <td>17</td>\n",
       "      <td>2016</td>\n",
       "      <td>7</td>\n",
       "      <td>1</td>\n",
       "    </tr>\n",
       "    <tr>\n",
       "      <th>4</th>\n",
       "      <td>M</td>\n",
       "      <td>Yes</td>\n",
       "      <td>2</td>\n",
       "      <td>Technology</td>\n",
       "      <td>23.976</td>\n",
       "      <td>3</td>\n",
       "      <td>(7.8e+03,8e+03]</td>\n",
       "      <td>18</td>\n",
       "      <td>2017</td>\n",
       "      <td>4</td>\n",
       "      <td>3</td>\n",
       "    </tr>\n",
       "  </tbody>\n",
       "</table>\n",
       "</div>"
      ],
      "text/plain": [
       "  gender MaritalStatus  Familysize  ProductCategory     Sales  Quantity  \\\n",
       "0      M           Yes           2        Furniture    60.288         8   \n",
       "1      M           Yes           2  Office Supplies     2.632         1   \n",
       "2      M           Yes           2       Technology  1035.800         4   \n",
       "3      M           Yes           2        Furniture   253.372         2   \n",
       "4      M           Yes           2       Technology    23.976         3   \n",
       "\n",
       "             prodbin  Age  Billyear  Billmonth  cluster  \n",
       "0  (6.4e+03,6.6e+03]   17      2016          7        1  \n",
       "1    (7e+03,7.2e+03]   17      2016          7        2  \n",
       "2  (7.6e+03,7.8e+03]   16      2015         10        3  \n",
       "3    (6e+03,6.2e+03]   17      2016          7        1  \n",
       "4    (7.8e+03,8e+03]   18      2017          4        3  "
      ]
     },
     "execution_count": 20,
     "metadata": {},
     "output_type": "execute_result"
    }
   ],
   "source": [
    "clustered.head()"
   ]
  },
  {
   "cell_type": "code",
   "execution_count": 21,
   "metadata": {},
   "outputs": [
    {
     "name": "stdout",
     "output_type": "stream",
     "text": [
      "gender              object\n",
      "MaritalStatus       object\n",
      "Familysize           int64\n",
      "ProductCategory     object\n",
      "Sales              float64\n",
      "Quantity             int64\n",
      "prodbin             object\n",
      "Age                  int64\n",
      "Billyear             int64\n",
      "Billmonth            int64\n",
      "cluster              int64\n",
      "dtype: object\n"
     ]
    }
   ],
   "source": [
    "print(clustered.dtypes)"
   ]
  },
  {
   "cell_type": "code",
   "execution_count": 22,
   "metadata": {
    "collapsed": true
   },
   "outputs": [],
   "source": [
    "#product bin in integer format which we already did in previous dataset\n",
    "Merged = pd.read_csv(\"./Merged.csv\")\n",
    "prodbin=Merged['prodbin']"
   ]
  },
  {
   "cell_type": "code",
   "execution_count": 23,
   "metadata": {
    "collapsed": true
   },
   "outputs": [],
   "source": [
    "#dropping prodbin from clustered dataset\n",
    "clustered=clustered.drop('prodbin', axis=1)"
   ]
  },
  {
   "cell_type": "code",
   "execution_count": 24,
   "metadata": {
    "collapsed": true
   },
   "outputs": [],
   "source": [
    "#merging prodbin \n",
    "clustered= pd.concat([clustered.reset_index(drop=True), prodbin], axis=1)"
   ]
  },
  {
   "cell_type": "code",
   "execution_count": 25,
   "metadata": {
    "collapsed": true
   },
   "outputs": [],
   "source": [
    "#datatype conversion\n",
    "for col in ['gender', 'MaritalStatus', 'ProductCategory', 'cluster','prodbin']:\n",
    "    clustered[col] = clustered[col].astype('category')"
   ]
  },
  {
   "cell_type": "code",
   "execution_count": 26,
   "metadata": {
    "collapsed": true
   },
   "outputs": [],
   "source": [
    "lis = ['gender', 'MaritalStatus', 'ProductCategory','prodbin']"
   ]
  },
  {
   "cell_type": "code",
   "execution_count": 27,
   "metadata": {
    "collapsed": true
   },
   "outputs": [],
   "source": [
    "from sklearn import preprocessing\n",
    "from sklearn.preprocessing import LabelEncoder"
   ]
  },
  {
   "cell_type": "code",
   "execution_count": 28,
   "metadata": {
    "collapsed": true
   },
   "outputs": [],
   "source": [
    "le = preprocessing.LabelEncoder()"
   ]
  },
  {
   "cell_type": "code",
   "execution_count": 29,
   "metadata": {
    "collapsed": true
   },
   "outputs": [],
   "source": [
    "#label encoding all the categorical variables\n",
    "for i in lis:\n",
    "    le.fit(clustered[i])\n",
    "    clustered[i] = le.fit_transform(clustered[i])"
   ]
  },
  {
   "cell_type": "code",
   "execution_count": 30,
   "metadata": {},
   "outputs": [
    {
     "data": {
      "text/html": [
       "<div>\n",
       "<style scoped>\n",
       "    .dataframe tbody tr th:only-of-type {\n",
       "        vertical-align: middle;\n",
       "    }\n",
       "\n",
       "    .dataframe tbody tr th {\n",
       "        vertical-align: top;\n",
       "    }\n",
       "\n",
       "    .dataframe thead th {\n",
       "        text-align: right;\n",
       "    }\n",
       "</style>\n",
       "<table border=\"1\" class=\"dataframe\">\n",
       "  <thead>\n",
       "    <tr style=\"text-align: right;\">\n",
       "      <th></th>\n",
       "      <th>gender</th>\n",
       "      <th>MaritalStatus</th>\n",
       "      <th>Familysize</th>\n",
       "      <th>ProductCategory</th>\n",
       "      <th>Sales</th>\n",
       "      <th>Quantity</th>\n",
       "      <th>Age</th>\n",
       "      <th>Billyear</th>\n",
       "      <th>Billmonth</th>\n",
       "      <th>cluster</th>\n",
       "      <th>prodbin</th>\n",
       "    </tr>\n",
       "  </thead>\n",
       "  <tbody>\n",
       "    <tr>\n",
       "      <th>0</th>\n",
       "      <td>1</td>\n",
       "      <td>1</td>\n",
       "      <td>2</td>\n",
       "      <td>0</td>\n",
       "      <td>60.288</td>\n",
       "      <td>8</td>\n",
       "      <td>17</td>\n",
       "      <td>2016</td>\n",
       "      <td>7</td>\n",
       "      <td>1</td>\n",
       "      <td>2</td>\n",
       "    </tr>\n",
       "    <tr>\n",
       "      <th>1</th>\n",
       "      <td>1</td>\n",
       "      <td>1</td>\n",
       "      <td>2</td>\n",
       "      <td>1</td>\n",
       "      <td>2.632</td>\n",
       "      <td>1</td>\n",
       "      <td>17</td>\n",
       "      <td>2016</td>\n",
       "      <td>7</td>\n",
       "      <td>2</td>\n",
       "      <td>5</td>\n",
       "    </tr>\n",
       "    <tr>\n",
       "      <th>2</th>\n",
       "      <td>1</td>\n",
       "      <td>1</td>\n",
       "      <td>2</td>\n",
       "      <td>2</td>\n",
       "      <td>1035.800</td>\n",
       "      <td>4</td>\n",
       "      <td>16</td>\n",
       "      <td>2015</td>\n",
       "      <td>10</td>\n",
       "      <td>3</td>\n",
       "      <td>8</td>\n",
       "    </tr>\n",
       "    <tr>\n",
       "      <th>3</th>\n",
       "      <td>1</td>\n",
       "      <td>1</td>\n",
       "      <td>2</td>\n",
       "      <td>0</td>\n",
       "      <td>253.372</td>\n",
       "      <td>2</td>\n",
       "      <td>17</td>\n",
       "      <td>2016</td>\n",
       "      <td>7</td>\n",
       "      <td>1</td>\n",
       "      <td>0</td>\n",
       "    </tr>\n",
       "    <tr>\n",
       "      <th>4</th>\n",
       "      <td>1</td>\n",
       "      <td>1</td>\n",
       "      <td>2</td>\n",
       "      <td>2</td>\n",
       "      <td>23.976</td>\n",
       "      <td>3</td>\n",
       "      <td>18</td>\n",
       "      <td>2017</td>\n",
       "      <td>4</td>\n",
       "      <td>3</td>\n",
       "      <td>9</td>\n",
       "    </tr>\n",
       "  </tbody>\n",
       "</table>\n",
       "</div>"
      ],
      "text/plain": [
       "   gender  MaritalStatus  Familysize  ProductCategory     Sales  Quantity  \\\n",
       "0       1              1           2                0    60.288         8   \n",
       "1       1              1           2                1     2.632         1   \n",
       "2       1              1           2                2  1035.800         4   \n",
       "3       1              1           2                0   253.372         2   \n",
       "4       1              1           2                2    23.976         3   \n",
       "\n",
       "   Age  Billyear  Billmonth cluster  prodbin  \n",
       "0   17      2016          7       1        2  \n",
       "1   17      2016          7       2        5  \n",
       "2   16      2015         10       3        8  \n",
       "3   17      2016          7       1        0  \n",
       "4   18      2017          4       3        9  "
      ]
     },
     "execution_count": 30,
     "metadata": {},
     "output_type": "execute_result"
    }
   ],
   "source": [
    "clustered.head()"
   ]
  },
  {
   "cell_type": "code",
   "execution_count": 31,
   "metadata": {},
   "outputs": [
    {
     "data": {
      "text/plain": [
       "gender                int32\n",
       "MaritalStatus         int32\n",
       "Familysize            int64\n",
       "ProductCategory       int32\n",
       "Sales               float64\n",
       "Quantity              int64\n",
       "Age                   int64\n",
       "Billyear              int64\n",
       "Billmonth             int64\n",
       "cluster            category\n",
       "prodbin               int64\n",
       "dtype: object"
      ]
     },
     "execution_count": 31,
     "metadata": {},
     "output_type": "execute_result"
    }
   ],
   "source": [
    "clustered.dtypes"
   ]
  },
  {
   "cell_type": "code",
   "execution_count": 32,
   "metadata": {
    "collapsed": true
   },
   "outputs": [],
   "source": [
    "from sklearn.tree import DecisionTreeClassifier, export_graphviz,DecisionTreeRegressor\n",
    "from sklearn.metrics import accuracy_score, recall_score, precision_score,confusion_matrix,mean_absolute_error,mean_squared_error"
   ]
  },
  {
   "cell_type": "code",
   "execution_count": 33,
   "metadata": {
    "collapsed": true
   },
   "outputs": [],
   "source": [
    "#importing graphviz for plotting decision tree\n",
    "import graphviz"
   ]
  },
  {
   "cell_type": "code",
   "execution_count": 34,
   "metadata": {
    "collapsed": true
   },
   "outputs": [],
   "source": [
    "#splitting data\n",
    "from sklearn.model_selection import train_test_split"
   ]
  },
  {
   "cell_type": "code",
   "execution_count": 35,
   "metadata": {
    "collapsed": true
   },
   "outputs": [],
   "source": [
    "trainx,testx,trainy,testy=train_test_split(clustered[['gender','MaritalStatus','Familysize','ProductCategory','Sales','Quantity','Age','Billyear','Billmonth','prodbin']],clustered[['cluster']],test_size=0.3,\n",
    "                                           random_state=123)"
   ]
  },
  {
   "cell_type": "code",
   "execution_count": 36,
   "metadata": {
    "collapsed": true
   },
   "outputs": [],
   "source": [
    "X,y=clustered[['gender','MaritalStatus','Familysize','ProductCategory','Sales','Quantity','Age','Billyear','Billmonth','prodbin']],clustered[['cluster']]"
   ]
  },
  {
   "cell_type": "code",
   "execution_count": 37,
   "metadata": {},
   "outputs": [
    {
     "data": {
      "text/html": [
       "<div>\n",
       "<style scoped>\n",
       "    .dataframe tbody tr th:only-of-type {\n",
       "        vertical-align: middle;\n",
       "    }\n",
       "\n",
       "    .dataframe tbody tr th {\n",
       "        vertical-align: top;\n",
       "    }\n",
       "\n",
       "    .dataframe thead th {\n",
       "        text-align: right;\n",
       "    }\n",
       "</style>\n",
       "<table border=\"1\" class=\"dataframe\">\n",
       "  <thead>\n",
       "    <tr style=\"text-align: right;\">\n",
       "      <th></th>\n",
       "      <th>gender</th>\n",
       "      <th>MaritalStatus</th>\n",
       "      <th>Familysize</th>\n",
       "      <th>ProductCategory</th>\n",
       "      <th>Sales</th>\n",
       "      <th>Quantity</th>\n",
       "      <th>Age</th>\n",
       "      <th>Billyear</th>\n",
       "      <th>Billmonth</th>\n",
       "      <th>prodbin</th>\n",
       "    </tr>\n",
       "  </thead>\n",
       "  <tbody>\n",
       "    <tr>\n",
       "      <th>21116</th>\n",
       "      <td>0</td>\n",
       "      <td>1</td>\n",
       "      <td>2</td>\n",
       "      <td>2</td>\n",
       "      <td>527.920</td>\n",
       "      <td>2</td>\n",
       "      <td>18</td>\n",
       "      <td>2017</td>\n",
       "      <td>7</td>\n",
       "      <td>8</td>\n",
       "    </tr>\n",
       "    <tr>\n",
       "      <th>11613</th>\n",
       "      <td>1</td>\n",
       "      <td>1</td>\n",
       "      <td>3</td>\n",
       "      <td>1</td>\n",
       "      <td>44.400</td>\n",
       "      <td>3</td>\n",
       "      <td>44</td>\n",
       "      <td>2014</td>\n",
       "      <td>11</td>\n",
       "      <td>5</td>\n",
       "    </tr>\n",
       "    <tr>\n",
       "      <th>10584</th>\n",
       "      <td>1</td>\n",
       "      <td>1</td>\n",
       "      <td>4</td>\n",
       "      <td>1</td>\n",
       "      <td>7.506</td>\n",
       "      <td>9</td>\n",
       "      <td>39</td>\n",
       "      <td>2016</td>\n",
       "      <td>9</td>\n",
       "      <td>4</td>\n",
       "    </tr>\n",
       "    <tr>\n",
       "      <th>13330</th>\n",
       "      <td>0</td>\n",
       "      <td>1</td>\n",
       "      <td>3</td>\n",
       "      <td>2</td>\n",
       "      <td>72.744</td>\n",
       "      <td>7</td>\n",
       "      <td>22</td>\n",
       "      <td>2015</td>\n",
       "      <td>11</td>\n",
       "      <td>9</td>\n",
       "    </tr>\n",
       "    <tr>\n",
       "      <th>28162</th>\n",
       "      <td>1</td>\n",
       "      <td>1</td>\n",
       "      <td>2</td>\n",
       "      <td>1</td>\n",
       "      <td>5.229</td>\n",
       "      <td>3</td>\n",
       "      <td>46</td>\n",
       "      <td>2017</td>\n",
       "      <td>2</td>\n",
       "      <td>4</td>\n",
       "    </tr>\n",
       "  </tbody>\n",
       "</table>\n",
       "</div>"
      ],
      "text/plain": [
       "       gender  MaritalStatus  Familysize  ProductCategory    Sales  Quantity  \\\n",
       "21116       0              1           2                2  527.920         2   \n",
       "11613       1              1           3                1   44.400         3   \n",
       "10584       1              1           4                1    7.506         9   \n",
       "13330       0              1           3                2   72.744         7   \n",
       "28162       1              1           2                1    5.229         3   \n",
       "\n",
       "       Age  Billyear  Billmonth  prodbin  \n",
       "21116   18      2017          7        8  \n",
       "11613   44      2014         11        5  \n",
       "10584   39      2016          9        4  \n",
       "13330   22      2015         11        9  \n",
       "28162   46      2017          2        4  "
      ]
     },
     "execution_count": 37,
     "metadata": {},
     "output_type": "execute_result"
    }
   ],
   "source": [
    "trainx.head()"
   ]
  },
  {
   "cell_type": "code",
   "execution_count": 38,
   "metadata": {
    "collapsed": true
   },
   "outputs": [],
   "source": [
    "clf=DecisionTreeClassifier(max_depth=2)"
   ]
  },
  {
   "cell_type": "code",
   "execution_count": 39,
   "metadata": {
    "collapsed": true
   },
   "outputs": [],
   "source": [
    "DT=clf.fit(trainx,trainy)"
   ]
  },
  {
   "cell_type": "code",
   "execution_count": 40,
   "metadata": {
    "collapsed": true
   },
   "outputs": [],
   "source": [
    "pred_train=DT.predict(trainx)\n",
    "pred_test=DT.predict(testx)"
   ]
  },
  {
   "cell_type": "code",
   "execution_count": 41,
   "metadata": {},
   "outputs": [
    {
     "data": {
      "text/plain": [
       "array([5, 2, 2, ..., 1, 2, 2], dtype=int64)"
      ]
     },
     "execution_count": 41,
     "metadata": {},
     "output_type": "execute_result"
    }
   ],
   "source": [
    "pred_train"
   ]
  },
  {
   "cell_type": "code",
   "execution_count": 42,
   "metadata": {},
   "outputs": [
    {
     "name": "stdout",
     "output_type": "stream",
     "text": [
      "[(4, 5), (2, 2), (2, 2), (3, 5), (2, 2), (4, 5), (3, 5), (3, 2), (1, 1), (2, 2), (5, 5), (3, 2), (5, 5), (2, 2), (5, 5), (2, 2), (2, 2), (1, 1), (2, 2), (5, 5), (6, 6), (4, 2), (6, 6), (4, 2), (2, 2), (2, 2), (5, 5), (5, 5), (3, 5), (5, 5), (4, 5), (2, 2), (5, 5), (2, 2), (5, 5), (3, 2), (2, 2), (5, 5), (4, 5), (5, 5), (5, 5), (1, 1), (1, 1), (5, 5), (1, 1), (5, 5), (5, 5), (5, 5), (5, 5), (1, 1), (2, 2), (4, 5), (1, 1), (5, 5), (1, 1), (4, 5), (6, 6), (2, 2), (2, 2), (6, 6), (5, 5), (1, 1), (2, 2), (2, 2), (5, 5), (5, 5), (4, 2), (2, 2), (5, 5), (5, 5), (5, 5), (4, 2), (3, 2), (2, 2), (5, 5), (6, 6), (1, 1), (5, 5), (3, 2), (1, 1), (3, 2), (3, 2), (3, 2), (5, 5), (1, 1), (2, 2), (6, 6), (6, 6), (1, 1), (2, 2), (3, 2), (6, 6), (2, 2), (6, 6), (5, 5), (5, 5), (5, 5), (2, 2), (1, 1), (2, 2), (4, 5), (2, 2), (1, 1), (1, 1), (1, 1), (2, 2), (2, 2), (4, 5), (6, 6), (3, 5), (3, 2), (2, 2), (2, 2), (5, 5), (5, 5), (5, 5), (6, 6), (2, 2), (5, 5), (6, 6), (4, 5), (2, 2), (2, 2), (2, 2), (5, 5), (2, 2), (5, 5), (2, 2), (2, 2), (3, 2), (1, 1), (3, 2), (3, 2), (2, 2), (1, 1), (6, 6), (2, 2), (2, 2), (2, 2), (6, 6), (1, 1), (2, 2), (5, 5), (5, 5), (5, 5), (3, 2), (6, 6), (5, 5), (6, 6), (6, 6), (5, 5), (2, 2), (6, 6), (5, 5), (2, 2), (2, 2), (5, 5), (4, 5), (5, 5), (5, 5), (2, 2), (4, 5), (3, 2), (5, 5), (2, 2), (2, 2), (5, 5), (2, 2), (3, 2), (5, 5), (5, 5), (5, 5), (5, 5), (5, 5), (1, 1), (5, 5), (5, 5), (5, 5), (5, 5), (2, 2), (5, 5), (6, 6), (6, 6), (5, 5), (2, 2), (5, 5), (5, 5), (3, 2), (4, 5), (5, 5), (5, 5), (2, 2), (2, 2), (5, 5), (5, 5), (6, 6), (5, 5), (2, 2), (6, 6), (2, 2), (1, 1), (5, 5), (2, 2), (1, 1), (1, 1), (5, 5), (1, 1), (2, 2), (1, 1), (6, 6), (5, 5), (5, 5), (1, 1), (5, 5), (5, 5), (2, 2), (2, 2), (5, 5), (3, 5), (2, 2), (5, 5), (6, 6), (5, 5), (3, 2), (2, 2), (6, 6), (3, 2), (4, 5), (5, 5), (2, 2), (2, 2), (5, 5), (3, 5), (1, 1), (1, 1), (2, 2), (6, 6), (1, 1), (6, 6), (6, 6), (2, 2), (2, 2), (1, 1), (2, 2), (3, 2), (2, 2), (5, 5), (1, 1), (5, 5), (5, 5), (3, 2), (4, 2), (4, 5), (1, 1), (4, 2), (2, 2), (2, 2), (5, 5), (6, 6), (1, 1), (6, 6), (3, 2), (5, 5), (6, 6), (3, 2), (5, 5), (5, 5), (5, 5), (2, 2), (6, 6), (3, 2), (5, 5), (2, 2), (5, 5), (5, 5), (2, 2), (6, 6), (5, 5), (2, 2), (2, 2), (3, 2), (5, 5), (1, 1), (6, 6), (5, 5), (5, 5), (1, 1), (5, 5), (2, 2), (5, 5), (5, 5), (5, 5), (2, 2), (4, 5), (4, 5), (5, 5), (4, 5), (5, 5), (1, 1), (2, 2), (6, 6), (6, 6), (5, 5), (5, 5), (5, 5), (5, 5), (2, 2), (2, 2), (2, 2), (6, 6), (2, 2), (4, 5), (6, 6), (5, 5), (5, 5), (5, 5), (2, 2), (1, 1), (5, 5), (5, 5), (2, 2), (5, 5), (2, 2), (4, 2), (2, 2), (4, 5), (3, 2), (2, 2), (6, 6), (2, 2), (6, 6), (5, 5), (2, 2), (3, 2), (1, 1), (5, 5), (5, 5), (6, 6), (5, 5), (2, 2), (2, 2), (5, 5), (5, 5), (5, 5), (5, 5), (3, 2), (2, 2), (3, 5), (2, 2), (2, 2), (5, 5), (1, 1), (4, 5), (3, 5), (1, 1), (2, 2), (6, 6), (4, 5), (3, 2), (2, 2), (2, 2), (6, 6), (6, 6), (4, 5), (5, 5), (3, 2), (2, 2), (2, 2), (2, 2), (6, 6), (3, 5), (2, 2), (2, 2), (5, 5), (5, 5), (5, 5), (3, 2), (6, 6), (2, 2), (4, 5), (2, 2), (2, 2), (2, 2), (5, 5), (5, 5), (6, 6), (3, 2), (4, 5), (5, 5), (5, 5), (2, 2), (5, 5), (5, 5), (4, 5), (5, 5), (2, 2), (3, 2), (4, 5), (3, 2), (5, 5), (1, 1), (5, 5), (4, 5), (3, 2), (5, 5), (4, 5), (1, 1), (2, 2), (2, 2), (3, 2), (4, 5), (2, 2), (5, 5), (5, 5), (6, 6), (1, 1), (3, 2), (5, 5), (5, 5), (1, 1), (5, 5), (5, 5), (5, 5), (4, 5), (5, 5), (5, 5), (4, 5), (3, 5), (6, 6), (5, 5), (5, 5), (5, 5), (5, 5), (5, 5), (2, 2), (5, 5), (2, 2), (3, 2), (6, 6), (5, 5), (4, 5), (5, 5), (2, 2), (3, 2), (4, 5), (6, 6), (6, 6), (2, 2), (5, 5), (1, 1), (5, 5), (3, 5), (2, 2), (5, 5), (5, 5), (5, 5), (5, 5), (3, 2), (1, 1), (2, 2), (5, 5), (5, 5), (3, 2), (5, 5), (3, 5), (3, 2), (5, 5), (2, 2), (5, 5), (2, 2), (6, 6), (2, 2), (5, 5), (1, 1), (2, 2), (5, 5), (5, 5), (5, 5), (2, 2), (1, 1), (4, 5), (5, 5), (3, 2), (2, 2), (6, 6), (5, 5), (5, 5), (6, 6), (5, 5), (5, 5), (2, 2), (5, 5), (2, 2), (4, 5), (5, 5), (2, 2), (6, 6), (5, 5), (5, 5), (6, 6), (5, 5), (6, 6), (2, 2), (5, 5), (5, 5), (6, 6), (5, 5), (6, 6), (2, 2), (2, 2), (2, 2), (3, 5), (4, 5), (3, 2), (5, 5), (2, 2), (5, 5), (6, 6), (2, 2), (2, 2), (1, 1), (5, 5), (4, 5), (2, 2), (4, 5), (5, 5), (6, 6), (1, 1), (5, 5), (5, 5), (5, 5), (2, 2), (1, 1), (2, 2), (4, 5), (5, 5), (5, 5), (4, 5), (5, 5), (5, 5), (1, 1), (5, 5), (2, 2), (3, 2), (3, 2), (2, 2), (4, 2), (1, 1), (4, 5), (5, 5), (5, 5), (4, 5), (1, 1), (4, 5), (2, 2), (4, 2), (1, 1), (2, 2), (2, 2), (3, 2), (5, 5), (2, 2), (2, 2), (2, 2), (6, 6), (5, 5), (2, 2), (6, 6), (5, 5), (2, 2), (5, 5), (2, 2), (6, 6), (3, 2), (2, 2), (5, 5), (6, 6), (2, 2), (5, 5), (5, 5), (5, 5), (1, 1), (5, 5), (1, 1), (2, 2), (5, 5), (1, 1), (5, 5), (5, 5), (5, 5), (3, 2), (5, 5), (1, 1), (1, 1), (3, 2), (2, 2), (2, 2), (2, 2), (5, 5), (2, 2), (2, 2), (2, 2), (1, 1), (5, 5), (2, 2), (5, 5), (5, 5), (3, 2), (5, 5), (5, 5), (2, 2), (5, 5), (5, 5), (6, 6), (5, 5), (6, 6), (2, 2), (1, 1), (4, 5), (5, 5), (5, 5), (2, 2), (3, 2), (1, 1), (2, 2), (3, 2), (3, 5), (5, 5), (5, 5), (4, 2), (6, 6), (5, 5), (3, 5), (3, 2), (5, 5), (2, 2), (5, 5), (2, 2), (5, 5), (5, 5), (2, 2), (5, 5), (2, 2), (1, 1), (3, 2), (5, 5), (6, 6), (1, 1), (5, 5), (4, 5), (2, 2), (2, 2), (2, 2), (2, 2), (2, 2), (1, 1), (3, 2), (2, 2), (5, 5), (2, 2), (2, 2), (3, 5), (1, 1), (5, 5), (3, 2), (1, 1), (6, 6), (1, 1), (3, 2), (4, 2), (2, 2), (5, 5), (5, 5), (2, 2), (3, 2), (1, 1), (5, 5), (2, 2), (2, 2), (1, 1), (2, 2), (2, 2), (5, 5), (5, 5), (2, 2), (2, 2), (2, 2), (5, 5), (5, 5), (2, 2), (5, 5), (6, 6), (2, 2), (5, 5), (5, 5), (1, 1), (5, 5), (5, 5), (2, 2), (5, 5), (5, 5), (2, 2), (5, 5), (4, 2), (5, 5), (2, 2), (4, 5), (5, 5), (2, 2), (1, 1), (2, 2), (4, 5), (5, 5), (2, 2), (2, 2), (5, 5), (4, 5), (2, 2), (5, 5), (2, 2), (5, 5), (2, 2), (1, 1), (2, 2), (2, 2), (5, 5), (5, 5), (2, 2), (2, 2), (1, 1), (2, 2), (5, 5), (1, 1), (1, 1), (5, 5), (6, 6), (2, 2), (5, 5), (2, 2), (1, 1), (1, 1), (1, 1), (6, 6), (3, 2), (3, 2), (3, 5), (2, 2), (5, 5), (3, 2), (2, 2), (5, 5), (6, 6), (6, 6), (6, 6), (4, 5), (5, 5), (2, 2), (2, 2), (5, 5), (6, 6), (5, 5), (2, 2), (6, 6), (5, 5), (5, 5), (2, 2), (3, 5), (4, 5), (4, 5), (6, 6), (2, 2), (4, 5), (2, 2), (2, 2), (2, 2), (2, 2), (1, 1), (2, 2), (1, 1), (5, 5), (1, 1), (5, 5), (3, 5), (2, 2), (4, 2), (2, 2), (1, 1), (5, 5), (2, 2), (2, 2), (2, 2), (2, 2), (3, 5), (4, 5), (5, 5), (4, 2), (2, 2), (4, 5), (2, 2), (4, 2), (2, 2), (2, 2), (5, 5), (5, 5), (1, 1), (4, 5), (3, 2), (5, 5), (2, 2), (5, 5), (5, 5), (3, 2), (3, 2), (1, 1), (1, 1), (2, 2), (5, 5), (3, 2), (5, 5), (2, 2), (5, 5), (5, 5), (2, 2), (5, 5), (1, 1), (2, 2), (4, 5), (3, 5), (2, 2), (1, 1), (6, 6), (4, 5), (5, 5), (3, 2), (4, 2), (2, 2), (5, 5), (3, 2), (1, 1), (1, 1), (6, 6), (1, 1), (5, 5), (2, 2), (5, 5), (5, 5), (4, 2), (2, 2), (1, 1), (3, 5), (4, 5), (1, 1), (4, 5), (6, 6), (5, 5), (6, 6), (5, 5), (2, 2), (2, 2), (5, 5), (4, 5), (4, 2), (4, 2), (6, 6), (4, 5), (5, 5), (5, 5), (5, 5), (5, 5), (2, 2), (2, 2), (4, 5), (1, 1), (6, 6), (6, 6), (5, 5), (2, 2), (2, 2), (2, 2), (2, 2), (5, 5), (2, 2), (2, 2), (5, 5), (5, 5), (5, 5), (3, 2), (5, 5), (6, 6), (2, 2), (6, 6), (6, 6), (1, 1), (2, 2), (2, 2), (6, 6), (2, 2), (1, 1), (5, 5), (6, 6), (5, 5), (5, 5), (4, 5), (6, 6), (5, 5), (5, 5), (2, 2), (2, 2), (2, 2), (1, 1), (5, 5), (2, 2), (2, 2), (2, 2), (2, 2), (2, 2), (5, 5), (4, 5), (1, 1), (5, 5), (2, 2), (6, 6), (4, 5), (4, 5), (1, 1), (2, 2), (1, 1), (6, 6), (2, 2), (1, 1), (5, 5), (1, 1), (5, 5), (5, 5), (5, 5), (2, 2), (2, 2), (6, 6), (6, 6), (5, 5), (1, 1), (2, 2), (2, 2), (4, 5), (1, 1), (6, 6), (6, 6), (2, 2), (5, 5), (4, 5), (2, 2), (2, 2), (2, 2), (5, 5), (3, 5), (1, 1), (2, 2), (2, 2), (6, 6), (4, 5), (1, 1), (2, 2), (5, 5), (5, 5), (2, 2), (2, 2), (5, 5), (5, 5), (2, 2), (2, 2), (1, 1), (2, 2), (5, 5), (5, 5), (2, 2), (5, 5), (1, 1), (2, 2), (2, 2), (4, 5), (6, 6), (5, 5), (5, 5), (1, 1), (5, 5), (1, 1), (5, 5), (2, 2), (2, 2), (2, 2), (2, 2), (3, 5), (2, 2), (3, 2), (4, 5), (4, 5), (2, 2), (1, 1), (5, 5), (6, 6), (5, 5), (2, 2), (2, 2), (2, 2), (3, 2), (1, 1), (5, 5), (2, 2), (3, 2), (6, 6), (4, 5), (5, 5), (5, 5), (5, 5), (5, 5), (5, 5), (5, 5), (6, 6), (2, 2), (5, 5), (2, 2), (3, 5), (6, 6), (5, 5), (5, 5), (2, 2), (5, 5), (3, 2), (2, 2), (5, 5), (5, 5), (6, 6), (5, 5), (1, 1), (5, 5), (5, 5), (5, 5), (5, 5), (2, 2), (5, 5), (6, 6), (5, 5), (2, 2), (6, 6), (6, 6), (5, 5), (6, 6), (5, 5), (5, 5), (5, 5), (4, 5), (5, 5), (5, 5), (1, 1), (5, 5), (1, 1), (2, 2), (2, 2), (2, 2), (2, 2), (5, 5), (6, 6), (2, 2), (4, 2), (3, 2), (6, 6), (5, 5), (5, 5), (2, 2), (1, 1), (6, 6), (5, 5), (5, 5), (4, 5), (5, 5), (5, 5), (6, 6), (4, 2), (5, 5), (5, 5), (5, 5), (5, 5), (2, 2), (5, 5), (5, 5), (4, 5), (2, 2), (5, 5), (5, 5), (1, 1), (5, 5), (6, 6), (5, 5), (1, 1), (4, 5), (1, 1), (2, 2), (2, 2), (2, 2), (2, 2), (2, 2), (6, 6), (2, 2), (5, 5), (5, 5), (1, 1), (5, 5), (4, 5), (2, 2), (2, 2), (2, 2), (2, 2), (2, 2), (2, 2), (5, 5), (1, 1), (5, 5), (2, 2), (5, 5), (1, 1), (6, 6), (2, 2), (2, 2), (1, 1), (6, 6), (5, 5), (5, 5), (1, 1), (6, 6), (5, 5), (5, 5), (4, 5), (1, 1), (2, 2), (5, 5), (2, 2), (5, 5), (4, 5), (5, 5), (3, 2), (6, 6), (5, 5), (5, 5), (6, 6), (2, 2), (5, 5), (2, 2), (5, 5), (5, 5), (5, 5), (5, 5), (2, 2), (4, 5), (1, 1), (2, 2), (5, 5), (5, 5), (4, 5), (5, 5), (2, 2), (5, 5), (5, 5), (2, 2), (5, 5), (4, 5), (6, 6), (2, 2), (4, 5), (6, 6), (5, 5), (5, 5), (3, 2), (5, 5), (4, 5), (1, 1), (2, 2), (5, 5), (1, 1), (4, 5), (5, 5), (6, 6), (5, 5), (2, 2), (2, 2), (5, 5), (4, 2), (5, 5), (3, 2), (6, 6), (3, 2), (2, 2), (2, 2), (5, 5), (6, 6), (3, 2), (4, 2), (2, 2), (2, 2), (6, 6), (2, 2), (2, 2), (1, 1), (5, 5), (2, 2), (6, 6), (6, 6), (5, 5), (4, 2), (3, 5), (5, 5), (5, 5), (2, 2), (5, 5), (3, 2), (5, 5), (6, 6), (4, 2), (1, 1), (4, 5), (4, 2), (5, 5), (5, 5), (4, 5), (2, 2), (1, 1), (4, 2), (5, 5), (4, 2), (1, 1), (5, 5), (4, 2), (2, 2), (2, 2), (5, 5), (2, 2), (6, 6), (2, 2), (1, 1), (1, 1), (5, 5), (2, 2), (3, 2), (2, 2), (2, 2), (6, 6), (1, 1), (5, 5), (5, 5), (6, 6), (5, 5), (5, 5), (5, 5), (3, 2), (2, 2), (2, 2), (5, 5), (2, 2), (5, 5), (2, 2), (4, 5), (3, 2), (2, 2), (2, 2), (5, 5), (5, 5), (5, 5), (5, 5), (2, 2), (2, 2), (5, 5), (6, 6), (5, 5), (5, 5), (2, 2), (2, 2), (5, 5), (6, 6), (5, 5), (2, 2), (5, 5), (5, 5), (6, 6), (2, 2), (2, 2), (6, 6), (4, 5), (2, 2), (6, 6), (6, 6), (6, 6), (5, 5), (5, 5), (5, 5), (5, 5), (2, 2), (5, 5), (2, 2), (5, 5), (1, 1), (2, 2), (5, 5), (1, 1), (6, 6), (2, 2), (4, 5), (1, 1), (2, 2), (2, 2), (2, 2), (2, 2), (6, 6), (6, 6), (5, 5), (5, 5), (2, 2), (3, 2), (2, 2), (5, 5), (5, 5), (5, 5), (5, 5), (5, 5), (1, 1), (5, 5), (3, 2), (5, 5), (2, 2), (2, 2), (3, 5), (2, 2), (5, 5), (5, 5), (2, 2), (2, 2), (5, 5), (5, 5), (2, 2), (2, 2), (5, 5), (6, 6), (2, 2), (1, 1), (3, 2), (1, 1), (2, 2), (5, 5), (5, 5), (3, 2), (5, 5), (5, 5), (2, 2), (3, 2), (5, 5), (2, 2), (4, 5), (2, 2), (4, 5), (6, 6), (2, 2), (6, 6), (6, 6), (2, 2), (5, 5), (3, 2), (3, 2), (5, 5), (2, 2), (5, 5), (6, 6), (5, 5), (1, 1), (5, 5), (4, 5), (1, 1), (5, 5), (3, 5), (6, 6), (2, 2), (6, 6), (6, 6), (4, 5), (2, 2), (4, 2), (2, 2), (5, 5), (3, 5), (5, 5), (5, 5), (5, 5), (2, 2), (2, 2), (1, 1), (2, 2), (5, 5), (2, 2), (2, 2), (1, 1), (2, 2), (5, 5), (5, 5), (6, 6), (5, 5), (3, 5), (2, 2), (5, 5), (2, 2), (6, 6), (3, 5), (2, 2), (2, 2), (5, 5), (4, 5), (1, 1), (5, 5), (1, 1), (2, 2), (5, 5), (2, 2), (4, 5), (2, 2), (2, 2), (5, 5), (6, 6), (4, 2), (2, 2), (5, 5), (2, 2), (5, 5), (5, 5), (2, 2), (2, 2), (4, 2), (3, 2), (5, 5), (2, 2), (2, 2), (5, 5), (1, 1), (5, 5), (4, 5), (2, 2), (6, 6), (1, 1), (5, 5), (4, 5), (5, 5), (3, 2), (2, 2), (6, 6), (5, 5), (4, 5), (2, 2), (5, 5), (2, 2), (5, 5), (2, 2), (5, 5), (2, 2), (6, 6), (2, 2), (2, 2), (4, 5), (2, 2), (2, 2), (2, 2), (5, 5), (2, 2), (1, 1), (5, 5), (1, 1), (5, 5), (5, 5), (2, 2), (4, 5), (2, 2), (5, 5), (5, 5), (4, 5), (6, 6), (5, 5), (2, 2), (1, 1), (2, 2), (5, 5), (5, 5), (1, 1), (3, 5), (2, 2), (4, 5), (2, 2), (2, 2), (2, 2), (1, 1), (4, 5), (3, 2), (1, 1), (5, 5), (6, 6), (4, 5), (5, 5), (4, 5), (6, 6), (5, 5), (5, 5), (6, 6), (6, 6), (5, 5), (2, 2), (1, 1), (5, 5), (3, 5), (2, 2), (2, 2), (2, 2), (3, 5), (2, 2), (5, 5), (5, 5), (2, 2), (5, 5), (2, 2), (5, 5), (3, 2), (1, 1), (6, 6), (1, 1), (5, 5), (5, 5), (5, 5), (5, 5), (5, 5), (5, 5), (2, 2), (5, 5), (3, 2), (2, 2), (2, 2), (6, 6), (4, 5), (6, 6), (6, 6), (5, 5), (1, 1), (5, 5), (2, 2), (3, 2), (5, 5), (5, 5), (2, 2), (3, 5), (6, 6), (1, 1), (1, 1), (2, 2), (3, 5), (1, 1), (2, 2), (2, 2), (5, 5), (1, 1), (5, 5), (2, 2), (5, 5), (5, 5), (2, 2), (2, 2), (5, 5), (5, 5), (3, 2), (5, 5), (3, 2), (4, 5), (1, 1), (4, 5), (3, 2), (1, 1), (2, 2), (4, 5), (5, 5), (5, 5), (2, 2), (5, 5), (4, 5), (3, 2), (5, 5), (5, 5), (5, 5), (6, 6), (2, 2), (5, 5), (4, 2), (6, 6), (5, 5), (5, 5), (5, 5), (5, 5), (4, 5), (5, 5), (5, 5), (3, 5), (5, 5), (2, 2), (6, 6), (2, 2), (5, 5), (5, 5), (6, 6), (1, 1), (4, 2), (4, 5), (4, 2), (5, 5), (2, 2), (2, 2), (5, 5), (5, 5), (3, 5), (4, 5), (5, 5), (5, 5), (1, 1), (5, 5), (5, 5), (5, 5), (6, 6), (2, 2), (2, 2), (2, 2), (3, 2), (5, 5), (6, 6), (1, 1), (5, 5), (2, 2), (6, 6), (2, 2), (4, 2), (2, 2), (1, 1), (5, 5), (2, 2), (4, 5), (5, 5), (3, 5), (4, 5), (3, 2), (4, 5), (5, 5), (1, 1), (5, 5), (1, 1), (2, 2), (5, 5), (4, 5), (3, 2), (6, 6), (2, 2), (1, 1), (2, 2), (2, 2), (2, 2), (2, 2), (2, 2), (6, 6), (2, 2), (3, 2), (1, 1), (6, 6), (3, 2), (3, 2), (5, 5), (4, 5), (4, 2), (6, 6), (3, 2), (5, 5), (1, 1), (5, 5), (1, 1), (4, 5), (3, 2), (5, 5), (4, 5), (5, 5), (5, 5), (5, 5), (5, 5), (4, 2), (1, 1), (5, 5), (5, 5), (2, 2), (5, 5), (4, 5), (5, 5), (2, 2), (4, 5), (1, 1), (4, 2), (4, 5), (3, 2), (5, 5), (5, 5), (2, 2), (2, 2), (5, 5), (2, 2), (5, 5), (6, 6), (5, 5), (1, 1), (2, 2), (3, 5), (2, 2), (1, 1), (2, 2), (2, 2), (5, 5), (2, 2), (5, 5), (2, 2), (2, 2), (5, 5), (3, 2), (5, 5), (2, 2), (1, 1), (5, 5), (5, 5), (3, 2), (2, 2), (5, 5), (6, 6), (1, 1), (3, 5), (2, 2), (5, 5), (2, 2), (2, 2), (3, 5), (3, 5), (6, 6), (1, 1), (6, 6), (2, 2), (5, 5), (5, 5), (5, 5), (5, 5), (4, 5), (1, 1), (2, 2), (1, 1), (5, 5), (4, 5), (4, 2), (5, 5), (5, 5), (5, 5), (1, 1), (5, 5), (3, 2), (2, 2), (6, 6), (5, 5), (5, 5), (5, 5), (2, 2), (6, 6), (5, 5), (6, 6), (1, 1), (2, 2), (5, 5), (5, 5), (2, 2), (5, 5), (1, 1), (3, 2), (3, 2), (5, 5), (5, 5), (5, 5), (5, 5), (2, 2), (4, 5), (2, 2), (5, 5), (5, 5), (4, 5), (3, 2), (3, 2), (5, 5), (2, 2), (3, 2), (6, 6), (6, 6), (6, 6), (6, 6), (5, 5), (1, 1), (2, 2), (5, 5), (4, 5), (5, 5), (2, 2), (4, 2), (5, 5), (2, 2), (5, 5), (6, 6), (5, 5), (6, 6), (2, 2), (2, 2), (1, 1), (5, 5), (2, 2), (5, 5), (5, 5), (2, 2), (5, 5), (6, 6), (5, 5), (4, 5), (6, 6), (2, 2), (1, 1), (6, 6), (1, 1), (6, 6), (5, 5), (6, 6), (2, 2), (2, 2), (2, 2), (5, 5), (3, 5), (4, 5), (4, 2), (5, 5), (2, 2), (5, 5), (4, 2), (6, 6), (6, 6), (5, 5), (5, 5), (5, 5), (5, 5), (6, 6), (2, 2), (2, 2), (5, 5), (5, 5), (5, 5), (1, 1), (2, 2), (5, 5), (5, 5), (5, 5), (4, 5), (6, 6), (4, 5), (2, 2), (1, 1), (2, 2), (5, 5), (4, 2), (2, 2), (5, 5), (6, 6), (3, 2), (5, 5), (3, 5), (3, 5), (2, 2), (4, 5), (2, 2), (4, 5), (3, 2), (1, 1), (5, 5), (2, 2), (5, 5), (4, 2), (2, 2), (6, 6), (1, 1), (2, 2), (5, 5), (5, 5), (3, 2), (5, 5), (1, 1), (5, 5), (4, 2), (4, 5), (2, 2), (5, 5), (4, 5), (5, 5), (1, 1), (2, 2), (2, 2), (5, 5), (2, 2), (4, 2), (5, 5), (4, 5), (5, 5), (2, 2), (6, 6), (3, 5), (3, 2), (3, 2), (2, 2), (6, 6), (1, 1), (2, 2), (5, 5), (1, 1), (4, 2), (4, 2), (1, 1), (2, 2), (5, 5), (5, 5), (2, 2), (3, 5), (5, 5), (5, 5), (2, 2), (1, 1), (5, 5), (2, 2), (2, 2), (5, 5), (5, 5), (5, 5), (5, 5), (2, 2), (2, 2), (5, 5), (2, 2), (5, 5), (2, 2), (5, 5), (6, 6), (1, 1), (3, 2), (2, 2), (5, 5), (2, 2), (5, 5), (2, 2), (2, 2), (4, 2), (2, 2), (2, 2), (5, 5), (2, 2), (3, 2), (2, 2), (5, 5), (5, 5), (2, 2), (2, 2), (2, 2), (2, 2), (4, 2), (5, 5), (2, 2), (6, 6), (5, 5), (4, 5), (2, 2), (3, 2), (4, 2), (5, 5), (5, 5), (6, 6), (3, 2), (1, 1), (2, 2), (5, 5), (5, 5), (5, 5), (6, 6), (2, 2), (1, 1), (5, 5), (3, 2), (5, 5), (1, 1), (6, 6), (5, 5), (2, 2), (4, 5), (2, 2), (2, 2), (3, 5), (5, 5), (4, 5), (5, 5), (5, 5), (4, 5), (4, 5), (1, 1), (2, 2), (1, 1), (4, 5), (2, 2), (6, 6), (4, 5), (2, 2), (3, 5), (5, 5), (2, 2), (4, 2), (3, 2), (5, 5), (1, 1), (3, 2), (2, 2), (5, 5), (6, 6), (5, 5), (2, 2), (1, 1), (5, 5), (2, 2), (3, 5), (6, 6), (5, 5), (5, 5), (5, 5), (3, 2), (2, 2), (5, 5), (6, 6), (1, 1), (6, 6), (2, 2), (2, 2), (4, 5), (5, 5), (5, 5), (1, 1), (5, 5), (1, 1), (6, 6), (6, 6), (2, 2), (2, 2), (3, 2), (3, 2), (2, 2), (1, 1), (4, 2), (2, 2), (5, 5), (2, 2), (6, 6), (2, 2), (1, 1), (2, 2), (5, 5), (5, 5), (1, 1), (5, 5), (2, 2), (6, 6), (6, 6), (2, 2), (5, 5), (5, 5), (6, 6), (6, 6), (4, 2), (5, 5), (2, 2), (5, 5), (5, 5), (5, 5), (1, 1), (1, 1), (5, 5), (5, 5), (2, 2), (2, 2), (6, 6), (6, 6), (6, 6), (6, 6), (1, 1), (2, 2), (3, 2), (4, 5), (5, 5), (3, 2), (3, 2), (5, 5), (5, 5), (5, 5), (2, 2), (5, 5), (2, 2), (3, 2), (4, 5), (2, 2), (5, 5), (5, 5), (1, 1), (2, 2), (1, 1), (5, 5), (2, 2), (4, 5), (5, 5), (5, 5), (5, 5), (1, 1), (6, 6), (2, 2), (2, 2), (5, 5), (6, 6), (4, 5), (3, 5), (6, 6), (5, 5), (2, 2), (2, 2), (2, 2), (5, 5), (2, 2), (6, 6), (4, 5), (5, 5), (4, 5), (1, 1), (5, 5), (5, 5), (6, 6), (6, 6), (2, 2), (4, 5), (5, 5), (2, 2), (1, 1), (2, 2), (5, 5), (2, 2), (6, 6), (4, 2), (6, 6), (2, 2), (6, 6), (1, 1), (5, 5), (1, 1), (6, 6), (5, 5), (5, 5), (3, 2), (5, 5), (6, 6), (1, 1), (5, 5), (2, 2), (2, 2), (5, 5), (2, 2), (2, 2), (6, 6), (5, 5), (5, 5), (5, 5), (5, 5), (2, 2), (2, 2), (2, 2), (5, 5), (1, 1), (2, 2), (2, 2), (2, 2), (4, 5), (5, 5), (3, 2), (2, 2), (2, 2), (4, 2), (3, 2), (2, 2), (2, 2), (2, 2), (2, 2), (2, 2), (5, 5), (2, 2), (4, 2), (2, 2), (3, 5), (5, 5), (2, 2), (2, 2), (5, 5), (2, 2), (5, 5), (5, 5), (3, 5), (6, 6), (2, 2), (6, 6), (2, 2), (2, 2), (5, 5), (5, 5), (1, 1), (2, 2), (2, 2), (2, 2), (2, 2), (2, 2), (6, 6), (5, 5), (2, 2), (4, 5), (6, 6), (2, 2), (2, 2), (5, 5), (5, 5), (5, 5), (5, 5), (2, 2), (6, 6), (4, 5), (5, 5), (5, 5), (5, 5), (3, 2), (6, 6), (5, 5), (1, 1), (6, 6), (2, 2), (6, 6), (1, 1), (2, 2), (2, 2), (1, 1), (2, 2), (5, 5), (5, 5), (1, 1), (2, 2), (5, 5), (5, 5), (3, 2), (5, 5), (2, 2), (3, 5), (6, 6), (5, 5), (5, 5), (6, 6), (2, 2), (2, 2), (1, 1), (5, 5), (4, 5), (5, 5), (3, 2), (4, 5), (5, 5), (5, 5), (2, 2), (2, 2), (1, 1), (2, 2), (5, 5), (2, 2), (1, 1), (5, 5), (5, 5), (5, 5), (2, 2), (5, 5), (3, 2), (2, 2), (2, 2), (4, 5), (1, 1), (6, 6), (4, 5), (2, 2), (6, 6), (6, 6), (4, 2), (5, 5), (5, 5), (4, 5), (5, 5), (2, 2), (4, 5), (1, 1), (2, 2), (5, 5), (2, 2), (5, 5), (5, 5), (1, 1), (2, 2), (2, 2), (6, 6), (3, 5), (4, 5), (5, 5), (2, 2), (5, 5), (5, 5), (4, 2), (5, 5), (2, 2), (6, 6), (6, 6), (2, 2), (2, 2), (5, 5), (1, 1), (2, 2), (1, 1), (5, 5), (5, 5), (1, 1), (5, 5), (2, 2), (5, 5), (2, 2), (5, 5), (2, 2), (2, 2), (5, 5), (4, 5), (2, 2), (6, 6), (2, 2), (4, 5), (2, 2), (5, 5), (6, 6), (2, 2), (2, 2), (2, 2), (2, 2), (2, 2), (1, 1), (2, 2), (6, 6), (2, 2), (2, 2), (5, 5), (2, 2), (2, 2), (5, 5), (1, 1), (3, 2), (5, 5), (5, 5), (5, 5), (2, 2), (5, 5), (6, 6), (2, 2), (2, 2), (5, 5), (2, 2), (4, 2), (5, 5), (2, 2), (2, 2), (6, 6), (5, 5), (1, 1), (6, 6), (2, 2), (2, 2), (2, 2), (6, 6), (4, 5), (5, 5), (6, 6), (5, 5), (5, 5), (4, 5), (6, 6), (1, 1), (5, 5), (4, 2), (2, 2), (5, 5), (5, 5), (5, 5), (6, 6), (5, 5), (6, 6), (2, 2), (5, 5), (3, 2), (4, 5), (6, 6), (6, 6), (2, 2), (4, 5), (5, 5), (2, 2), (4, 5), (4, 2), (5, 5), (5, 5), (6, 6), (1, 1), (5, 5), (5, 5), (3, 5), (1, 1), (3, 2), (3, 2), (6, 6), (2, 2), (2, 2), (3, 2), (2, 2), (4, 5), (4, 5), (2, 2), (2, 2), (5, 5), (2, 2), (4, 5), (5, 5), (5, 5), (4, 5), (5, 5), (2, 2), (5, 5), (2, 2), (5, 5), (2, 2), (5, 5), (5, 5), (5, 5), (2, 2), (6, 6), (6, 6), (2, 2), (5, 5), (3, 2), (6, 6), (2, 2), (3, 2), (4, 5), (3, 2), (4, 2), (2, 2), (2, 2), (2, 2), (6, 6), (4, 5), (4, 5), (5, 5), (5, 5), (5, 5), (2, 2), (3, 5), (2, 2), (5, 5), (5, 5), (2, 2), (6, 6), (2, 2), (4, 5), (4, 5), (3, 2), (5, 5), (2, 2), (2, 2), (4, 5), (2, 2), (2, 2), (5, 5), (5, 5), (2, 2), (3, 2), (2, 2), (6, 6), (2, 2), (1, 1), (1, 1), (5, 5), (5, 5), (2, 2), (4, 5), (2, 2), (5, 5), (2, 2), (2, 2), (5, 5), (2, 2), (6, 6), (5, 5), (5, 5), (1, 1), (6, 6), (5, 5), (2, 2), (2, 2), (2, 2), (4, 5), (1, 1), (6, 6), (2, 2), (6, 6), (2, 2), (1, 1), (5, 5), (5, 5), (5, 5), (2, 2), (5, 5), (5, 5), (3, 5), (1, 1), (2, 2), (5, 5), (5, 5), (2, 2), (4, 5), (6, 6), (2, 2), (3, 2), (5, 5), (5, 5), (5, 5), (5, 5), (2, 2), (5, 5), (2, 2), (4, 5), (6, 6), (4, 2), (4, 5), (3, 2), (5, 5), (2, 2), (6, 6), (6, 6), (5, 5), (4, 5), (2, 2), (5, 5), (2, 2), (3, 2), (6, 6), (2, 2), (6, 6), (3, 2), (5, 5), (5, 5), (1, 1), (2, 2), (5, 5), (2, 2), (2, 2), (5, 5), (4, 5), (3, 2), (5, 5), (5, 5), (5, 5), (5, 5), (6, 6), (5, 5), (5, 5), (2, 2), (6, 6), (5, 5), (5, 5), (2, 2), (5, 5), (1, 1), (6, 6), (3, 2), (2, 2), (2, 2), (4, 5), (6, 6), (1, 1), (6, 6), (5, 5), (5, 5), (6, 6), (5, 5), (2, 2), (6, 6), (1, 1), (5, 5), (1, 1), (5, 5), (3, 2), (5, 5), (5, 5), (1, 1), (5, 5), (2, 2), (6, 6), (2, 2), (5, 5), (5, 5), (1, 1), (5, 5), (2, 2), (5, 5), (3, 2), (5, 5), (2, 2), (5, 5), (2, 2), (2, 2), (3, 2), (2, 2), (3, 2), (3, 2), (6, 6), (4, 5), (1, 1), (5, 5), (5, 5), (2, 2), (2, 2), (3, 2), (2, 2), (6, 6), (2, 2), (6, 6), (4, 5), (4, 5), (4, 2), (1, 1), (1, 1), (2, 2), (2, 2), (2, 2), (2, 2), (5, 5), (2, 2), (5, 5), (2, 2), (1, 1), (6, 6), (5, 5), (2, 2), (2, 2), (3, 2), (2, 2), (2, 2), (1, 1), (1, 1), (5, 5), (6, 6), (2, 2), (5, 5), (5, 5), (2, 2), (2, 2), (2, 2), (5, 5), (2, 2), (6, 6), (5, 5), (5, 5), (5, 5), (5, 5), (6, 6), (5, 5), (3, 2), (2, 2), (5, 5), (2, 2), (2, 2), (5, 5), (2, 2), (1, 1), (5, 5), (5, 5), (2, 2), (2, 2), (6, 6), (5, 5), (2, 2), (1, 1), (1, 1), (5, 5), (3, 5), (2, 2), (2, 2), (1, 1), (5, 5), (6, 6), (4, 5), (4, 5), (3, 5), (5, 5), (6, 6), (2, 2), (2, 2), (1, 1), (5, 5), (5, 5), (6, 6), (5, 5), (4, 5), (5, 5), (2, 2), (5, 5), (2, 2), (1, 1), (4, 5), (5, 5), (5, 5), (6, 6), (5, 5), (2, 2), (2, 2), (5, 5), (2, 2), (1, 1), (6, 6), (1, 1), (5, 5), (4, 2), (4, 5), (5, 5), (3, 5), (2, 2), (1, 1), (3, 2), (5, 5), (1, 1), (1, 1), (2, 2), (2, 2), (3, 2), (1, 1), (4, 2), (2, 2), (3, 5), (3, 5), (2, 2), (1, 1), (4, 2), (2, 2), (5, 5), (5, 5), (1, 1), (5, 5), (6, 6), (5, 5), (6, 6), (1, 1), (5, 5), (2, 2), (6, 6), (1, 1), (2, 2), (5, 5), (2, 2), (6, 6), (2, 2), (6, 6), (2, 2), (5, 5), (2, 2), (5, 5), (5, 5), (2, 2), (2, 2), (5, 5), (2, 2), (6, 6), (6, 6), (6, 6), (2, 2), (2, 2), (2, 2), (2, 2), (4, 5), (3, 5), (2, 2), (1, 1), (5, 5), (1, 1), (5, 5), (4, 5), (1, 1), (2, 2), (3, 2), (4, 5), (1, 1), (5, 5), (2, 2), (1, 1), (5, 5), (4, 2), (2, 2), (4, 5), (4, 5), (2, 2), (2, 2), (2, 2), (6, 6), (5, 5), (5, 5), (5, 5), (5, 5), (5, 5), (2, 2), (5, 5), (2, 2), (5, 5), (2, 2), (2, 2), (4, 5), (4, 2), (3, 5), (5, 5), (2, 2), (2, 2), (4, 5), (2, 2), (5, 5), (2, 2), (2, 2), (5, 5), (5, 5), (5, 5), (5, 5), (2, 2), (4, 5), (5, 5), (5, 5), (6, 6), (5, 5), (1, 1), (4, 5), (2, 2), (2, 2), (2, 2), (4, 2), (3, 2), (5, 5), (2, 2), (3, 2), (6, 6), (2, 2), (1, 1), (1, 1), (2, 2), (5, 5), (5, 5), (6, 6), (6, 6), (2, 2), (1, 1), (5, 5), (2, 2), (1, 1), (3, 5), (5, 5), (5, 5), (6, 6), (2, 2), (2, 2), (1, 1), (3, 5), (1, 1), (1, 1), (2, 2), (2, 2), (2, 2), (2, 2), (5, 5), (6, 6), (4, 5), (2, 2), (2, 2), (5, 5), (5, 5), (6, 6), (4, 5), (2, 2), (2, 2), (5, 5), (5, 5), (5, 5), (2, 2), (3, 5), (6, 6), (1, 1), (6, 6), (4, 5), (1, 1), (2, 2), (4, 5), (1, 1), (2, 2), (5, 5), (1, 1), (2, 2), (2, 2), (5, 5), (5, 5), (5, 5), (2, 2), (6, 6), (3, 5), (2, 2), (5, 5), (2, 2), (5, 5), (6, 6), (2, 2), (4, 5), (2, 2), (2, 2), (2, 2), (2, 2), (4, 5), (2, 2), (6, 6), (6, 6), (5, 5), (1, 1), (2, 2), (2, 2), (5, 5), (1, 1), (5, 5), (6, 6), (2, 2), (2, 2), (2, 2), (4, 5), (2, 2), (2, 2), (5, 5), (4, 5), (6, 6), (3, 2), (5, 5), (2, 2), (5, 5), (5, 5), (5, 5), (5, 5), (5, 5), (5, 5), (5, 5), (5, 5), (5, 5), (2, 2), (5, 5), (5, 5), (2, 2), (5, 5), (2, 2), (6, 6), (2, 2), (1, 1), (2, 2), (4, 5), (5, 5), (5, 5), (5, 5), (2, 2), (6, 6), (1, 1), (5, 5), (6, 6), (6, 6), (5, 5), (2, 2), (6, 6), (6, 6), (5, 5), (6, 6), (4, 5), (2, 2), (2, 2), (5, 5), (5, 5), (5, 5), (5, 5), (5, 5), (1, 1), (4, 5), (6, 6), (6, 6), (6, 6), (2, 2), (5, 5), (6, 6), (2, 2), (2, 2), (5, 5), (5, 5), (4, 5), (5, 5), (5, 5), (5, 5), (3, 2), (2, 2), (2, 2), (1, 1), (5, 5), (1, 1), (4, 5), (2, 2), (2, 2), (4, 2), (5, 5), (5, 5), (5, 5), (3, 2), (6, 6), (6, 6), (6, 6), (2, 2), (2, 2), (2, 2), (6, 6), (5, 5), (1, 1), (6, 6), (2, 2), (2, 2), (5, 5), (5, 5), (3, 5), (5, 5), (2, 2), (2, 2), (2, 2), (5, 5), (6, 6), (5, 5), (2, 2), (3, 5), (2, 2), (5, 5), (2, 2), (5, 5), (1, 1), (2, 2), (5, 5), (5, 5), (1, 1), (5, 5), (3, 2), (3, 5), (2, 2), (3, 5), (1, 1), (6, 6), (5, 5), (3, 5), (3, 2), (5, 5), (1, 1), (1, 1), (2, 2), (3, 5), (3, 2), (6, 6), (2, 2), (2, 2), (2, 2), (3, 2), (3, 2), (2, 2), (3, 2), (2, 2), (4, 2), (5, 5), (2, 2), (5, 5), (2, 2), (4, 2), (1, 1), (6, 6), (5, 5), (6, 6), (2, 2), (1, 1), (5, 5), (6, 6), (5, 5), (5, 5), (4, 5), (5, 5), (5, 5), (2, 2), (5, 5), (2, 2), (2, 2), (5, 5), (5, 5), (2, 2), (5, 5), (2, 2), (5, 5), (5, 5), (5, 5), (3, 2), (2, 2), (2, 2), (5, 5), (2, 2), (4, 5), (6, 6), (2, 2), (5, 5), (4, 2), (2, 2), (5, 5), (3, 5), (1, 1), (1, 1), (2, 2), (3, 2), (1, 1), (5, 5), (2, 2), (2, 2), (5, 5), (2, 2), (4, 2), (5, 5), (6, 6), (5, 5), (4, 2), (5, 5), (6, 6), (5, 5), (5, 5), (2, 2), (1, 1), (5, 5), (5, 5), (2, 2), (2, 2), (2, 2), (2, 2), (1, 1), (2, 2), (5, 5), (1, 1), (2, 2), (2, 2), (2, 2), (5, 5), (1, 1), (5, 5), (6, 6), (2, 2), (5, 5), (2, 2), (5, 5), (5, 5), (2, 2), (3, 2), (4, 2), (4, 2), (6, 6), (5, 5), (5, 5), (6, 6), (1, 1), (5, 5), (6, 6), (4, 5), (5, 5), (5, 5), (6, 6), (3, 2), (2, 2), (2, 2), (4, 5), (5, 5), (1, 1), (5, 5), (2, 2), (5, 5), (5, 5), (4, 2), (5, 5), (5, 5), (5, 5), (2, 2), (2, 2), (2, 2), (5, 5), (5, 5), (3, 5), (6, 6), (2, 2), (2, 2), (2, 2), (5, 5), (2, 2), (3, 5), (5, 5), (5, 5), (5, 5), (6, 6), (2, 2), (2, 2), (2, 2), (1, 1), (1, 1), (2, 2), (1, 1), (6, 6), (6, 6), (5, 5), (5, 5), (1, 1), (2, 2), (1, 1), (4, 5), (1, 1), (2, 2), (2, 2), (2, 2), (5, 5), (5, 5), (1, 1), (5, 5), (5, 5), (1, 1), (2, 2), (3, 2), (4, 5), (6, 6), (5, 5), (5, 5), (2, 2), (5, 5), (5, 5), (5, 5), (5, 5), (2, 2), (1, 1), (3, 2), (6, 6), (2, 2), (5, 5), (6, 6), (2, 2), (3, 2), (6, 6), (6, 6), (5, 5), (5, 5), (3, 5), (2, 2), (6, 6), (6, 6), (6, 6), (5, 5), (6, 6), (4, 5), (6, 6), (2, 2), (4, 5), (6, 6), (5, 5), (5, 5), (2, 2), (5, 5), (2, 2), (2, 2), (2, 2), (5, 5), (3, 2), (1, 1), (2, 2), (6, 6), (5, 5), (2, 2), (2, 2), (3, 2), (4, 5), (5, 5), (5, 5), (2, 2), (1, 1), (6, 6), (3, 2), (2, 2), (5, 5), (3, 2), (5, 5), (3, 2), (2, 2), (5, 5), (5, 5), (1, 1), (6, 6), (5, 5), (6, 6), (2, 2), (5, 5), (5, 5), (5, 5), (1, 1), (1, 1), (2, 2), (2, 2), (5, 5), (4, 2), (1, 1), (5, 5), (6, 6), (1, 1), (5, 5), (6, 6), (1, 1), (2, 2), (1, 1), (2, 2), (4, 2), (5, 5), (2, 2), (2, 2), (4, 5), (5, 5), (2, 2), (2, 2), (2, 2), (3, 2), (1, 1), (2, 2), (6, 6), (1, 1), (5, 5), (6, 6), (5, 5), (5, 5), (5, 5), (5, 5), (2, 2), (2, 2), (2, 2), (5, 5), (2, 2), (5, 5), (5, 5), (4, 5), (2, 2), (2, 2), (5, 5), (5, 5), (2, 2), (3, 2), (2, 2), (5, 5), (2, 2), (2, 2), (5, 5), (2, 2), (4, 2), (5, 5), (1, 1), (5, 5), (2, 2), (6, 6), (2, 2), (5, 5), (3, 2), (5, 5), (2, 2), (5, 5), (5, 5), (5, 5), (6, 6), (4, 5), (2, 2), (1, 1), (2, 2), (1, 1), (3, 2), (6, 6), (2, 2), (6, 6), (5, 5), (5, 5), (2, 2), (6, 6), (6, 6), (5, 5), (6, 6), (6, 6), (6, 6), (5, 5), (3, 2), (2, 2), (5, 5), (2, 2), (1, 1), (3, 5), (2, 2), (5, 5), (4, 5), (5, 5), (2, 2), (2, 2), (4, 5), (2, 2), (6, 6), (5, 5), (5, 5), (5, 5), (6, 6), (3, 2), (6, 6), (2, 2), (5, 5), (6, 6), (2, 2), (2, 2), (3, 2), (5, 5), (5, 5), (6, 6), (4, 2), (4, 5), (5, 5), (1, 1), (2, 2), (6, 6), (6, 6), (2, 2), (2, 2), (6, 6), (2, 2), (2, 2), (5, 5), (5, 5), (1, 1), (4, 5), (2, 2), (2, 2), (1, 1), (3, 2), (5, 5), (1, 1), (2, 2), (2, 2), (2, 2), (2, 2), (2, 2), (5, 5), (3, 2), (3, 2), (6, 6), (2, 2), (5, 5), (2, 2), (5, 5), (2, 2), (5, 5), (5, 5), (5, 5), (1, 1), (2, 2), (1, 1), (5, 5), (5, 5), (2, 2), (2, 2), (3, 2), (5, 5), (5, 5), (2, 2), (3, 2), (2, 2), (2, 2), (5, 5), (3, 2), (2, 2), (4, 5), (4, 5), (4, 5), (2, 2), (6, 6), (2, 2), (5, 5), (5, 5), (6, 6), (6, 6), (2, 2), (6, 6), (2, 2), (3, 5), (2, 2), (5, 5), (5, 5), (5, 5), (5, 5), (5, 5), (5, 5), (1, 1), (2, 2), (2, 2), (6, 6), (4, 2), (1, 1), (5, 5), (2, 2), (2, 2), (2, 2), (5, 5), (6, 6), (5, 5), (6, 6), (2, 2), (6, 6), (6, 6), (5, 5), (4, 5), (1, 1), (4, 5), (5, 5), (5, 5), (1, 1), (5, 5), (6, 6), (5, 5), (5, 5), (4, 5), (5, 5), (5, 5), (5, 5), (6, 6), (5, 5), (5, 5), (5, 5), (4, 5), (6, 6), (5, 5), (4, 5), (5, 5), (5, 5), (5, 5), (5, 5), (1, 1), (5, 5), (4, 5), (6, 6), (3, 2), (5, 5), (2, 2), (2, 2), (4, 5), (6, 6), (2, 2), (2, 2), (2, 2), (5, 5), (5, 5), (2, 2), (6, 6), (5, 5), (6, 6), (5, 5), (6, 6), (3, 2), (3, 2), (5, 5), (5, 5), (1, 1), (5, 5), (6, 6), (6, 6), (2, 2), (5, 5), (2, 2), (5, 5), (5, 5), (2, 2), (6, 6), (2, 2), (5, 5), (2, 2), (2, 2), (6, 6), (5, 5), (5, 5), (2, 2), (2, 2), (2, 2), (5, 5), (5, 5), (5, 5), (2, 2), (5, 5), (6, 6), (5, 5), (5, 5), (2, 2), (4, 5), (2, 2), (2, 2), (5, 5), (6, 6), (4, 5), (5, 5), (2, 2), (4, 5), (5, 5), (4, 5), (2, 2), (4, 5), (5, 5), (5, 5), (1, 1), (2, 2), (1, 1), (3, 5), (2, 2), (3, 2), (5, 5), (3, 5), (2, 2), (5, 5), (6, 6), (6, 6), (5, 5), (5, 5), (5, 5), (2, 2), (5, 5), (5, 5), (2, 2), (5, 5), (3, 2), (2, 2), (2, 2), (1, 1), (2, 2), (2, 2), (5, 5), (5, 5), (5, 5), (5, 5), (3, 2), (1, 1), (5, 5), (1, 1), (2, 2), (6, 6), (5, 5), (6, 6), (2, 2), (4, 5), (2, 2), (2, 2), (5, 5), (2, 2), (2, 2), (5, 5), (4, 2), (2, 2), (2, 2), (2, 2), (4, 2), (2, 2), (5, 5), (5, 5), (2, 2), (2, 2), (2, 2), (1, 1), (2, 2), (5, 5), (3, 2), (6, 6), (3, 2), (5, 5), (5, 5), (5, 5), (5, 5), (5, 5), (2, 2), (4, 2), (2, 2), (5, 5), (5, 5), (6, 6), (5, 5), (5, 5), (2, 2), (4, 5), (5, 5), (3, 2), (1, 1), (4, 5), (1, 1), (5, 5), (2, 2), (5, 5), (3, 2), (2, 2), (5, 5), (5, 5), (5, 5), (2, 2), (5, 5), (5, 5), (6, 6), (5, 5), (2, 2), (2, 2), (5, 5), (3, 2), (1, 1), (5, 5), (4, 5), (5, 5), (5, 5), (3, 2), (2, 2), (6, 6), (1, 1), (2, 2), (5, 5), (1, 1), (1, 1), (5, 5), (5, 5), (5, 5), (6, 6), (5, 5), (3, 5), (6, 6), (6, 6), (5, 5), (2, 2), (4, 2), (4, 2), (5, 5), (6, 6), (4, 5), (2, 2), (2, 2), (2, 2), (2, 2), (4, 5), (2, 2), (5, 5), (5, 5), (4, 5), (5, 5), (1, 1), (4, 5), (6, 6), (5, 5), (2, 2), (6, 6), (4, 5), (5, 5), (6, 6), (5, 5), (5, 5), (5, 5), (2, 2), (6, 6), (5, 5), (4, 5), (1, 1), (1, 1), (2, 2), (2, 2), (1, 1), (5, 5), (3, 2), (5, 5), (2, 2), (5, 5), (3, 2), (5, 5), (2, 2), (6, 6), (5, 5), (5, 5), (5, 5), (1, 1), (2, 2), (6, 6), (1, 1), (2, 2), (5, 5), (2, 2), (2, 2), (5, 5), (4, 5), (5, 5), (4, 5), (6, 6), (3, 2), (1, 1), (5, 5), (2, 2), (4, 5), (6, 6), (2, 2), (2, 2), (2, 2), (6, 6), (5, 5), (1, 1), (1, 1), (1, 1), (1, 1), (5, 5), (1, 1), (5, 5), (2, 2), (6, 6), (2, 2), (2, 2), (4, 5), (6, 6), (5, 5), (2, 2), (6, 6), (2, 2), (5, 5), (5, 5), (2, 2), (2, 2), (4, 5), (6, 6), (4, 2), (5, 5), (6, 6), (2, 2), (1, 1), (5, 5), (6, 6), (3, 2), (5, 5), (5, 5), (2, 2), (4, 2), (2, 2), (4, 2), (6, 6), (2, 2), (5, 5), (2, 2), (5, 5), (6, 6), (2, 2), (2, 2), (5, 5), (4, 5), (2, 2), (5, 5), (5, 5), (1, 1), (4, 5), (5, 5), (2, 2), (2, 2), (4, 5), (3, 2), (1, 1), (2, 2), (1, 1), (5, 5), (6, 6), (4, 5), (5, 5), (5, 5), (5, 5), (3, 5), (6, 6), (4, 5), (5, 5), (2, 2), (3, 2), (5, 5), (2, 2), (2, 2), (1, 1), (5, 5), (4, 5), (1, 1), (4, 2), (4, 5), (5, 5), (6, 6), (5, 5), (6, 6), (4, 5), (2, 2), (2, 2), (1, 1), (5, 5), (4, 2), (5, 5), (1, 1), (1, 1), (4, 5), (4, 5), (4, 5), (2, 2), (2, 2), (5, 5), (5, 5), (2, 2), (6, 6), (5, 5), (5, 5), (2, 2), (1, 1), (5, 5), (5, 5), (5, 5), (1, 1), (2, 2), (2, 2), (2, 2), (5, 5), (2, 2), (2, 2), (2, 2), (6, 6), (5, 5), (2, 2), (3, 2), (5, 5), (2, 2), (5, 5), (5, 5), (2, 2), (4, 5), (2, 2), (6, 6), (5, 5), (3, 2), (5, 5), (6, 6), (6, 6), (4, 5), (5, 5), (2, 2), (6, 6), (4, 5), (5, 5), (5, 5), (5, 5), (2, 2), (2, 2), (5, 5), (2, 2), (5, 5), (5, 5), (5, 5), (1, 1), (6, 6), (5, 5), (6, 6), (1, 1), (2, 2), (5, 5), (6, 6), (1, 1), (5, 5), (2, 2), (5, 5), (5, 5), (5, 5), (3, 2), (2, 2), (6, 6), (1, 1), (1, 1), (5, 5), (6, 6), (5, 5), (5, 5), (2, 2), (5, 5), (2, 2), (4, 5), (2, 2), (4, 5), (5, 5), (5, 5), (3, 5), (4, 5), (2, 2), (5, 5), (2, 2), (5, 5), (5, 5), (4, 5), (5, 5), (5, 5), (5, 5), (5, 5), (6, 6), (5, 5), (3, 5), (4, 5), (6, 6), (6, 6), (1, 1), (5, 5), (1, 1), (6, 6), (2, 2), (2, 2), (6, 6), (2, 2), (5, 5), (6, 6), (2, 2), (5, 5), (2, 2), (5, 5), (3, 2), (5, 5), (1, 1), (5, 5), (5, 5), (5, 5), (2, 2), (6, 6), (2, 2), (5, 5), (5, 5), (2, 2), (3, 2), (5, 5), (3, 2), (4, 5), (2, 2), (6, 6), (2, 2), (4, 2), (1, 1), (6, 6), (2, 2), (2, 2), (5, 5), (2, 2), (3, 2), (3, 2), (5, 5), (1, 1), (2, 2), (2, 2), (3, 2), (2, 2), (6, 6), (2, 2), (6, 6), (2, 2), (4, 5), (2, 2), (6, 6), (2, 2), (2, 2), (5, 5), (2, 2), (1, 1), (1, 1), (5, 5), (1, 1), (5, 5), (1, 1), (6, 6), (5, 5), (6, 6), (6, 6), (3, 2), (5, 5), (5, 5), (5, 5), (6, 6), (5, 5), (2, 2), (6, 6), (3, 2), (4, 5), (2, 2), (3, 2), (5, 5), (3, 2), (4, 5), (3, 2), (6, 6), (1, 1), (1, 1), (5, 5), (2, 2), (4, 2), (2, 2), (2, 2), (4, 2), (2, 2), (3, 5), (6, 6), (2, 2), (3, 2), (4, 2), (6, 6), (6, 6), (5, 5), (5, 5), (2, 2), (5, 5), (1, 1), (4, 5), (2, 2), (2, 2), (5, 5), (5, 5), (6, 6), (2, 2), (2, 2), (5, 5), (5, 5), (4, 5), (5, 5), (3, 2), (2, 2), (1, 1), (1, 1), (5, 5), (2, 2), (2, 2), (5, 5), (5, 5), (6, 6), (6, 6), (6, 6), (2, 2), (5, 5), (2, 2), (1, 1), (5, 5), (5, 5), (6, 6), (2, 2), (5, 5), (6, 6), (5, 5), (2, 2), (4, 2), (2, 2), (2, 2), (5, 5), (5, 5), (2, 2), (2, 2), (5, 5), (5, 5), (5, 5), (1, 1), (2, 2), (5, 5), (5, 5), (2, 2), (2, 2), (2, 2), (6, 6), (2, 2), (4, 5), (4, 2), (6, 6), (6, 6), (2, 2), (1, 1), (5, 5), (5, 5), (6, 6), (4, 5), (5, 5), (5, 5), (5, 5), (5, 5), (6, 6), (2, 2), (2, 2), (5, 5), (5, 5), (5, 5), (5, 5), (5, 5), (5, 5), (2, 2), (2, 2), (4, 5), (6, 6), (5, 5), (5, 5), (2, 2), (5, 5), (5, 5), (2, 2), (1, 1), (6, 6), (4, 5), (4, 2), (5, 5), (1, 1), (2, 2), (1, 1), (2, 2), (2, 2), (2, 2), (4, 5), (5, 5), (6, 6), (5, 5), (6, 6), (6, 6), (4, 5), (3, 2), (2, 2), (4, 5), (5, 5), (5, 5), (3, 2), (6, 6), (3, 2), (5, 5), (1, 1), (2, 2), (5, 5), (2, 2), (5, 5), (6, 6), (5, 5), (2, 2), (2, 2), (6, 6), (4, 5), (4, 5), (2, 2), (3, 5), (4, 5), (2, 2), (5, 5), (6, 6), (6, 6), (2, 2), (3, 5), (2, 2), (2, 2), (5, 5), (3, 2), (5, 5), (2, 2), (5, 5), (4, 2), (5, 5), (5, 5), (2, 2), (5, 5), (5, 5), (4, 5), (5, 5), (5, 5), (1, 1), (2, 2), (4, 5), (3, 2), (3, 5), (2, 2), (5, 5), (3, 2), (3, 2), (2, 2), (5, 5), (3, 5), (1, 1), (1, 1), (6, 6), (5, 5), (2, 2), (4, 5), (5, 5), (5, 5), (2, 2), (5, 5), (6, 6), (2, 2), (5, 5), (2, 2), (5, 5), (5, 5), (4, 5), (2, 2), (6, 6), (2, 2), (5, 5), (6, 6), (6, 6), (6, 6), (5, 5), (3, 5), (3, 5), (5, 5), (2, 2), (4, 5), (3, 2), (6, 6), (2, 2), (4, 2), (3, 2), (5, 5), (1, 1), (3, 5), (2, 2), (4, 5), (2, 2), (4, 5), (4, 5), (2, 2), (5, 5), (5, 5), (2, 2), (6, 6), (4, 5), (2, 2), (5, 5), (3, 2), (1, 1), (2, 2), (5, 5), (2, 2), (2, 2), (2, 2), (2, 2), (5, 5), (3, 2), (5, 5), (6, 6), (2, 2), (4, 5), (6, 6), (5, 5), (2, 2), (2, 2), (1, 1), (5, 5), (5, 5), (5, 5), (5, 5), (6, 6), (4, 5), (5, 5), (1, 1), (3, 2), (6, 6), (6, 6), (4, 2), (4, 5), (2, 2), (5, 5), (6, 6), (6, 6), (5, 5), (6, 6), (5, 5), (1, 1), (5, 5), (2, 2), (5, 5), (4, 5), (5, 5), (2, 2), (3, 2), (2, 2), (2, 2), (5, 5), (2, 2), (2, 2), (2, 2), (2, 2), (2, 2), (2, 2), (2, 2), (1, 1), (1, 1), (2, 2), (4, 5), (2, 2), (5, 5), (2, 2), (5, 5), (5, 5), (2, 2), (5, 5), (3, 2), (5, 5), (3, 2), (5, 5), (2, 2), (2, 2), (5, 5), (5, 5), (4, 5), (3, 2), (2, 2), (2, 2), (1, 1), (5, 5), (5, 5), (6, 6), (5, 5), (1, 1), (5, 5), (4, 5), (4, 5), (5, 5), (5, 5), (3, 2), (2, 2), (2, 2), (1, 1), (2, 2), (5, 5), (2, 2), (2, 2), (5, 5), (3, 2), (2, 2), (5, 5), (5, 5), (3, 2), (5, 5), (3, 2), (5, 5), (4, 5), (1, 1), (2, 2), (2, 2), (2, 2), (2, 2), (2, 2), (2, 2), (5, 5), (4, 5), (2, 2), (4, 5), (5, 5), (4, 5), (5, 5), (1, 1), (5, 5), (2, 2), (4, 5), (2, 2), (2, 2), (1, 1), (2, 2), (5, 5), (2, 2), (2, 2), (2, 2), (5, 5), (4, 5), (5, 5), (5, 5), (5, 5), (2, 2), (2, 2), (4, 5), (2, 2), (5, 5), (5, 5), (4, 5), (2, 2), (5, 5), (2, 2), (5, 5), (6, 6), (5, 5), (3, 5), (6, 6), (1, 1), (5, 5), (1, 1), (5, 5), (5, 5), (1, 1), (2, 2), (2, 2), (4, 5), (5, 5), (4, 5), (2, 2), (2, 2), (1, 1), (2, 2), (2, 2), (5, 5), (2, 2), (2, 2), (5, 5), (6, 6), (6, 6), (5, 5), (6, 6), (4, 5), (2, 2), (6, 6), (2, 2), (6, 6), (6, 6), (4, 2), (2, 2), (3, 2), (6, 6), (5, 5), (6, 6), (6, 6), (1, 1), (2, 2), (5, 5), (2, 2), (2, 2), (5, 5), (6, 6), (2, 2), (5, 5), (5, 5), (2, 2), (5, 5), (5, 5), (5, 5), (2, 2), (4, 5), (3, 2), (2, 2), (1, 1), (2, 2), (4, 5), (2, 2), (2, 2), (4, 2), (2, 2), (4, 5), (1, 1), (3, 5), (5, 5), (5, 5), (3, 5), (2, 2), (2, 2), (4, 5), (2, 2), (2, 2), (1, 1), (5, 5), (3, 2), (2, 2), (1, 1), (5, 5), (1, 1), (2, 2), (1, 1), (1, 1), (2, 2), (6, 6), (2, 2), (5, 5), (6, 6), (2, 2), (5, 5), (6, 6), (1, 1), (1, 1), (2, 2), (5, 5), (2, 2), (5, 5), (4, 5), (3, 2), (5, 5), (2, 2), (5, 5), (2, 2), (1, 1), (5, 5), (4, 2), (5, 5), (5, 5), (5, 5), (5, 5), (2, 2), (1, 1), (1, 1), (2, 2), (5, 5), (2, 2), (5, 5), (3, 2), (2, 2), (6, 6), (1, 1), (5, 5), (6, 6), (6, 6), (4, 5), (3, 5), (2, 2), (2, 2), (5, 5), (2, 2), (2, 2), (2, 2), (3, 2), (5, 5), (4, 5), (5, 5), (2, 2), (4, 5), (5, 5), (5, 5), (5, 5), (2, 2), (4, 5), (4, 5), (5, 5), (1, 1), (6, 6), (2, 2), (2, 2), (5, 5), (4, 5), (5, 5), (5, 5), (4, 5), (5, 5), (5, 5), (2, 2), (5, 5), (2, 2), (2, 2), (2, 2), (2, 2), (6, 6), (5, 5), (3, 2), (5, 5), (6, 6), (5, 5), (2, 2), (2, 2), (2, 2), (2, 2), (5, 5), (5, 5), (5, 5), (2, 2), (3, 2), (5, 5), (3, 2), (2, 2), (2, 2), (5, 5), (3, 2), (1, 1), (2, 2), (4, 2), (5, 5), (5, 5), (3, 2), (5, 5), (5, 5), (4, 5), (2, 2), (4, 5), (3, 2), (5, 5), (5, 5), (6, 6), (5, 5), (6, 6), (2, 2), (3, 2), (2, 2), (1, 1), (2, 2), (2, 2), (5, 5), (6, 6), (5, 5), (6, 6), (1, 1), (2, 2), (2, 2), (2, 2), (6, 6), (5, 5), (5, 5), (2, 2), (3, 2), (4, 5), (4, 2), (2, 2), (4, 2), (5, 5), (5, 5), (6, 6), (3, 2), (4, 5), (2, 2), (6, 6), (1, 1), (3, 2), (6, 6), (1, 1), (2, 2), (6, 6), (5, 5), (5, 5), (2, 2), (6, 6), (5, 5), (1, 1), (6, 6), (6, 6), (2, 2), (6, 6), (5, 5), (5, 5), (3, 5), (4, 2), (1, 1), (6, 6), (3, 2), (1, 1), (6, 6), (1, 1), (5, 5), (2, 2), (6, 6), (4, 5), (4, 2), (6, 6), (2, 2), (5, 5), (6, 6), (5, 5), (4, 5), (2, 2), (5, 5), (3, 2), (4, 2), (2, 2), (5, 5), (3, 2), (5, 5), (5, 5), (5, 5), (5, 5), (1, 1), (3, 2), (2, 2), (2, 2), (5, 5), (2, 2), (4, 2), (5, 5), (5, 5), (5, 5), (2, 2), (5, 5), (2, 2), (5, 5), (3, 2), (6, 6), (5, 5), (2, 2), (3, 2), (2, 2), (2, 2), (5, 5), (3, 2), (4, 2), (5, 5), (5, 5), (2, 2), (3, 2), (2, 2), (1, 1), (2, 2), (5, 5), (2, 2), (4, 5), (5, 5), (2, 2), (3, 2), (2, 2), (5, 5), (5, 5), (5, 5), (3, 2), (6, 6), (2, 2), (5, 5), (3, 2), (5, 5), (2, 2), (2, 2), (1, 1), (5, 5), (4, 5), (1, 1), (6, 6), (2, 2), (4, 5), (2, 2), (5, 5), (6, 6), (6, 6), (3, 5), (2, 2), (5, 5), (2, 2), (2, 2), (2, 2), (5, 5), (5, 5), (4, 5), (2, 2), (1, 1), (6, 6), (4, 5), (2, 2), (2, 2), (2, 2), (5, 5), (2, 2), (2, 2), (6, 6), (2, 2), (2, 2), (5, 5), (5, 5), (5, 5), (5, 5), (2, 2), (5, 5), (5, 5), (3, 2), (2, 2), (4, 2), (6, 6), (5, 5), (2, 2), (6, 6), (2, 2), (6, 6), (2, 2), (1, 1), (5, 5), (1, 1), (5, 5), (4, 5), (4, 2), (2, 2), (4, 5), (2, 2), (4, 2), (2, 2), (4, 5), (4, 5), (4, 5), (5, 5), (5, 5), (2, 2), (5, 5), (4, 2), (2, 2), (2, 2), (3, 5), (6, 6), (2, 2), (6, 6), (4, 5), (5, 5), (6, 6), (5, 5), (2, 2), (1, 1), (5, 5), (3, 5), (5, 5), (4, 5), (5, 5), (6, 6), (3, 2), (2, 2), (5, 5), (2, 2), (4, 2), (5, 5), (2, 2), (3, 2), (2, 2), (5, 5), (3, 5), (5, 5), (2, 2), (5, 5), (5, 5), (4, 5), (5, 5), (6, 6), (2, 2), (3, 2), (6, 6), (3, 2), (2, 2), (2, 2), (5, 5), (5, 5), (1, 1), (5, 5), (4, 5), (5, 5), (5, 5), (6, 6), (4, 5), (5, 5), (2, 2), (3, 2), (5, 5), (6, 6), (5, 5), (2, 2), (1, 1), (1, 1), (6, 6), (5, 5), (2, 2), (6, 6), (5, 5), (2, 2), (2, 2), (5, 5), (2, 2), (5, 5), (5, 5), (5, 5), (5, 5), (2, 2), (2, 2), (3, 2), (2, 2), (5, 5), (1, 1), (4, 5), (5, 5), (5, 5), (5, 5), (2, 2), (6, 6), (4, 5), (2, 2), (3, 5), (5, 5), (2, 2), (2, 2), (6, 6), (2, 2), (2, 2), (5, 5), (2, 2), (2, 2), (5, 5), (5, 5), (2, 2), (6, 6), (3, 5), (6, 6), (3, 2), (1, 1), (3, 2), (2, 2), (5, 5), (5, 5), (5, 5), (3, 2), (3, 2), (1, 1), (5, 5), (2, 2), (3, 2), (5, 5), (3, 2), (5, 5), (2, 2), (5, 5), (5, 5), (2, 2), (2, 2), (5, 5), (1, 1), (4, 5), (4, 2), (2, 2), (5, 5), (5, 5), (2, 2), (2, 2), (4, 5), (4, 5), (3, 2), (1, 1), (2, 2), (2, 2), (3, 5), (2, 2), (4, 5), (4, 5), (1, 1), (5, 5), (2, 2), (4, 2), (5, 5), (5, 5), (2, 2), (5, 5), (3, 2), (5, 5), (5, 5), (1, 1), (5, 5), (1, 1), (2, 2), (4, 5), (5, 5), (6, 6), (2, 2), (3, 2), (2, 2), (2, 2), (3, 5), (4, 2), (6, 6), (1, 1), (5, 5), (1, 1), (2, 2), (2, 2), (5, 5), (2, 2), (4, 5), (6, 6), (3, 2), (5, 5), (5, 5), (2, 2), (2, 2), (6, 6), (2, 2), (5, 5), (5, 5), (5, 5), (5, 5), (4, 5), (2, 2), (2, 2), (5, 5), (6, 6), (2, 2), (5, 5), (5, 5), (2, 2), (2, 2), (1, 1), (1, 1), (1, 1), (4, 5), (5, 5), (4, 2), (5, 5), (5, 5), (4, 2), (5, 5), (5, 5), (4, 2), (6, 6), (3, 5), (2, 2), (5, 5), (5, 5), (5, 5), (4, 5), (2, 2), (2, 2), (5, 5), (1, 1), (6, 6), (2, 2), (2, 2), (5, 5), (5, 5), (2, 2), (5, 5), (2, 2), (5, 5), (5, 5), (5, 5), (4, 5), (4, 5), (2, 2), (2, 2), (4, 2), (4, 5), (5, 5), (5, 5), (1, 1), (2, 2), (5, 5), (5, 5), (2, 2), (1, 1), (6, 6), (1, 1), (3, 2), (4, 5), (5, 5), (5, 5), (5, 5), (2, 2), (6, 6), (6, 6), (3, 2), (5, 5), (5, 5), (2, 2), (5, 5), (4, 5), (2, 2), (3, 2), (1, 1), (4, 2), (4, 5), (3, 2), (2, 2), (3, 2), (4, 5), (5, 5), (4, 2), (2, 2), (5, 5), (4, 5), (4, 5), (2, 2), (2, 2), (5, 5), (1, 1), (1, 1), (2, 2), (2, 2), (4, 5), (3, 2), (2, 2), (5, 5), (5, 5), (4, 5), (5, 5), (3, 2), (5, 5), (3, 2), (1, 1), (2, 2), (4, 5), (2, 2), (6, 6), (3, 2), (3, 2), (1, 1), (2, 2), (2, 2), (6, 6), (5, 5), (5, 5), (4, 5), (5, 5), (4, 5), (4, 5), (1, 1), (3, 5), (2, 2), (4, 5), (5, 5), (5, 5), (2, 2), (5, 5), (1, 1), (5, 5), (4, 2), (6, 6), (2, 2), (2, 2), (5, 5), (5, 5), (6, 6), (5, 5), (5, 5), (1, 1), (6, 6), (2, 2), (5, 5), (6, 6), (2, 2), (6, 6), (3, 5), (5, 5), (5, 5), (2, 2), (5, 5), (5, 5), (2, 2), (6, 6), (4, 5), (6, 6), (1, 1), (5, 5), (4, 2), (5, 5), (5, 5), (2, 2), (2, 2), (6, 6), (6, 6), (5, 5), (5, 5), (4, 5), (6, 6), (2, 2), (3, 2), (6, 6), (2, 2), (5, 5), (2, 2), (2, 2), (5, 5), (5, 5), (6, 6), (6, 6), (1, 1), (1, 1), (5, 5), (1, 1), (4, 2), (5, 5), (5, 5), (4, 2), (5, 5), (6, 6), (6, 6), (5, 5), (5, 5), (6, 6), (2, 2), (2, 2), (2, 2), (1, 1), (2, 2), (5, 5), (4, 5), (5, 5), (5, 5), (2, 2), (4, 2), (5, 5), (2, 2), (5, 5), (5, 5), (6, 6), (5, 5), (2, 2), (2, 2), (5, 5), (4, 5), (6, 6), (5, 5), (5, 5), (5, 5), (3, 2), (5, 5), (1, 1), (5, 5), (2, 2), (2, 2), (2, 2), (6, 6), (5, 5), (5, 5), (2, 2), (5, 5), (5, 5), (5, 5), (3, 2), (2, 2), (3, 2), (4, 5), (2, 2), (2, 2), (2, 2), (5, 5), (6, 6), (4, 2), (2, 2), (6, 6), (5, 5), (5, 5), (5, 5), (2, 2), (6, 6), (1, 1), (1, 1), (2, 2), (1, 1), (2, 2), (5, 5), (2, 2), (6, 6), (4, 2), (2, 2), (5, 5), (1, 1), (6, 6), (2, 2), (5, 5), (5, 5), (4, 2), (5, 5), (2, 2), (3, 2), (4, 5), (1, 1), (1, 1), (2, 2), (5, 5), (6, 6), (5, 5), (4, 5), (6, 6), (5, 5), (5, 5), (4, 5), (5, 5), (5, 5), (2, 2), (2, 2), (2, 2), (5, 5), (2, 2), (4, 5), (3, 2), (2, 2), (6, 6), (5, 5), (5, 5), (2, 2), (5, 5), (2, 2), (5, 5), (2, 2), (6, 6), (4, 5), (2, 2), (2, 2), (3, 2), (5, 5), (4, 5), (3, 2), (1, 1), (5, 5), (4, 5), (5, 5), (2, 2), (3, 2), (3, 2), (5, 5), (5, 5), (5, 5), (5, 5), (5, 5), (6, 6), (4, 2), (5, 5), (5, 5), (2, 2), (5, 5), (4, 5), (3, 2), (1, 1), (5, 5), (5, 5), (2, 2), (4, 2), (2, 2), (2, 2), (1, 1), (5, 5), (6, 6), (2, 2), (6, 6), (5, 5), (5, 5), (5, 5), (6, 6), (5, 5), (3, 5), (2, 2), (5, 5), (2, 2), (5, 5), (2, 2), (2, 2), (3, 2), (5, 5), (5, 5), (2, 2), (2, 2), (2, 2), (2, 2), (6, 6), (2, 2), (6, 6), (5, 5), (5, 5), (3, 2), (6, 6), (2, 2), (5, 5), (5, 5), (1, 1), (6, 6), (3, 2), (3, 2), (1, 1), (5, 5), (6, 6), (2, 2), (1, 1), (3, 2), (2, 2), (2, 2), (5, 5), (1, 1), (5, 5), (2, 2), (2, 2), (1, 1), (2, 2), (1, 1), (6, 6), (5, 5), (3, 2), (2, 2), (6, 6), (5, 5), (2, 2), (3, 2), (1, 1), (3, 5), (2, 2), (1, 1), (3, 2), (5, 5), (2, 2), (5, 5), (4, 5), (2, 2), (6, 6), (5, 5), (1, 1), (4, 5), (2, 2), (2, 2), (1, 1), (4, 5), (1, 1), (1, 1), (3, 2), (5, 5), (6, 6), (5, 5), (6, 6), (2, 2), (5, 5), (6, 6), (2, 2), (3, 2), (2, 2), (5, 5), (2, 2), (5, 5), (2, 2), (2, 2), (5, 5), (2, 2), (6, 6), (5, 5), (6, 6), (5, 5), (5, 5), (2, 2), (6, 6), (2, 2), (5, 5), (6, 6), (3, 2), (1, 1), (1, 1), (4, 5), (2, 2), (6, 6), (2, 2), (2, 2), (2, 2), (2, 2), (3, 2), (5, 5), (5, 5), (2, 2), (2, 2), (5, 5), (2, 2), (2, 2), (5, 5), (2, 2), (3, 2), (1, 1), (3, 5), (2, 2), (4, 5), (1, 1), (2, 2), (3, 2), (3, 2), (2, 2), (4, 5), (4, 2), (2, 2), (2, 2), (4, 2), (4, 5), (5, 5), (5, 5), (2, 2), (1, 1), (5, 5), (6, 6), (2, 2), (4, 2), (1, 1), (5, 5), (5, 5), (5, 5), (5, 5), (4, 5), (5, 5), (2, 2), (2, 2), (3, 2), (2, 2), (5, 5), (2, 2), (3, 2), (3, 2), (5, 5), (2, 2), (5, 5), (5, 5), (6, 6), (5, 5), (5, 5), (3, 2), (1, 1), (2, 2), (6, 6), (1, 1), (6, 6), (1, 1), (5, 5), (3, 2), (5, 5), (2, 2), (1, 1), (2, 2), (5, 5), (4, 5), (4, 5), (5, 5), (2, 2), (2, 2), (4, 5), (2, 2), (1, 1), (2, 2), (1, 1), (5, 5), (1, 1), (2, 2), (3, 2), (2, 2), (2, 2), (6, 6), (2, 2), (3, 2), (5, 5), (2, 2), (5, 5), (2, 2), (5, 5), (2, 2), (2, 2), (5, 5), (1, 1), (2, 2), (3, 2), (5, 5), (4, 5), (5, 5), (3, 2), (5, 5), (2, 2), (5, 5), (4, 5), (5, 5), (2, 2), (6, 6), (5, 5), (5, 5), (5, 5), (1, 1), (6, 6), (5, 5), (3, 2), (2, 2), (5, 5), (2, 2), (5, 5), (5, 5), (2, 2), (5, 5), (5, 5), (2, 2), (6, 6), (5, 5), (6, 6), (1, 1), (4, 2), (3, 2), (5, 5), (6, 6), (3, 2), (1, 1), (5, 5), (2, 2), (2, 2), (5, 5), (3, 5), (5, 5), (4, 2), (2, 2), (4, 5), (2, 2), (2, 2), (3, 2), (2, 2), (2, 2), (2, 2), (6, 6), (2, 2), (6, 6), (6, 6), (5, 5), (5, 5), (5, 5), (5, 5), (3, 2), (3, 2), (2, 2), (5, 5), (2, 2), (5, 5), (5, 5), (5, 5), (4, 5), (2, 2), (2, 2), (5, 5), (5, 5), (5, 5), (2, 2), (4, 5), (5, 5), (2, 2), (5, 5), (5, 5), (1, 1), (5, 5), (5, 5), (5, 5), (2, 2), (4, 2), (3, 2), (5, 5), (3, 5), (4, 5), (5, 5), (6, 6), (5, 5), (6, 6), (5, 5), (1, 1), (5, 5), (1, 1), (2, 2), (5, 5), (6, 6), (1, 1), (2, 2), (5, 5), (2, 2), (2, 2), (6, 6), (2, 2), (5, 5), (5, 5), (5, 5), (5, 5), (2, 2), (2, 2), (5, 5), (5, 5), (2, 2), (2, 2), (5, 5), (5, 5), (5, 5), (4, 5), (2, 2), (4, 5), (2, 2), (2, 2), (3, 5), (1, 1), (2, 2), (2, 2), (5, 5), (2, 2), (5, 5), (2, 2), (4, 2), (6, 6), (1, 1), (6, 6), (5, 5), (6, 6), (2, 2), (5, 5), (1, 1), (3, 2), (2, 2), (2, 2), (2, 2), (5, 5), (2, 2), (5, 5), (5, 5), (1, 1), (2, 2), (5, 5), (3, 2), (5, 5), (5, 5), (2, 2), (5, 5), (5, 5), (4, 5), (4, 5), (2, 2), (5, 5), (4, 5), (2, 2), (5, 5), (6, 6), (1, 1), (3, 2), (5, 5), (5, 5), (3, 5), (4, 5), (4, 2), (5, 5), (5, 5), (6, 6), (2, 2), (2, 2), (4, 5), (1, 1), (1, 1), (5, 5), (5, 5), (2, 2), (5, 5), (5, 5), (2, 2), (6, 6), (5, 5), (6, 6), (5, 5), (3, 2), (3, 2), (4, 2), (2, 2), (5, 5), (3, 2), (2, 2), (6, 6), (6, 6), (6, 6), (2, 2), (5, 5), (5, 5), (5, 5), (6, 6), (5, 5), (2, 2), (3, 2), (2, 2), (1, 1), (6, 6), (5, 5), (5, 5), (5, 5), (6, 6), (1, 1), (1, 1), (2, 2), (2, 2), (6, 6), (6, 6), (6, 6), (5, 5), (5, 5), (6, 6), (3, 2), (2, 2), (6, 6), (5, 5), (3, 5), (2, 2), (1, 1), (2, 2), (5, 5), (2, 2), (5, 5), (5, 5), (1, 1), (5, 5), (2, 2), (2, 2), (2, 2), (3, 5), (2, 2), (5, 5), (4, 5), (6, 6), (3, 2), (5, 5), (4, 2), (5, 5), (3, 2), (2, 2), (2, 2), (2, 2), (3, 5), (5, 5), (5, 5), (3, 2), (2, 2), (5, 5), (5, 5), (6, 6), (3, 5), (2, 2), (5, 5), (4, 5), (1, 1), (2, 2), (6, 6), (2, 2), (6, 6), (5, 5), (6, 6), (3, 2), (1, 1), (2, 2), (5, 5), (1, 1), (4, 5), (5, 5), (1, 1), (2, 2), (2, 2), (5, 5), (4, 2), (6, 6), (5, 5), (5, 5), (1, 1), (2, 2), (2, 2), (4, 5), (4, 5), (6, 6), (2, 2), (2, 2), (3, 2), (5, 5), (6, 6), (5, 5), (5, 5), (3, 2), (2, 2), (2, 2), (6, 6), (6, 6), (5, 5), (5, 5), (5, 5), (5, 5), (2, 2), (2, 2), (5, 5), (3, 2), (5, 5), (1, 1), (2, 2), (3, 2), (3, 2), (2, 2), (2, 2), (2, 2), (2, 2), (5, 5), (5, 5), (3, 5), (3, 2), (1, 1), (6, 6), (5, 5), (5, 5), (2, 2), (2, 2), (2, 2), (2, 2), (6, 6), (2, 2), (5, 5), (2, 2), (4, 5), (5, 5), (2, 2), (2, 2), (2, 2), (1, 1), (5, 5), (2, 2), (2, 2), (2, 2), (4, 5), (5, 5), (4, 2), (4, 5), (3, 2), (2, 2), (5, 5), (5, 5), (2, 2), (5, 5), (1, 1), (5, 5), (2, 2), (5, 5), (5, 5), (6, 6), (5, 5), (6, 6), (6, 6), (4, 5), (5, 5), (1, 1), (2, 2), (5, 5), (5, 5), (3, 2), (2, 2), (4, 5), (3, 2), (5, 5), (2, 2), (5, 5), (1, 1), (5, 5), (5, 5), (4, 5), (2, 2), (5, 5), (2, 2), (3, 5), (5, 5), (2, 2), (4, 5), (6, 6), (1, 1), (4, 2), (2, 2), (2, 2), (6, 6), (5, 5), (1, 1), (5, 5), (2, 2), (5, 5), (5, 5), (1, 1), (2, 2), (6, 6), (5, 5), (3, 2), (6, 6), (5, 5), (1, 1), (4, 5), (5, 5), (2, 2), (5, 5), (2, 2), (5, 5), (4, 5), (2, 2), (2, 2), (5, 5), (2, 2), (2, 2), (6, 6), (2, 2), (2, 2), (6, 6), (5, 5), (5, 5), (5, 5), (2, 2), (2, 2), (5, 5), (6, 6), (1, 1), (1, 1), (5, 5), (3, 2), (5, 5), (5, 5), (6, 6), (4, 5), (5, 5), (2, 2), (2, 2), (5, 5), (2, 2), (2, 2), (4, 5), (4, 5), (6, 6), (1, 1), (5, 5), (1, 1), (5, 5), (2, 2), (2, 2), (2, 2), (5, 5), (3, 5), (4, 5), (2, 2), (1, 1), (4, 2), (5, 5), (6, 6), (1, 1), (2, 2), (4, 5), (4, 5), (5, 5), (5, 5), (2, 2), (2, 2), (5, 5), (4, 5), (6, 6), (2, 2), (2, 2), (5, 5), (6, 6), (6, 6), (5, 5), (6, 6), (6, 6), (6, 6), (5, 5), (2, 2), (4, 5), (2, 2), (5, 5), (6, 6), (1, 1), (2, 2), (5, 5), (5, 5), (5, 5), (2, 2), (6, 6), (2, 2), (2, 2), (6, 6), (2, 2), (1, 1), (5, 5), (4, 2), (1, 1), (6, 6), (2, 2), (4, 5), (5, 5), (2, 2), (2, 2), (3, 2), (2, 2), (6, 6), (1, 1), (5, 5), (5, 5), (2, 2), (5, 5), (6, 6), (3, 2), (5, 5), (6, 6), (3, 2), (2, 2), (3, 2), (5, 5), (2, 2), (1, 1), (4, 5), (5, 5), (2, 2), (3, 5), (1, 1), (5, 5), (4, 2), (3, 2), (6, 6), (5, 5), (1, 1), (5, 5), (6, 6), (5, 5), (2, 2), (1, 1), (5, 5), (5, 5), (2, 2), (4, 5), (6, 6), (2, 2), (6, 6), (5, 5), (5, 5), (1, 1), (1, 1), (4, 2), (2, 2), (5, 5), (5, 5), (5, 5), (2, 2), (5, 5), (1, 1), (6, 6), (5, 5), (5, 5), (2, 2), (2, 2), (5, 5), (5, 5), (2, 2), (6, 6), (3, 2), (1, 1), (3, 2), (2, 2), (1, 1), (2, 2), (2, 2), (5, 5), (3, 2), (5, 5), (2, 2), (2, 2), (2, 2), (1, 1), (2, 2), (5, 5), (5, 5), (4, 5), (5, 5), (4, 2), (5, 5), (1, 1), (3, 2), (2, 2), (4, 5), (5, 5), (6, 6), (3, 2), (1, 1), (2, 2), (5, 5), (3, 2), (2, 2), (1, 1), (6, 6), (5, 5), (4, 5), (3, 2), (5, 5), (5, 5), (3, 2), (2, 2), (2, 2), (3, 5), (2, 2), (5, 5), (3, 2), (3, 2), (6, 6), (5, 5), (5, 5), (6, 6), (2, 2), (5, 5), (5, 5), (1, 1), (3, 2), (5, 5), (4, 2), (2, 2), (5, 5), (2, 2), (6, 6), (5, 5), (4, 2), (5, 5), (1, 1), (5, 5), (3, 2), (2, 2), (5, 5), (5, 5), (1, 1), (5, 5), (5, 5), (5, 5), (1, 1), (5, 5), (2, 2), (6, 6), (5, 5), (2, 2), (2, 2), (3, 2), (2, 2), (6, 6), (5, 5), (5, 5), (2, 2), (3, 2), (6, 6), (1, 1), (2, 2), (2, 2), (5, 5), (2, 2), (4, 5), (2, 2), (5, 5), (2, 2), (2, 2), (2, 2), (1, 1), (6, 6), (5, 5), (4, 5), (2, 2), (2, 2), (5, 5), (1, 1), (2, 2), (2, 2), (5, 5), (5, 5), (1, 1), (1, 1), (2, 2), (2, 2), (2, 2), (2, 2), (2, 2), (2, 2), (4, 5), (2, 2), (2, 2), (2, 2), (5, 5), (5, 5), (2, 2), (5, 5), (6, 6), (1, 1), (5, 5), (3, 5), (5, 5), (4, 2), (6, 6), (2, 2), (2, 2), (5, 5), (5, 5), (5, 5), (5, 5), (5, 5), (3, 5), (5, 5), (5, 5), (5, 5), (1, 1), (5, 5), (2, 2), (1, 1), (5, 5), (2, 2), (6, 6), (5, 5), (3, 2), (3, 5), (2, 2), (6, 6), (6, 6), (5, 5), (6, 6), (2, 2), (6, 6), (5, 5), (2, 2), (1, 1), (5, 5), (5, 5), (5, 5), (4, 5), (5, 5), (2, 2), (2, 2), (1, 1), (2, 2), (2, 2), (2, 2), (2, 2), (2, 2), (2, 2), (5, 5), (5, 5), (5, 5), (2, 2), (6, 6), (2, 2), (2, 2), (5, 5), (2, 2), (6, 6), (5, 5), (5, 5), (2, 2), (5, 5), (2, 2), (2, 2), (6, 6), (5, 5), (2, 2), (5, 5), (2, 2), (5, 5), (1, 1), (4, 5), (6, 6), (5, 5), (6, 6), (6, 6), (6, 6), (2, 2), (2, 2), (5, 5), (4, 2), (4, 5), (5, 5), (5, 5), (4, 5), (3, 5), (1, 1), (4, 2), (2, 2), (2, 2), (5, 5), (4, 5), (2, 2), (5, 5), (3, 2), (4, 5), (5, 5), (6, 6), (2, 2), (4, 5), (2, 2), (6, 6), (6, 6), (5, 5), (4, 2), (5, 5), (2, 2), (4, 5), (2, 2), (2, 2), (4, 5), (2, 2), (5, 5), (2, 2), (5, 5), (2, 2), (4, 5), (5, 5), (3, 2), (2, 2), (6, 6), (5, 5), (1, 1), (2, 2), (4, 5), (2, 2), (6, 6), (5, 5), (5, 5), (1, 1), (1, 1), (5, 5), (3, 2), (3, 2), (6, 6), (2, 2), (4, 5), (2, 2), (5, 5), (4, 5), (5, 5), (2, 2), (5, 5), (1, 1), (2, 2), (5, 5), (1, 1), (1, 1), (2, 2), (5, 5), (3, 2), (2, 2), (2, 2), (5, 5), (5, 5), (5, 5), (5, 5), (6, 6), (6, 6), (1, 1), (5, 5), (2, 2), (2, 2), (1, 1), (1, 1), (4, 5), (1, 1), (5, 5), (5, 5), (2, 2), (2, 2), (2, 2), (5, 5), (1, 1), (6, 6), (2, 2), (2, 2), (5, 5), (2, 2), (2, 2), (5, 5), (6, 6), (5, 5), (5, 5), (5, 5), (2, 2), (1, 1), (6, 6), (2, 2), (2, 2), (6, 6), (5, 5), (5, 5), (5, 5), (6, 6), (2, 2), (5, 5), (4, 5), (5, 5), (5, 5), (6, 6), (3, 2), (4, 2), (3, 2), (1, 1), (1, 1), (2, 2), (2, 2), (5, 5), (3, 2), (5, 5), (1, 1), (4, 2), (6, 6), (2, 2), (2, 2), (5, 5), (5, 5), (4, 5), (5, 5), (5, 5), (5, 5), (2, 2), (5, 5), (2, 2), (2, 2), (5, 5), (5, 5), (1, 1), (3, 2), (2, 2), (1, 1), (6, 6), (2, 2), (1, 1), (1, 1), (5, 5), (2, 2), (5, 5), (2, 2), (2, 2), (3, 2), (4, 5), (6, 6), (5, 5), (5, 5), (2, 2), (5, 5), (2, 2), (5, 5), (2, 2), (2, 2), (2, 2), (6, 6), (2, 2), (6, 6), (1, 1), (4, 5), (5, 5), (4, 5), (2, 2), (5, 5), (5, 5), (2, 2), (5, 5), (3, 5), (5, 5), (2, 2), (5, 5), (4, 5), (5, 5), (5, 5), (2, 2), (3, 2), (3, 5), (4, 5), (4, 5), (2, 2), (5, 5), (4, 5), (2, 2), (5, 5), (1, 1), (3, 2), (1, 1), (3, 2), (5, 5), (5, 5), (5, 5), (3, 2), (1, 1), (6, 6), (2, 2), (2, 2), (3, 2), (4, 5), (3, 2), (4, 5), (1, 1), (5, 5), (4, 5), (2, 2), (2, 2), (3, 2), (5, 5), (5, 5), (2, 2), (2, 2), (5, 5), (2, 2), (5, 5), (5, 5), (6, 6), (4, 5), (5, 5), (2, 2), (3, 5), (5, 5), (5, 5), (2, 2), (5, 5), (3, 5), (4, 5), (6, 6), (5, 5), (6, 6), (2, 2), (5, 5), (5, 5), (1, 1), (1, 1), (4, 5), (2, 2), (2, 2), (5, 5), (2, 2), (6, 6), (6, 6), (3, 2), (5, 5), (2, 2), (2, 2), (2, 2), (2, 2), (3, 2), (6, 6), (5, 5), (5, 5), (5, 5), (2, 2), (5, 5), (2, 2), (5, 5), (2, 2), (5, 5), (1, 1), (1, 1), (5, 5), (2, 2), (4, 5), (5, 5), (3, 2), (2, 2), (2, 2), (5, 5), (5, 5), (1, 1), (5, 5), (1, 1), (2, 2), (2, 2), (4, 5), (2, 2), (1, 1), (2, 2), (4, 5), (4, 5), (6, 6), (2, 2), (3, 2), (2, 2), (5, 5), (1, 1), (1, 1), (2, 2), (3, 2), (5, 5), (5, 5), (1, 1), (2, 2), (4, 2), (2, 2), (6, 6), (5, 5), (2, 2), (5, 5), (3, 5), (4, 5), (2, 2), (5, 5), (2, 2), (5, 5), (5, 5), (3, 5), (5, 5), (2, 2), (5, 5), (2, 2), (5, 5), (4, 5), (5, 5), (5, 5), (2, 2), (2, 2), (2, 2), (1, 1), (2, 2), (4, 2), (2, 2), (1, 1), (2, 2), (2, 2), (2, 2), (4, 5), (5, 5), (5, 5), (4, 5), (2, 2), (5, 5), (5, 5), (5, 5), (1, 1), (4, 5), (2, 2), (2, 2), (6, 6), (2, 2), (2, 2), (5, 5), (5, 5), (1, 1), (5, 5), (2, 2), (2, 2), (5, 5), (5, 5), (1, 1), (5, 5), (2, 2), (5, 5), (2, 2), (5, 5), (5, 5), (5, 5), (2, 2), (3, 2), (6, 6), (1, 1), (4, 2), (1, 1), (2, 2), (5, 5), (5, 5), (2, 2), (4, 5), (5, 5), (3, 2), (3, 2), (2, 2), (4, 5), (2, 2), (2, 2), (4, 5), (1, 1), (6, 6), (2, 2), (5, 5), (2, 2), (5, 5), (6, 6), (5, 5), (1, 1), (5, 5), (1, 1), (5, 5), (2, 2), (5, 5), (5, 5), (1, 1), (4, 5), (5, 5), (5, 5), (6, 6), (2, 2), (1, 1), (6, 6), (2, 2), (2, 2), (2, 2), (1, 1), (2, 2), (5, 5), (2, 2), (5, 5), (5, 5), (5, 5), (3, 5), (5, 5), (2, 2), (3, 2), (5, 5), (3, 5), (6, 6), (2, 2), (2, 2), (4, 5), (2, 2), (1, 1), (3, 2), (2, 2), (4, 5), (2, 2), (2, 2), (6, 6), (2, 2), (5, 5), (2, 2), (2, 2), (2, 2), (2, 2), (3, 2), (2, 2), (5, 5), (2, 2), (4, 5), (5, 5), (5, 5), (5, 5), (5, 5), (5, 5), (5, 5), (2, 2), (6, 6), (5, 5), (6, 6), (4, 2), (3, 2), (2, 2), (5, 5), (5, 5), (1, 1), (2, 2), (4, 5), (1, 1), (2, 2), (1, 1), (2, 2), (2, 2), (5, 5), (4, 5), (1, 1), (5, 5), (5, 5), (5, 5), (5, 5), (2, 2), (6, 6), (2, 2), (3, 5), (4, 5), (2, 2), (6, 6), (5, 5), (1, 1), (5, 5), (2, 2), (2, 2), (5, 5), (5, 5), (5, 5), (5, 5), (4, 5), (5, 5), (5, 5), (5, 5), (5, 5), (5, 5), (2, 2), (1, 1), (1, 1), (6, 6), (6, 6), (2, 2), (5, 5), (5, 5), (5, 5), (2, 2), (2, 2), (2, 2), (2, 2), (5, 5), (2, 2), (5, 5), (5, 5), (5, 5), (5, 5), (4, 2), (4, 2), (4, 5), (6, 6), (1, 1), (2, 2), (5, 5), (2, 2), (6, 6), (1, 1), (2, 2), (3, 2), (6, 6), (4, 5), (2, 2), (1, 1), (4, 5), (5, 5), (2, 2), (1, 1), (2, 2), (6, 6), (2, 2), (1, 1), (6, 6), (5, 5), (2, 2), (6, 6), (1, 1), (1, 1), (6, 6), (5, 5), (5, 5), (1, 1), (5, 5), (6, 6), (6, 6), (5, 5), (6, 6), (4, 5), (3, 5), (2, 2), (6, 6), (4, 5), (2, 2), (5, 5), (5, 5), (5, 5), (5, 5), (1, 1), (1, 1), (5, 5), (5, 5), (2, 2), (2, 2), (2, 2), (1, 1), (3, 5), (2, 2), (4, 5), (3, 2), (2, 2), (2, 2), (4, 2), (2, 2), (6, 6), (2, 2), (4, 5), (2, 2), (2, 2), (5, 5), (5, 5), (5, 5), (5, 5), (4, 2), (2, 2), (6, 6), (5, 5), (5, 5), (6, 6), (1, 1), (4, 5), (2, 2), (5, 5), (3, 2), (2, 2), (5, 5), (1, 1), (2, 2), (3, 5), (5, 5), (2, 2), (2, 2), (2, 2), (5, 5), (5, 5), (5, 5), (2, 2), (4, 5), (6, 6), (2, 2), (4, 5), (4, 2), (5, 5), (2, 2), (5, 5), (5, 5), (2, 2), (5, 5), (3, 5), (3, 2), (1, 1), (1, 1), (4, 2), (6, 6), (5, 5), (4, 5), (1, 1), (5, 5), (4, 5), (2, 2), (2, 2), (2, 2), (1, 1), (4, 5), (2, 2), (6, 6), (2, 2), (4, 5), (1, 1), (6, 6), (5, 5), (1, 1), (1, 1), (5, 5), (1, 1), (5, 5), (5, 5), (5, 5), (2, 2), (4, 5), (4, 5), (2, 2), (2, 2), (2, 2), (2, 2), (5, 5), (2, 2), (2, 2), (2, 2), (5, 5), (6, 6), (6, 6), (5, 5), (3, 2), (6, 6), (2, 2), (2, 2), (5, 5), (5, 5), (2, 2), (5, 5), (6, 6), (5, 5), (5, 5), (5, 5), (4, 2), (1, 1), (4, 5), (6, 6), (2, 2), (1, 1), (5, 5), (1, 1), (1, 1), (5, 5), (2, 2), (2, 2), (2, 2), (2, 2), (6, 6), (4, 5), (4, 5), (5, 5), (2, 2), (4, 5), (5, 5), (5, 5), (2, 2), (1, 1), (1, 1), (6, 6), (6, 6), (2, 2), (1, 1), (1, 1), (5, 5), (5, 5), (1, 1), (2, 2), (4, 2), (4, 5), (3, 5), (6, 6), (5, 5), (3, 2), (3, 2), (3, 5), (5, 5), (6, 6), (2, 2), (1, 1), (5, 5), (5, 5), (6, 6), (5, 5), (5, 5), (1, 1), (5, 5), (1, 1), (2, 2), (5, 5), (5, 5), (2, 2), (4, 2), (5, 5), (5, 5), (3, 2), (1, 1), (2, 2), (4, 2), (2, 2), (2, 2), (5, 5), (4, 5), (6, 6), (6, 6), (2, 2), (3, 5), (2, 2), (5, 5), (6, 6), (4, 2), (2, 2), (4, 5), (4, 2), (2, 2), (2, 2), (2, 2), (2, 2), (4, 5), (2, 2), (6, 6), (2, 2), (1, 1), (4, 2), (5, 5), (1, 1), (6, 6), (1, 1), (3, 2), (6, 6), (4, 2), (4, 5), (3, 2), (5, 5), (5, 5), (5, 5), (4, 5), (6, 6), (4, 5), (5, 5), (2, 2), (2, 2), (5, 5), (3, 2), (5, 5), (1, 1), (2, 2), (3, 2), (4, 2), (2, 2), (5, 5), (5, 5), (5, 5), (1, 1), (5, 5), (1, 1), (2, 2), (3, 2), (5, 5), (5, 5), (2, 2), (4, 5), (5, 5), (5, 5), (5, 5), (4, 5), (2, 2), (5, 5), (5, 5), (5, 5), (4, 5), (3, 2), (4, 5), (2, 2), (2, 2), (5, 5), (5, 5), (5, 5), (5, 5), (4, 5), (5, 5), (2, 2), (5, 5), (5, 5), (2, 2), (4, 5), (1, 1), (1, 1), (1, 1), (5, 5), (5, 5), (2, 2), (2, 2), (1, 1), (1, 1), (5, 5), (6, 6), (6, 6), (5, 5), (2, 2), (2, 2), (2, 2), (5, 5), (2, 2), (6, 6), (5, 5), (5, 5), (1, 1), (5, 5), (2, 2), (6, 6), (5, 5), (2, 2), (1, 1), (2, 2), (1, 1), (2, 2), (4, 5), (2, 2), (5, 5), (5, 5), (6, 6), (5, 5), (4, 5), (5, 5), (5, 5), (6, 6), (3, 2), (5, 5), (5, 5), (4, 2), (2, 2), (3, 5), (3, 2), (4, 5), (2, 2), (1, 1), (1, 1), (2, 2), (6, 6), (5, 5), (5, 5), (4, 5), (5, 5), (3, 2), (5, 5), (4, 5), (2, 2), (5, 5), (2, 2), (3, 2), (5, 5), (2, 2), (1, 1), (4, 5), (5, 5), (5, 5), (6, 6), (2, 2), (6, 6), (6, 6), (4, 5), (5, 5), (2, 2), (1, 1), (2, 2), (5, 5), (2, 2), (2, 2), (3, 5), (3, 2), (5, 5), (3, 2), (5, 5), (2, 2), (1, 1), (4, 5), (5, 5), (2, 2), (1, 1), (5, 5), (4, 5), (2, 2), (4, 5), (2, 2), (2, 2), (2, 2), (5, 5), (5, 5), (6, 6), (2, 2), (5, 5), (2, 2), (4, 5), (3, 2), (2, 2), (5, 5), (5, 5), (2, 2), (5, 5), (2, 2), (2, 2), (2, 2), (2, 2), (3, 5), (3, 2), (2, 2), (4, 5), (2, 2), (4, 2), (2, 2), (2, 2), (4, 5), (6, 6), (5, 5), (5, 5), (2, 2), (2, 2), (4, 5), (5, 5), (6, 6), (6, 6), (2, 2), (5, 5), (2, 2), (2, 2), (6, 6), (5, 5), (3, 2), (2, 2), (2, 2), (2, 2), (6, 6), (2, 2), (5, 5), (5, 5), (6, 6), (6, 6), (6, 6), (2, 2), (2, 2), (3, 2), (6, 6), (5, 5), (5, 5), (5, 5), (2, 2), (1, 1), (2, 2), (5, 5), (2, 2), (5, 5), (5, 5), (5, 5), (6, 6), (4, 5), (5, 5), (5, 5), (6, 6), (5, 5), (2, 2), (2, 2), (2, 2), (5, 5), (5, 5), (1, 1), (2, 2), (4, 5), (1, 1), (4, 5), (5, 5), (2, 2), (3, 2), (2, 2), (1, 1), (2, 2), (3, 5), (4, 5), (5, 5), (5, 5), (5, 5), (5, 5), (5, 5), (5, 5), (4, 5), (2, 2), (5, 5), (6, 6), (5, 5), (2, 2), (5, 5), (5, 5), (5, 5), (5, 5), (4, 5), (5, 5), (5, 5), (5, 5), (5, 5), (5, 5), (2, 2), (6, 6), (5, 5), (6, 6), (5, 5), (1, 1), (6, 6), (5, 5), (5, 5), (5, 5), (2, 2), (5, 5), (4, 5), (2, 2), (2, 2), (5, 5), (2, 2), (5, 5), (2, 2), (5, 5), (2, 2), (5, 5), (5, 5), (5, 5), (3, 2), (5, 5), (5, 5), (2, 2), (3, 5), (5, 5), (1, 1), (5, 5), (2, 2), (2, 2), (2, 2), (4, 5), (2, 2), (5, 5), (5, 5), (2, 2), (3, 2), (5, 5), (4, 2), (4, 2), (5, 5), (1, 1), (5, 5), (5, 5), (3, 5), (3, 2), (4, 5), (2, 2), (6, 6), (4, 5), (1, 1), (5, 5), (2, 2), (2, 2), (4, 2), (3, 5), (4, 5), (2, 2), (6, 6), (5, 5), (2, 2), (5, 5), (2, 2), (5, 5), (6, 6), (5, 5), (2, 2), (2, 2), (1, 1), (1, 1), (2, 2), (2, 2), (2, 2), (3, 2), (5, 5), (2, 2), (3, 5), (2, 2), (5, 5), (4, 5), (1, 1), (1, 1), (5, 5), (5, 5), (5, 5), (5, 5), (2, 2), (2, 2), (2, 2), (2, 2), (6, 6), (5, 5), (2, 2), (5, 5), (6, 6), (2, 2), (5, 5), (2, 2), (5, 5), (5, 5), (3, 2), (5, 5), (5, 5), (4, 5), (3, 2), (1, 1), (5, 5), (5, 5), (6, 6), (1, 1), (4, 5), (2, 2), (6, 6), (3, 5), (2, 2), (2, 2), (6, 6), (4, 5), (5, 5), (6, 6), (2, 2), (2, 2), (6, 6), (6, 6), (5, 5), (5, 5), (2, 2), (1, 1), (2, 2), (5, 5), (5, 5), (5, 5), (4, 5), (2, 2), (4, 2), (5, 5), (3, 2), (6, 6), (5, 5), (5, 5), (1, 1), (3, 5), (3, 2), (2, 2), (5, 5), (1, 1), (2, 2), (5, 5), (3, 2), (4, 2), (5, 5), (5, 5), (3, 2), (6, 6), (2, 2), (4, 5), (5, 5), (1, 1), (5, 5), (2, 2), (2, 2), (3, 2), (4, 2), (1, 1), (5, 5), (5, 5), (6, 6), (6, 6), (5, 5), (2, 2), (5, 5), (1, 1), (2, 2), (4, 5), (4, 2), (1, 1), (5, 5), (1, 1), (4, 5), (3, 2), (2, 2), (2, 2), (6, 6), (2, 2), (4, 5), (2, 2), (5, 5), (2, 2), (6, 6), (5, 5), (5, 5), (5, 5), (5, 5), (1, 1), (5, 5), (2, 2), (1, 1), (6, 6), (5, 5), (5, 5), (2, 2), (2, 2), (2, 2), (5, 5), (5, 5), (5, 5), (5, 5), (5, 5), (3, 2), (1, 1), (6, 6), (4, 2), (5, 5), (3, 5), (3, 2), (1, 1), (2, 2), (2, 2), (2, 2), (5, 5), (2, 2), (5, 5), (2, 2), (6, 6), (2, 2), (3, 2), (2, 2), (6, 6), (3, 5), (2, 2), (1, 1), (4, 5), (3, 2), (2, 2), (2, 2), (6, 6), (1, 1), (6, 6), (6, 6), (5, 5), (3, 5), (5, 5), (6, 6), (1, 1), (5, 5), (2, 2), (2, 2), (4, 5), (5, 5), (3, 2), (5, 5), (2, 2), (1, 1), (4, 5), (4, 5), (6, 6), (2, 2), (2, 2), (4, 5), (5, 5), (2, 2), (4, 5), (2, 2), (4, 2), (1, 1), (2, 2), (6, 6), (2, 2), (6, 6), (2, 2), (5, 5), (6, 6), (1, 1), (5, 5), (2, 2), (2, 2), (2, 2), (1, 1), (2, 2), (6, 6), (5, 5), (4, 5), (1, 1), (2, 2), (6, 6), (5, 5), (3, 2), (4, 5), (5, 5), (3, 2), (1, 1), (6, 6), (2, 2), (5, 5), (5, 5), (2, 2), (3, 5), (5, 5), (2, 2), (6, 6), (5, 5), (1, 1), (4, 5), (4, 5), (3, 2), (4, 5), (2, 2), (5, 5), (1, 1), (2, 2), (4, 5), (2, 2), (2, 2), (5, 5), (2, 2), (1, 1), (5, 5), (2, 2), (2, 2), (6, 6), (2, 2), (4, 5), (3, 2), (4, 5), (2, 2), (2, 2), (2, 2), (3, 2), (5, 5), (3, 2), (5, 5), (1, 1), (3, 2), (2, 2), (2, 2), (6, 6), (3, 2), (2, 2), (5, 5), (1, 1), (2, 2), (4, 5), (2, 2), (5, 5), (2, 2), (4, 5), (5, 5), (5, 5), (3, 2), (5, 5), (5, 5), (6, 6), (5, 5), (2, 2), (4, 2), (3, 2), (3, 2), (2, 2), (1, 1), (6, 6), (5, 5), (5, 5), (2, 2), (5, 5), (5, 5), (5, 5), (1, 1), (2, 2), (6, 6), (6, 6), (5, 5), (2, 2), (5, 5), (1, 1), (5, 5), (1, 1), (2, 2), (4, 5), (4, 5), (3, 2), (6, 6), (1, 1), (5, 5), (4, 5), (3, 2), (3, 2), (5, 5), (1, 1), (5, 5), (6, 6), (2, 2), (2, 2), (4, 5), (2, 2), (2, 2), (1, 1), (5, 5), (2, 2), (5, 5), (5, 5), (2, 2), (5, 5), (5, 5), (2, 2), (3, 2), (2, 2), (4, 2), (2, 2), (5, 5), (5, 5), (5, 5), (2, 2), (4, 5), (5, 5), (2, 2), (1, 1), (5, 5), (5, 5), (2, 2), (5, 5), (2, 2), (1, 1), (6, 6), (6, 6), (2, 2), (5, 5), (5, 5), (2, 2), (6, 6), (3, 2), (5, 5), (5, 5), (2, 2), (1, 1), (2, 2), (5, 5), (1, 1), (4, 5), (2, 2), (2, 2), (2, 2), (4, 5), (1, 1), (5, 5), (2, 2), (6, 6), (2, 2), (2, 2), (2, 2), (1, 1), (5, 5), (3, 2), (5, 5), (5, 5), (5, 5), (4, 5), (1, 1), (2, 2), (6, 6), (5, 5), (5, 5), (2, 2), (2, 2), (5, 5), (2, 2), (2, 2), (2, 2), (2, 2), (2, 2), (2, 2), (5, 5), (2, 2), (6, 6), (5, 5), (3, 5), (5, 5), (2, 2), (3, 2), (2, 2), (4, 2), (1, 1), (2, 2), (4, 5), (5, 5), (1, 1), (6, 6), (5, 5), (5, 5), (2, 2), (4, 5), (1, 1), (1, 1), (2, 2), (6, 6), (5, 5), (3, 5), (5, 5), (5, 5), (2, 2), (6, 6), (5, 5), (3, 2), (2, 2), (5, 5), (4, 5), (2, 2), (5, 5), (2, 2), (6, 6), (1, 1), (2, 2), (2, 2), (3, 2), (3, 5), (5, 5), (5, 5), (2, 2), (5, 5), (5, 5), (5, 5), (2, 2), (2, 2), (1, 1), (5, 5), (4, 2), (5, 5), (6, 6), (5, 5), (1, 1), (2, 2), (2, 2), (2, 2), (5, 5), (5, 5), (4, 5), (3, 2), (2, 2), (6, 6), (5, 5), (5, 5), (5, 5), (2, 2), (4, 5), (2, 2), (5, 5), (5, 5), (2, 2), (4, 5), (3, 2), (6, 6), (1, 1), (4, 5), (5, 5), (5, 5), (5, 5), (5, 5), (5, 5), (1, 1), (2, 2), (5, 5), (3, 2), (2, 2), (6, 6), (6, 6), (6, 6), (2, 2), (1, 1), (4, 2), (3, 2), (2, 2), (1, 1), (2, 2), (3, 2), (3, 2), (3, 5), (5, 5), (2, 2), (6, 6), (3, 2), (1, 1), (4, 2), (2, 2), (5, 5), (4, 2), (3, 5), (4, 5), (5, 5), (2, 2), (2, 2), (2, 2), (2, 2), (2, 2), (3, 2), (4, 5), (3, 2), (4, 5), (5, 5), (6, 6), (1, 1), (2, 2), (5, 5), (3, 2), (6, 6), (1, 1), (2, 2), (5, 5), (2, 2), (5, 5), (2, 2), (4, 5), (5, 5), (3, 5), (5, 5), (6, 6), (5, 5), (4, 5), (4, 5), (4, 5), (2, 2), (6, 6), (6, 6), (5, 5), (5, 5), (5, 5), (2, 2), (6, 6), (5, 5), (5, 5), (4, 2), (5, 5), (5, 5), (5, 5), (3, 2), (5, 5), (5, 5), (5, 5), (2, 2), (4, 5), (2, 2), (2, 2), (4, 5), (5, 5), (5, 5), (2, 2), (1, 1), (4, 5), (2, 2), (2, 2), (2, 2), (5, 5), (3, 2), (5, 5), (2, 2), (2, 2), (2, 2), (5, 5), (1, 1), (5, 5), (2, 2), (6, 6), (5, 5), (2, 2), (5, 5), (5, 5), (1, 1), (4, 2), (2, 2), (6, 6), (6, 6), (4, 5), (5, 5), (2, 2), (2, 2), (5, 5), (4, 5), (2, 2), (1, 1), (2, 2), (5, 5), (4, 5), (2, 2), (2, 2), (5, 5), (4, 5), (6, 6), (3, 2), (5, 5), (2, 2), (4, 2), (2, 2), (6, 6), (1, 1), (2, 2), (5, 5), (3, 5), (2, 2), (5, 5), (6, 6), (2, 2), (5, 5), (5, 5), (2, 2), (6, 6), (2, 2), (2, 2), (5, 5), (5, 5), (5, 5), (4, 5), (5, 5), (4, 5), (2, 2), (5, 5), (4, 5), (5, 5), (5, 5), (2, 2), (5, 5), (2, 2), (2, 2), (3, 2), (6, 6), (5, 5), (2, 2), (5, 5), (1, 1), (5, 5), (2, 2), (5, 5), (2, 2), (3, 2), (6, 6), (5, 5), (5, 5), (6, 6), (1, 1), (5, 5), (2, 2), (2, 2), (1, 1), (2, 2), (5, 5), (5, 5), (2, 2), (5, 5), (6, 6), (3, 2), (3, 5), (4, 5), (1, 1), (4, 5), (2, 2), (4, 5), (4, 5), (1, 1), (6, 6), (5, 5), (5, 5), (6, 6), (3, 2), (2, 2), (2, 2), (5, 5), (6, 6), (5, 5), (2, 2), (5, 5), (1, 1), (2, 2), (3, 2), (2, 2), (5, 5), (5, 5), (2, 2), (2, 2), (4, 2), (1, 1), (2, 2), (2, 2), (2, 2), (5, 5), (5, 5), (5, 5), (6, 6), (2, 2), (5, 5), (5, 5), (2, 2), (2, 2), (1, 1), (6, 6), (4, 5), (4, 5), (4, 5), (1, 1), (5, 5), (4, 5), (5, 5), (5, 5), (5, 5), (2, 2), (2, 2), (5, 5), (2, 2), (5, 5), (1, 1), (5, 5), (5, 5), (6, 6), (5, 5), (4, 5), (5, 5), (1, 1), (5, 5), (5, 5), (2, 2), (2, 2), (2, 2), (2, 2), (3, 2), (6, 6), (1, 1), (5, 5), (5, 5), (5, 5), (5, 5), (2, 2), (2, 2), (5, 5), (3, 2), (2, 2), (4, 5), (1, 1), (6, 6), (2, 2), (2, 2), (5, 5), (6, 6), (4, 2), (6, 6), (2, 2), (5, 5), (5, 5), (1, 1), (4, 5), (4, 2), (2, 2), (5, 5), (4, 2), (2, 2), (2, 2), (2, 2), (4, 5), (5, 5), (2, 2), (4, 5), (2, 2), (5, 5), (6, 6), (3, 5), (6, 6), (2, 2), (2, 2), (2, 2), (3, 2), (2, 2), (6, 6), (3, 2), (3, 2), (1, 1), (2, 2), (2, 2), (5, 5), (6, 6), (3, 2), (2, 2), (2, 2), (2, 2), (5, 5), (1, 1), (2, 2), (2, 2), (2, 2), (2, 2), (6, 6), (5, 5), (5, 5), (2, 2), (3, 5), (4, 5), (3, 2), (5, 5), (5, 5), (5, 5), (6, 6), (2, 2), (2, 2), (3, 5), (2, 2), (5, 5), (5, 5), (3, 2), (2, 2), (1, 1), (4, 2), (6, 6), (4, 5), (2, 2), (3, 2), (5, 5), (5, 5), (5, 5), (6, 6), (2, 2), (3, 5), (2, 2), (2, 2), (5, 5), (2, 2), (5, 5), (2, 2), (2, 2), (2, 2), (2, 2), (4, 5), (5, 5), (2, 2), (2, 2), (2, 2), (5, 5), (5, 5), (1, 1), (3, 5), (5, 5), (3, 2), (2, 2), (6, 6), (1, 1), (4, 2), (2, 2), (2, 2), (2, 2), (2, 2), (5, 5), (1, 1), (5, 5), (3, 2), (6, 6), (2, 2), (2, 2), (6, 6), (4, 5), (2, 2), (5, 5), (6, 6), (2, 2), (1, 1), (4, 5), (2, 2), (5, 5), (4, 2), (3, 2), (5, 5), (3, 2), (5, 5), (5, 5), (5, 5), (2, 2), (4, 5), (3, 2), (1, 1), (6, 6), (4, 2), (5, 5), (5, 5), (6, 6), (2, 2), (2, 2), (5, 5), (3, 2), (3, 5), (3, 2), (3, 5), (5, 5), (5, 5), (5, 5), (2, 2), (5, 5), (5, 5), (5, 5), (5, 5), (4, 5), (1, 1), (6, 6), (2, 2), (5, 5), (2, 2), (1, 1), (5, 5), (2, 2), (2, 2), (3, 2), (4, 5), (1, 1), (2, 2), (2, 2), (5, 5), (5, 5), (5, 5), (2, 2), (2, 2), (6, 6), (4, 5), (2, 2), (4, 2), (6, 6), (4, 5), (6, 6), (2, 2), (1, 1), (5, 5), (5, 5), (6, 6), (1, 1), (6, 6), (3, 2), (2, 2), (5, 5), (2, 2), (2, 2), (5, 5), (6, 6), (6, 6), (2, 2), (6, 6), (5, 5), (4, 5), (4, 5), (2, 2), (5, 5), (2, 2), (5, 5), (5, 5), (6, 6), (5, 5), (5, 5), (2, 2), (2, 2), (5, 5), (5, 5), (6, 6), (6, 6), (2, 2), (1, 1), (4, 5), (2, 2), (5, 5), (2, 2), (5, 5), (5, 5), (6, 6), (2, 2), (4, 5), (5, 5), (3, 2), (5, 5), (2, 2), (5, 5), (2, 2), (2, 2), (6, 6), (5, 5), (2, 2), (6, 6), (4, 5), (2, 2), (5, 5), (1, 1), (2, 2), (5, 5), (5, 5), (2, 2), (2, 2), (5, 5), (3, 5), (2, 2), (4, 2), (1, 1), (5, 5), (6, 6), (3, 2), (4, 5), (2, 2), (5, 5), (4, 5), (5, 5), (2, 2), (4, 5), (5, 5), (5, 5), (5, 5), (5, 5), (2, 2), (5, 5), (2, 2), (2, 2), (6, 6), (2, 2), (4, 5), (1, 1), (5, 5), (5, 5), (4, 5), (2, 2), (5, 5), (2, 2), (5, 5), (2, 2), (1, 1), (6, 6), (5, 5), (4, 2), (5, 5), (1, 1), (4, 5), (3, 2), (4, 2), (2, 2), (1, 1), (3, 5), (5, 5), (2, 2), (6, 6), (5, 5), (3, 2), (2, 2), (4, 5), (2, 2), (2, 2), (2, 2), (6, 6), (4, 5), (3, 2), (2, 2), (2, 2), (1, 1), (2, 2), (5, 5), (4, 5), (6, 6), (2, 2), (5, 5), (2, 2), (2, 2), (5, 5), (2, 2), (2, 2), (5, 5), (5, 5), (5, 5), (2, 2), (4, 2), (4, 5), (2, 2), (3, 2), (4, 5), (5, 5), (4, 5), (5, 5), (4, 5), (1, 1), (5, 5), (5, 5), (1, 1), (4, 2), (5, 5), (5, 5), (3, 2), (5, 5), (2, 2), (2, 2), (2, 2), (5, 5), (1, 1), (4, 5), (6, 6), (5, 5), (6, 6), (5, 5), (2, 2), (1, 1), (5, 5), (5, 5), (4, 5), (5, 5), (6, 6), (5, 5), (3, 5), (3, 2), (2, 2), (5, 5), (4, 2), (5, 5), (4, 2), (5, 5), (6, 6), (5, 5), (2, 2), (6, 6), (2, 2), (4, 5), (2, 2), (5, 5), (4, 5), (6, 6), (4, 5), (2, 2), (4, 2), (4, 5), (3, 2), (4, 5), (4, 2), (2, 2), (6, 6), (5, 5), (5, 5), (3, 2), (3, 2), (5, 5), (5, 5), (4, 2), (6, 6), (5, 5), (5, 5), (6, 6), (5, 5), (5, 5), (6, 6), (6, 6), (2, 2), (2, 2), (3, 5), (2, 2), (2, 2), (5, 5), (5, 5), (2, 2), (6, 6), (5, 5), (1, 1), (5, 5), (5, 5), (5, 5), (5, 5), (5, 5), (5, 5), (3, 2), (2, 2), (5, 5), (2, 2), (2, 2), (2, 2), (4, 2), (1, 1), (5, 5), (6, 6), (2, 2), (4, 5), (1, 1), (5, 5), (6, 6), (5, 5), (6, 6), (5, 5), (2, 2), (2, 2), (5, 5), (2, 2), (3, 5), (2, 2), (4, 5), (4, 2), (2, 2), (4, 5), (5, 5), (2, 2), (2, 2), (5, 5), (1, 1), (3, 2), (1, 1), (1, 1), (2, 2), (2, 2), (2, 2), (5, 5), (4, 5), (3, 2), (6, 6), (5, 5), (6, 6), (2, 2), (1, 1), (2, 2), (2, 2), (2, 2), (2, 2), (5, 5), (1, 1), (5, 5), (5, 5), (2, 2), (2, 2), (2, 2), (5, 5), (5, 5), (3, 2), (2, 2), (2, 2), (2, 2), (5, 5), (4, 5), (2, 2), (1, 1), (1, 1), (6, 6), (5, 5), (1, 1), (2, 2), (1, 1), (5, 5), (6, 6), (5, 5), (5, 5), (3, 2), (6, 6), (2, 2), (2, 2), (6, 6), (5, 5), (2, 2), (2, 2), (4, 2), (5, 5), (4, 5), (5, 5), (5, 5), (2, 2), (6, 6), (5, 5), (5, 5), (6, 6), (5, 5), (6, 6), (3, 2), (1, 1), (4, 5), (2, 2), (2, 2), (2, 2), (2, 2), (4, 5), (5, 5), (5, 5), (5, 5), (2, 2), (5, 5), (5, 5), (5, 5), (2, 2), (5, 5), (4, 2), (2, 2), (2, 2), (3, 2), (2, 2), (2, 2), (5, 5), (2, 2), (4, 5), (5, 5), (2, 2), (3, 5), (2, 2), (4, 2), (5, 5), (1, 1), (5, 5), (5, 5), (2, 2), (5, 5), (5, 5), (4, 5), (2, 2), (4, 2), (5, 5), (5, 5), (1, 1), (5, 5), (3, 2), (5, 5), (5, 5), (2, 2), (4, 2), (5, 5), (2, 2), (4, 5), (5, 5), (3, 2), (5, 5), (5, 5), (1, 1), (5, 5), (2, 2), (4, 5), (2, 2), (6, 6), (2, 2), (2, 2), (5, 5), (2, 2), (4, 5), (6, 6), (5, 5), (2, 2), (2, 2), (4, 5), (4, 5), (5, 5), (1, 1), (5, 5), (2, 2), (6, 6), (2, 2), (2, 2), (2, 2), (5, 5), (5, 5), (2, 2), (2, 2), (5, 5), (5, 5), (5, 5), (2, 2), (2, 2), (5, 5), (5, 5), (6, 6), (5, 5), (5, 5), (5, 5), (6, 6), (2, 2), (5, 5), (1, 1), (5, 5), (6, 6), (1, 1), (6, 6), (2, 2), (4, 5), (3, 2), (6, 6), (1, 1), (1, 1), (5, 5), (5, 5), (3, 5), (5, 5), (6, 6), (1, 1), (6, 6), (2, 2), (2, 2), (2, 2), (1, 1), (3, 5), (3, 2), (1, 1), (1, 1), (2, 2), (1, 1), (5, 5), (6, 6), (5, 5), (2, 2), (2, 2), (1, 1), (2, 2), (5, 5), (2, 2), (4, 5), (6, 6), (5, 5), (2, 2), (4, 5), (2, 2), (2, 2), (4, 2), (2, 2), (6, 6), (6, 6), (4, 5), (1, 1), (2, 2), (2, 2), (4, 5), (2, 2), (2, 2), (2, 2), (4, 5), (5, 5), (6, 6), (5, 5), (2, 2), (5, 5), (5, 5), (4, 5), (6, 6), (2, 2), (5, 5), (6, 6), (1, 1), (2, 2), (5, 5), (3, 2), (6, 6), (4, 5), (2, 2), (2, 2), (5, 5), (1, 1), (3, 5), (3, 2), (4, 5), (4, 5), (5, 5), (1, 1), (2, 2), (5, 5), (1, 1), (3, 2), (1, 1), (1, 1), (2, 2), (4, 5), (4, 5), (5, 5), (2, 2), (2, 2), (2, 2), (1, 1), (2, 2), (2, 2), (5, 5), (1, 1), (6, 6), (5, 5), (4, 2), (3, 2), (5, 5), (4, 2), (5, 5), (2, 2), (1, 1), (3, 2), (1, 1), (5, 5), (5, 5), (1, 1), (5, 5), (5, 5), (5, 5), (5, 5), (5, 5), (2, 2), (1, 1), (2, 2), (6, 6), (6, 6), (4, 5), (5, 5), (2, 2), (5, 5), (3, 2), (5, 5), (5, 5), (4, 5), (2, 2), (2, 2), (5, 5), (5, 5), (6, 6), (5, 5), (2, 2), (6, 6), (2, 2), (5, 5), (2, 2), (1, 1), (5, 5), (5, 5), (3, 2), (2, 2), (2, 2), (4, 5), (2, 2), (5, 5), (5, 5), (2, 2), (2, 2), (1, 1), (2, 2), (6, 6), (4, 5), (2, 2), (5, 5), (5, 5), (5, 5), (2, 2), (6, 6), (4, 2), (5, 5), (4, 5), (2, 2), (1, 1), (3, 2), (2, 2), (2, 2), (2, 2), (3, 2), (2, 2), (6, 6), (2, 2), (4, 5), (4, 5), (1, 1), (1, 1), (5, 5), (4, 5), (2, 2), (4, 2), (3, 5), (5, 5), (2, 2), (2, 2), (5, 5), (2, 2), (2, 2), (2, 2), (2, 2), (5, 5), (5, 5), (2, 2), (5, 5), (3, 5), (5, 5), (1, 1), (3, 5), (5, 5), (5, 5), (4, 5), (2, 2), (5, 5), (5, 5), (5, 5), (5, 5), (3, 2), (2, 2), (5, 5), (5, 5), (1, 1), (5, 5), (5, 5), (5, 5), (5, 5), (5, 5), (5, 5), (6, 6), (3, 2), (2, 2), (2, 2), (2, 2), (4, 5), (2, 2), (1, 1), (4, 5), (6, 6), (6, 6), (2, 2), (5, 5), (6, 6), (1, 1), (2, 2), (3, 2), (4, 5), (3, 2), (3, 2), (2, 2), (2, 2), (1, 1), (2, 2), (5, 5), (3, 2), (2, 2), (5, 5), (3, 2), (2, 2), (2, 2), (5, 5), (3, 2), (5, 5), (5, 5), (5, 5), (5, 5), (5, 5), (5, 5), (3, 2), (5, 5), (2, 2), (5, 5), (3, 2), (6, 6), (3, 2), (5, 5), (4, 5), (5, 5), (5, 5), (6, 6), (2, 2), (1, 1), (1, 1), (2, 2), (4, 5), (5, 5), (5, 5), (5, 5), (6, 6), (2, 2), (4, 5), (3, 2), (2, 2), (5, 5), (2, 2), (3, 2), (2, 2), (5, 5), (6, 6), (2, 2), (5, 5), (5, 5), (5, 5), (4, 5), (5, 5), (1, 1), (2, 2), (6, 6), (5, 5), (5, 5), (3, 2), (6, 6), (3, 2), (5, 5), (2, 2), (2, 2), (3, 2), (6, 6), (5, 5), (5, 5), (1, 1), (6, 6), (2, 2), (5, 5), (5, 5), (1, 1), (4, 5), (2, 2), (6, 6), (5, 5), (1, 1), (1, 1), (5, 5), (1, 1), (2, 2), (2, 2), (2, 2), (1, 1), (2, 2), (3, 2), (4, 5), (4, 5), (5, 5), (1, 1), (2, 2), (5, 5), (3, 5), (4, 5), (5, 5), (3, 2), (2, 2), (4, 5), (2, 2), (5, 5), (3, 2), (5, 5), (5, 5), (5, 5), (2, 2), (5, 5), (4, 5), (6, 6), (5, 5), (5, 5), (5, 5), (3, 5), (5, 5), (5, 5), (2, 2), (6, 6), (5, 5), (3, 5), (5, 5), (5, 5), (1, 1), (5, 5), (5, 5), (3, 2), (2, 2), (5, 5), (4, 5), (3, 2), (2, 2), (5, 5), (1, 1), (2, 2), (5, 5), (3, 2), (2, 2), (5, 5), (2, 2), (3, 2), (2, 2), (5, 5), (2, 2), (2, 2), (6, 6), (5, 5), (5, 5), (4, 2), (2, 2), (4, 5), (5, 5), (5, 5), (5, 5), (3, 5), (2, 2), (2, 2), (2, 2), (2, 2), (3, 5), (2, 2), (4, 2), (2, 2), (5, 5), (2, 2), (5, 5), (5, 5), (1, 1), (1, 1), (2, 2), (2, 2), (2, 2), (1, 1), (3, 2), (5, 5), (5, 5), (3, 2), (6, 6), (6, 6), (2, 2), (5, 5), (5, 5), (5, 5), (2, 2), (2, 2), (1, 1), (5, 5), (6, 6), (5, 5), (2, 2), (5, 5), (5, 5), (5, 5), (6, 6), (5, 5), (6, 6), (5, 5), (2, 2), (5, 5), (2, 2), (6, 6), (4, 5), (4, 5), (5, 5), (5, 5), (2, 2), (3, 5), (2, 2), (5, 5), (2, 2), (3, 2), (2, 2), (5, 5), (3, 2), (4, 5), (4, 5), (5, 5), (2, 2), (2, 2), (5, 5), (5, 5), (1, 1), (2, 2), (2, 2), (5, 5), (6, 6), (5, 5), (2, 2), (4, 5), (2, 2), (5, 5), (2, 2), (6, 6), (6, 6), (2, 2), (4, 5), (2, 2), (2, 2), (2, 2), (2, 2), (2, 2), (2, 2), (2, 2), (2, 2), (5, 5), (4, 2), (6, 6), (5, 5), (4, 5), (6, 6), (4, 2), (1, 1), (1, 1), (2, 2), (4, 5), (3, 2), (2, 2), (2, 2), (2, 2), (4, 5), (1, 1), (4, 2), (2, 2), (5, 5), (6, 6), (2, 2), (1, 1), (5, 5), (5, 5), (2, 2), (2, 2), (2, 2), (4, 2), (2, 2), (5, 5), (2, 2), (2, 2), (5, 5), (5, 5), (5, 5), (4, 2), (6, 6), (5, 5), (5, 5), (4, 5), (3, 2), (1, 1), (4, 5), (1, 1), (5, 5), (1, 1), (2, 2), (2, 2), (5, 5), (6, 6), (5, 5), (5, 5), (1, 1), (2, 2), (4, 5), (2, 2), (5, 5), (5, 5), (5, 5), (5, 5), (4, 5), (3, 5), (1, 1), (2, 2), (5, 5), (5, 5), (6, 6), (2, 2), (2, 2), (5, 5), (2, 2), (1, 1), (5, 5), (6, 6), (2, 2), (6, 6), (6, 6), (4, 5), (2, 2), (5, 5), (5, 5), (4, 5), (4, 5), (6, 6), (4, 5), (2, 2), (2, 2), (5, 5), (2, 2), (2, 2), (2, 2), (5, 5), (4, 5), (5, 5), (2, 2), (2, 2), (5, 5), (2, 2), (6, 6), (5, 5), (2, 2), (2, 2), (4, 2), (6, 6), (5, 5), (5, 5), (4, 5), (1, 1), (6, 6), (2, 2), (4, 5), (6, 6), (1, 1), (5, 5), (5, 5), (2, 2), (3, 2), (2, 2), (4, 5), (2, 2), (5, 5), (2, 2), (2, 2), (6, 6), (5, 5), (5, 5), (2, 2), (2, 2), (2, 2), (5, 5), (6, 6), (2, 2), (4, 2), (1, 1), (3, 2), (2, 2), (1, 1), (2, 2), (5, 5), (6, 6), (2, 2), (6, 6), (2, 2), (2, 2), (5, 5), (4, 5), (5, 5), (5, 5), (5, 5), (2, 2), (5, 5), (4, 5), (6, 6), (2, 2), (4, 5), (2, 2), (4, 5), (2, 2), (2, 2), (5, 5), (6, 6), (2, 2), (6, 6), (2, 2), (4, 2), (5, 5), (6, 6), (4, 2), (6, 6), (6, 6), (5, 5), (1, 1), (1, 1), (1, 1), (5, 5), (5, 5), (2, 2), (4, 5), (5, 5), (2, 2), (2, 2), (2, 2), (2, 2), (2, 2), (4, 5), (2, 2), (2, 2), (5, 5), (1, 1), (3, 2), (2, 2), (5, 5), (2, 2), (2, 2), (5, 5), (5, 5), (4, 5), (5, 5), (3, 2), (5, 5), (4, 2), (5, 5), (5, 5), (5, 5), (2, 2), (5, 5), (6, 6), (2, 2), (5, 5), (4, 5), (1, 1), (2, 2), (1, 1), (3, 2), (5, 5), (3, 2), (5, 5), (3, 2), (4, 5), (5, 5), (2, 2), (5, 5), (4, 5), (4, 5), (5, 5), (5, 5), (1, 1), (1, 1), (2, 2), (2, 2), (1, 1), (5, 5), (4, 5), (2, 2), (6, 6), (2, 2), (1, 1), (2, 2), (6, 6), (4, 5), (2, 2), (6, 6), (2, 2), (2, 2), (6, 6), (5, 5), (5, 5), (5, 5), (2, 2), (3, 2), (5, 5), (6, 6), (2, 2), (5, 5), (5, 5), (4, 2), (2, 2), (4, 5), (5, 5), (6, 6), (5, 5), (2, 2), (6, 6), (2, 2), (1, 1), (1, 1), (2, 2), (2, 2), (6, 6), (1, 1), (5, 5), (4, 5), (2, 2), (2, 2), (2, 2), (1, 1), (5, 5), (6, 6), (6, 6), (2, 2), (4, 5), (2, 2), (2, 2), (3, 5), (2, 2), (5, 5), (2, 2), (5, 5), (5, 5), (3, 2), (1, 1), (6, 6), (5, 5), (2, 2), (5, 5), (5, 5), (4, 5), (2, 2), (4, 5), (3, 2), (6, 6), (6, 6), (2, 2), (3, 2), (5, 5), (2, 2), (4, 5), (4, 5), (6, 6), (2, 2), (5, 5), (5, 5), (2, 2), (2, 2), (4, 5), (3, 2), (4, 5), (2, 2), (2, 2), (2, 2), (2, 2), (2, 2), (5, 5), (2, 2), (5, 5), (2, 2), (5, 5), (2, 2), (2, 2), (5, 5), (2, 2), (3, 2), (4, 5), (5, 5), (2, 2), (5, 5), (6, 6), (5, 5), (2, 2), (4, 5), (5, 5), (2, 2), (5, 5), (5, 5), (2, 2), (3, 2), (5, 5), (5, 5), (5, 5), (2, 2), (1, 1), (2, 2), (5, 5), (2, 2), (5, 5), (2, 2), (2, 2), (3, 2), (5, 5), (5, 5), (2, 2), (5, 5), (6, 6), (5, 5), (3, 2), (2, 2), (6, 6), (6, 6), (6, 6), (5, 5), (4, 5), (4, 5), (3, 5), (2, 2), (1, 1), (6, 6), (2, 2), (5, 5), (4, 5), (1, 1), (1, 1), (5, 5), (5, 5), (5, 5), (5, 5), (2, 2), (5, 5), (3, 2), (1, 1), (5, 5), (2, 2), (5, 5), (6, 6), (2, 2), (5, 5), (2, 2), (2, 2), (5, 5), (2, 2), (1, 1), (2, 2), (1, 1), (3, 2), (2, 2), (5, 5), (6, 6), (5, 5), (4, 5), (6, 6), (3, 2), (5, 5), (2, 2), (6, 6), (3, 5), (5, 5), (3, 2), (2, 2), (5, 5), (5, 5), (2, 2), (5, 5), (5, 5), (6, 6), (5, 5), (2, 2), (5, 5), (5, 5), (3, 2), (1, 1), (2, 2), (6, 6), (3, 2), (1, 1), (5, 5), (5, 5), (1, 1), (3, 5), (5, 5), (6, 6), (2, 2), (1, 1), (6, 6), (2, 2), (6, 6), (3, 2), (2, 2), (2, 2), (2, 2), (6, 6), (2, 2), (5, 5), (5, 5), (5, 5), (5, 5), (6, 6), (5, 5), (1, 1), (1, 1), (2, 2), (5, 5), (3, 5), (4, 5), (2, 2), (6, 6), (2, 2), (5, 5), (5, 5), (1, 1), (4, 5), (2, 2), (6, 6), (3, 5), (2, 2), (4, 5), (3, 2), (4, 2), (1, 1), (1, 1), (5, 5), (6, 6), (5, 5), (3, 2), (5, 5), (4, 2), (3, 2), (6, 6), (2, 2), (4, 5), (2, 2), (5, 5), (2, 2), (5, 5), (3, 2), (6, 6), (5, 5), (5, 5), (5, 5), (6, 6), (5, 5), (5, 5), (2, 2), (2, 2), (4, 5), (1, 1), (4, 5), (1, 1), (3, 2), (3, 2), (6, 6), (2, 2), (6, 6), (5, 5), (2, 2), (2, 2), (5, 5), (5, 5), (1, 1), (2, 2), (6, 6), (2, 2), (3, 2), (5, 5), (4, 5), (3, 2), (4, 5), (2, 2), (2, 2), (6, 6), (5, 5), (5, 5), (2, 2), (2, 2), (3, 5), (6, 6), (4, 5), (1, 1), (5, 5), (3, 2), (5, 5), (2, 2), (2, 2), (6, 6), (4, 5), (3, 2), (3, 2), (1, 1), (3, 2), (5, 5), (5, 5), (1, 1), (2, 2), (2, 2), (4, 5), (4, 5), (2, 2), (5, 5), (3, 2), (2, 2), (6, 6), (5, 5), (2, 2), (6, 6), (3, 2), (6, 6), (2, 2), (4, 5), (5, 5), (5, 5), (4, 5), (2, 2), (4, 5), (6, 6), (6, 6), (2, 2), (2, 2), (3, 2), (5, 5), (3, 2), (2, 2), (6, 6), (2, 2), (6, 6), (4, 5), (5, 5), (2, 2), (3, 2), (1, 1), (2, 2), (5, 5), (2, 2), (4, 5), (5, 5), (2, 2), (5, 5), (5, 5), (1, 1), (4, 5), (2, 2), (2, 2), (1, 1), (5, 5), (3, 5), (5, 5), (5, 5), (2, 2), (4, 5), (2, 2), (6, 6), (2, 2), (5, 5), (2, 2), (5, 5), (6, 6), (1, 1), (2, 2), (6, 6), (2, 2), (2, 2), (1, 1), (5, 5), (1, 1), (6, 6), (6, 6), (5, 5), (4, 5), (3, 5), (2, 2), (5, 5), (1, 1), (6, 6), (5, 5), (5, 5), (3, 2), (2, 2), (1, 1), (1, 1), (3, 2), (1, 1), (4, 5), (5, 5), (5, 5), (5, 5), (2, 2), (5, 5), (4, 2), (5, 5), (4, 5), (5, 5), (2, 2), (6, 6), (6, 6), (2, 2), (5, 5), (5, 5), (2, 2), (2, 2), (2, 2), (6, 6), (2, 2), (4, 5), (2, 2), (2, 2), (2, 2), (5, 5), (1, 1), (5, 5), (6, 6), (4, 5), (2, 2), (4, 5), (5, 5), (5, 5), (6, 6), (2, 2), (4, 5), (3, 2), (4, 5), (2, 2), (3, 2), (3, 2), (3, 5), (5, 5), (2, 2), (5, 5), (5, 5), (5, 5), (2, 2), (3, 2), (2, 2), (5, 5), (1, 1), (3, 2), (3, 2), (1, 1), (6, 6), (2, 2), (3, 2), (5, 5), (2, 2), (5, 5), (5, 5), (6, 6), (6, 6), (6, 6), (3, 2), (4, 5), (5, 5), (2, 2), (4, 2), (2, 2), (1, 1), (5, 5), (5, 5), (2, 2), (6, 6), (2, 2), (5, 5), (2, 2), (5, 5), (5, 5), (5, 5), (6, 6), (5, 5), (5, 5), (5, 5), (5, 5), (2, 2), (6, 6), (2, 2), (5, 5), (5, 5), (4, 2), (5, 5), (2, 2), (2, 2), (5, 5), (2, 2), (2, 2), (2, 2), (5, 5), (2, 2), (3, 2), (5, 5), (4, 5), (5, 5), (1, 1), (2, 2), (5, 5), (4, 5), (1, 1), (3, 5), (5, 5), (4, 5), (4, 2), (6, 6), (4, 2), (2, 2), (2, 2), (2, 2), (5, 5), (5, 5), (6, 6), (4, 5), (3, 2), (1, 1), (1, 1), (2, 2), (2, 2), (3, 5), (2, 2), (5, 5), (1, 1), (2, 2), (3, 5), (2, 2), (1, 1), (5, 5), (2, 2), (2, 2), (5, 5), (2, 2), (1, 1), (4, 5), (5, 5), (1, 1), (5, 5), (1, 1), (2, 2), (2, 2), (5, 5), (2, 2), (4, 5), (3, 2), (1, 1), (5, 5), (2, 2), (2, 2), (5, 5), (2, 2), (5, 5), (5, 5), (1, 1), (5, 5), (2, 2), (2, 2), (5, 5), (4, 5), (3, 2), (5, 5), (2, 2), (2, 2), (2, 2), (2, 2), (2, 2), (1, 1), (5, 5), (5, 5), (4, 5), (2, 2), (5, 5), (5, 5), (2, 2), (5, 5), (2, 2), (2, 2), (1, 1), (6, 6), (6, 6), (1, 1), (2, 2), (6, 6), (2, 2), (5, 5), (1, 1), (2, 2), (6, 6), (5, 5), (2, 2), (5, 5), (5, 5), (4, 5), (2, 2), (6, 6), (6, 6), (5, 5), (6, 6), (1, 1), (4, 2), (4, 5), (5, 5), (5, 5), (4, 5), (5, 5), (6, 6), (3, 2), (1, 1), (2, 2), (6, 6), (5, 5), (5, 5), (1, 1), (2, 2), (2, 2), (5, 5), (1, 1), (1, 1), (2, 2), (1, 1), (5, 5), (4, 2), (2, 2), (2, 2), (2, 2), (2, 2), (2, 2), (2, 2), (2, 2), (2, 2), (4, 5), (2, 2), (5, 5), (5, 5), (6, 6), (6, 6), (2, 2), (5, 5), (5, 5), (5, 5), (1, 1), (5, 5), (2, 2), (1, 1), (5, 5), (5, 5), (5, 5), (5, 5), (4, 5), (2, 2), (6, 6), (5, 5), (3, 2), (4, 5), (4, 5), (2, 2), (2, 2), (3, 2), (5, 5), (6, 6), (2, 2), (5, 5), (6, 6), (5, 5), (6, 6), (3, 2), (6, 6), (5, 5), (6, 6), (2, 2), (5, 5), (5, 5), (5, 5), (5, 5), (2, 2), (1, 1), (1, 1), (5, 5), (2, 2), (4, 5), (5, 5), (3, 2), (2, 2), (6, 6), (2, 2), (2, 2), (2, 2), (1, 1), (5, 5), (2, 2), (2, 2), (3, 5), (6, 6), (2, 2), (5, 5), (4, 5), (5, 5), (1, 1), (6, 6), (5, 5), (5, 5), (2, 2), (3, 2), (6, 6), (5, 5), (3, 2), (5, 5), (2, 2), (5, 5), (6, 6), (6, 6), (2, 2), (5, 5), (1, 1), (5, 5), (5, 5), (2, 2), (5, 5), (6, 6), (2, 2), (2, 2), (5, 5), (5, 5), (3, 5), (6, 6), (5, 5), (5, 5), (5, 5), (1, 1), (2, 2), (6, 6), (2, 2), (2, 2), (5, 5), (3, 5), (1, 1), (5, 5), (1, 1), (4, 5), (1, 1), (2, 2), (4, 5), (3, 2), (2, 2), (2, 2), (6, 6), (3, 2), (5, 5), (5, 5), (2, 2), (5, 5), (2, 2), (3, 2), (5, 5), (2, 2), (5, 5), (2, 2), (4, 5), (2, 2), (5, 5), (6, 6), (2, 2), (5, 5), (2, 2), (5, 5), (2, 2), (5, 5), (4, 5), (2, 2), (3, 2), (5, 5), (1, 1), (5, 5), (5, 5), (5, 5), (2, 2), (2, 2), (6, 6), (1, 1), (5, 5), (3, 2), (6, 6), (3, 2), (1, 1), (5, 5), (4, 5), (5, 5), (2, 2), (5, 5), (5, 5), (5, 5), (5, 5), (6, 6), (5, 5), (2, 2), (2, 2), (2, 2), (2, 2), (4, 5), (4, 5), (5, 5), (5, 5), (5, 5), (2, 2), (2, 2), (5, 5), (2, 2), (2, 2), (4, 5), (2, 2), (5, 5), (1, 1), (3, 5), (5, 5), (5, 5), (1, 1), (2, 2), (6, 6), (2, 2), (5, 5), (6, 6), (5, 5), (5, 5), (5, 5), (4, 2), (4, 5), (2, 2), (4, 5), (4, 5), (5, 5), (6, 6), (5, 5), (3, 2), (6, 6), (1, 1), (5, 5), (5, 5), (2, 2), (5, 5), (1, 1), (5, 5), (2, 2), (2, 2), (6, 6), (5, 5), (2, 2), (2, 2), (5, 5), (6, 6), (5, 5), (6, 6), (1, 1), (6, 6), (2, 2), (1, 1), (4, 5), (5, 5), (3, 5), (1, 1), (5, 5), (1, 1), (1, 1), (2, 2), (5, 5), (5, 5), (1, 1), (1, 1), (3, 2), (3, 2), (5, 5), (5, 5), (1, 1), (1, 1), (2, 2), (1, 1), (6, 6), (1, 1), (4, 5), (2, 2), (6, 6), (3, 2), (4, 5), (4, 5), (5, 5), (2, 2), (5, 5), (3, 5), (1, 1), (5, 5), (4, 5), (2, 2), (6, 6), (5, 5), (5, 5), (5, 5), (2, 2), (1, 1), (4, 5), (3, 2), (4, 5), (4, 2), (4, 2), (2, 2), (5, 5), (1, 1), (2, 2), (2, 2), (5, 5), (5, 5), (2, 2), (4, 5), (4, 5), (1, 1), (5, 5), (4, 2), (2, 2), (5, 5), (2, 2), (5, 5), (5, 5), (1, 1), (3, 2), (5, 5), (1, 1), (5, 5), (5, 5), (4, 5), (2, 2), (4, 5), (5, 5), (5, 5), (4, 2), (1, 1), (5, 5), (2, 2), (4, 5), (5, 5), (4, 5), (5, 5), (5, 5), (2, 2), (6, 6), (6, 6), (2, 2), (5, 5), (2, 2), (6, 6), (4, 5), (2, 2), (6, 6), (2, 2), (5, 5), (4, 2), (4, 5), (5, 5), (4, 5), (2, 2), (1, 1), (2, 2), (5, 5), (5, 5), (5, 5), (3, 2), (5, 5), (5, 5), (5, 5), (5, 5), (1, 1), (3, 2), (2, 2), (5, 5), (5, 5), (5, 5), (6, 6), (5, 5), (2, 2), (2, 2), (4, 5), (5, 5), (1, 1), (3, 2), (6, 6), (5, 5), (2, 2), (4, 5), (6, 6), (2, 2), (5, 5), (5, 5), (3, 2), (4, 5), (6, 6), (4, 2), (2, 2), (5, 5), (2, 2), (4, 5), (5, 5), (5, 5), (5, 5), (2, 2), (4, 2), (5, 5), (5, 5), (5, 5), (5, 5), (1, 1), (4, 5), (3, 2), (4, 2), (6, 6), (5, 5), (2, 2), (5, 5), (5, 5), (2, 2), (2, 2), (5, 5), (4, 5), (2, 2), (5, 5), (2, 2), (5, 5), (2, 2), (2, 2), (6, 6), (5, 5), (5, 5), (4, 2), (5, 5), (5, 5), (2, 2), (5, 5), (6, 6), (5, 5), (6, 6), (2, 2), (3, 2), (4, 5), (5, 5), (2, 2), (1, 1), (4, 5), (5, 5), (1, 1), (2, 2), (6, 6), (2, 2), (4, 5), (3, 5), (2, 2), (5, 5), (5, 5), (2, 2), (6, 6), (5, 5), (5, 5), (4, 5), (2, 2), (2, 2), (5, 5), (5, 5), (5, 5), (5, 5), (2, 2), (3, 2), (1, 1), (6, 6), (5, 5), (5, 5), (5, 5), (5, 5), (3, 2), (5, 5), (5, 5), (1, 1), (3, 2), (2, 2), (2, 2), (5, 5), (2, 2), (4, 5), (1, 1), (5, 5), (2, 2), (5, 5), (6, 6), (5, 5), (2, 2), (5, 5), (6, 6), (5, 5), (2, 2), (5, 5), (6, 6), (6, 6), (3, 2), (5, 5), (5, 5), (3, 2), (2, 2), (2, 2), (5, 5), (5, 5), (4, 5), (4, 2), (5, 5), (2, 2), (6, 6), (2, 2), (5, 5), (2, 2), (5, 5), (2, 2), (5, 5), (4, 5), (2, 2), (1, 1), (5, 5), (3, 2), (5, 5), (1, 1), (5, 5), (5, 5), (5, 5), (4, 5), (5, 5), (5, 5), (2, 2), (5, 5), (4, 5), (1, 1), (5, 5), (5, 5), (1, 1), (6, 6), (3, 2), (4, 5), (4, 2), (2, 2), (1, 1), (3, 2), (1, 1), (1, 1), (6, 6), (2, 2), (2, 2), (2, 2), (5, 5), (6, 6), (5, 5), (2, 2), (5, 5), (5, 5), (6, 6), (2, 2), (5, 5), (2, 2), (2, 2), (2, 2), (5, 5), (6, 6), (2, 2), (6, 6), (2, 2), (2, 2), (5, 5), (5, 5), (1, 1), (6, 6), (1, 1), (2, 2), (2, 2), (2, 2), (4, 5), (5, 5), (2, 2), (4, 5), (5, 5), (3, 2), (2, 2), (1, 1), (5, 5), (2, 2), (4, 5), (5, 5), (2, 2), (5, 5), (3, 5), (5, 5), (2, 2), (5, 5), (4, 5), (5, 5), (6, 6), (1, 1), (5, 5), (5, 5), (2, 2), (4, 5), (5, 5), (3, 2), (1, 1), (2, 2), (2, 2), (4, 5), (1, 1), (2, 2), (6, 6), (2, 2), (1, 1), (2, 2), (3, 5), (1, 1), (5, 5), (5, 5), (2, 2), (5, 5), (4, 5), (5, 5), (1, 1), (5, 5), (5, 5), (5, 5), (2, 2), (1, 1), (2, 2), (5, 5), (2, 2), (2, 2), (5, 5), (5, 5), (5, 5), (5, 5), (2, 2), (5, 5), (4, 5), (5, 5), (2, 2), (2, 2), (2, 2), (2, 2), (6, 6), (2, 2), (2, 2), (2, 2), (6, 6), (6, 6), (2, 2), (2, 2), (6, 6), (2, 2), (1, 1), (6, 6), (4, 2), (4, 5), (6, 6), (2, 2), (4, 5), (3, 5), (1, 1), (2, 2), (4, 5), (6, 6), (2, 2), (1, 1), (4, 5), (4, 5), (2, 2), (5, 5), (6, 6), (4, 5), (2, 2), (2, 2), (3, 2), (5, 5), (4, 5), (3, 5), (4, 5), (2, 2), (5, 5), (4, 2), (5, 5), (4, 5), (6, 6), (2, 2), (2, 2), (5, 5), (5, 5), (1, 1), (1, 1), (4, 5), (2, 2), (1, 1), (5, 5), (5, 5), (2, 2), (1, 1), (2, 2), (4, 2), (4, 5), (6, 6), (2, 2), (3, 2), (2, 2), (5, 5), (2, 2), (4, 5), (5, 5), (1, 1), (2, 2), (5, 5), (5, 5), (5, 5), (2, 2), (3, 5), (5, 5), (5, 5), (2, 2), (5, 5), (6, 6), (4, 2), (4, 5), (2, 2), (2, 2), (2, 2), (1, 1), (2, 2), (2, 2), (2, 2), (4, 5), (3, 5), (5, 5), (5, 5), (2, 2), (4, 5), (2, 2), (2, 2), (4, 5), (6, 6), (2, 2), (3, 2), (1, 1), (5, 5), (6, 6), (1, 1), (1, 1), (4, 5), (2, 2), (5, 5), (2, 2), (3, 5), (2, 2), (1, 1), (2, 2), (6, 6), (5, 5), (2, 2), (4, 2), (3, 2), (2, 2), (6, 6), (5, 5), (1, 1), (2, 2), (2, 2), (5, 5), (6, 6), (5, 5), (6, 6), (2, 2), (4, 5), (5, 5), (4, 5), (5, 5), (2, 2), (2, 2), (5, 5), (5, 5), (3, 5), (4, 2), (5, 5), (5, 5), (1, 1), (6, 6), (2, 2), (5, 5), (5, 5), (2, 2), (1, 1), (3, 2), (3, 2), (5, 5), (5, 5), (5, 5), (5, 5), (5, 5), (5, 5), (2, 2), (5, 5), (2, 2), (5, 5), (6, 6), (4, 2), (1, 1), (5, 5), (4, 5), (2, 2), (5, 5), (4, 2), (3, 2), (6, 6), (2, 2), (2, 2), (2, 2), (1, 1), (2, 2), (5, 5), (2, 2), (5, 5), (5, 5), (1, 1), (5, 5), (2, 2), (6, 6), (2, 2), (6, 6), (2, 2), (2, 2), (1, 1), (2, 2), (6, 6), (6, 6), (1, 1), (6, 6), (1, 1), (2, 2), (2, 2), (4, 2), (5, 5), (1, 1), (2, 2), (2, 2), (5, 5), (1, 1), (5, 5), (5, 5), (3, 2), (2, 2), (5, 5), (3, 5), (3, 2), (5, 5), (4, 2), (3, 2), (3, 2), (5, 5), (5, 5), (5, 5), (5, 5), (5, 5), (5, 5), (5, 5), (2, 2), (2, 2), (4, 5), (6, 6), (5, 5), (5, 5), (1, 1), (5, 5), (2, 2), (1, 1), (2, 2), (5, 5), (2, 2), (5, 5), (1, 1), (1, 1), (3, 2), (5, 5), (5, 5), (2, 2), (2, 2), (5, 5), (6, 6), (2, 2), (5, 5), (4, 2), (5, 5), (2, 2), (3, 2), (6, 6), (1, 1), (4, 5), (1, 1), (5, 5), (3, 5), (5, 5), (2, 2), (5, 5), (5, 5), (6, 6), (2, 2), (2, 2), (5, 5), (1, 1), (4, 5), (5, 5), (6, 6), (2, 2), (1, 1), (6, 6), (4, 5), (2, 2), (2, 2), (5, 5), (6, 6), (6, 6), (6, 6), (2, 2), (5, 5), (2, 2), (2, 2), (6, 6), (2, 2), (1, 1), (5, 5), (6, 6), (5, 5), (2, 2), (5, 5), (2, 2), (4, 5), (5, 5), (5, 5), (2, 2), (6, 6), (2, 2), (5, 5), (1, 1), (2, 2), (5, 5), (6, 6), (1, 1), (4, 2), (6, 6), (2, 2), (3, 2), (4, 5), (3, 2), (5, 5), (2, 2), (5, 5), (3, 5), (2, 2), (5, 5), (6, 6), (2, 2), (5, 5), (5, 5), (3, 2), (1, 1), (5, 5), (6, 6), (4, 5), (5, 5), (4, 5), (2, 2), (5, 5), (4, 5), (5, 5), (5, 5), (5, 5), (2, 2), (2, 2), (5, 5), (3, 2), (2, 2), (1, 1), (5, 5), (2, 2), (4, 5), (5, 5), (2, 2), (5, 5), (5, 5), (6, 6), (2, 2), (2, 2), (2, 2), (3, 5), (4, 2), (2, 2), (6, 6), (2, 2), (2, 2), (6, 6), (6, 6), (2, 2), (3, 2), (5, 5), (4, 5), (1, 1), (2, 2), (3, 5), (5, 5), (5, 5), (4, 5), (5, 5), (5, 5), (6, 6), (6, 6), (4, 5), (5, 5), (2, 2), (1, 1), (2, 2), (5, 5), (5, 5), (4, 5), (5, 5), (1, 1), (2, 2), (5, 5), (3, 2), (3, 5), (5, 5), (5, 5), (2, 2), (2, 2), (2, 2), (6, 6), (5, 5), (3, 2), (5, 5), (2, 2), (2, 2), (5, 5), (4, 2), (5, 5), (5, 5), (5, 5), (6, 6), (2, 2), (4, 5), (2, 2), (2, 2), (5, 5), (5, 5), (5, 5), (2, 2), (3, 2), (5, 5), (5, 5), (4, 5), (1, 1), (2, 2), (5, 5), (5, 5), (5, 5), (4, 5), (5, 5), (1, 1), (2, 2), (4, 2), (6, 6), (5, 5), (5, 5), (4, 5), (5, 5), (5, 5), (4, 5), (5, 5), (4, 5), (4, 5), (2, 2), (5, 5), (3, 2), (5, 5), (5, 5), (2, 2), (5, 5), (5, 5), (2, 2), (1, 1), (4, 2), (5, 5), (3, 2), (1, 1), (5, 5), (2, 2), (5, 5), (4, 2), (4, 2), (5, 5), (4, 5), (2, 2), (2, 2), (5, 5), (4, 5), (3, 5), (4, 5), (1, 1), (5, 5), (1, 1), (6, 6), (3, 2), (1, 1), (5, 5), (5, 5), (3, 2), (3, 2), (2, 2), (1, 1), (5, 5), (5, 5), (4, 2), (2, 2), (4, 5), (5, 5), (5, 5), (6, 6), (4, 5), (5, 5), (2, 2), (2, 2), (2, 2), (5, 5), (2, 2), (4, 5), (5, 5), (2, 2), (6, 6), (1, 1), (1, 1), (1, 1), (4, 5), (5, 5), (2, 2), (2, 2), (5, 5), (5, 5), (3, 2), (1, 1), (6, 6), (6, 6), (5, 5), (1, 1), (2, 2), (6, 6), (6, 6), (3, 2), (6, 6), (6, 6), (2, 2), (5, 5), (6, 6), (1, 1), (5, 5), (5, 5), (2, 2), (2, 2), (2, 2), (3, 2), (2, 2), (2, 2), (3, 2), (6, 6), (6, 6), (2, 2), (3, 2), (5, 5), (5, 5), (1, 1), (3, 2), (6, 6), (5, 5), (3, 2), (6, 6), (4, 5), (2, 2), (5, 5), (6, 6), (5, 5), (2, 2), (6, 6), (2, 2), (1, 1), (6, 6), (2, 2), (5, 5), (4, 5), (5, 5), (3, 2), (2, 2), (6, 6), (5, 5), (5, 5), (5, 5), (4, 2), (5, 5), (2, 2), (5, 5), (5, 5), (6, 6), (5, 5), (5, 5), (3, 2), (2, 2), (5, 5), (5, 5), (6, 6), (4, 5), (1, 1), (4, 5), (1, 1), (5, 5), (3, 2), (4, 5), (1, 1), (5, 5), (5, 5), (2, 2), (2, 2), (6, 6), (5, 5), (2, 2), (6, 6), (5, 5), (5, 5), (6, 6), (3, 5), (1, 1), (5, 5), (3, 5), (2, 2), (5, 5), (3, 2), (1, 1), (6, 6), (6, 6), (1, 1), (3, 2), (5, 5), (3, 2), (4, 2), (2, 2), (3, 2), (1, 1), (2, 2), (4, 5), (5, 5), (2, 2), (2, 2), (5, 5), (6, 6), (5, 5), (2, 2), (6, 6), (5, 5), (5, 5), (5, 5), (3, 2), (6, 6), (5, 5), (5, 5), (5, 5), (2, 2), (5, 5), (5, 5), (5, 5), (2, 2), (5, 5), (1, 1), (5, 5), (2, 2), (5, 5), (2, 2), (5, 5), (1, 1), (2, 2), (2, 2), (1, 1), (1, 1), (5, 5), (5, 5), (5, 5), (1, 1), (2, 2), (1, 1), (2, 2), (6, 6), (4, 5), (3, 2), (1, 1), (4, 5), (4, 5), (5, 5), (4, 2), (1, 1), (5, 5), (2, 2), (5, 5), (2, 2), (5, 5), (3, 2), (5, 5), (6, 6), (2, 2), (2, 2), (5, 5), (2, 2), (4, 2), (4, 5), (5, 5), (5, 5), (2, 2), (5, 5), (2, 2), (5, 5), (5, 5), (2, 2), (1, 1), (5, 5), (2, 2), (2, 2), (2, 2), (2, 2), (3, 2), (2, 2), (5, 5), (1, 1), (5, 5), (4, 5), (1, 1), (4, 5), (5, 5), (5, 5), (3, 2), (4, 5), (5, 5), (5, 5), (4, 5), (1, 1), (5, 5), (2, 2), (2, 2), (2, 2), (1, 1), (3, 2), (4, 2), (5, 5), (4, 5), (6, 6), (5, 5), (5, 5), (5, 5), (2, 2), (2, 2), (4, 5), (5, 5), (5, 5), (5, 5), (2, 2), (6, 6), (1, 1), (2, 2), (2, 2), (2, 2), (2, 2), (2, 2), (2, 2), (5, 5), (5, 5), (2, 2), (6, 6), (4, 2), (2, 2), (1, 1), (5, 5), (2, 2), (2, 2), (5, 5), (5, 5), (4, 5), (6, 6), (4, 2), (4, 5), (4, 5), (5, 5), (5, 5), (5, 5), (4, 5), (3, 2), (4, 5), (1, 1), (6, 6), (6, 6), (4, 5), (5, 5), (6, 6), (1, 1), (6, 6), (1, 1), (5, 5), (1, 1), (5, 5), (5, 5), (4, 2), (5, 5), (2, 2), (2, 2), (6, 6), (2, 2), (2, 2), (3, 5), (4, 5), (2, 2), (6, 6), (5, 5), (4, 5), (1, 1), (2, 2), (2, 2), (4, 5), (3, 5), (2, 2), (5, 5), (2, 2), (5, 5), (5, 5), (2, 2), (6, 6), (5, 5), (3, 2), (4, 2), (5, 5), (5, 5), (4, 5), (5, 5), (4, 5), (5, 5), (5, 5), (1, 1), (2, 2), (5, 5), (5, 5), (3, 2), (5, 5), (2, 2), (2, 2), (5, 5), (1, 1), (1, 1), (5, 5), (1, 1), (2, 2), (3, 2), (2, 2), (4, 5), (1, 1), (4, 5), (4, 5), (2, 2), (5, 5), (6, 6), (3, 2), (1, 1), (2, 2), (3, 2), (6, 6), (4, 5), (2, 2), (2, 2), (5, 5), (3, 2), (6, 6), (1, 1), (3, 2), (5, 5), (2, 2), (4, 5), (6, 6), (3, 2), (1, 1), (6, 6), (2, 2), (6, 6), (1, 1), (2, 2), (5, 5), (6, 6), (5, 5), (4, 5), (5, 5), (4, 2), (6, 6), (1, 1), (2, 2), (5, 5), (5, 5), (2, 2), (2, 2), (5, 5), (2, 2), (2, 2), (2, 2), (5, 5), (4, 5), (4, 5), (2, 2), (2, 2), (2, 2), (3, 2), (1, 1), (4, 5), (5, 5), (6, 6), (3, 5), (5, 5), (2, 2), (3, 2), (5, 5), (2, 2), (5, 5), (1, 1), (3, 2), (6, 6), (5, 5), (6, 6), (5, 5), (2, 2), (5, 5), (5, 5), (3, 5), (6, 6), (1, 1), (2, 2), (2, 2), (1, 1), (4, 5), (5, 5), (2, 2), (6, 6), (2, 2), (5, 5), (4, 5), (5, 5), (2, 2), (2, 2), (1, 1), (2, 2), (3, 2), (5, 5), (2, 2), (5, 5), (5, 5), (6, 6), (2, 2), (5, 5), (1, 1), (4, 5), (4, 2), (1, 1), (3, 2), (5, 5), (2, 2), (5, 5), (5, 5), (6, 6), (5, 5), (2, 2), (6, 6), (1, 1), (3, 2), (2, 2), (5, 5), (4, 2), (6, 6), (5, 5), (5, 5), (2, 2), (5, 5), (1, 1), (5, 5), (4, 2), (4, 2), (5, 5), (6, 6), (2, 2), (2, 2), (5, 5), (1, 1), (5, 5), (1, 1), (2, 2), (5, 5), (2, 2), (1, 1), (1, 1), (1, 1), (5, 5), (2, 2), (5, 5), (1, 1), (5, 5), (5, 5), (2, 2), (6, 6), (4, 5), (5, 5), (2, 2), (3, 2), (6, 6), (5, 5), (3, 2), (6, 6), (5, 5), (1, 1), (2, 2), (4, 5), (5, 5), (2, 2), (3, 5), (5, 5), (5, 5), (2, 2), (4, 5), (1, 1), (2, 2), (5, 5), (1, 1), (5, 5), (5, 5), (5, 5), (5, 5), (4, 5), (5, 5), (4, 5), (5, 5), (3, 2), (6, 6), (5, 5), (6, 6), (5, 5), (3, 5), (5, 5), (2, 2), (3, 2), (5, 5), (5, 5), (5, 5), (6, 6), (2, 2), (4, 2), (1, 1), (6, 6), (2, 2), (5, 5), (5, 5), (3, 2), (3, 5), (1, 1), (2, 2), (6, 6), (5, 5), (4, 2), (5, 5), (5, 5), (5, 5), (6, 6), (2, 2), (5, 5), (1, 1), (4, 5), (1, 1), (3, 2), (4, 5), (5, 5), (5, 5), (2, 2), (2, 2), (1, 1), (2, 2), (5, 5), (2, 2), (6, 6), (5, 5), (1, 1), (2, 2), (2, 2), (2, 2), (5, 5), (3, 2), (2, 2), (4, 5), (3, 2), (1, 1), (2, 2), (5, 5), (6, 6), (2, 2), (5, 5), (3, 2), (2, 2), (5, 5), (2, 2), (5, 5), (2, 2), (1, 1), (6, 6), (4, 2), (3, 2), (4, 5), (2, 2), (2, 2), (2, 2), (2, 2), (5, 5), (4, 2), (5, 5), (2, 2), (5, 5), (2, 2), (1, 1), (3, 2), (5, 5), (5, 5), (4, 5), (2, 2), (3, 2), (3, 2), (4, 2), (2, 2), (5, 5), (6, 6), (1, 1), (2, 2), (5, 5), (4, 5), (2, 2), (6, 6), (1, 1), (5, 5), (5, 5), (2, 2), (2, 2), (2, 2), (3, 2), (3, 2), (6, 6), (1, 1), (5, 5), (5, 5), (2, 2), (2, 2), (5, 5), (6, 6), (2, 2), (5, 5), (2, 2), (1, 1), (5, 5), (4, 5), (5, 5), (2, 2), (3, 2), (2, 2), (6, 6), (2, 2), (5, 5), (2, 2), (6, 6), (5, 5), (2, 2), (4, 5), (2, 2), (2, 2), (5, 5), (3, 2), (2, 2), (4, 5), (2, 2), (2, 2), (2, 2), (3, 2), (5, 5), (6, 6), (4, 5), (1, 1), (4, 5), (4, 5), (5, 5), (5, 5), (2, 2), (5, 5), (2, 2), (5, 5), (1, 1), (3, 2), (5, 5), (5, 5), (2, 2), (2, 2), (4, 5), (5, 5), (1, 1), (1, 1), (5, 5), (2, 2), (2, 2), (2, 2), (2, 2), (5, 5), (2, 2), (2, 2), (3, 2), (4, 5), (2, 2), (2, 2), (4, 5), (5, 5), (3, 2), (6, 6), (5, 5), (2, 2), (3, 5), (5, 5), (6, 6), (3, 2), (1, 1), (1, 1), (5, 5), (2, 2), (2, 2), (6, 6), (2, 2), (2, 2), (5, 5), (5, 5), (6, 6), (5, 5), (2, 2), (1, 1), (6, 6), (5, 5), (6, 6), (6, 6), (2, 2), (5, 5), (2, 2), (5, 5), (2, 2), (5, 5), (2, 2), (2, 2), (2, 2), (5, 5), (2, 2), (1, 1), (2, 2), (2, 2), (5, 5), (2, 2), (4, 5), (2, 2), (4, 5), (2, 2), (5, 5), (3, 2), (6, 6), (2, 2), (2, 2), (4, 5), (5, 5), (1, 1), (3, 5), (1, 1), (5, 5), (2, 2), (4, 5), (5, 5), (5, 5), (6, 6), (4, 5), (6, 6), (4, 5), (3, 2), (1, 1), (6, 6), (5, 5), (5, 5), (1, 1), (2, 2), (5, 5), (4, 5), (2, 2), (6, 6), (3, 2), (3, 5), (6, 6), (4, 5), (1, 1), (2, 2), (2, 2), (6, 6), (5, 5), (5, 5), (2, 2), (5, 5), (2, 2), (2, 2), (2, 2), (3, 2), (3, 2), (3, 2), (2, 2), (2, 2), (5, 5), (3, 2), (2, 2), (1, 1), (4, 5), (2, 2), (5, 5), (1, 1), (5, 5), (5, 5), (5, 5), (2, 2), (2, 2), (4, 5), (2, 2), (2, 2), (5, 5), (5, 5), (5, 5), (2, 2), (3, 2), (5, 5), (3, 5), (2, 2), (5, 5), (2, 2), (2, 2), (6, 6), (4, 5), (2, 2), (4, 5), (5, 5), (1, 1), (5, 5), (5, 5), (1, 1), (2, 2), (3, 2), (2, 2), (2, 2), (1, 1), (5, 5), (5, 5), (1, 1), (2, 2), (5, 5), (2, 2), (2, 2), (1, 1), (1, 1), (1, 1), (3, 2), (2, 2), (5, 5), (5, 5), (6, 6), (4, 5), (1, 1), (1, 1), (2, 2), (5, 5), (5, 5), (3, 5), (6, 6), (6, 6), (6, 6), (3, 5), (2, 2), (4, 2), (5, 5), (1, 1), (2, 2), (5, 5), (5, 5), (5, 5), (5, 5), (1, 1), (5, 5), (2, 2), (5, 5), (4, 2), (4, 5), (4, 5), (2, 2), (2, 2), (2, 2), (5, 5), (6, 6), (4, 2), (6, 6), (5, 5), (2, 2), (2, 2), (5, 5), (5, 5), (6, 6), (6, 6), (4, 5), (6, 6), (2, 2), (4, 5), (3, 2), (6, 6), (2, 2), (4, 5), (2, 2), (2, 2), (6, 6), (6, 6), (2, 2), (2, 2), (5, 5), (1, 1), (4, 2), (1, 1), (4, 5), (6, 6), (5, 5), (6, 6), (5, 5), (5, 5), (5, 5), (5, 5), (6, 6), (4, 5), (2, 2), (5, 5), (4, 2), (5, 5), (2, 2), (3, 2), (5, 5), (2, 2), (4, 5), (6, 6), (2, 2), (5, 5), (5, 5), (5, 5), (5, 5), (5, 5), (1, 1), (2, 2), (5, 5), (2, 2), (3, 2), (5, 5), (2, 2), (1, 1), (5, 5), (2, 2), (5, 5), (1, 1), (5, 5), (4, 2), (2, 2), (6, 6), (5, 5), (3, 5), (4, 5), (1, 1), (2, 2), (4, 5), (3, 2), (5, 5), (5, 5), (5, 5), (5, 5), (6, 6), (5, 5), (2, 2), (5, 5), (1, 1), (2, 2), (5, 5), (2, 2), (6, 6), (4, 5), (2, 2), (2, 2), (5, 5), (2, 2), (2, 2), (4, 5), (5, 5), (3, 2), (2, 2), (6, 6), (2, 2), (5, 5), (1, 1), (2, 2), (5, 5), (5, 5), (1, 1), (2, 2), (5, 5), (2, 2), (2, 2), (1, 1), (1, 1), (5, 5), (2, 2), (3, 2), (3, 2), (2, 2), (2, 2), (5, 5), (5, 5), (6, 6), (4, 5), (5, 5), (1, 1), (3, 2), (2, 2), (6, 6), (5, 5), (3, 5), (4, 2), (5, 5), (2, 2), (2, 2), (6, 6), (3, 2), (6, 6), (2, 2), (2, 2), (2, 2), (4, 5), (4, 2), (5, 5), (2, 2), (6, 6), (2, 2), (3, 2), (1, 1), (2, 2), (2, 2), (3, 2), (2, 2), (4, 5), (2, 2), (2, 2), (2, 2), (4, 5), (2, 2), (6, 6), (6, 6), (5, 5), (2, 2), (4, 5), (2, 2), (6, 6), (6, 6), (6, 6), (2, 2), (2, 2), (5, 5), (5, 5), (5, 5), (3, 2), (2, 2), (1, 1), (2, 2), (5, 5), (4, 5), (5, 5), (3, 5), (1, 1), (1, 1), (6, 6), (2, 2), (5, 5), (5, 5), (2, 2), (2, 2), (4, 5), (4, 5), (3, 2), (4, 5), (2, 2), (6, 6), (4, 5), (5, 5), (6, 6), (2, 2), (1, 1), (3, 2), (5, 5), (5, 5), (4, 5), (5, 5), (6, 6), (6, 6), (6, 6), (6, 6), (5, 5), (4, 5), (2, 2), (1, 1), (2, 2), (5, 5), (5, 5), (4, 5), (4, 5), (4, 5), (3, 2), (2, 2), (5, 5), (2, 2), (5, 5), (2, 2), (5, 5), (6, 6), (2, 2), (6, 6), (1, 1), (3, 2), (2, 2), (5, 5), (5, 5), (1, 1), (5, 5), (5, 5), (5, 5), (2, 2), (5, 5), (5, 5), (4, 5), (6, 6), (5, 5), (2, 2), (3, 2), (4, 5), (1, 1), (5, 5), (5, 5), (4, 5), (1, 1), (3, 2), (4, 5), (2, 2), (5, 5), (1, 1), (6, 6), (1, 1), (2, 2), (1, 1), (1, 1), (6, 6), (2, 2), (5, 5), (2, 2), (4, 2), (5, 5), (1, 1), (2, 2), (2, 2), (5, 5), (2, 2), (5, 5), (2, 2), (2, 2), (5, 5), (1, 1), (5, 5), (2, 2), (2, 2), (5, 5), (3, 2), (2, 2), (6, 6), (2, 2), (2, 2), (4, 5), (2, 2), (3, 2), (5, 5), (1, 1), (3, 2), (2, 2), (2, 2), (2, 2), (2, 2), (5, 5), (5, 5), (5, 5), (2, 2), (6, 6), (1, 1), (5, 5), (6, 6), (1, 1), (6, 6), (5, 5), (4, 5), (4, 5), (1, 1), (6, 6), (2, 2), (4, 5), (2, 2), (2, 2), (2, 2), (2, 2), (5, 5), (5, 5), (1, 1), (2, 2), (5, 5), (4, 5), (6, 6), (5, 5), (1, 1), (6, 6), (5, 5), (3, 2), (3, 5), (1, 1), (5, 5), (5, 5), (4, 5), (2, 2), (4, 5), (5, 5), (5, 5), (5, 5), (2, 2), (6, 6), (2, 2), (5, 5), (4, 5), (4, 5), (1, 1), (5, 5), (5, 5), (1, 1), (6, 6), (2, 2), (6, 6), (5, 5), (5, 5), (2, 2), (5, 5), (1, 1), (3, 2), (5, 5), (3, 2), (6, 6), (2, 2), (2, 2), (2, 2), (2, 2), (2, 2), (2, 2), (2, 2), (5, 5), (5, 5), (1, 1), (4, 5), (5, 5), (5, 5), (5, 5), (6, 6), (5, 5), (3, 2), (1, 1), (1, 1), (1, 1), (1, 1), (3, 2), (5, 5), (2, 2), (5, 5), (5, 5), (2, 2), (4, 5), (2, 2), (1, 1), (5, 5), (4, 5), (5, 5), (3, 2), (5, 5), (6, 6), (5, 5), (5, 5), (1, 1), (6, 6), (6, 6), (5, 5), (6, 6), (5, 5), (2, 2), (1, 1), (2, 2), (4, 2), (3, 5), (2, 2), (5, 5), (5, 5), (6, 6), (2, 2), (4, 5), (2, 2), (5, 5), (4, 5), (5, 5), (1, 1), (2, 2), (5, 5), (3, 5), (2, 2), (3, 5), (5, 5), (2, 2), (1, 1), (2, 2), (5, 5), (2, 2), (1, 1), (1, 1), (2, 2), (4, 5), (1, 1), (6, 6), (5, 5), (5, 5), (2, 2), (5, 5), (4, 5), (6, 6), (5, 5), (2, 2), (2, 2), (5, 5), (5, 5), (5, 5), (6, 6), (2, 2), (5, 5), (2, 2), (2, 2), (2, 2), (5, 5), (4, 2), (2, 2), (2, 2), (2, 2), (5, 5), (2, 2), (2, 2), (2, 2), (1, 1), (5, 5), (5, 5), (5, 5), (2, 2), (2, 2), (2, 2), (5, 5), (5, 5), (1, 1), (4, 5), (6, 6), (5, 5), (5, 5), (1, 1), (3, 5), (4, 5), (2, 2), (3, 2), (5, 5), (5, 5), (4, 5), (2, 2), (2, 2), (5, 5), (6, 6), (2, 2), (5, 5), (2, 2), (5, 5), (6, 6), (3, 2), (6, 6), (2, 2), (5, 5), (6, 6), (5, 5), (5, 5), (4, 5), (4, 2), (4, 5), (5, 5), (5, 5), (6, 6), (4, 5), (6, 6), (5, 5), (2, 2), (5, 5), (2, 2), (3, 5), (6, 6), (2, 2), (5, 5), (4, 5), (5, 5), (1, 1), (5, 5), (4, 5), (1, 1), (2, 2), (5, 5), (5, 5), (5, 5), (5, 5), (5, 5), (6, 6), (3, 2), (5, 5), (2, 2), (5, 5), (5, 5), (4, 2), (3, 2), (2, 2), (1, 1), (2, 2), (6, 6), (2, 2), (4, 5), (5, 5), (2, 2), (5, 5), (5, 5), (1, 1), (6, 6), (2, 2), (5, 5), (6, 6), (5, 5), (2, 2), (5, 5), (5, 5), (6, 6), (6, 6), (1, 1), (2, 2), (5, 5), (5, 5), (3, 2), (5, 5), (6, 6), (2, 2), (5, 5), (2, 2), (6, 6), (2, 2), (2, 2), (3, 2), (4, 5), (2, 2), (3, 2), (2, 2), (6, 6), (2, 2), (5, 5), (5, 5), (4, 2), (2, 2), (5, 5), (5, 5), (2, 2), (5, 5), (5, 5), (2, 2), (5, 5), (2, 2), (5, 5), (2, 2), (2, 2), (5, 5), (2, 2), (4, 2), (6, 6), (6, 6), (5, 5), (2, 2), (3, 2), (4, 5), (5, 5), (4, 5), (5, 5), (3, 2), (4, 5), (2, 2), (2, 2), (6, 6), (5, 5), (6, 6), (5, 5), (2, 2), (6, 6), (2, 2), (2, 2), (2, 2), (2, 2), (2, 2), (2, 2), (3, 5), (5, 5), (4, 5), (6, 6), (4, 5), (5, 5), (2, 2), (2, 2), (2, 2), (1, 1), (3, 2), (1, 1), (2, 2), (5, 5), (5, 5), (4, 2), (5, 5), (1, 1), (2, 2), (2, 2), (5, 5), (4, 5), (2, 2), (2, 2), (1, 1), (5, 5), (2, 2), (2, 2), (6, 6), (1, 1), (2, 2), (5, 5), (2, 2), (2, 2), (5, 5), (6, 6), (5, 5), (5, 5), (3, 5), (5, 5), (1, 1), (5, 5), (4, 5), (2, 2), (5, 5), (4, 5), (1, 1), (1, 1), (3, 2), (2, 2), (2, 2), (2, 2), (2, 2), (5, 5), (2, 2), (5, 5), (2, 2), (5, 5), (4, 5), (4, 5), (2, 2), (2, 2), (6, 6), (6, 6), (4, 5), (2, 2), (6, 6), (3, 2), (5, 5), (2, 2), (1, 1), (1, 1), (2, 2), (2, 2), (5, 5), (3, 2), (3, 5), (6, 6), (2, 2), (2, 2), (4, 2), (2, 2), (4, 5), (5, 5), (3, 2), (2, 2), (5, 5), (6, 6), (1, 1), (6, 6), (2, 2), (1, 1), (4, 5), (5, 5), (5, 5), (2, 2), (2, 2), (2, 2), (1, 1), (2, 2), (2, 2), (5, 5), (4, 5), (2, 2), (5, 5), (2, 2), (5, 5), (5, 5), (6, 6), (2, 2), (5, 5), (3, 2), (5, 5), (6, 6), (4, 5), (2, 2), (2, 2), (6, 6), (1, 1), (1, 1), (5, 5), (2, 2), (6, 6), (5, 5), (2, 2), (5, 5), (4, 2), (5, 5), (2, 2), (2, 2), (5, 5), (3, 2), (5, 5), (1, 1), (6, 6), (6, 6), (5, 5), (2, 2), (5, 5), (4, 5), (5, 5), (5, 5), (6, 6), (4, 2), (5, 5), (2, 2), (6, 6), (6, 6), (2, 2), (5, 5), (2, 2), (2, 2), (2, 2), (2, 2), (6, 6), (5, 5), (6, 6), (4, 5), (3, 2), (5, 5), (3, 2), (5, 5), (4, 5), (5, 5), (5, 5), (5, 5), (3, 2), (1, 1), (5, 5), (5, 5), (4, 5), (5, 5), (2, 2), (6, 6), (6, 6), (2, 2), (3, 2), (5, 5), (6, 6), (2, 2), (2, 2), (1, 1), (2, 2), (5, 5), (6, 6), (5, 5), (5, 5), (5, 5), (2, 2), (3, 2), (2, 2), (5, 5), (5, 5), (3, 2), (1, 1), (5, 5), (5, 5), (1, 1), (2, 2), (2, 2), (2, 2), (5, 5), (5, 5), (3, 5), (6, 6), (3, 5), (2, 2), (2, 2), (6, 6), (5, 5), (3, 2), (1, 1), (5, 5), (5, 5), (6, 6), (2, 2), (4, 5), (6, 6), (2, 2), (3, 2), (4, 5), (5, 5), (5, 5), (4, 5), (5, 5), (6, 6), (2, 2), (2, 2), (1, 1), (2, 2), (2, 2), (1, 1), (1, 1), (5, 5), (6, 6), (5, 5), (1, 1), (5, 5), (3, 2), (1, 1), (1, 1), (2, 2), (1, 1), (2, 2), (5, 5), (5, 5), (2, 2), (3, 2), (6, 6), (6, 6), (1, 1), (5, 5), (5, 5), (1, 1), (2, 2), (2, 2), (5, 5), (2, 2), (6, 6), (4, 2), (3, 2), (2, 2), (2, 2), (4, 5), (5, 5), (5, 5), (6, 6), (6, 6), (5, 5), (2, 2), (2, 2), (5, 5), (2, 2), (5, 5), (6, 6), (2, 2), (2, 2), (2, 2), (5, 5), (6, 6), (5, 5), (5, 5), (5, 5), (2, 2), (6, 6), (4, 2), (6, 6), (6, 6), (5, 5), (6, 6), (6, 6), (5, 5), (5, 5), (3, 5), (5, 5), (3, 5), (2, 2), (5, 5), (2, 2), (4, 5), (4, 5), (3, 2), (5, 5), (5, 5), (2, 2), (2, 2), (2, 2), (5, 5), (1, 1), (2, 2), (2, 2), (3, 2), (2, 2), (2, 2), (5, 5), (2, 2), (1, 1), (1, 1), (5, 5), (4, 5), (2, 2), (5, 5), (5, 5), (4, 5), (4, 5), (4, 5), (3, 2), (5, 5), (6, 6), (5, 5), (6, 6), (5, 5), (2, 2), (4, 5), (2, 2), (6, 6), (2, 2), (6, 6), (5, 5), (5, 5), (4, 5), (2, 2), (2, 2), (3, 2), (1, 1), (2, 2), (6, 6), (2, 2), (1, 1), (2, 2), (1, 1), (6, 6), (4, 5), (2, 2), (2, 2), (1, 1), (4, 5), (3, 2), (5, 5), (4, 5), (3, 5), (5, 5), (5, 5), (2, 2), (2, 2), (2, 2), (5, 5), (5, 5), (2, 2), (2, 2), (1, 1), (5, 5), (2, 2), (2, 2), (5, 5), (2, 2), (5, 5), (5, 5), (2, 2), (1, 1), (4, 2), (6, 6), (5, 5), (6, 6), (3, 2), (3, 2), (2, 2), (2, 2), (5, 5), (5, 5), (1, 1), (6, 6), (2, 2), (5, 5), (6, 6), (1, 1), (5, 5), (2, 2), (2, 2), (5, 5), (2, 2), (6, 6), (1, 1), (3, 5), (5, 5), (2, 2), (2, 2), (6, 6), (2, 2), (1, 1), (4, 5), (4, 5), (3, 2), (3, 2), (5, 5), (3, 2), (2, 2), (6, 6), (3, 2), (3, 2), (5, 5), (1, 1), (6, 6), (2, 2), (5, 5), (5, 5), (1, 1), (2, 2), (5, 5), (5, 5), (4, 2), (6, 6), (2, 2), (3, 2), (2, 2), (5, 5), (5, 5), (5, 5), (2, 2), (2, 2), (5, 5), (5, 5), (2, 2), (4, 2), (2, 2), (5, 5), (2, 2), (4, 5), (2, 2), (2, 2), (4, 2), (2, 2), (3, 5), (2, 2), (2, 2), (3, 2), (4, 5), (2, 2), (4, 5), (5, 5), (5, 5), (6, 6), (4, 5), (2, 2), (5, 5), (3, 2), (2, 2), (5, 5), (2, 2), (1, 1), (1, 1), (5, 5), (5, 5), (5, 5), (2, 2), (2, 2), (2, 2), (1, 1), (3, 2), (1, 1), (1, 1), (5, 5), (5, 5), (3, 5), (6, 6), (2, 2), (3, 2), (6, 6), (4, 5), (5, 5), (2, 2), (2, 2), (5, 5), (3, 2), (5, 5), (5, 5), (4, 5), (2, 2), (5, 5), (4, 5), (5, 5), (4, 2), (6, 6), (5, 5), (2, 2), (1, 1), (2, 2), (2, 2), (6, 6), (2, 2), (4, 5), (3, 5), (5, 5), (6, 6), (2, 2), (5, 5), (2, 2), (5, 5), (1, 1), (5, 5), (2, 2), (2, 2), (2, 2), (3, 5), (2, 2), (2, 2), (5, 5), (2, 2), (5, 5), (5, 5), (5, 5), (5, 5), (4, 5), (3, 2), (5, 5), (5, 5), (5, 5), (5, 5), (2, 2), (5, 5), (5, 5), (4, 5), (1, 1), (5, 5), (5, 5), (2, 2), (5, 5), (5, 5), (5, 5), (2, 2), (5, 5), (4, 2), (3, 2), (5, 5), (4, 5), (4, 5), (2, 2), (5, 5), (3, 2), (2, 2), (2, 2), (6, 6), (5, 5), (1, 1), (2, 2), (4, 5), (2, 2), (2, 2), (3, 2), (6, 6), (6, 6), (5, 5), (5, 5), (1, 1), (6, 6), (1, 1), (5, 5), (6, 6), (2, 2), (4, 5), (2, 2), (3, 2), (2, 2), (4, 2), (3, 5), (1, 1), (5, 5), (5, 5), (2, 2), (6, 6), (5, 5), (1, 1), (3, 2), (2, 2), (3, 5), (4, 5), (5, 5), (6, 6), (1, 1), (6, 6), (2, 2), (5, 5), (4, 5), (6, 6), (6, 6), (2, 2), (2, 2), (2, 2), (5, 5), (5, 5), (5, 5), (5, 5), (2, 2), (5, 5), (5, 5), (2, 2), (6, 6), (5, 5), (1, 1), (4, 5), (1, 1), (6, 6), (5, 5), (6, 6), (5, 5), (5, 5), (2, 2), (5, 5), (4, 5), (1, 1), (5, 5), (2, 2), (2, 2), (3, 2), (5, 5), (4, 5), (1, 1), (5, 5), (2, 2), (2, 2), (1, 1), (2, 2), (2, 2), (1, 1), (5, 5), (1, 1), (5, 5), (2, 2), (5, 5), (5, 5), (5, 5), (5, 5), (5, 5), (5, 5), (5, 5), (2, 2), (2, 2), (5, 5), (6, 6), (3, 2), (2, 2), (2, 2), (5, 5), (5, 5), (5, 5), (5, 5), (4, 2), (2, 2), (5, 5), (4, 2), (5, 5), (5, 5), (2, 2), (1, 1), (5, 5), (5, 5), (2, 2), (2, 2), (5, 5), (4, 5), (4, 5), (4, 2), (5, 5), (6, 6), (3, 2), (2, 2), (5, 5), (2, 2), (2, 2), (6, 6), (2, 2), (2, 2), (5, 5), (1, 1), (5, 5), (2, 2), (6, 6), (4, 5), (1, 1), (5, 5), (2, 2), (5, 5), (3, 2), (5, 5), (2, 2), (5, 5), (5, 5), (5, 5), (5, 5), (2, 2), (6, 6), (4, 5), (2, 2), (6, 6), (6, 6), (2, 2), (2, 2), (2, 2), (4, 2), (5, 5), (1, 1), (5, 5), (2, 2), (2, 2), (6, 6), (2, 2), (4, 5), (2, 2), (4, 5), (2, 2), (2, 2), (3, 2), (2, 2), (6, 6), (3, 5), (1, 1), (5, 5), (6, 6), (2, 2), (2, 2), (5, 5), (3, 2), (6, 6), (5, 5), (2, 2), (5, 5), (3, 2), (5, 5), (2, 2), (5, 5), (5, 5), (2, 2), (5, 5), (5, 5), (1, 1), (4, 5), (4, 2), (5, 5), (2, 2), (5, 5), (5, 5), (6, 6), (1, 1), (2, 2), (5, 5), (5, 5), (4, 5), (3, 2), (6, 6), (3, 2), (5, 5), (2, 2), (5, 5), (1, 1), (3, 5), (5, 5), (2, 2), (6, 6), (2, 2), (4, 5), (5, 5), (2, 2), (2, 2), (5, 5), (5, 5), (4, 5), (5, 5), (2, 2), (5, 5), (3, 2), (5, 5), (1, 1), (2, 2), (5, 5), (5, 5), (3, 2), (5, 5), (5, 5), (2, 2), (6, 6), (5, 5), (5, 5), (3, 2), (5, 5), (6, 6), (2, 2), (5, 5), (5, 5), (3, 2), (2, 2), (5, 5), (2, 2), (2, 2), (5, 5), (1, 1), (1, 1), (6, 6), (2, 2), (5, 5), (5, 5), (2, 2), (3, 2), (1, 1), (6, 6), (2, 2), (5, 5), (3, 2), (3, 2), (2, 2), (4, 5), (2, 2), (1, 1), (2, 2), (1, 1), (5, 5), (3, 2), (6, 6), (5, 5), (4, 5), (3, 2), (3, 2), (2, 2), (2, 2), (2, 2), (2, 2), (5, 5), (5, 5), (5, 5), (2, 2), (1, 1), (2, 2), (2, 2), (5, 5), (2, 2), (2, 2), (1, 1), (5, 5), (5, 5), (5, 5), (1, 1), (5, 5), (5, 5), (6, 6), (6, 6), (4, 2), (2, 2), (2, 2), (4, 5), (2, 2), (5, 5), (5, 5), (6, 6), (4, 5), (6, 6), (1, 1), (4, 5), (5, 5), (3, 2), (5, 5), (6, 6), (2, 2), (6, 6), (2, 2), (2, 2), (5, 5), (5, 5), (2, 2), (2, 2), (2, 2), (3, 2), (2, 2), (5, 5), (2, 2), (5, 5), (6, 6), (4, 5), (6, 6), (4, 5), (2, 2), (2, 2), (6, 6), (2, 2), (5, 5), (6, 6), (2, 2), (5, 5), (5, 5), (1, 1), (5, 5), (2, 2), (5, 5), (2, 2), (1, 1), (5, 5), (3, 5), (4, 5), (2, 2), (5, 5), (5, 5), (2, 2), (2, 2), (2, 2), (5, 5), (4, 5), (3, 5), (6, 6), (1, 1), (5, 5), (5, 5), (5, 5), (4, 5), (5, 5), (6, 6), (6, 6), (6, 6), (2, 2), (2, 2), (5, 5), (4, 2), (6, 6), (5, 5), (6, 6), (5, 5), (1, 1), (2, 2), (2, 2), (1, 1), (2, 2), (5, 5), (2, 2), (6, 6), (1, 1), (4, 2), (2, 2), (2, 2), (2, 2), (2, 2), (5, 5), (1, 1), (1, 1), (5, 5), (4, 2), (2, 2), (2, 2), (2, 2), (2, 2), (1, 1), (5, 5), (5, 5), (5, 5), (4, 5), (2, 2), (2, 2), (2, 2), (4, 2), (5, 5), (5, 5), (2, 2), (2, 2), (1, 1), (6, 6), (5, 5), (5, 5), (5, 5), (1, 1), (6, 6), (4, 5), (5, 5), (2, 2), (6, 6), (2, 2), (5, 5), (3, 2), (2, 2), (2, 2), (2, 2), (5, 5), (2, 2), (5, 5), (2, 2), (5, 5), (3, 2), (5, 5), (4, 5), (1, 1), (2, 2), (5, 5), (2, 2), (1, 1), (5, 5), (2, 2), (5, 5), (2, 2), (5, 5), (1, 1), (4, 5), (4, 5), (4, 2), (5, 5), (5, 5), (6, 6), (2, 2), (5, 5), (5, 5), (4, 2), (3, 5), (2, 2), (1, 1), (5, 5), (4, 5), (5, 5), (5, 5), (3, 2), (1, 1), (4, 5), (2, 2), (2, 2), (2, 2), (2, 2), (5, 5), (3, 2), (6, 6), (2, 2), (5, 5), (5, 5), (6, 6), (6, 6), (5, 5), (6, 6), (6, 6), (5, 5), (5, 5), (4, 5), (2, 2), (5, 5), (5, 5), (6, 6), (2, 2), (5, 5), (2, 2), (5, 5), (1, 1), (2, 2), (2, 2), (5, 5), (1, 1), (6, 6), (2, 2), (3, 2), (2, 2), (1, 1), (2, 2), (4, 2), (3, 2), (3, 2), (2, 2), (5, 5), (4, 5), (6, 6), (5, 5), (5, 5), (6, 6), (3, 2), (4, 5), (6, 6), (2, 2), (2, 2), (1, 1), (6, 6), (5, 5), (4, 5), (4, 5), (2, 2), (5, 5), (2, 2), (5, 5), (5, 5), (2, 2), (2, 2), (2, 2), (2, 2), (6, 6), (6, 6), (5, 5), (6, 6), (2, 2), (6, 6), (2, 2), (5, 5), (2, 2), (4, 5), (6, 6), (2, 2), (1, 1), (4, 5), (2, 2), (2, 2), (3, 2), (5, 5), (5, 5), (2, 2), (6, 6), (5, 5), (2, 2), (6, 6), (3, 2), (5, 5), (6, 6), (2, 2), (5, 5), (6, 6), (3, 2), (2, 2), (5, 5), (1, 1), (2, 2), (3, 2), (4, 5), (2, 2), (2, 2), (4, 5), (4, 5), (2, 2), (2, 2), (2, 2), (1, 1), (5, 5), (3, 2), (5, 5), (5, 5), (2, 2), (3, 5), (2, 2), (5, 5), (5, 5), (5, 5), (6, 6), (2, 2), (3, 2), (4, 5), (2, 2), (2, 2), (5, 5), (5, 5), (3, 2), (1, 1), (2, 2), (3, 2), (3, 2), (5, 5), (4, 5), (2, 2), (3, 2), (4, 5), (6, 6), (5, 5), (5, 5), (2, 2), (4, 5), (2, 2), (4, 5), (5, 5), (5, 5), (5, 5), (5, 5), (4, 5), (2, 2), (1, 1), (2, 2), (5, 5), (6, 6), (4, 5), (5, 5), (2, 2), (4, 5), (3, 2), (5, 5), (2, 2), (5, 5), (2, 2), (5, 5), (5, 5), (6, 6), (1, 1), (2, 2), (5, 5), (5, 5), (4, 5), (1, 1), (6, 6), (5, 5), (1, 1), (1, 1), (2, 2), (6, 6), (5, 5), (5, 5), (4, 5), (2, 2), (5, 5), (5, 5), (6, 6), (6, 6), (5, 5), (5, 5), (5, 5), (2, 2), (2, 2), (6, 6), (2, 2), (5, 5), (5, 5), (6, 6), (4, 2), (5, 5), (2, 2), (4, 2), (1, 1), (6, 6), (4, 5), (5, 5), (5, 5), (6, 6), (3, 2), (1, 1), (6, 6), (5, 5), (5, 5), (6, 6), (2, 2), (2, 2), (2, 2), (4, 2), (4, 5), (2, 2), (4, 5), (2, 2), (2, 2), (2, 2), (5, 5), (1, 1), (3, 2), (6, 6), (3, 2), (4, 2), (1, 1), (2, 2), (5, 5), (2, 2), (6, 6), (5, 5), (2, 2), (5, 5), (2, 2), (2, 2), (4, 5), (6, 6), (5, 5), (4, 5), (2, 2), (1, 1), (1, 1), (4, 2), (5, 5), (4, 5), (5, 5), (4, 5), (3, 2), (4, 5), (5, 5), (5, 5), (5, 5), (5, 5), (2, 2), (5, 5), (2, 2), (6, 6), (5, 5), (5, 5), (5, 5), (5, 5), (1, 1), (5, 5), (2, 2), (6, 6), (2, 2), (1, 1), (2, 2), (5, 5), (1, 1), (1, 1), (2, 2), (1, 1), (2, 2), (5, 5), (6, 6), (2, 2), (2, 2), (1, 1), (6, 6), (5, 5), (1, 1), (2, 2), (2, 2), (1, 1), (4, 5), (3, 2), (2, 2), (5, 5), (1, 1), (3, 2), (5, 5), (2, 2), (4, 5), (5, 5), (6, 6), (6, 6), (2, 2), (5, 5), (5, 5), (2, 2), (2, 2), (2, 2), (1, 1), (5, 5), (1, 1), (5, 5), (1, 1), (2, 2), (3, 2), (2, 2), (4, 2), (2, 2), (5, 5), (2, 2), (2, 2), (1, 1), (2, 2), (2, 2), (2, 2), (5, 5), (6, 6), (4, 5), (5, 5), (5, 5), (5, 5), (6, 6), (4, 5), (4, 5), (6, 6), (2, 2), (1, 1), (2, 2), (2, 2), (6, 6), (4, 2), (2, 2), (5, 5), (2, 2), (5, 5), (5, 5), (4, 5), (4, 5), (6, 6), (2, 2), (3, 2), (2, 2), (1, 1), (5, 5), (5, 5), (6, 6), (5, 5), (3, 2), (2, 2), (4, 2), (2, 2), (5, 5), (2, 2), (4, 5), (2, 2), (1, 1), (5, 5), (5, 5), (4, 5), (5, 5), (3, 2), (4, 2), (5, 5), (6, 6), (2, 2), (2, 2), (2, 2), (5, 5), (4, 2), (6, 6), (5, 5), (5, 5), (5, 5), (4, 5), (3, 5), (2, 2), (2, 2), (4, 5), (2, 2), (3, 5), (5, 5), (5, 5), (5, 5), (5, 5), (5, 5), (2, 2), (5, 5), (2, 2), (4, 5), (3, 5), (2, 2), (6, 6), (5, 5), (5, 5), (2, 2), (5, 5), (5, 5), (6, 6), (4, 5), (6, 6), (5, 5), (3, 2), (5, 5), (5, 5), (5, 5), (6, 6), (2, 2), (6, 6), (5, 5), (1, 1), (6, 6), (1, 1), (5, 5), (3, 2), (2, 2), (5, 5), (5, 5), (3, 2), (6, 6), (1, 1), (4, 5), (1, 1), (3, 2), (5, 5), (5, 5), (3, 5), (2, 2), (5, 5), (2, 2), (5, 5), (2, 2), (2, 2), (1, 1), (4, 5), (2, 2), (2, 2), (5, 5), (1, 1), (5, 5), (2, 2), (1, 1), (5, 5), (4, 5), (5, 5), (6, 6), (4, 5), (5, 5), (2, 2), (5, 5), (3, 2), (5, 5), (1, 1), (5, 5), (4, 5), (1, 1), (5, 5), (2, 2), (2, 2), (1, 1), (6, 6), (4, 5), (5, 5), (1, 1), (5, 5), (3, 2), (2, 2), (2, 2), (1, 1), (2, 2), (2, 2), (5, 5), (5, 5), (4, 5), (6, 6), (2, 2), (2, 2), (2, 2), (3, 2), (6, 6), (2, 2), (3, 2), (3, 2), (1, 1), (5, 5), (4, 5), (5, 5), (1, 1), (2, 2), (1, 1), (5, 5), (5, 5), (3, 5), (2, 2), (2, 2), (2, 2), (6, 6), (2, 2), (5, 5), (4, 5), (2, 2), (1, 1), (1, 1), (2, 2), (5, 5), (2, 2), (4, 5), (5, 5), (4, 5), (2, 2), (4, 5), (6, 6), (2, 2), (3, 2), (5, 5), (6, 6), (2, 2), (4, 5), (1, 1), (5, 5), (2, 2), (5, 5), (3, 2), (2, 2), (3, 2), (2, 2), (6, 6), (5, 5), (5, 5), (2, 2), (5, 5), (3, 2), (3, 2), (2, 2), (2, 2), (2, 2), (5, 5), (2, 2), (5, 5), (6, 6), (2, 2), (5, 5), (4, 2), (6, 6), (2, 2), (4, 2), (4, 5), (2, 2), (5, 5), (4, 2), (6, 6), (6, 6), (5, 5), (3, 5), (3, 2), (2, 2), (3, 2), (1, 1), (4, 2), (4, 5), (5, 5), (3, 2), (1, 1), (3, 5), (5, 5), (2, 2), (5, 5), (3, 5), (5, 5), (2, 2), (5, 5), (6, 6), (1, 1), (2, 2), (5, 5), (1, 1), (2, 2), (6, 6), (6, 6), (5, 5), (2, 2), (2, 2), (6, 6), (5, 5), (2, 2), (5, 5), (2, 2), (3, 5), (5, 5), (5, 5), (2, 2), (5, 5), (1, 1), (3, 2), (2, 2), (2, 2), (5, 5), (2, 2), (5, 5), (5, 5), (2, 2), (5, 5), (4, 5), (4, 5), (5, 5), (2, 2), (6, 6), (4, 2), (2, 2), (5, 5), (2, 2), (4, 5), (3, 2), (6, 6), (5, 5), (2, 2), (1, 1), (5, 5), (5, 5), (5, 5), (2, 2), (2, 2), (4, 5), (5, 5), (4, 5), (5, 5), (2, 2), (2, 2), (6, 6), (5, 5), (2, 2), (2, 2), (5, 5), (1, 1), (6, 6), (5, 5), (5, 5), (5, 5), (2, 2), (1, 1), (2, 2), (2, 2), (5, 5), (3, 2), (4, 2), (3, 2), (5, 5), (1, 1), (4, 5), (5, 5), (6, 6), (5, 5), (6, 6), (4, 5), (2, 2), (4, 2), (5, 5), (2, 2), (2, 2), (3, 5), (4, 5), (5, 5), (5, 5), (4, 5), (6, 6), (6, 6), (3, 2), (5, 5), (1, 1), (5, 5), (5, 5), (2, 2), (5, 5), (5, 5), (6, 6), (2, 2), (4, 2), (5, 5), (1, 1), (5, 5), (2, 2), (4, 5), (2, 2), (2, 2), (5, 5), (2, 2), (5, 5), (6, 6), (2, 2), (2, 2), (5, 5), (2, 2), (1, 1), (6, 6), (6, 6), (5, 5), (4, 5), (5, 5), (6, 6), (6, 6), (6, 6), (4, 2), (4, 5), (2, 2), (3, 2), (6, 6), (4, 5), (5, 5), (2, 2), (1, 1), (3, 5), (4, 2), (5, 5), (2, 2), (5, 5), (5, 5), (2, 2), (5, 5), (5, 5), (4, 5), (5, 5), (2, 2), (2, 2), (1, 1), (2, 2), (5, 5), (6, 6), (4, 5), (5, 5), (2, 2), (5, 5), (3, 2), (1, 1), (6, 6), (3, 2), (4, 2), (5, 5), (2, 2), (1, 1), (5, 5), (3, 2), (5, 5), (3, 2), (1, 1), (4, 5), (4, 5), (2, 2), (2, 2), (3, 5), (1, 1), (4, 5), (4, 5), (4, 5), (2, 2), (5, 5), (3, 2), (5, 5), (4, 5), (2, 2), (1, 1), (5, 5), (2, 2), (5, 5), (2, 2), (2, 2), (2, 2), (3, 2), (6, 6), (5, 5), (6, 6), (5, 5), (1, 1), (3, 2), (5, 5), (5, 5), (4, 2), (5, 5), (2, 2), (6, 6), (5, 5), (4, 2), (6, 6), (6, 6), (6, 6), (2, 2), (3, 2), (2, 2), (6, 6), (2, 2), (5, 5), (4, 5), (4, 5), (1, 1), (5, 5), (6, 6), (3, 2), (5, 5), (1, 1), (5, 5), (5, 5), (2, 2), (2, 2), (2, 2), (1, 1), (2, 2), (3, 5), (1, 1), (4, 2), (4, 5), (1, 1), (1, 1), (3, 5), (4, 5), (5, 5), (5, 5), (5, 5), (2, 2), (4, 5), (6, 6), (5, 5), (2, 2), (2, 2), (6, 6), (1, 1), (5, 5), (4, 5), (2, 2), (5, 5), (5, 5), (6, 6), (5, 5), (3, 2), (4, 2), (2, 2), (5, 5), (5, 5), (5, 5), (1, 1), (1, 1), (2, 2), (2, 2), (4, 5), (5, 5), (2, 2), (5, 5), (6, 6), (6, 6), (5, 5), (5, 5), (5, 5), (6, 6), (4, 5), (2, 2), (4, 2), (5, 5), (6, 6), (2, 2), (5, 5), (5, 5), (4, 2), (1, 1), (5, 5), (6, 6), (3, 2), (5, 5), (5, 5), (2, 2), (2, 2), (5, 5), (2, 2), (5, 5), (5, 5), (5, 5), (4, 2), (2, 2), (6, 6), (3, 5), (5, 5), (6, 6), (2, 2), (5, 5), (1, 1), (6, 6), (2, 2), (4, 5), (2, 2), (4, 5), (2, 2), (2, 2), (5, 5), (4, 5), (2, 2), (5, 5), (5, 5), (2, 2), (6, 6), (4, 5), (2, 2), (6, 6), (6, 6), (3, 5), (2, 2), (5, 5), (6, 6), (4, 5), (6, 6), (6, 6), (6, 6), (2, 2), (4, 5), (2, 2), (5, 5), (5, 5), (1, 1), (1, 1), (4, 2), (3, 2), (2, 2), (3, 2), (3, 5), (2, 2), (1, 1), (5, 5), (2, 2), (3, 2), (5, 5), (5, 5), (5, 5), (6, 6), (2, 2), (5, 5), (5, 5), (3, 2), (1, 1), (5, 5), (5, 5), (2, 2), (1, 1), (5, 5), (5, 5), (5, 5), (6, 6), (3, 2), (3, 2), (5, 5), (2, 2), (4, 5), (5, 5), (6, 6), (5, 5), (2, 2), (2, 2), (5, 5), (1, 1), (4, 2), (2, 2), (6, 6), (4, 5), (5, 5), (3, 2), (5, 5), (2, 2), (5, 5), (5, 5), (2, 2), (2, 2), (1, 1), (5, 5), (2, 2), (6, 6), (5, 5), (2, 2), (2, 2), (2, 2), (6, 6), (2, 2), (5, 5), (1, 1), (4, 5), (6, 6), (5, 5), (6, 6), (4, 5), (5, 5), (5, 5), (2, 2), (5, 5), (2, 2), (3, 2), (5, 5), (5, 5), (1, 1), (2, 2), (5, 5), (2, 2), (2, 2), (4, 5), (2, 2), (6, 6), (4, 5), (4, 5), (6, 6), (1, 1), (5, 5), (2, 2), (6, 6), (6, 6), (6, 6), (5, 5), (5, 5), (5, 5), (1, 1), (2, 2), (5, 5), (6, 6), (3, 2), (1, 1), (5, 5), (3, 2), (2, 2), (5, 5), (5, 5), (1, 1), (3, 2), (3, 5), (2, 2), (6, 6), (5, 5), (5, 5), (3, 5), (5, 5), (6, 6), (5, 5), (1, 1), (5, 5), (2, 2), (2, 2), (1, 1), (3, 2), (6, 6), (2, 2), (5, 5), (5, 5), (5, 5), (3, 5), (2, 2), (1, 1), (5, 5), (2, 2), (2, 2), (1, 1), (5, 5), (4, 5), (6, 6), (5, 5), (3, 2), (2, 2), (6, 6), (2, 2), (1, 1), (2, 2), (2, 2), (2, 2), (5, 5), (5, 5), (5, 5), (2, 2), (1, 1), (2, 2), (5, 5), (5, 5), (6, 6), (5, 5), (2, 2), (2, 2), (5, 5), (6, 6), (6, 6), (5, 5), (6, 6), (5, 5), (2, 2), (1, 1), (2, 2), (6, 6), (4, 5), (5, 5), (4, 5), (5, 5), (5, 5), (5, 5), (2, 2), (3, 2), (2, 2), (5, 5), (6, 6), (2, 2), (5, 5), (2, 2), (2, 2), (2, 2), (6, 6), (1, 1), (6, 6), (2, 2), (2, 2), (5, 5), (4, 2), (4, 5), (5, 5), (6, 6), (5, 5), (6, 6), (5, 5), (5, 5), (5, 5), (2, 2), (2, 2), (2, 2), (4, 5), (3, 2), (5, 5), (2, 2), (4, 5), (2, 2), (5, 5), (3, 2), (6, 6), (2, 2), (5, 5), (5, 5), (5, 5), (3, 2), (5, 5), (3, 5), (2, 2), (3, 5), (2, 2), (5, 5), (4, 2), (5, 5), (6, 6), (3, 2), (4, 2), (2, 2), (2, 2), (4, 5), (5, 5), (4, 5), (1, 1), (4, 5), (2, 2), (5, 5), (5, 5), (4, 2), (5, 5), (5, 5), (6, 6), (2, 2), (4, 5), (4, 5), (2, 2), (1, 1), (2, 2), (5, 5), (2, 2), (6, 6), (5, 5), (3, 2), (3, 2), (5, 5), (1, 1), (4, 5), (1, 1), (5, 5), (5, 5), (4, 5), (2, 2), (2, 2), (3, 5), (6, 6), (2, 2), (5, 5), (4, 5), (1, 1), (5, 5), (2, 2), (6, 6), (2, 2), (2, 2), (4, 5), (1, 1), (5, 5), (5, 5), (5, 5), (5, 5), (5, 5), (2, 2), (2, 2), (5, 5), (6, 6), (4, 5), (2, 2), (5, 5), (5, 5), (5, 5), (6, 6), (2, 2), (5, 5), (5, 5), (5, 5), (5, 5), (3, 2), (1, 1), (5, 5), (5, 5), (4, 5), (5, 5), (5, 5), (4, 5), (5, 5), (5, 5), (2, 2), (3, 5), (2, 2), (3, 2), (2, 2), (1, 1), (4, 5), (3, 2), (6, 6), (2, 2), (6, 6), (5, 5), (6, 6), (4, 5), (2, 2), (5, 5), (2, 2), (5, 5), (3, 2), (2, 2), (2, 2), (5, 5), (3, 5), (5, 5), (2, 2), (5, 5), (2, 2), (1, 1), (2, 2), (1, 1), (3, 2), (2, 2), (2, 2), (2, 2), (1, 1), (6, 6), (4, 5), (4, 5), (5, 5), (5, 5), (1, 1), (2, 2), (6, 6), (5, 5), (5, 5), (1, 1), (1, 1), (5, 5), (2, 2), (1, 1), (2, 2), (2, 2), (2, 2), (3, 2), (3, 2), (4, 5), (5, 5), (5, 5), (2, 2), (5, 5), (2, 2), (2, 2), (5, 5), (3, 2), (6, 6), (5, 5), (2, 2), (6, 6), (5, 5), (5, 5), (2, 2), (6, 6), (2, 2), (5, 5), (4, 5), (6, 6), (5, 5), (5, 5), (6, 6), (1, 1), (1, 1), (4, 5), (2, 2), (1, 1), (2, 2), (2, 2), (2, 2), (4, 5), (2, 2), (2, 2), (5, 5), (5, 5), (2, 2), (2, 2), (5, 5), (2, 2), (2, 2), (2, 2), (6, 6), (6, 6), (2, 2), (2, 2), (2, 2), (1, 1), (5, 5), (2, 2), (3, 2), (3, 5), (2, 2), (5, 5), (4, 5), (2, 2), (5, 5), (2, 2), (6, 6), (4, 2), (5, 5), (5, 5), (4, 5), (2, 2), (2, 2), (5, 5), (5, 5), (3, 2), (5, 5), (3, 2), (4, 5), (6, 6), (2, 2), (4, 5), (5, 5), (5, 5), (4, 2), (1, 1), (1, 1), (5, 5), (2, 2), (6, 6), (5, 5), (5, 5), (2, 2), (2, 2), (3, 2), (5, 5), (5, 5), (6, 6), (2, 2), (4, 5), (6, 6), (5, 5), (1, 1), (6, 6), (3, 2), (1, 1), (5, 5), (2, 2), (4, 5), (4, 2), (5, 5), (3, 2), (5, 5), (5, 5), (5, 5), (2, 2), (4, 5), (1, 1), (6, 6), (5, 5), (2, 2), (1, 1), (6, 6), (3, 2), (1, 1), (3, 2), (6, 6), (5, 5), (5, 5), (2, 2), (6, 6), (3, 5), (4, 5), (4, 5), (2, 2), (5, 5), (5, 5), (5, 5), (5, 5), (5, 5), (5, 5), (3, 2), (2, 2), (2, 2), (4, 2), (2, 2), (3, 2), (4, 5), (4, 5), (1, 1), (1, 1), (6, 6), (5, 5), (3, 2), (4, 5), (1, 1), (3, 2), (1, 1), (2, 2), (3, 2), (3, 5), (4, 5), (2, 2), (5, 5), (5, 5), (2, 2), (4, 2), (4, 2), (1, 1), (4, 5), (5, 5), (6, 6), (6, 6), (5, 5), (5, 5), (1, 1), (6, 6), (5, 5), (6, 6), (1, 1), (1, 1), (6, 6), (2, 2), (5, 5), (4, 5), (5, 5), (5, 5), (2, 2), (2, 2), (1, 1), (3, 2), (6, 6), (1, 1), (5, 5), (5, 5), (3, 5), (1, 1), (2, 2), (4, 5), (1, 1), (6, 6), (5, 5), (1, 1), (2, 2), (5, 5), (1, 1), (3, 2), (5, 5), (2, 2), (5, 5), (5, 5), (6, 6), (1, 1), (3, 2), (3, 2), (2, 2), (4, 5), (6, 6), (3, 2), (6, 6), (1, 1), (5, 5), (2, 2), (2, 2), (2, 2), (6, 6), (2, 2), (5, 5), (6, 6), (2, 2), (2, 2), (2, 2), (6, 6), (4, 5), (2, 2), (6, 6), (3, 2), (2, 2), (4, 5), (2, 2), (5, 5), (2, 2), (3, 2), (4, 5), (4, 5), (2, 2), (5, 5), (5, 5), (2, 2), (4, 5), (4, 5), (5, 5), (5, 5), (5, 5), (5, 5), (5, 5), (5, 5), (2, 2), (5, 5), (2, 2), (5, 5), (6, 6), (6, 6), (2, 2), (2, 2), (2, 2), (5, 5), (6, 6), (2, 2), (5, 5), (5, 5), (5, 5), (2, 2), (1, 1), (2, 2), (6, 6), (1, 1), (3, 5), (4, 2), (5, 5), (3, 5), (2, 2), (2, 2), (2, 2), (4, 2), (5, 5), (5, 5), (6, 6), (1, 1), (2, 2), (3, 5), (2, 2), (2, 2), (5, 5), (5, 5), (1, 1), (5, 5), (3, 2), (2, 2), (6, 6), (2, 2), (6, 6), (2, 2), (4, 5), (3, 2), (6, 6), (1, 1), (2, 2), (5, 5), (5, 5), (5, 5), (2, 2), (6, 6), (5, 5), (1, 1), (4, 5), (5, 5), (5, 5), (2, 2), (2, 2), (2, 2), (6, 6), (5, 5), (5, 5), (1, 1), (2, 2), (6, 6), (2, 2), (2, 2), (2, 2), (2, 2), (4, 5), (2, 2), (2, 2), (2, 2), (1, 1), (2, 2), (5, 5), (6, 6), (5, 5), (6, 6), (3, 2), (3, 2), (2, 2), (5, 5), (2, 2), (2, 2), (5, 5), (5, 5), (5, 5), (5, 5), (2, 2), (1, 1), (2, 2), (2, 2), (2, 2), (5, 5), (6, 6), (5, 5), (2, 2), (4, 5), (3, 2), (3, 2), (6, 6), (2, 2), (2, 2), (5, 5), (5, 5), (2, 2), (2, 2), (2, 2), (2, 2), (6, 6), (6, 6), (5, 5), (5, 5), (2, 2), (2, 2), (4, 5), (2, 2), (5, 5), (6, 6), (3, 2), (2, 2), (6, 6), (5, 5), (2, 2), (2, 2), (2, 2), (5, 5), (5, 5), (6, 6), (5, 5), (3, 2), (2, 2), (6, 6), (5, 5), (5, 5), (4, 5), (3, 2), (3, 5), (2, 2), (4, 5), (4, 5), (4, 2), (2, 2), (1, 1), (3, 2), (6, 6), (2, 2), (2, 2), (4, 5), (2, 2), (6, 6), (2, 2), (6, 6), (6, 6), (6, 6), (6, 6), (5, 5), (5, 5), (4, 2), (1, 1), (3, 2), (5, 5), (4, 5), (5, 5), (2, 2), (2, 2), (6, 6), (1, 1), (4, 5), (3, 2), (6, 6), (2, 2), (4, 5), (5, 5), (5, 5), (2, 2), (3, 2), (4, 2), (5, 5), (6, 6), (2, 2), (5, 5), (5, 5), (5, 5), (5, 5), (6, 6), (4, 5), (5, 5), (1, 1), (1, 1), (6, 6), (2, 2), (5, 5), (5, 5), (6, 6), (5, 5), (5, 5), (6, 6), (5, 5), (4, 5), (1, 1), (2, 2), (2, 2), (2, 2), (2, 2), (4, 5), (5, 5), (5, 5), (5, 5), (5, 5), (5, 5), (5, 5), (5, 5), (5, 5), (5, 5), (5, 5), (6, 6), (6, 6), (2, 2), (1, 1), (2, 2), (5, 5), (5, 5), (5, 5), (2, 2), (5, 5), (2, 2), (5, 5), (5, 5), (1, 1), (5, 5), (5, 5), (5, 5), (5, 5), (4, 5), (3, 2), (6, 6), (5, 5), (6, 6), (5, 5), (3, 2), (3, 2), (5, 5), (5, 5), (3, 2), (6, 6), (1, 1), (6, 6), (5, 5), (5, 5), (1, 1), (2, 2), (6, 6), (6, 6), (1, 1), (5, 5), (1, 1), (6, 6), (5, 5), (2, 2), (1, 1), (5, 5), (5, 5), (4, 5), (5, 5), (5, 5), (5, 5), (4, 5), (6, 6), (5, 5), (2, 2), (6, 6), (4, 2), (5, 5), (2, 2), (2, 2), (6, 6), (2, 2), (2, 2), (5, 5), (6, 6), (2, 2), (2, 2), (2, 2), (2, 2), (4, 5), (5, 5), (3, 2), (5, 5), (5, 5), (2, 2), (1, 1), (2, 2), (2, 2), (1, 1), (6, 6), (1, 1), (2, 2), (5, 5), (2, 2), (2, 2), (6, 6), (2, 2), (5, 5), (5, 5), (6, 6), (6, 6), (6, 6), (2, 2), (4, 5), (2, 2), (5, 5), (5, 5), (2, 2), (2, 2), (2, 2), (6, 6), (2, 2), (5, 5), (5, 5), (4, 5), (2, 2), (3, 2), (2, 2), (5, 5), (6, 6), (6, 6), (1, 1), (1, 1), (1, 1), (5, 5), (1, 1), (6, 6), (2, 2), (5, 5), (5, 5), (5, 5), (2, 2), (5, 5), (1, 1), (5, 5), (1, 1), (5, 5), (6, 6), (5, 5), (5, 5), (6, 6), (5, 5), (3, 5), (1, 1), (3, 5), (3, 5), (5, 5), (5, 5), (2, 2), (3, 2), (5, 5), (5, 5), (2, 2), (5, 5), (3, 2), (5, 5), (2, 2), (4, 5), (5, 5), (2, 2), (5, 5), (5, 5), (1, 1), (5, 5), (6, 6), (2, 2), (2, 2), (2, 2), (4, 2), (5, 5), (5, 5), (5, 5), (4, 5), (3, 2), (2, 2), (2, 2), (6, 6), (2, 2), (5, 5), (2, 2), (5, 5), (3, 2), (6, 6), (2, 2), (4, 5), (5, 5), (6, 6), (1, 1), (6, 6), (6, 6), (2, 2), (5, 5), (6, 6), (2, 2), (3, 2), (5, 5), (5, 5), (5, 5), (2, 2), (2, 2), (4, 5), (1, 1), (5, 5), (5, 5), (5, 5), (2, 2), (2, 2), (5, 5), (3, 2), (5, 5), (2, 2), (4, 5), (5, 5), (5, 5), (2, 2), (6, 6), (5, 5), (2, 2), (5, 5), (6, 6), (3, 2), (5, 5), (2, 2), (2, 2), (2, 2), (1, 1), (5, 5), (5, 5), (2, 2), (2, 2), (2, 2), (4, 2), (2, 2), (6, 6), (5, 5), (4, 5), (6, 6), (2, 2), (4, 5), (5, 5), (5, 5), (4, 5), (4, 5), (6, 6), (4, 2), (6, 6), (5, 5), (5, 5), (6, 6), (1, 1), (5, 5), (3, 5), (5, 5), (5, 5), (6, 6), (4, 5), (2, 2), (2, 2), (5, 5), (2, 2), (5, 5), (5, 5), (2, 2), (2, 2), (6, 6), (2, 2), (6, 6), (6, 6), (5, 5), (5, 5), (5, 5), (2, 2), (2, 2), (2, 2), (2, 2), (2, 2), (2, 2), (5, 5), (5, 5), (2, 2), (2, 2), (5, 5), (4, 5), (1, 1), (2, 2), (2, 2), (4, 5), (2, 2), (3, 5), (5, 5), (4, 2), (3, 2), (6, 6), (3, 2), (2, 2), (2, 2), (1, 1), (2, 2), (2, 2), (2, 2), (6, 6), (2, 2), (2, 2), (5, 5), (1, 1), (6, 6), (4, 5), (6, 6), (5, 5), (5, 5), (3, 5), (5, 5), (2, 2), (6, 6), (6, 6), (1, 1), (5, 5), (3, 5), (6, 6), (2, 2), (2, 2), (6, 6), (2, 2), (2, 2), (6, 6), (1, 1), (5, 5), (5, 5), (5, 5), (2, 2), (5, 5), (5, 5), (6, 6), (5, 5), (5, 5), (4, 5), (3, 2), (2, 2), (5, 5), (1, 1), (5, 5), (5, 5), (4, 2), (5, 5), (1, 1), (5, 5), (5, 5), (5, 5), (4, 2), (5, 5), (2, 2), (5, 5), (1, 1), (6, 6), (6, 6), (6, 6), (2, 2), (5, 5), (2, 2), (6, 6), (5, 5), (5, 5), (4, 5), (2, 2), (2, 2), (6, 6), (2, 2), (4, 5), (5, 5), (3, 2), (5, 5), (4, 5), (1, 1), (5, 5), (5, 5), (3, 2), (2, 2), (2, 2), (5, 5), (5, 5), (2, 2), (2, 2), (2, 2), (2, 2), (3, 5), (6, 6), (6, 6), (5, 5), (4, 5), (2, 2), (6, 6), (4, 5), (5, 5), (1, 1), (2, 2), (5, 5), (5, 5), (5, 5), (1, 1), (5, 5), (5, 5), (2, 2), (3, 5), (5, 5), (5, 5), (5, 5), (5, 5), (6, 6), (3, 2), (2, 2), (4, 5), (3, 5), (4, 2), (1, 1), (2, 2), (5, 5), (2, 2), (4, 5), (5, 5), (5, 5), (3, 2), (2, 2), (5, 5), (2, 2), (4, 5), (1, 1), (2, 2), (5, 5), (1, 1), (6, 6), (2, 2), (2, 2), (5, 5), (5, 5), (5, 5), (3, 2), (3, 2), (5, 5), (3, 2), (1, 1), (5, 5), (5, 5), (5, 5), (4, 5), (3, 2), (3, 2), (5, 5), (2, 2), (5, 5), (3, 2), (1, 1), (2, 2), (5, 5), (2, 2), (2, 2), (2, 2), (4, 5), (1, 1), (6, 6), (1, 1), (5, 5), (5, 5), (2, 2), (1, 1), (4, 5), (2, 2), (4, 5), (5, 5), (3, 2), (2, 2), (6, 6), (5, 5), (2, 2), (2, 2), (4, 5), (1, 1), (4, 5), (2, 2), (4, 5), (2, 2), (4, 5), (2, 2), (3, 2), (4, 5), (2, 2), (5, 5), (2, 2), (5, 5), (5, 5), (5, 5), (3, 2), (5, 5), (4, 5), (6, 6), (2, 2), (2, 2), (2, 2), (6, 6), (4, 2), (3, 2), (6, 6), (5, 5), (6, 6), (2, 2), (2, 2), (2, 2), (5, 5), (2, 2), (5, 5), (5, 5), (1, 1), (5, 5), (5, 5), (2, 2), (2, 2), (5, 5), (2, 2), (4, 5), (2, 2), (2, 2), (5, 5), (2, 2), (2, 2), (6, 6), (5, 5), (6, 6), (5, 5), (5, 5), (6, 6), (4, 5), (2, 2), (2, 2), (6, 6), (3, 5), (5, 5), (1, 1), (5, 5), (5, 5), (5, 5), (5, 5), (2, 2), (2, 2), (5, 5), (4, 5), (6, 6), (6, 6), (5, 5), (5, 5), (5, 5), (2, 2), (2, 2), (4, 5), (5, 5), (1, 1), (5, 5), (3, 5), (5, 5), (2, 2), (5, 5), (6, 6), (5, 5), (2, 2), (5, 5), (5, 5), (2, 2), (5, 5), (4, 5), (5, 5), (5, 5), (4, 5), (2, 2), (3, 2), (5, 5), (3, 2), (5, 5), (5, 5), (4, 2), (5, 5), (5, 5), (4, 5), (6, 6), (2, 2), (2, 2), (3, 2), (2, 2), (2, 2), (5, 5), (4, 5), (5, 5), (4, 5), (2, 2), (5, 5), (5, 5), (1, 1), (5, 5), (5, 5), (2, 2), (4, 5), (5, 5), (6, 6), (6, 6), (1, 1), (1, 1), (2, 2), (2, 2), (5, 5), (6, 6), (5, 5), (5, 5), (5, 5), (4, 5), (6, 6), (4, 2), (1, 1), (3, 2), (3, 2), (2, 2), (5, 5), (2, 2), (2, 2), (6, 6), (5, 5), (5, 5), (5, 5), (1, 1), (1, 1), (4, 5), (5, 5), (5, 5), (5, 5), (5, 5), (4, 2), (5, 5), (6, 6), (4, 5), (2, 2), (2, 2), (2, 2), (2, 2), (1, 1), (2, 2), (5, 5), (6, 6), (1, 1), (4, 5), (1, 1), (1, 1), (1, 1), (5, 5), (5, 5), (1, 1), (2, 2), (5, 5), (2, 2), (4, 5), (4, 5), (5, 5), (6, 6), (1, 1), (4, 5), (5, 5), (1, 1), (2, 2), (5, 5), (2, 2), (1, 1), (5, 5), (5, 5), (2, 2), (4, 5), (5, 5), (5, 5), (5, 5), (2, 2), (2, 2), (2, 2), (1, 1), (5, 5), (2, 2), (2, 2), (6, 6), (5, 5), (2, 2), (5, 5), (4, 5), (2, 2), (4, 5), (2, 2), (3, 5), (1, 1), (4, 5), (1, 1), (3, 2), (6, 6), (4, 5), (5, 5), (6, 6), (5, 5), (2, 2), (3, 2), (2, 2), (5, 5), (2, 2), (5, 5), (5, 5), (2, 2), (5, 5), (1, 1), (6, 6), (4, 2), (6, 6), (5, 5), (1, 1), (5, 5), (5, 5), (2, 2), (6, 6), (5, 5), (6, 6), (1, 1), (6, 6), (5, 5), (5, 5), (2, 2), (5, 5), (4, 5), (4, 5), (5, 5), (5, 5), (5, 5), (5, 5), (2, 2), (6, 6), (6, 6), (3, 2), (2, 2), (5, 5), (5, 5), (2, 2), (5, 5), (5, 5), (1, 1), (5, 5), (5, 5), (5, 5), (4, 5), (3, 5), (4, 5), (5, 5), (6, 6), (4, 5), (2, 2), (3, 2), (2, 2), (5, 5), (6, 6), (4, 5), (3, 2), (4, 5), (5, 5), (4, 5), (2, 2), (2, 2), (1, 1), (5, 5), (5, 5), (5, 5), (3, 2), (2, 2), (6, 6), (4, 5), (5, 5), (5, 5), (2, 2), (5, 5), (2, 2), (3, 2), (4, 5), (2, 2), (2, 2), (5, 5), (1, 1), (3, 2), (2, 2), (3, 2), (4, 2), (5, 5), (2, 2), (2, 2), (1, 1), (1, 1), (3, 5), (5, 5), (2, 2), (2, 2), (2, 2), (5, 5), (5, 5), (6, 6), (1, 1), (5, 5), (2, 2), (6, 6), (3, 5), (2, 2), (2, 2), (2, 2), (5, 5), (2, 2), (2, 2), (6, 6), (6, 6), (1, 1), (5, 5), (2, 2), (6, 6), (5, 5), (5, 5), (1, 1), (5, 5), (5, 5), (3, 2), (3, 2), (5, 5), (5, 5), (2, 2), (2, 2), (4, 5), (5, 5), (2, 2), (6, 6), (2, 2), (5, 5), (2, 2), (4, 5), (5, 5), (5, 5), (5, 5), (3, 2), (3, 2), (2, 2), (2, 2), (2, 2), (6, 6), (4, 5), (6, 6), (2, 2), (5, 5), (5, 5), (5, 5), (5, 5), (6, 6), (4, 5), (3, 5), (6, 6), (2, 2), (4, 5), (5, 5), (5, 5), (5, 5), (5, 5), (6, 6), (5, 5), (3, 2), (1, 1), (2, 2), (5, 5), (2, 2), (4, 5), (6, 6), (4, 5), (4, 5), (6, 6), (2, 2), (5, 5), (3, 2), (4, 5), (2, 2), (5, 5), (5, 5), (2, 2), (4, 5), (4, 5), (5, 5), (3, 2), (6, 6), (6, 6), (3, 5), (4, 2), (5, 5), (5, 5), (5, 5), (5, 5), (1, 1), (4, 2), (4, 2), (1, 1), (2, 2), (1, 1), (3, 2), (3, 5), (3, 5), (2, 2), (1, 1), (5, 5), (2, 2), (5, 5), (2, 2), (6, 6), (1, 1), (2, 2), (2, 2), (5, 5), (5, 5), (5, 5), (5, 5), (5, 5), (2, 2), (5, 5), (4, 2), (2, 2), (5, 5), (2, 2), (5, 5), (5, 5), (2, 2), (2, 2), (2, 2), (5, 5), (2, 2), (5, 5), (2, 2), (2, 2), (5, 5), (1, 1), (5, 5), (4, 2), (2, 2), (1, 1), (5, 5), (5, 5), (2, 2), (1, 1), (5, 5), (5, 5), (2, 2), (5, 5), (5, 5), (3, 2), (5, 5), (5, 5), (5, 5), (5, 5), (2, 2), (2, 2), (5, 5), (6, 6), (2, 2), (2, 2), (6, 6), (6, 6), (3, 2), (5, 5), (4, 5), (2, 2), (5, 5), (5, 5), (4, 5), (2, 2), (5, 5), (5, 5), (4, 5), (2, 2), (5, 5), (4, 5), (2, 2), (3, 2), (2, 2), (1, 1), (2, 2), (6, 6), (5, 5), (2, 2), (5, 5), (3, 2), (2, 2), (2, 2), (1, 1), (6, 6), (3, 2), (2, 2), (5, 5), (2, 2), (5, 5), (5, 5), (2, 2), (6, 6), (5, 5), (4, 5), (5, 5), (5, 5), (2, 2), (3, 5), (6, 6), (2, 2), (2, 2), (5, 5), (5, 5), (2, 2), (5, 5), (4, 5), (2, 2), (2, 2), (6, 6), (4, 5), (5, 5), (1, 1), (4, 5), (5, 5), (5, 5), (2, 2), (4, 5), (5, 5), (3, 2), (2, 2), (5, 5), (5, 5), (2, 2), (2, 2), (2, 2), (6, 6), (3, 2), (6, 6), (5, 5), (2, 2), (5, 5), (6, 6), (6, 6), (1, 1), (5, 5), (1, 1), (2, 2), (2, 2), (2, 2), (3, 2), (5, 5), (5, 5), (6, 6), (2, 2), (1, 1), (3, 2), (5, 5), (2, 2), (6, 6), (2, 2), (4, 2), (2, 2), (5, 5), (3, 5), (5, 5), (2, 2), (2, 2), (2, 2), (5, 5), (5, 5), (1, 1), (4, 5), (5, 5), (2, 2), (4, 5), (2, 2), (5, 5), (2, 2), (5, 5), (5, 5), (6, 6), (5, 5), (5, 5), (6, 6), (5, 5), (2, 2), (1, 1), (6, 6), (6, 6), (6, 6), (1, 1), (3, 2), (5, 5), (5, 5), (2, 2), (3, 5), (1, 1), (4, 2), (3, 5), (5, 5), (5, 5), (3, 2), (2, 2), (3, 2), (5, 5), (6, 6), (5, 5), (2, 2), (2, 2), (1, 1), (5, 5), (2, 2), (3, 2), (5, 5), (1, 1), (3, 5), (2, 2), (4, 5), (2, 2), (4, 5), (6, 6), (6, 6), (2, 2), (2, 2), (3, 2), (4, 5), (6, 6), (2, 2), (4, 5), (4, 5), (1, 1), (5, 5), (2, 2), (3, 5), (1, 1), (2, 2), (1, 1), (2, 2), (2, 2), (2, 2), (2, 2), (1, 1), (6, 6), (2, 2), (5, 5), (5, 5), (2, 2), (1, 1), (1, 1), (4, 5), (4, 5), (6, 6), (2, 2), (1, 1), (6, 6), (6, 6), (4, 5), (5, 5), (5, 5), (2, 2), (5, 5), (5, 5), (2, 2), (5, 5), (2, 2), (2, 2), (6, 6), (5, 5), (5, 5), (1, 1), (2, 2), (2, 2), (5, 5), (5, 5), (5, 5), (2, 2), (3, 2), (1, 1), (2, 2), (6, 6), (5, 5), (4, 2), (1, 1), (2, 2), (4, 5), (1, 1), (5, 5), (2, 2), (5, 5), (5, 5), (2, 2), (5, 5), (4, 5), (5, 5), (1, 1), (2, 2), (2, 2), (1, 1), (2, 2), (5, 5), (4, 5), (6, 6), (5, 5), (2, 2), (4, 5), (5, 5), (2, 2), (1, 1), (2, 2), (6, 6), (5, 5), (5, 5), (1, 1), (4, 5), (1, 1), (3, 2), (2, 2), (5, 5), (1, 1), (3, 5), (2, 2), (6, 6), (2, 2), (2, 2), (5, 5), (4, 5), (5, 5), (2, 2), (3, 2), (5, 5), (2, 2), (2, 2), (3, 5), (4, 5), (1, 1), (2, 2), (2, 2), (5, 5), (2, 2), (5, 5), (3, 2), (2, 2), (2, 2), (3, 2), (6, 6), (1, 1), (5, 5), (2, 2), (4, 5), (5, 5), (6, 6), (4, 2), (2, 2), (6, 6), (5, 5), (3, 2), (5, 5), (3, 2), (4, 5), (5, 5), (5, 5), (1, 1), (2, 2), (2, 2), (2, 2), (2, 2), (2, 2), (5, 5), (3, 5), (2, 2), (6, 6), (2, 2), (2, 2), (2, 2), (1, 1), (2, 2), (5, 5), (6, 6), (4, 5), (1, 1), (3, 2), (2, 2), (5, 5), (6, 6), (5, 5), (6, 6), (6, 6), (2, 2), (1, 1), (2, 2), (5, 5), (5, 5), (2, 2), (1, 1), (6, 6), (5, 5), (5, 5), (2, 2), (6, 6), (1, 1), (2, 2), (5, 5), (3, 2), (5, 5), (5, 5), (2, 2), (1, 1), (2, 2), (1, 1), (5, 5), (2, 2), (3, 2), (5, 5), (3, 2), (2, 2), (2, 2), (5, 5), (5, 5), (2, 2), (2, 2), (5, 5), (1, 1), (6, 6), (3, 2), (2, 2), (1, 1), (4, 5), (5, 5), (6, 6), (1, 1), (2, 2), (1, 1), (3, 2), (5, 5), (5, 5), (2, 2), (3, 2), (5, 5), (5, 5), (6, 6), (2, 2), (4, 5), (3, 2), (3, 2), (5, 5), (5, 5), (6, 6), (2, 2), (3, 2), (2, 2), (1, 1), (5, 5), (4, 5), (5, 5), (2, 2), (4, 5), (4, 2), (6, 6), (3, 2), (6, 6), (1, 1), (6, 6), (5, 5), (3, 2), (3, 5), (3, 2), (2, 2), (6, 6), (2, 2), (3, 2), (1, 1), (5, 5), (5, 5), (5, 5), (1, 1), (2, 2), (6, 6), (4, 5), (5, 5), (4, 5), (4, 5), (2, 2), (5, 5), (2, 2), (5, 5), (2, 2), (6, 6), (1, 1), (2, 2), (5, 5), (2, 2), (2, 2), (2, 2), (5, 5), (2, 2), (1, 1), (5, 5), (5, 5), (3, 2), (3, 2), (2, 2), (5, 5), (3, 5), (2, 2), (2, 2), (5, 5), (5, 5), (5, 5), (4, 2), (2, 2), (1, 1), (5, 5), (4, 5), (2, 2), (5, 5), (2, 2), (5, 5), (5, 5), (4, 5), (2, 2), (2, 2), (6, 6), (2, 2), (2, 2), (2, 2), (1, 1), (5, 5), (2, 2), (2, 2), (2, 2), (3, 2), (2, 2), (5, 5), (5, 5), (1, 1), (2, 2), (6, 6), (5, 5), (2, 2), (2, 2), (3, 2), (2, 2), (5, 5), (2, 2), (2, 2), (5, 5), (4, 5), (5, 5), (5, 5), (5, 5), (4, 5), (6, 6), (6, 6), (2, 2), (2, 2), (2, 2), (5, 5), (2, 2), (5, 5), (5, 5), (5, 5), (4, 5), (2, 2), (5, 5), (6, 6), (2, 2), (1, 1), (2, 2), (2, 2), (5, 5), (6, 6), (1, 1), (4, 2), (1, 1), (5, 5), (5, 5), (2, 2), (1, 1), (1, 1), (5, 5), (2, 2), (5, 5), (1, 1), (2, 2), (2, 2), (4, 5), (2, 2), (2, 2), (5, 5), (2, 2), (2, 2), (1, 1), (4, 5), (2, 2), (2, 2), (1, 1), (5, 5), (5, 5), (5, 5), (5, 5), (2, 2), (5, 5), (1, 1), (3, 2), (5, 5), (5, 5), (2, 2), (5, 5), (1, 1), (5, 5), (1, 1), (3, 2), (2, 2), (6, 6), (5, 5), (2, 2), (1, 1), (6, 6), (1, 1), (1, 1), (5, 5), (6, 6), (5, 5), (2, 2), (2, 2), (4, 5), (4, 5), (3, 2), (1, 1), (5, 5), (1, 1), (2, 2), (2, 2), (6, 6), (5, 5), (5, 5), (5, 5), (1, 1), (5, 5), (5, 5), (2, 2), (5, 5), (1, 1), (5, 5), (6, 6), (1, 1), (4, 5), (6, 6), (6, 6), (2, 2), (2, 2), (2, 2), (5, 5), (2, 2), (4, 5), (3, 2), (3, 2), (2, 2), (6, 6), (5, 5), (6, 6), (5, 5), (2, 2), (5, 5), (1, 1), (2, 2), (6, 6), (5, 5), (5, 5), (4, 5), (4, 2), (1, 1), (2, 2), (5, 5), (5, 5), (4, 5), (6, 6), (6, 6), (6, 6), (1, 1), (2, 2), (2, 2), (4, 5), (3, 5), (5, 5), (6, 6), (3, 2), (4, 5), (2, 2), (6, 6), (2, 2), (5, 5), (6, 6), (1, 1), (4, 5), (1, 1), (3, 2), (6, 6), (6, 6), (3, 5), (2, 2), (6, 6), (2, 2), (5, 5), (5, 5), (5, 5), (5, 5), (2, 2), (5, 5), (1, 1), (5, 5), (5, 5), (2, 2), (6, 6), (5, 5), (2, 2), (5, 5), (2, 2), (5, 5), (5, 5), (4, 5), (2, 2), (2, 2), (4, 5), (2, 2), (2, 2), (2, 2), (2, 2), (2, 2), (6, 6), (2, 2), (2, 2), (5, 5), (5, 5), (5, 5), (1, 1), (1, 1), (6, 6), (1, 1), (2, 2), (2, 2), (4, 5), (5, 5), (4, 5), (5, 5), (2, 2), (3, 2), (6, 6), (2, 2), (5, 5), (5, 5), (1, 1), (3, 2), (4, 5), (6, 6), (5, 5), (2, 2), (5, 5), (5, 5), (4, 5), (4, 2), (2, 2), (2, 2), (5, 5), (3, 2), (5, 5), (2, 2), (5, 5), (4, 5), (1, 1), (3, 2), (2, 2), (6, 6), (5, 5), (2, 2), (5, 5), (1, 1), (4, 5), (5, 5), (2, 2), (5, 5), (5, 5), (2, 2), (5, 5), (2, 2), (2, 2), (5, 5), (5, 5), (3, 2), (6, 6), (5, 5), (1, 1), (2, 2), (4, 5), (2, 2), (5, 5), (6, 6), (3, 5), (6, 6), (2, 2), (6, 6), (5, 5), (2, 2), (5, 5), (5, 5), (5, 5), (4, 5), (3, 2), (6, 6), (3, 5), (6, 6), (2, 2), (1, 1), (4, 5), (4, 5), (5, 5), (2, 2), (2, 2), (5, 5), (2, 2), (4, 2), (5, 5), (5, 5), (5, 5), (3, 2), (2, 2), (6, 6), (5, 5), (6, 6), (2, 2), (2, 2), (2, 2), (5, 5), (6, 6), (2, 2), (5, 5), (6, 6), (4, 2), (3, 2), (5, 5), (5, 5), (4, 5), (2, 2), (1, 1), (3, 2), (6, 6), (5, 5), (2, 2), (6, 6), (2, 2), (5, 5), (2, 2), (5, 5), (4, 5), (5, 5), (5, 5), (3, 2), (4, 5), (5, 5), (2, 2), (3, 5), (3, 2), (1, 1), (3, 2), (3, 2), (4, 5), (2, 2), (5, 5), (4, 5), (2, 2), (2, 2), (5, 5), (6, 6), (2, 2), (2, 2), (2, 2), (5, 5), (5, 5), (5, 5), (2, 2), (2, 2), (4, 5), (1, 1), (2, 2), (5, 5), (5, 5), (1, 1), (2, 2), (5, 5), (5, 5), (5, 5), (5, 5), (5, 5), (2, 2), (1, 1), (5, 5), (4, 5), (2, 2), (6, 6), (3, 2), (2, 2), (5, 5), (5, 5), (2, 2), (6, 6), (1, 1), (5, 5), (3, 2), (5, 5), (5, 5), (2, 2), (2, 2), (1, 1), (1, 1), (1, 1), (3, 5), (6, 6), (2, 2), (5, 5), (2, 2), (3, 2), (1, 1), (5, 5), (5, 5), (4, 5), (5, 5), (5, 5), (5, 5), (1, 1), (5, 5), (5, 5), (5, 5), (2, 2), (2, 2), (2, 2), (1, 1), (5, 5), (6, 6), (5, 5), (5, 5), (1, 1), (5, 5), (5, 5), (2, 2), (2, 2), (5, 5), (3, 5), (2, 2), (2, 2), (2, 2), (5, 5), (2, 2), (2, 2), (4, 5), (5, 5), (2, 2), (5, 5), (3, 2), (2, 2), (4, 5), (5, 5), (1, 1), (5, 5), (3, 2), (2, 2), (2, 2), (5, 5), (1, 1), (3, 5), (5, 5), (5, 5), (1, 1), (2, 2), (5, 5), (2, 2), (2, 2), (2, 2), (6, 6), (5, 5), (5, 5), (2, 2), (5, 5), (2, 2), (2, 2), (5, 5), (4, 5), (5, 5), (3, 2), (5, 5), (6, 6), (2, 2), (5, 5), (2, 2), (2, 2), (3, 5), (4, 2), (3, 5), (5, 5), (5, 5), (5, 5), (5, 5), (5, 5), (5, 5), (3, 2), (5, 5), (2, 2), (2, 2), (2, 2), (3, 2), (5, 5), (2, 2), (5, 5), (4, 5), (2, 2), (1, 1), (1, 1), (2, 2), (2, 2), (4, 5), (5, 5), (2, 2), (5, 5), (5, 5), (5, 5), (6, 6), (2, 2), (5, 5), (2, 2), (5, 5), (1, 1), (5, 5), (3, 2), (3, 5), (4, 5), (1, 1), (2, 2), (5, 5), (2, 2), (6, 6), (6, 6), (5, 5), (2, 2), (6, 6), (5, 5), (1, 1), (1, 1), (2, 2), (5, 5), (4, 5), (4, 5), (5, 5), (5, 5), (5, 5), (5, 5), (2, 2), (6, 6), (5, 5), (1, 1), (2, 2), (5, 5), (2, 2), (3, 2), (3, 2), (2, 2), (3, 2), (2, 2), (3, 2), (2, 2), (5, 5), (2, 2), (2, 2), (5, 5), (4, 2), (6, 6), (5, 5), (2, 2), (5, 5), (6, 6), (5, 5), (5, 5), (2, 2), (2, 2), (5, 5), (5, 5), (5, 5), (2, 2), (5, 5), (6, 6), (3, 2), (5, 5), (5, 5), (5, 5), (6, 6), (3, 5), (5, 5), (2, 2), (6, 6), (5, 5), (2, 2), (5, 5), (1, 1), (5, 5), (3, 2), (5, 5), (5, 5), (2, 2), (2, 2), (4, 2), (5, 5), (5, 5), (2, 2), (3, 5), (2, 2), (5, 5), (2, 2), (5, 5), (5, 5), (6, 6), (2, 2), (5, 5), (6, 6), (5, 5), (2, 2), (1, 1), (2, 2), (4, 5), (4, 5), (1, 1), (1, 1), (3, 2), (2, 2), (2, 2), (6, 6), (2, 2), (5, 5), (2, 2), (3, 2), (3, 2), (5, 5), (2, 2), (5, 5), (5, 5), (4, 2), (3, 2), (2, 2), (5, 5), (3, 2), (1, 1), (1, 1), (5, 5), (2, 2), (2, 2), (2, 2), (5, 5), (1, 1), (2, 2), (2, 2), (3, 5), (3, 2), (5, 5), (3, 5), (4, 5), (6, 6), (5, 5), (4, 5), (5, 5), (6, 6), (4, 5), (3, 2), (5, 5), (2, 2), (4, 5), (5, 5), (2, 2), (1, 1), (2, 2), (1, 1), (5, 5), (1, 1), (5, 5), (2, 2), (5, 5), (4, 5), (2, 2), (4, 5), (2, 2), (5, 5), (5, 5), (4, 5), (1, 1), (5, 5), (5, 5), (6, 6), (2, 2), (6, 6), (5, 5), (5, 5), (2, 2), (1, 1), (2, 2), (6, 6), (6, 6), (2, 2), (5, 5), (1, 1), (6, 6), (5, 5), (3, 2), (2, 2), (2, 2), (5, 5), (5, 5), (5, 5), (2, 2), (2, 2), (5, 5), (1, 1), (6, 6), (2, 2), (2, 2), (5, 5), (5, 5), (2, 2), (2, 2), (5, 5), (5, 5), (4, 5), (4, 2), (2, 2), (3, 2), (5, 5), (2, 2), (5, 5), (1, 1), (1, 1), (1, 1), (2, 2), (1, 1), (5, 5), (2, 2), (1, 1), (5, 5), (6, 6), (5, 5), (2, 2), (4, 2), (2, 2), (3, 2), (6, 6), (2, 2), (1, 1), (5, 5), (5, 5), (2, 2), (6, 6), (1, 1), (1, 1), (5, 5), (2, 2), (5, 5), (5, 5), (5, 5), (4, 5), (3, 2), (5, 5), (5, 5), (1, 1), (4, 5), (2, 2), (2, 2), (2, 2), (4, 5), (2, 2), (5, 5), (6, 6), (3, 5), (2, 2), (2, 2), (5, 5), (3, 2), (5, 5), (2, 2), (4, 5), (4, 5), (2, 2), (2, 2), (5, 5), (1, 1), (5, 5), (5, 5), (1, 1), (4, 2), (5, 5), (2, 2), (2, 2), (5, 5), (5, 5), (2, 2), (3, 2), (2, 2), (5, 5), (5, 5), (2, 2), (5, 5), (5, 5), (4, 5), (4, 5), (5, 5), (2, 2), (6, 6), (2, 2), (2, 2), (6, 6), (2, 2), (5, 5), (5, 5), (5, 5), (1, 1), (5, 5), (2, 2), (1, 1), (3, 2), (2, 2), (5, 5), (5, 5), (5, 5), (2, 2), (6, 6), (1, 1), (6, 6), (6, 6), (6, 6), (5, 5), (2, 2), (5, 5), (5, 5), (4, 5), (6, 6), (5, 5), (3, 2), (3, 2), (2, 2), (6, 6), (2, 2), (2, 2), (5, 5), (4, 2), (3, 2), (6, 6), (5, 5), (4, 2), (6, 6), (2, 2), (5, 5), (5, 5), (2, 2), (2, 2), (5, 5), (5, 5), (2, 2), (4, 5), (2, 2), (2, 2), (5, 5), (5, 5), (5, 5), (5, 5), (5, 5), (5, 5), (2, 2), (2, 2), (2, 2), (2, 2), (5, 5), (1, 1), (2, 2), (1, 1), (3, 2), (5, 5), (1, 1), (2, 2), (4, 5), (5, 5), (2, 2), (3, 2), (4, 5), (5, 5), (2, 2), (5, 5), (6, 6), (2, 2), (5, 5), (2, 2), (6, 6), (2, 2), (3, 5), (5, 5), (2, 2), (2, 2), (2, 2), (5, 5), (6, 6), (3, 2), (5, 5), (5, 5), (1, 1), (1, 1), (4, 2), (5, 5), (2, 2), (1, 1), (5, 5), (4, 5), (5, 5), (4, 2), (5, 5), (2, 2), (2, 2), (5, 5), (5, 5), (2, 2), (5, 5), (6, 6), (6, 6), (5, 5), (2, 2), (2, 2), (4, 5), (6, 6), (5, 5), (3, 5), (2, 2), (5, 5), (1, 1), (4, 5), (5, 5), (2, 2), (5, 5), (5, 5), (2, 2), (4, 5), (1, 1), (5, 5), (5, 5), (5, 5), (5, 5), (6, 6), (5, 5), (4, 5), (2, 2), (5, 5), (1, 1), (5, 5), (3, 2), (2, 2), (5, 5), (1, 1), (1, 1), (3, 2), (2, 2), (2, 2), (5, 5), (6, 6), (4, 5), (6, 6), (1, 1), (2, 2), (5, 5), (2, 2), (5, 5), (5, 5), (5, 5), (2, 2), (5, 5), (2, 2), (2, 2), (4, 5), (5, 5), (5, 5), (5, 5), (5, 5), (2, 2), (1, 1), (5, 5), (2, 2), (2, 2), (5, 5), (5, 5), (6, 6), (2, 2), (2, 2), (5, 5), (4, 5), (6, 6), (5, 5), (5, 5), (5, 5), (5, 5), (4, 5), (2, 2), (5, 5), (1, 1), (2, 2), (3, 2), (3, 5), (2, 2), (5, 5), (1, 1), (5, 5), (4, 5), (2, 2), (6, 6), (2, 2), (5, 5), (5, 5), (2, 2), (2, 2), (6, 6), (5, 5), (5, 5), (3, 5), (2, 2), (2, 2), (2, 2), (5, 5), (1, 1), (4, 5), (6, 6), (3, 2), (2, 2), (6, 6), (5, 5), (5, 5), (5, 5), (5, 5), (5, 5), (5, 5), (2, 2), (3, 2), (2, 2), (5, 5), (2, 2), (6, 6), (3, 2), (2, 2), (2, 2), (3, 2), (2, 2), (2, 2), (2, 2), (6, 6), (6, 6), (6, 6), (5, 5), (5, 5), (2, 2), (5, 5), (5, 5), (6, 6), (6, 6), (3, 2), (4, 5), (5, 5), (2, 2), (5, 5), (2, 2), (2, 2), (4, 5), (5, 5), (2, 2), (2, 2), (4, 5), (5, 5), (4, 5), (2, 2), (4, 2), (5, 5), (2, 2), (5, 5), (4, 5), (2, 2), (4, 2), (1, 1), (6, 6), (2, 2), (2, 2), (2, 2), (5, 5), (5, 5), (1, 1), (2, 2), (5, 5), (2, 2), (5, 5), (5, 5), (2, 2), (4, 5), (5, 5), (2, 2), (2, 2), (6, 6), (2, 2), (2, 2), (1, 1), (3, 2), (6, 6), (2, 2), (5, 5), (5, 5), (2, 2), (2, 2), (2, 2), (2, 2), (6, 6), (2, 2), (4, 2), (6, 6), (2, 2), (5, 5), (1, 1), (5, 5), (5, 5), (5, 5), (5, 5), (5, 5), (2, 2), (2, 2), (5, 5), (3, 5), (3, 2), (5, 5), (5, 5), (5, 5), (1, 1), (2, 2), (5, 5), (2, 2), (3, 2), (2, 2), (4, 2), (6, 6), (2, 2), (2, 2), (6, 6), (5, 5), (2, 2), (1, 1), (5, 5), (5, 5), (1, 1), (2, 2), (2, 2), (6, 6), (4, 5), (5, 5), (5, 5), (2, 2), (2, 2), (1, 1), (1, 1), (5, 5), (4, 5), (1, 1), (4, 5), (4, 5), (6, 6), (1, 1), (5, 5), (2, 2), (3, 2), (3, 2), (5, 5), (4, 5), (5, 5), (5, 5), (3, 2), (2, 2), (5, 5), (5, 5), (2, 2), (5, 5), (3, 5), (3, 5), (5, 5), (5, 5), (6, 6), (6, 6), (5, 5), (5, 5), (4, 5), (2, 2), (1, 1), (2, 2), (2, 2), (5, 5), (2, 2), (5, 5), (2, 2), (5, 5), (4, 2), (5, 5), (6, 6), (2, 2), (1, 1), (4, 5), (5, 5), (5, 5), (5, 5), (1, 1), (5, 5), (3, 2), (2, 2), (5, 5), (5, 5), (2, 2), (2, 2), (3, 5), (3, 2), (2, 2), (6, 6), (6, 6), (4, 2), (4, 2), (5, 5), (2, 2), (5, 5), (6, 6), (2, 2), (2, 2), (2, 2), (6, 6), (5, 5), (6, 6), (4, 5), (2, 2), (6, 6), (2, 2), (4, 5), (6, 6), (5, 5), (1, 1), (1, 1), (5, 5), (4, 2), (2, 2), (2, 2), (1, 1), (6, 6), (3, 2), (1, 1), (2, 2), (2, 2), (4, 2), (5, 5), (2, 2), (4, 2), (2, 2), (2, 2), (5, 5), (4, 2), (3, 5), (4, 5), (5, 5), (5, 5), (5, 5), (2, 2), (2, 2), (1, 1), (5, 5), (5, 5), (1, 1), (6, 6), (5, 5), (4, 5), (2, 2), (5, 5), (4, 2), (6, 6), (2, 2), (2, 2), (5, 5), (1, 1), (5, 5), (4, 2), (2, 2), (5, 5), (6, 6), (5, 5), (4, 5), (2, 2), (5, 5), (2, 2), (3, 2), (4, 5), (1, 1), (1, 1), (4, 5), (4, 5), (2, 2), (5, 5), (1, 1), (6, 6), (4, 5), (5, 5), (5, 5), (5, 5), (5, 5), (5, 5), (1, 1), (5, 5), (2, 2), (5, 5), (5, 5), (5, 5), (5, 5), (2, 2), (5, 5), (5, 5), (5, 5), (6, 6), (2, 2), (2, 2), (4, 5), (2, 2), (2, 2), (5, 5), (6, 6), (1, 1), (2, 2), (3, 2), (4, 5), (2, 2), (6, 6), (2, 2), (5, 5), (5, 5), (5, 5), (5, 5), (2, 2), (6, 6), (4, 5), (2, 2), (5, 5), (5, 5), (5, 5), (2, 2), (4, 5), (4, 5), (2, 2), (2, 2), (5, 5), (4, 5), (2, 2), (2, 2), (5, 5), (1, 1), (1, 1), (2, 2), (5, 5), (2, 2), (2, 2), (5, 5), (5, 5), (4, 2), (3, 5), (2, 2), (4, 5), (2, 2), (3, 2), (2, 2), (4, 5), (4, 5), (5, 5), (5, 5), (5, 5), (5, 5), (5, 5), (6, 6), (1, 1), (5, 5), (3, 5), (2, 2), (1, 1), (1, 1), (5, 5), (5, 5), (2, 2), (5, 5), (1, 1), (2, 2), (2, 2), (4, 5), (4, 5), (2, 2), (2, 2), (2, 2), (6, 6), (2, 2), (5, 5), (5, 5), (5, 5), (2, 2), (5, 5), (5, 5), (5, 5), (5, 5), (1, 1), (2, 2), (2, 2), (2, 2), (5, 5), (2, 2), (5, 5), (2, 2), (1, 1), (4, 5), (2, 2), (4, 2), (2, 2), (5, 5), (4, 2), (5, 5), (5, 5), (2, 2), (3, 2), (1, 1), (5, 5), (5, 5), (5, 5), (1, 1), (5, 5), (2, 2), (2, 2), (2, 2), (5, 5), (2, 2), (1, 1), (5, 5), (2, 2), (5, 5), (5, 5), (1, 1), (1, 1), (5, 5), (3, 2), (4, 5), (5, 5), (4, 5), (5, 5), (3, 2), (1, 1), (1, 1), (5, 5), (3, 5), (4, 5), (5, 5), (1, 1), (5, 5), (2, 2), (3, 2), (2, 2), (4, 5), (2, 2), (6, 6), (5, 5), (5, 5), (5, 5), (5, 5), (5, 5), (4, 2), (2, 2), (4, 5), (6, 6), (3, 5), (5, 5), (6, 6), (2, 2), (2, 2), (1, 1), (2, 2), (5, 5), (2, 2), (2, 2), (1, 1), (2, 2), (1, 1), (6, 6), (2, 2), (3, 5), (2, 2), (4, 2), (1, 1), (2, 2), (3, 5), (2, 2), (2, 2), (5, 5), (6, 6), (6, 6), (2, 2), (4, 5), (4, 5), (4, 5), (4, 2), (2, 2), (4, 2), (2, 2), (5, 5), (5, 5), (4, 5), (3, 5), (2, 2), (2, 2), (5, 5), (3, 2), (1, 1), (1, 1), (2, 2), (6, 6), (5, 5), (2, 2), (2, 2), (5, 5), (2, 2), (6, 6), (2, 2), (2, 2), (4, 2), (2, 2), (6, 6), (5, 5), (6, 6), (6, 6), (4, 5), (1, 1), (5, 5), (2, 2), (2, 2), (2, 2), (2, 2), (6, 6), (5, 5), (2, 2), (1, 1), (1, 1), (5, 5), (5, 5), (4, 5), (6, 6), (5, 5), (5, 5), (5, 5), (2, 2), (5, 5), (2, 2), (5, 5), (3, 2), (5, 5), (6, 6), (5, 5), (1, 1), (5, 5), (5, 5), (4, 5), (2, 2), (5, 5), (1, 1), (5, 5), (3, 2), (4, 2), (4, 5), (4, 2), (2, 2), (1, 1), (5, 5), (2, 2), (2, 2), (4, 2), (5, 5), (1, 1), (5, 5), (5, 5), (6, 6), (2, 2), (5, 5), (6, 6), (1, 1), (2, 2), (2, 2), (1, 1), (4, 5), (5, 5), (5, 5), (1, 1), (2, 2), (3, 2), (2, 2), (4, 5), (2, 2), (2, 2), (4, 5), (6, 6), (2, 2), (5, 5), (1, 1), (6, 6), (5, 5), (5, 5), (2, 2), (5, 5), (4, 5), (5, 5), (3, 2), (2, 2), (6, 6), (5, 5), (2, 2), (5, 5), (2, 2), (5, 5), (5, 5), (3, 2), (4, 5), (3, 2), (2, 2), (6, 6), (2, 2), (6, 6), (4, 5), (2, 2), (6, 6), (5, 5), (5, 5), (1, 1), (2, 2), (6, 6), (6, 6), (2, 2), (2, 2), (5, 5), (5, 5), (2, 2), (2, 2), (3, 5), (1, 1), (3, 2), (5, 5), (4, 5), (3, 2), (5, 5), (2, 2), (1, 1), (5, 5), (2, 2), (2, 2), (6, 6), (4, 5), (4, 5), (2, 2), (3, 5), (5, 5), (2, 2), (2, 2), (5, 5), (3, 2), (5, 5), (5, 5), (1, 1), (6, 6), (2, 2), (4, 5), (2, 2), (1, 1), (2, 2), (4, 5), (2, 2), (5, 5), (5, 5), (2, 2), (2, 2), (6, 6), (5, 5), (2, 2), (3, 2), (2, 2), (6, 6), (5, 5), (6, 6), (5, 5), (5, 5), (5, 5), (6, 6), (5, 5), (3, 2), (6, 6), (4, 2), (5, 5), (2, 2), (3, 5), (5, 5), (2, 2), (6, 6), (3, 2), (1, 1), (5, 5), (2, 2), (1, 1), (1, 1), (4, 2), (6, 6), (5, 5), (3, 2), (5, 5), (3, 2), (2, 2), (6, 6), (3, 5), (2, 2), (1, 1), (5, 5), (2, 2), (5, 5), (2, 2), (1, 1), (6, 6), (1, 1), (2, 2), (3, 5), (5, 5), (6, 6), (6, 6), (3, 2), (1, 1), (2, 2), (5, 5), (2, 2), (2, 2), (5, 5), (5, 5), (1, 1), (5, 5), (5, 5), (5, 5), (5, 5), (2, 2), (2, 2), (1, 1), (5, 5), (5, 5), (5, 5), (6, 6), (4, 2), (1, 1), (3, 2), (4, 5), (4, 5), (5, 5), (3, 2), (2, 2), (4, 5), (2, 2), (4, 5), (3, 2), (1, 1), (2, 2), (2, 2), (5, 5), (2, 2), (6, 6), (5, 5), (5, 5), (2, 2), (5, 5), (1, 1), (4, 5), (5, 5), (6, 6), (2, 2), (2, 2), (5, 5), (2, 2), (2, 2), (5, 5), (5, 5), (5, 5), (4, 2), (2, 2), (2, 2), (6, 6), (5, 5), (5, 5), (5, 5), (2, 2), (6, 6), (5, 5), (1, 1), (2, 2), (5, 5), (2, 2), (2, 2), (4, 5), (1, 1), (6, 6), (2, 2), (3, 5), (2, 2), (4, 5), (5, 5), (5, 5), (2, 2), (3, 2), (2, 2), (1, 1), (2, 2), (3, 2), (6, 6), (5, 5), (1, 1), (2, 2), (5, 5), (2, 2), (3, 2), (2, 2), (2, 2), (5, 5), (2, 2), (4, 5), (5, 5), (1, 1), (5, 5), (3, 2), (5, 5), (5, 5), (5, 5), (2, 2), (1, 1), (6, 6), (6, 6), (2, 2), (3, 2), (3, 5), (5, 5), (3, 5), (4, 5), (5, 5), (4, 5), (2, 2), (4, 2), (5, 5), (4, 5), (2, 2), (3, 5), (1, 1), (3, 2), (3, 2), (5, 5), (2, 2), (1, 1), (1, 1), (4, 2), (1, 1), (6, 6), (2, 2), (5, 5), (2, 2), (6, 6), (6, 6), (5, 5), (6, 6), (2, 2), (2, 2), (2, 2), (5, 5), (1, 1), (5, 5), (2, 2), (5, 5), (2, 2), (5, 5), (5, 5), (4, 2), (2, 2), (5, 5), (5, 5), (1, 1), (1, 1), (4, 5), (6, 6), (4, 5), (2, 2), (3, 5), (4, 5), (5, 5), (6, 6), (5, 5), (4, 5), (5, 5), (3, 2), (6, 6), (1, 1), (6, 6), (5, 5), (2, 2), (1, 1), (1, 1), (4, 5), (6, 6), (2, 2), (5, 5), (2, 2), (1, 1), (4, 5), (6, 6), (1, 1), (2, 2), (4, 5), (4, 2), (5, 5), (2, 2), (3, 2), (5, 5), (1, 1), (1, 1), (2, 2), (2, 2), (5, 5), (3, 5), (5, 5), (1, 1), (2, 2), (3, 2), (3, 5), (6, 6), (2, 2), (5, 5), (1, 1), (3, 2), (2, 2), (4, 2), (5, 5), (2, 2), (2, 2), (2, 2), (6, 6), (4, 5), (5, 5), (5, 5), (5, 5), (2, 2), (1, 1), (5, 5), (2, 2), (1, 1), (6, 6), (2, 2), (5, 5), (4, 5), (2, 2), (2, 2), (4, 5), (6, 6), (3, 5), (2, 2), (2, 2), (5, 5), (5, 5), (4, 5), (5, 5), (5, 5), (5, 5), (5, 5), (2, 2), (5, 5), (1, 1), (2, 2), (3, 2), (5, 5), (6, 6), (5, 5), (2, 2), (4, 5), (5, 5), (5, 5), (3, 5), (1, 1), (5, 5), (1, 1), (5, 5), (4, 5), (5, 5), (5, 5), (4, 5), (2, 2), (1, 1), (4, 2), (2, 2), (1, 1), (2, 2), (5, 5), (1, 1), (5, 5), (6, 6), (3, 2), (1, 1), (3, 2), (4, 5), (4, 5), (5, 5), (3, 2), (2, 2), (6, 6), (6, 6), (3, 5), (2, 2), (4, 5), (3, 2), (5, 5), (2, 2), (6, 6), (3, 5), (4, 5), (2, 2), (1, 1), (2, 2), (1, 1), (5, 5), (5, 5), (2, 2), (2, 2), (5, 5), (1, 1), (5, 5), (4, 5), (5, 5), (5, 5), (5, 5), (6, 6), (2, 2), (1, 1), (2, 2), (3, 5), (1, 1), (6, 6), (5, 5), (2, 2), (5, 5), (3, 2), (2, 2), (1, 1), (5, 5), (2, 2), (5, 5), (2, 2), (4, 5), (4, 5), (4, 5), (2, 2), (2, 2), (2, 2), (2, 2), (1, 1), (2, 2), (2, 2), (2, 2), (2, 2), (6, 6), (2, 2), (5, 5), (1, 1), (1, 1), (4, 2), (5, 5), (6, 6), (2, 2), (5, 5), (4, 5), (2, 2), (2, 2), (5, 5), (2, 2), (6, 6), (5, 5), (2, 2), (2, 2), (2, 2), (5, 5), (2, 2), (2, 2), (3, 5), (5, 5), (5, 5), (5, 5), (5, 5), (3, 2), (4, 5), (4, 5), (6, 6), (5, 5), (2, 2), (5, 5), (5, 5), (2, 2), (5, 5), (4, 2), (2, 2), (3, 2), (5, 5), (5, 5), (2, 2), (2, 2), (3, 2), (5, 5), (2, 2), (2, 2), (3, 2), (5, 5), (3, 2), (1, 1), (6, 6), (2, 2), (5, 5), (4, 5), (3, 2), (3, 5), (6, 6), (2, 2), (1, 1), (2, 2), (1, 1), (2, 2), (2, 2), (5, 5), (3, 2), (1, 1), (5, 5), (2, 2), (5, 5), (2, 2), (4, 5), (6, 6), (6, 6), (4, 5), (2, 2), (5, 5), (4, 2), (4, 5), (2, 2), (5, 5), (2, 2), (5, 5), (5, 5), (5, 5), (5, 5), (2, 2), (6, 6), (5, 5), (1, 1), (2, 2), (5, 5), (6, 6), (2, 2), (6, 6), (3, 2), (4, 5), (4, 5), (2, 2), (4, 2), (5, 5), (5, 5), (5, 5), (5, 5), (2, 2), (2, 2), (2, 2), (5, 5), (6, 6), (5, 5), (1, 1), (3, 5), (3, 2), (5, 5), (2, 2), (1, 1), (6, 6), (1, 1), (2, 2), (5, 5), (6, 6), (4, 2), (6, 6), (3, 2), (5, 5), (5, 5), (5, 5), (6, 6), (5, 5), (2, 2), (5, 5), (2, 2), (2, 2), (2, 2), (6, 6), (2, 2), (6, 6), (5, 5), (6, 6), (2, 2), (6, 6), (5, 5), (6, 6), (4, 5), (5, 5), (2, 2), (3, 2), (6, 6), (5, 5), (1, 1), (2, 2), (2, 2), (5, 5), (2, 2), (5, 5), (5, 5), (5, 5), (5, 5), (5, 5), (3, 2), (5, 5), (1, 1), (4, 5), (4, 2), (5, 5), (5, 5), (5, 5), (5, 5), (3, 2), (2, 2), (4, 5), (2, 2), (1, 1), (2, 2), (6, 6), (5, 5), (5, 5), (4, 2), (4, 5), (5, 5), (1, 1), (5, 5), (6, 6), (1, 1), (2, 2), (3, 2), (6, 6), (5, 5), (5, 5), (5, 5), (3, 2), (3, 2), (2, 2), (5, 5), (3, 2), (5, 5), (4, 5), (6, 6), (6, 6), (3, 5), (6, 6), (2, 2), (6, 6), (2, 2), (2, 2), (5, 5), (2, 2), (5, 5), (3, 5), (2, 2), (4, 5), (1, 1), (1, 1), (2, 2), (2, 2), (6, 6), (2, 2), (5, 5), (2, 2), (2, 2), (6, 6), (5, 5), (6, 6), (4, 5), (2, 2), (5, 5), (2, 2), (5, 5), (5, 5), (4, 5), (5, 5), (2, 2), (2, 2), (6, 6), (5, 5), (2, 2), (2, 2), (1, 1), (3, 5), (2, 2), (2, 2), (5, 5), (4, 5), (2, 2), (2, 2), (1, 1), (2, 2), (2, 2), (5, 5), (2, 2), (5, 5), (2, 2), (3, 2), (5, 5), (2, 2), (2, 2), (4, 5), (5, 5), (5, 5), (2, 2), (5, 5), (2, 2), (5, 5), (3, 2), (3, 2), (2, 2), (6, 6), (6, 6), (5, 5), (2, 2), (2, 2), (4, 5), (5, 5), (4, 5), (4, 2), (5, 5), (2, 2), (5, 5), (1, 1), (4, 2), (2, 2), (6, 6), (1, 1), (2, 2), (1, 1), (6, 6), (3, 2), (5, 5), (6, 6), (2, 2), (5, 5), (3, 5), (5, 5), (1, 1), (5, 5), (2, 2), (2, 2), (3, 2), (3, 2), (2, 2), (6, 6), (2, 2), (5, 5), (6, 6), (5, 5), (5, 5), (4, 5), (2, 2), (1, 1), (5, 5), (3, 2), (1, 1), (5, 5), (6, 6), (5, 5), (6, 6), (5, 5), (2, 2), (3, 2), (4, 2), (2, 2), (1, 1), (2, 2), (2, 2), (1, 1), (5, 5), (5, 5), (2, 2), (2, 2), (6, 6), (5, 5), (5, 5), (3, 2), (5, 5), (5, 5), (5, 5), (5, 5), (2, 2), (2, 2), (2, 2), (5, 5), (2, 2), (2, 2), (5, 5), (2, 2), (6, 6), (6, 6), (1, 1), (5, 5), (5, 5), (5, 5), (2, 2), (2, 2), (1, 1), (6, 6), (2, 2), (2, 2), (3, 2), (3, 2), (3, 2), (5, 5), (2, 2), (5, 5), (5, 5), (5, 5), (6, 6), (4, 2), (6, 6), (2, 2), (6, 6), (3, 5), (6, 6), (4, 5), (4, 2), (5, 5), (1, 1), (1, 1), (2, 2), (2, 2), (5, 5), (5, 5), (1, 1), (5, 5), (6, 6), (3, 2), (6, 6), (2, 2), (5, 5), (6, 6), (2, 2), (1, 1), (2, 2), (2, 2), (5, 5), (1, 1), (5, 5), (5, 5), (6, 6), (4, 5), (5, 5), (5, 5), (2, 2), (5, 5), (4, 5), (5, 5), (5, 5), (5, 5), (2, 2), (3, 2), (5, 5), (2, 2), (6, 6), (3, 2), (5, 5), (2, 2), (2, 2), (2, 2), (5, 5), (4, 5), (5, 5), (1, 1), (6, 6), (2, 2), (5, 5), (6, 6), (2, 2), (2, 2), (2, 2), (5, 5), (2, 2), (4, 5), (1, 1), (6, 6), (2, 2), (5, 5), (5, 5), (2, 2), (2, 2), (5, 5), (2, 2), (2, 2), (2, 2), (5, 5), (1, 1), (5, 5), (6, 6), (5, 5), (2, 2), (2, 2), (4, 5), (2, 2), (5, 5), (2, 2), (5, 5), (2, 2), (3, 2), (2, 2), (3, 2), (4, 2), (4, 5), (4, 5), (4, 5), (2, 2), (6, 6), (2, 2), (1, 1), (2, 2), (5, 5), (5, 5), (2, 2), (1, 1), (1, 1), (1, 1), (3, 2), (2, 2), (5, 5), (4, 5), (2, 2), (4, 5), (3, 2), (6, 6), (5, 5), (5, 5), (2, 2), (5, 5), (2, 2), (5, 5), (3, 2), (6, 6), (5, 5), (2, 2), (2, 2), (2, 2), (4, 2), (4, 5), (6, 6), (5, 5), (1, 1), (5, 5), (4, 5), (2, 2), (2, 2), (2, 2), (2, 2), (5, 5), (2, 2), (5, 5), (4, 5), (5, 5), (2, 2), (2, 2), (5, 5), (5, 5), (5, 5), (6, 6), (6, 6), (5, 5), (2, 2), (1, 1), (4, 5), (5, 5), (2, 2), (2, 2), (2, 2), (6, 6), (4, 5), (3, 2), (6, 6), (1, 1), (2, 2), (2, 2), (5, 5), (2, 2), (2, 2), (2, 2), (2, 2), (1, 1), (5, 5), (3, 2), (3, 2), (1, 1), (5, 5), (5, 5), (3, 2), (4, 5), (3, 2), (6, 6), (3, 5), (4, 5), (6, 6), (3, 5), (5, 5), (6, 6), (2, 2), (4, 2), (5, 5), (2, 2), (5, 5), (2, 2), (5, 5), (2, 2), (5, 5), (1, 1), (1, 1), (4, 5), (2, 2), (1, 1), (5, 5), (2, 2), (2, 2), (4, 5), (5, 5), (3, 2), (2, 2), (3, 5), (5, 5), (2, 2), (2, 2), (2, 2), (2, 2), (2, 2), (2, 2), (3, 2), (1, 1), (2, 2), (1, 1), (4, 5), (5, 5), (6, 6), (5, 5), (1, 1), (2, 2), (2, 2), (6, 6), (2, 2), (6, 6), (4, 2), (2, 2), (3, 2), (5, 5), (5, 5), (4, 5), (5, 5), (1, 1), (2, 2), (1, 1), (6, 6), (5, 5), (5, 5), (2, 2), (5, 5), (2, 2), (5, 5), (4, 2), (5, 5), (5, 5), (5, 5), (1, 1), (2, 2), (5, 5), (2, 2), (6, 6), (1, 1), (4, 5), (5, 5), (5, 5), (6, 6), (2, 2), (3, 2), (4, 5), (5, 5), (2, 2), (6, 6), (5, 5), (5, 5), (5, 5), (6, 6), (3, 2), (2, 2), (4, 5), (1, 1), (1, 1), (1, 1), (4, 2), (6, 6), (2, 2), (3, 5), (5, 5), (2, 2), (5, 5), (5, 5), (5, 5), (5, 5), (5, 5), (2, 2), (6, 6), (2, 2), (5, 5), (4, 5), (2, 2), (2, 2), (3, 2), (2, 2), (5, 5), (2, 2), (2, 2), (5, 5), (2, 2), (5, 5), (5, 5), (2, 2), (6, 6), (5, 5), (2, 2), (1, 1), (5, 5), (5, 5), (5, 5), (2, 2), (2, 2), (5, 5), (6, 6), (5, 5), (1, 1), (5, 5), (5, 5), (3, 2), (5, 5), (2, 2), (5, 5), (4, 5), (5, 5), (2, 2), (3, 2), (6, 6), (5, 5), (6, 6), (1, 1), (5, 5), (5, 5), (2, 2), (2, 2), (3, 2), (6, 6), (4, 5), (1, 1), (2, 2), (2, 2), (5, 5), (2, 2), (5, 5), (1, 1), (6, 6), (2, 2), (5, 5), (2, 2), (2, 2), (5, 5), (2, 2), (2, 2), (2, 2), (2, 2), (5, 5), (2, 2), (3, 2), (6, 6), (5, 5), (6, 6), (3, 2), (5, 5), (5, 5), (5, 5), (2, 2), (2, 2), (5, 5), (6, 6), (2, 2), (5, 5), (4, 5), (6, 6), (2, 2), (5, 5), (1, 1), (6, 6), (5, 5), (6, 6), (5, 5), (5, 5), (6, 6), (2, 2), (6, 6), (5, 5), (1, 1), (2, 2), (4, 5), (4, 5), (2, 2), (4, 5), (2, 2), (2, 2), (3, 2), (5, 5), (5, 5), (1, 1), (2, 2), (5, 5), (1, 1), (3, 2), (2, 2), (1, 1), (5, 5), (1, 1), (5, 5), (6, 6), (2, 2), (5, 5), (5, 5), (5, 5), (5, 5), (1, 1), (6, 6), (5, 5), (3, 2), (5, 5), (2, 2), (3, 2), (1, 1), (2, 2), (2, 2), (6, 6), (1, 1), (2, 2), (2, 2), (2, 2), (2, 2), (5, 5), (5, 5), (5, 5), (1, 1), (2, 2), (4, 5), (4, 5), (2, 2), (2, 2), (4, 5), (3, 2), (3, 2), (5, 5), (2, 2), (4, 5), (5, 5), (6, 6), (5, 5), (3, 2), (5, 5), (1, 1), (5, 5), (3, 2), (4, 5), (5, 5), (6, 6), (2, 2), (2, 2), (2, 2), (3, 2), (4, 2), (2, 2), (5, 5), (1, 1), (5, 5), (3, 2), (1, 1), (2, 2), (6, 6), (2, 2), (2, 2), (6, 6), (2, 2), (3, 5), (2, 2), (2, 2), (4, 5), (6, 6), (1, 1), (4, 5), (3, 2), (2, 2), (5, 5), (1, 1), (6, 6), (4, 2), (5, 5), (5, 5), (3, 2), (5, 5), (5, 5), (2, 2), (2, 2), (5, 5), (4, 5), (1, 1), (6, 6), (2, 2), (1, 1), (2, 2), (5, 5), (2, 2), (3, 2), (5, 5), (3, 5), (5, 5), (6, 6), (1, 1), (2, 2), (1, 1), (2, 2), (2, 2), (2, 2), (5, 5), (5, 5), (2, 2), (5, 5), (1, 1), (6, 6), (1, 1), (2, 2), (5, 5), (3, 2), (2, 2), (5, 5), (5, 5), (5, 5), (4, 5), (2, 2), (1, 1), (2, 2), (5, 5), (5, 5), (4, 5), (6, 6), (2, 2), (2, 2), (5, 5), (2, 2), (1, 1), (3, 2), (1, 1), (2, 2), (5, 5), (5, 5), (6, 6), (5, 5), (5, 5), (5, 5), (1, 1), (1, 1), (5, 5), (6, 6), (6, 6), (1, 1), (1, 1), (2, 2), (4, 2), (5, 5), (5, 5), (5, 5), (5, 5), (5, 5), (5, 5), (5, 5), (2, 2), (5, 5), (5, 5), (5, 5), (6, 6), (5, 5), (3, 2), (6, 6), (3, 2), (5, 5), (5, 5), (6, 6), (2, 2), (4, 5), (6, 6), (5, 5), (5, 5), (2, 2), (6, 6), (6, 6), (4, 5), (5, 5), (6, 6), (2, 2), (5, 5), (1, 1), (1, 1), (2, 2), (5, 5), (6, 6), (5, 5), (2, 2), (6, 6), (5, 5), (2, 2), (1, 1), (6, 6), (4, 2), (6, 6), (1, 1), (5, 5), (3, 5), (5, 5), (3, 5), (3, 2), (2, 2), (4, 5), (6, 6), (1, 1), (2, 2), (2, 2), (2, 2), (4, 5), (3, 2), (3, 2), (2, 2), (4, 5), (3, 2), (2, 2), (2, 2), (2, 2), (2, 2), (3, 5), (2, 2), (1, 1), (4, 5), (2, 2), (2, 2), (2, 2), (2, 2), (1, 1), (1, 1), (2, 2), (2, 2), (5, 5), (5, 5), (2, 2), (2, 2), (6, 6), (2, 2), (2, 2), (5, 5), (5, 5), (6, 6), (5, 5), (3, 2), (4, 2), (5, 5), (2, 2), (5, 5), (2, 2), (2, 2), (4, 5), (2, 2), (5, 5), (3, 2), (4, 5), (6, 6), (2, 2), (5, 5), (2, 2), (5, 5), (5, 5), (5, 5), (4, 5), (5, 5), (2, 2), (4, 5), (6, 6), (2, 2), (5, 5), (2, 2), (6, 6), (4, 5), (3, 2), (5, 5), (6, 6), (4, 2), (2, 2), (6, 6), (2, 2), (2, 2), (2, 2), (2, 2), (5, 5), (3, 2), (4, 5), (2, 2), (5, 5), (2, 2), (4, 5), (3, 2), (2, 2), (3, 2), (2, 2), (3, 5), (3, 5), (2, 2), (5, 5), (6, 6), (3, 5), (2, 2), (2, 2), (5, 5), (2, 2), (3, 2), (2, 2), (1, 1), (2, 2), (3, 5), (2, 2), (2, 2), (5, 5), (2, 2), (2, 2), (2, 2), (4, 5), (1, 1), (6, 6), (1, 1), (4, 5), (2, 2), (1, 1), (5, 5), (2, 2), (4, 5), (5, 5), (2, 2), (6, 6), (2, 2), (5, 5), (5, 5), (2, 2), (5, 5), (5, 5), (5, 5), (4, 2), (6, 6), (2, 2), (1, 1), (3, 2), (4, 5), (1, 1), (5, 5), (5, 5), (5, 5), (4, 2), (3, 2), (4, 5), (4, 2), (2, 2), (6, 6), (4, 5), (1, 1), (4, 5), (5, 5), (2, 2), (2, 2), (4, 2), (5, 5), (5, 5), (3, 2), (6, 6), (2, 2), (6, 6), (1, 1), (2, 2), (2, 2), (5, 5), (5, 5), (1, 1), (2, 2), (5, 5), (2, 2), (5, 5), (1, 1), (2, 2), (2, 2), (6, 6), (5, 5), (5, 5), (6, 6), (6, 6), (2, 2), (1, 1), (1, 1), (5, 5), (5, 5), (5, 5), (5, 5), (2, 2), (1, 1), (5, 5), (5, 5), (1, 1), (4, 5), (2, 2), (2, 2), (5, 5), (3, 2), (2, 2), (1, 1), (5, 5), (4, 2), (5, 5), (5, 5), (2, 2), (5, 5), (4, 5), (1, 1), (5, 5), (5, 5), (5, 5), (2, 2), (5, 5), (4, 5), (5, 5), (3, 2), (5, 5), (1, 1), (6, 6), (2, 2), (2, 2), (3, 2), (4, 2), (1, 1), (2, 2), (5, 5), (5, 5), (6, 6), (5, 5), (6, 6), (6, 6), (5, 5), (2, 2), (4, 5), (2, 2), (5, 5), (1, 1), (6, 6), (6, 6), (4, 5), (5, 5), (2, 2), (5, 5), (6, 6), (2, 2), (2, 2), (5, 5), (5, 5), (2, 2), (2, 2), (6, 6), (3, 2), (5, 5), (6, 6), (5, 5), (5, 5), (2, 2), (2, 2), (6, 6), (2, 2), (1, 1), (4, 5), (5, 5), (3, 5), (1, 1), (1, 1), (2, 2), (2, 2), (2, 2), (6, 6), (1, 1), (5, 5), (2, 2), (6, 6), (5, 5), (4, 5), (4, 2), (5, 5), (6, 6), (1, 1), (5, 5), (3, 2), (4, 2), (6, 6), (5, 5), (2, 2), (2, 2), (2, 2), (6, 6), (2, 2), (2, 2), (5, 5), (2, 2), (6, 6), (5, 5), (1, 1), (6, 6), (2, 2), (2, 2), (3, 2), (2, 2), (5, 5), (5, 5), (2, 2), (2, 2), (6, 6), (6, 6), (2, 2), (2, 2), (2, 2), (5, 5), (4, 5), (2, 2), (2, 2), (5, 5), (2, 2), (4, 5), (2, 2), (2, 2), (4, 5), (5, 5), (1, 1), (2, 2), (6, 6), (5, 5), (2, 2), (5, 5), (2, 2), (2, 2), (3, 2), (6, 6), (2, 2), (5, 5), (2, 2), (5, 5), (5, 5), (6, 6), (5, 5), (5, 5), (2, 2), (4, 5), (4, 5), (5, 5), (5, 5), (5, 5), (2, 2), (6, 6), (5, 5), (5, 5), (4, 5), (6, 6), (1, 1), (2, 2), (3, 2), (2, 2), (4, 5), (5, 5), (2, 2), (3, 5), (2, 2), (1, 1), (2, 2), (2, 2), (2, 2), (2, 2), (2, 2), (6, 6), (1, 1), (3, 2), (6, 6), (5, 5), (3, 2), (5, 5), (2, 2), (5, 5), (1, 1), (3, 2), (5, 5), (3, 2), (1, 1), (4, 5), (6, 6), (3, 2), (6, 6), (5, 5), (2, 2), (5, 5), (5, 5), (6, 6), (5, 5), (5, 5), (1, 1), (5, 5), (3, 2), (5, 5), (5, 5), (2, 2), (6, 6), (2, 2), (5, 5), (2, 2), (2, 2), (6, 6), (6, 6), (3, 5), (4, 2), (2, 2), (3, 2), (3, 5), (4, 5), (2, 2), (5, 5), (5, 5), (2, 2), (4, 5), (2, 2), (3, 2), (3, 5), (5, 5), (2, 2), (1, 1), (4, 5), (4, 5), (5, 5), (5, 5), (2, 2), (2, 2), (5, 5), (5, 5), (1, 1), (5, 5), (4, 5), (4, 5), (1, 1), (2, 2), (5, 5), (3, 2), (1, 1), (2, 2), (2, 2), (3, 2), (2, 2), (5, 5), (2, 2), (2, 2), (3, 2), (2, 2), (5, 5), (2, 2), (2, 2), (2, 2), (5, 5), (5, 5), (2, 2), (3, 5), (2, 2), (6, 6), (5, 5), (5, 5), (5, 5), (4, 2), (2, 2), (2, 2), (1, 1), (2, 2), (3, 2), (5, 5), (2, 2), (5, 5), (2, 2), (2, 2), (6, 6), (2, 2), (2, 2), (5, 5), (2, 2), (4, 5), (6, 6), (2, 2), (6, 6), (3, 2), (2, 2), (5, 5), (2, 2), (2, 2), (5, 5), (5, 5), (2, 2), (2, 2), (6, 6), (3, 5), (2, 2), (2, 2), (3, 5), (2, 2), (6, 6), (5, 5), (5, 5), (5, 5), (4, 5), (1, 1), (6, 6), (5, 5), (1, 1), (1, 1), (2, 2), (3, 2), (2, 2), (6, 6), (5, 5), (4, 5), (6, 6), (4, 5), (4, 5), (4, 5), (4, 5), (1, 1), (2, 2), (6, 6), (4, 5), (2, 2), (2, 2), (1, 1), (3, 2), (4, 5), (2, 2), (2, 2), (2, 2), (1, 1), (2, 2), (3, 2), (5, 5), (1, 1), (6, 6), (6, 6), (5, 5), (2, 2), (2, 2), (6, 6), (5, 5), (2, 2), (4, 5), (4, 5), (5, 5), (5, 5), (6, 6), (6, 6), (2, 2), (5, 5), (2, 2), (5, 5), (5, 5), (6, 6), (4, 5), (2, 2), (6, 6), (1, 1), (2, 2), (4, 5), (5, 5), (5, 5), (5, 5), (4, 5), (5, 5), (5, 5), (2, 2), (5, 5), (5, 5), (5, 5), (4, 5), (5, 5), (2, 2), (2, 2), (3, 2), (5, 5), (2, 2), (6, 6), (3, 2), (5, 5), (6, 6), (2, 2), (1, 1), (2, 2), (5, 5), (1, 1), (1, 1), (2, 2), (5, 5), (2, 2), (6, 6), (1, 1), (1, 1), (5, 5), (3, 2), (6, 6), (5, 5), (3, 2), (5, 5), (5, 5), (4, 5), (4, 5), (5, 5), (5, 5), (6, 6), (2, 2), (6, 6), (5, 5), (1, 1), (2, 2), (6, 6), (2, 2), (4, 5), (5, 5), (2, 2), (2, 2), (5, 5), (2, 2), (4, 5), (5, 5), (6, 6), (6, 6), (4, 2), (5, 5), (2, 2), (3, 5), (5, 5), (5, 5), (2, 2), (2, 2), (3, 5), (4, 5), (5, 5), (5, 5), (2, 2), (2, 2), (1, 1), (1, 1), (3, 2), (6, 6), (2, 2), (2, 2), (3, 2), (6, 6), (2, 2), (3, 2), (5, 5), (6, 6), (5, 5), (5, 5), (4, 5), (3, 2), (2, 2), (2, 2), (1, 1), (5, 5), (5, 5), (6, 6), (6, 6), (5, 5), (2, 2), (1, 1), (5, 5), (5, 5), (5, 5), (5, 5), (2, 2), (5, 5), (5, 5), (3, 2), (5, 5), (5, 5), (6, 6), (5, 5), (2, 2), (2, 2), (3, 2), (6, 6), (6, 6), (6, 6), (4, 5), (5, 5), (5, 5), (5, 5), (3, 5), (2, 2), (5, 5), (1, 1), (6, 6), (2, 2), (5, 5), (5, 5), (5, 5), (2, 2), (5, 5), (5, 5), (2, 2), (2, 2), (2, 2), (2, 2), (5, 5), (5, 5), (2, 2), (5, 5), (5, 5), (1, 1), (1, 1), (1, 1), (5, 5), (6, 6), (3, 2), (5, 5), (2, 2), (4, 2), (2, 2), (1, 1), (4, 5), (2, 2), (6, 6), (2, 2), (2, 2), (4, 2), (3, 2), (2, 2), (5, 5), (5, 5), (4, 5), (5, 5), (2, 2), (4, 2), (2, 2), (3, 5), (2, 2), (2, 2), (2, 2), (5, 5), (4, 5), (5, 5), (2, 2), (5, 5), (2, 2), (5, 5), (4, 5), (5, 5), (4, 5), (1, 1), (6, 6), (1, 1), (5, 5), (2, 2), (2, 2), (6, 6), (3, 2), (4, 5), (5, 5), (2, 2), (1, 1), (5, 5), (2, 2), (3, 5), (5, 5), (2, 2), (2, 2), (4, 2), (4, 5), (4, 2), (3, 5), (4, 2), (6, 6), (5, 5), (5, 5), (5, 5), (3, 2), (3, 5), (6, 6), (6, 6), (2, 2), (2, 2), (2, 2), (2, 2), (2, 2), (5, 5), (3, 5), (5, 5), (2, 2), (4, 5), (5, 5), (2, 2), (2, 2), (3, 5), (2, 2), (2, 2), (3, 2), (2, 2), (4, 2), (2, 2), (4, 5), (2, 2), (6, 6), (2, 2), (2, 2), (2, 2), (1, 1), (2, 2), (2, 2), (2, 2), (2, 2), (5, 5), (2, 2), (5, 5), (2, 2), (2, 2), (5, 5), (6, 6), (2, 2), (4, 5), (1, 1), (2, 2), (2, 2), (2, 2), (4, 2), (2, 2), (5, 5), (6, 6), (2, 2), (6, 6), (2, 2), (5, 5), (3, 2), (4, 5), (4, 5), (4, 5), (5, 5), (5, 5), (5, 5), (5, 5), (2, 2), (1, 1), (2, 2), (2, 2)]\n"
     ]
    }
   ],
   "source": [
    "#\n",
    "print(list(zip(trainy['cluster'],pred_train)))"
   ]
  },
  {
   "cell_type": "code",
   "execution_count": 43,
   "metadata": {},
   "outputs": [
    {
     "data": {
      "text/plain": [
       "0.8107399818935531"
      ]
     },
     "execution_count": 43,
     "metadata": {},
     "output_type": "execute_result"
    }
   ],
   "source": [
    "accuracy_score(y_pred=pred_train,y_true=trainy['cluster'])"
   ]
  },
  {
   "cell_type": "code",
   "execution_count": 44,
   "metadata": {},
   "outputs": [
    {
     "data": {
      "text/plain": [
       "0.8255697609783212"
      ]
     },
     "execution_count": 44,
     "metadata": {},
     "output_type": "execute_result"
    }
   ],
   "source": [
    "accuracy_score(y_pred=pred_test,y_true=testy['cluster'])"
   ]
  },
  {
   "cell_type": "code",
   "execution_count": 45,
   "metadata": {},
   "outputs": [
    {
     "data": {
      "text/plain": [
       "array([[ 927,    0,    0,    0,    0,    0],\n",
       "       [   0, 2579,    0,    0,    0,    0],\n",
       "       [   0,  515,    0,    0,  175,    0],\n",
       "       [   0,  180,    0,    0,  699,    0],\n",
       "       [   0,    0,    0,    0, 2893,    0],\n",
       "       [   0,    0,    0,    0,    0, 1027]], dtype=int64)"
      ]
     },
     "execution_count": 45,
     "metadata": {},
     "output_type": "execute_result"
    }
   ],
   "source": [
    "confusion_matrix(y_pred=pred_test,y_true=testy['cluster'])"
   ]
  },
  {
   "cell_type": "code",
   "execution_count": 46,
   "metadata": {
    "collapsed": true
   },
   "outputs": [],
   "source": [
    "#improving the depth of the tree to increase prediction accuracy\n",
    "clf1=DecisionTreeClassifier(max_depth=4)"
   ]
  },
  {
   "cell_type": "code",
   "execution_count": 47,
   "metadata": {
    "collapsed": true
   },
   "outputs": [],
   "source": [
    "DT1=clf1.fit(trainx,trainy)\n",
    "pred1_train=DT1.predict(trainx)\n",
    "pred1_test=DT1.predict(testx)"
   ]
  },
  {
   "cell_type": "code",
   "execution_count": 48,
   "metadata": {},
   "outputs": [
    {
     "data": {
      "text/plain": [
       "0.9564492304760089"
      ]
     },
     "execution_count": 48,
     "metadata": {},
     "output_type": "execute_result"
    }
   ],
   "source": [
    "accuracy_score(y_pred=pred1_train,y_true=trainy['cluster'])"
   ]
  },
  {
   "cell_type": "code",
   "execution_count": 49,
   "metadata": {},
   "outputs": [
    {
     "data": {
      "text/plain": [
       "0.960644802668149"
      ]
     },
     "execution_count": 49,
     "metadata": {},
     "output_type": "execute_result"
    }
   ],
   "source": [
    "accuracy_score(y_pred=pred1_test,y_true=testy['cluster'])"
   ]
  },
  {
   "cell_type": "code",
   "execution_count": 50,
   "metadata": {},
   "outputs": [
    {
     "data": {
      "text/plain": [
       "array([[ 927,    0,    0,    0,    0,    0],\n",
       "       [   0, 2579,    0,    0,    0,    0],\n",
       "       [   0,    0,  336,  354,    0,    0],\n",
       "       [   0,    0,    0,  879,    0,    0],\n",
       "       [   0,    0,    0,    0, 2893,    0],\n",
       "       [   0,    0,    0,    0,    0, 1027]], dtype=int64)"
      ]
     },
     "execution_count": 50,
     "metadata": {},
     "output_type": "execute_result"
    }
   ],
   "source": [
    "confusion_matrix(y_pred=pred1_test,y_true=testy['cluster'])"
   ]
  },
  {
   "cell_type": "code",
   "execution_count": 55,
   "metadata": {
    "collapsed": true
   },
   "outputs": [],
   "source": [
    "#setting system path for graphviz variables\n",
    "import os\n",
    "os.environ[\"PATH\"] += os.pathsep + 'c:/Program Files (x86)/Graphviz2.38/bin/'"
   ]
  },
  {
   "cell_type": "code",
   "execution_count": 51,
   "metadata": {
    "collapsed": true
   },
   "outputs": [],
   "source": [
    "def plot_tree(tree,dataframe,label_col,plot_title):\n",
    "    label_names=pd.unique(dataframe[label_col])\n",
    "    # Obtaining plot data.\n",
    "    label_names=str(label_names)\n",
    "    graph_data=export_graphviz(tree,feature_names=dataframe.drop(label_col,axis=1).columns,\n",
    "                               class_names=label_names,filled=True,rounded=True,out_file=None)\n",
    "\n",
    "    # Generating plot.\n",
    "    graph=graphviz.Source(graph_data)\n",
    "    graph.render(plot_title)\n",
    "    graph.render(filename =\"Decision3.png\") \n",
    "    return graph"
   ]
  },
  {
   "cell_type": "code",
   "execution_count": 52,
   "metadata": {},
   "outputs": [
    {
     "data": {
      "text/plain": [
       "[1, 2, 3, 4, 5, 6]\n",
       "Categories (6, int64): [1, 2, 3, 4, 5, 6]"
      ]
     },
     "execution_count": 52,
     "metadata": {},
     "output_type": "execute_result"
    }
   ],
   "source": [
    "pd.unique(clustered[\"cluster\"]).astype(\"category\")"
   ]
  },
  {
   "cell_type": "code",
   "execution_count": 53,
   "metadata": {},
   "outputs": [
    {
     "data": {
      "text/plain": [
       "CategoricalDtype(categories=[1, 2, 3, 4, 5, 6], ordered=False)"
      ]
     },
     "execution_count": 53,
     "metadata": {},
     "output_type": "execute_result"
    }
   ],
   "source": [
    "clustered['cluster'].dtypes"
   ]
  },
  {
   "cell_type": "code",
   "execution_count": 56,
   "metadata": {},
   "outputs": [
    {
     "data": {
      "image/svg+xml": [
       "<?xml version=\"1.0\" encoding=\"UTF-8\" standalone=\"no\"?>\r\n",
       "<!DOCTYPE svg PUBLIC \"-//W3C//DTD SVG 1.1//EN\"\r\n",
       " \"http://www.w3.org/Graphics/SVG/1.1/DTD/svg11.dtd\">\r\n",
       "<!-- Generated by graphviz version 2.38.0 (20140413.2041)\r\n",
       " -->\r\n",
       "<!-- Title: Tree Pages: 1 -->\r\n",
       "<svg width=\"1089pt\" height=\"552pt\"\r\n",
       " viewBox=\"0.00 0.00 1088.50 552.00\" xmlns=\"http://www.w3.org/2000/svg\" xmlns:xlink=\"http://www.w3.org/1999/xlink\">\r\n",
       "<g id=\"graph0\" class=\"graph\" transform=\"scale(1 1) rotate(0) translate(4 548)\">\r\n",
       "<title>Tree</title>\r\n",
       "<polygon fill=\"white\" stroke=\"none\" points=\"-4,4 -4,-548 1084.5,-548 1084.5,4 -4,4\"/>\r\n",
       "<!-- 0 -->\r\n",
       "<g id=\"node1\" class=\"node\"><title>0</title>\r\n",
       "<path fill=\"#8139e5\" fill-opacity=\"0.039216\" stroke=\"black\" d=\"M580.5,-544C580.5,-544 296.5,-544 296.5,-544 290.5,-544 284.5,-538 284.5,-532 284.5,-532 284.5,-473 284.5,-473 284.5,-467 290.5,-461 296.5,-461 296.5,-461 580.5,-461 580.5,-461 586.5,-461 592.5,-467 592.5,-473 592.5,-473 592.5,-532 592.5,-532 592.5,-538 586.5,-544 580.5,-544\"/>\r\n",
       "<text text-anchor=\"middle\" x=\"438.5\" y=\"-528.8\" font-family=\"Helvetica,sans-Serif\" font-size=\"14.00\">gender &lt;= 0.5</text>\r\n",
       "<text text-anchor=\"middle\" x=\"438.5\" y=\"-513.8\" font-family=\"Helvetica,sans-Serif\" font-size=\"14.00\">gini = 0.779</text>\r\n",
       "<text text-anchor=\"middle\" x=\"438.5\" y=\"-498.8\" font-family=\"Helvetica,sans-Serif\" font-size=\"14.00\">samples = 20987</text>\r\n",
       "<text text-anchor=\"middle\" x=\"438.5\" y=\"-483.8\" font-family=\"Helvetica,sans-Serif\" font-size=\"14.00\">value = [2038, 6002, 1748, 2224, 6604, 2371]</text>\r\n",
       "<text text-anchor=\"middle\" x=\"438.5\" y=\"-468.8\" font-family=\"Helvetica,sans-Serif\" font-size=\"14.00\">class = 2</text>\r\n",
       "</g>\r\n",
       "<!-- 1 -->\r\n",
       "<g id=\"node2\" class=\"node\"><title>1</title>\r\n",
       "<path fill=\"#8139e5\" fill-opacity=\"0.482353\" stroke=\"black\" d=\"M418,-425C418,-425 191,-425 191,-425 185,-425 179,-419 179,-413 179,-413 179,-354 179,-354 179,-348 185,-342 191,-342 191,-342 418,-342 418,-342 424,-342 430,-348 430,-354 430,-354 430,-413 430,-413 430,-419 424,-425 418,-425\"/>\r\n",
       "<text text-anchor=\"middle\" x=\"304.5\" y=\"-409.8\" font-family=\"Helvetica,sans-Serif\" font-size=\"14.00\">ProductCategory &lt;= 0.5</text>\r\n",
       "<text text-anchor=\"middle\" x=\"304.5\" y=\"-394.8\" font-family=\"Helvetica,sans-Serif\" font-size=\"14.00\">gini = 0.576</text>\r\n",
       "<text text-anchor=\"middle\" x=\"304.5\" y=\"-379.8\" font-family=\"Helvetica,sans-Serif\" font-size=\"14.00\">samples = 11112</text>\r\n",
       "<text text-anchor=\"middle\" x=\"304.5\" y=\"-364.8\" font-family=\"Helvetica,sans-Serif\" font-size=\"14.00\">value = [0, 0, 427, 1710, 6604, 2371]</text>\r\n",
       "<text text-anchor=\"middle\" x=\"304.5\" y=\"-349.8\" font-family=\"Helvetica,sans-Serif\" font-size=\"14.00\">class = 2</text>\r\n",
       "</g>\r\n",
       "<!-- 0&#45;&gt;1 -->\r\n",
       "<g id=\"edge1\" class=\"edge\"><title>0&#45;&gt;1</title>\r\n",
       "<path fill=\"none\" stroke=\"black\" d=\"M392.009,-460.907C381.2,-451.469 369.602,-441.343 358.5,-431.649\"/>\r\n",
       "<polygon fill=\"black\" stroke=\"black\" points=\"360.743,-428.961 350.908,-425.021 356.139,-434.234 360.743,-428.961\"/>\r\n",
       "<text text-anchor=\"middle\" x=\"352.598\" y=\"-446.264\" font-family=\"Helvetica,sans-Serif\" font-size=\"14.00\">True</text>\r\n",
       "</g>\r\n",
       "<!-- 8 -->\r\n",
       "<g id=\"node9\" class=\"node\"><title>8</title>\r\n",
       "<path fill=\"#9de539\" fill-opacity=\"0.505882\" stroke=\"black\" d=\"M687,-425C687,-425 460,-425 460,-425 454,-425 448,-419 448,-413 448,-413 448,-354 448,-354 448,-348 454,-342 460,-342 460,-342 687,-342 687,-342 693,-342 699,-348 699,-354 699,-354 699,-413 699,-413 699,-419 693,-425 687,-425\"/>\r\n",
       "<text text-anchor=\"middle\" x=\"573.5\" y=\"-409.8\" font-family=\"Helvetica,sans-Serif\" font-size=\"14.00\">ProductCategory &lt;= 0.5</text>\r\n",
       "<text text-anchor=\"middle\" x=\"573.5\" y=\"-394.8\" font-family=\"Helvetica,sans-Serif\" font-size=\"14.00\">gini = 0.567</text>\r\n",
       "<text text-anchor=\"middle\" x=\"573.5\" y=\"-379.8\" font-family=\"Helvetica,sans-Serif\" font-size=\"14.00\">samples = 9875</text>\r\n",
       "<text text-anchor=\"middle\" x=\"573.5\" y=\"-364.8\" font-family=\"Helvetica,sans-Serif\" font-size=\"14.00\">value = [2038, 6002, 1321, 514, 0, 0]</text>\r\n",
       "<text text-anchor=\"middle\" x=\"573.5\" y=\"-349.8\" font-family=\"Helvetica,sans-Serif\" font-size=\"14.00\">class = 1</text>\r\n",
       "</g>\r\n",
       "<!-- 0&#45;&gt;8 -->\r\n",
       "<g id=\"edge8\" class=\"edge\"><title>0&#45;&gt;8</title>\r\n",
       "<path fill=\"none\" stroke=\"black\" d=\"M485.338,-460.907C496.228,-451.469 507.912,-441.343 519.097,-431.649\"/>\r\n",
       "<polygon fill=\"black\" stroke=\"black\" points=\"521.481,-434.215 526.745,-425.021 516.896,-428.925 521.481,-434.215\"/>\r\n",
       "<text text-anchor=\"middle\" x=\"524.964\" y=\"-446.257\" font-family=\"Helvetica,sans-Serif\" font-size=\"14.00\">False</text>\r\n",
       "</g>\r\n",
       "<!-- 2 -->\r\n",
       "<g id=\"node3\" class=\"node\"><title>2</title>\r\n",
       "<path fill=\"#e5399d\" stroke=\"black\" d=\"M173,-298.5C173,-298.5 12,-298.5 12,-298.5 6,-298.5 0,-292.5 0,-286.5 0,-286.5 0,-242.5 0,-242.5 0,-236.5 6,-230.5 12,-230.5 12,-230.5 173,-230.5 173,-230.5 179,-230.5 185,-236.5 185,-242.5 185,-242.5 185,-286.5 185,-286.5 185,-292.5 179,-298.5 173,-298.5\"/>\r\n",
       "<text text-anchor=\"middle\" x=\"92.5\" y=\"-283.3\" font-family=\"Helvetica,sans-Serif\" font-size=\"14.00\">gini = 0.0</text>\r\n",
       "<text text-anchor=\"middle\" x=\"92.5\" y=\"-268.3\" font-family=\"Helvetica,sans-Serif\" font-size=\"14.00\">samples = 2371</text>\r\n",
       "<text text-anchor=\"middle\" x=\"92.5\" y=\"-253.3\" font-family=\"Helvetica,sans-Serif\" font-size=\"14.00\">value = [0, 0, 0, 0, 0, 2371]</text>\r\n",
       "<text text-anchor=\"middle\" x=\"92.5\" y=\"-238.3\" font-family=\"Helvetica,sans-Serif\" font-size=\"14.00\">class = ,</text>\r\n",
       "</g>\r\n",
       "<!-- 1&#45;&gt;2 -->\r\n",
       "<g id=\"edge2\" class=\"edge\"><title>1&#45;&gt;2</title>\r\n",
       "<path fill=\"none\" stroke=\"black\" d=\"M230.948,-341.907C208.454,-329.494 183.803,-315.889 161.616,-303.644\"/>\r\n",
       "<polygon fill=\"black\" stroke=\"black\" points=\"163.044,-300.435 152.597,-298.667 159.661,-306.563 163.044,-300.435\"/>\r\n",
       "</g>\r\n",
       "<!-- 3 -->\r\n",
       "<g id=\"node4\" class=\"node\"><title>3</title>\r\n",
       "<path fill=\"#8139e5\" fill-opacity=\"0.694118\" stroke=\"black\" d=\"M417.5,-306C417.5,-306 215.5,-306 215.5,-306 209.5,-306 203.5,-300 203.5,-294 203.5,-294 203.5,-235 203.5,-235 203.5,-229 209.5,-223 215.5,-223 215.5,-223 417.5,-223 417.5,-223 423.5,-223 429.5,-229 429.5,-235 429.5,-235 429.5,-294 429.5,-294 429.5,-300 423.5,-306 417.5,-306\"/>\r\n",
       "<text text-anchor=\"middle\" x=\"316.5\" y=\"-290.8\" font-family=\"Helvetica,sans-Serif\" font-size=\"14.00\">ProductCategory &lt;= 1.5</text>\r\n",
       "<text text-anchor=\"middle\" x=\"316.5\" y=\"-275.8\" font-family=\"Helvetica,sans-Serif\" font-size=\"14.00\">gini = 0.389</text>\r\n",
       "<text text-anchor=\"middle\" x=\"316.5\" y=\"-260.8\" font-family=\"Helvetica,sans-Serif\" font-size=\"14.00\">samples = 8741</text>\r\n",
       "<text text-anchor=\"middle\" x=\"316.5\" y=\"-245.8\" font-family=\"Helvetica,sans-Serif\" font-size=\"14.00\">value = [0, 0, 427, 1710, 6604, 0]</text>\r\n",
       "<text text-anchor=\"middle\" x=\"316.5\" y=\"-230.8\" font-family=\"Helvetica,sans-Serif\" font-size=\"14.00\">class = 2</text>\r\n",
       "</g>\r\n",
       "<!-- 1&#45;&gt;3 -->\r\n",
       "<g id=\"edge3\" class=\"edge\"><title>1&#45;&gt;3</title>\r\n",
       "<path fill=\"none\" stroke=\"black\" d=\"M308.663,-341.907C309.52,-333.558 310.431,-324.671 311.318,-316.02\"/>\r\n",
       "<polygon fill=\"black\" stroke=\"black\" points=\"314.805,-316.326 312.344,-306.021 307.842,-315.611 314.805,-316.326\"/>\r\n",
       "</g>\r\n",
       "<!-- 4 -->\r\n",
       "<g id=\"node5\" class=\"node\"><title>4</title>\r\n",
       "<path fill=\"#8139e5\" stroke=\"black\" d=\"M251,-179.5C251,-179.5 90,-179.5 90,-179.5 84,-179.5 78,-173.5 78,-167.5 78,-167.5 78,-123.5 78,-123.5 78,-117.5 84,-111.5 90,-111.5 90,-111.5 251,-111.5 251,-111.5 257,-111.5 263,-117.5 263,-123.5 263,-123.5 263,-167.5 263,-167.5 263,-173.5 257,-179.5 251,-179.5\"/>\r\n",
       "<text text-anchor=\"middle\" x=\"170.5\" y=\"-164.3\" font-family=\"Helvetica,sans-Serif\" font-size=\"14.00\">gini = 0.0</text>\r\n",
       "<text text-anchor=\"middle\" x=\"170.5\" y=\"-149.3\" font-family=\"Helvetica,sans-Serif\" font-size=\"14.00\">samples = 6604</text>\r\n",
       "<text text-anchor=\"middle\" x=\"170.5\" y=\"-134.3\" font-family=\"Helvetica,sans-Serif\" font-size=\"14.00\">value = [0, 0, 0, 0, 6604, 0]</text>\r\n",
       "<text text-anchor=\"middle\" x=\"170.5\" y=\"-119.3\" font-family=\"Helvetica,sans-Serif\" font-size=\"14.00\">class = 2</text>\r\n",
       "</g>\r\n",
       "<!-- 3&#45;&gt;4 -->\r\n",
       "<g id=\"edge4\" class=\"edge\"><title>3&#45;&gt;4</title>\r\n",
       "<path fill=\"none\" stroke=\"black\" d=\"M265.846,-222.907C250.975,-210.99 234.735,-197.976 219.94,-186.12\"/>\r\n",
       "<polygon fill=\"black\" stroke=\"black\" points=\"221.88,-183.189 211.888,-179.667 217.503,-188.652 221.88,-183.189\"/>\r\n",
       "</g>\r\n",
       "<!-- 5 -->\r\n",
       "<g id=\"node6\" class=\"node\"><title>5</title>\r\n",
       "<path fill=\"#399de5\" fill-opacity=\"0.749020\" stroke=\"black\" d=\"M470,-187C470,-187 293,-187 293,-187 287,-187 281,-181 281,-175 281,-175 281,-116 281,-116 281,-110 287,-104 293,-104 293,-104 470,-104 470,-104 476,-104 482,-110 482,-116 482,-116 482,-175 482,-175 482,-181 476,-187 470,-187\"/>\r\n",
       "<text text-anchor=\"middle\" x=\"381.5\" y=\"-171.8\" font-family=\"Helvetica,sans-Serif\" font-size=\"14.00\">Billyear &lt;= 2015.5</text>\r\n",
       "<text text-anchor=\"middle\" x=\"381.5\" y=\"-156.8\" font-family=\"Helvetica,sans-Serif\" font-size=\"14.00\">gini = 0.32</text>\r\n",
       "<text text-anchor=\"middle\" x=\"381.5\" y=\"-141.8\" font-family=\"Helvetica,sans-Serif\" font-size=\"14.00\">samples = 2137</text>\r\n",
       "<text text-anchor=\"middle\" x=\"381.5\" y=\"-126.8\" font-family=\"Helvetica,sans-Serif\" font-size=\"14.00\">value = [0, 0, 427, 1710, 0, 0]</text>\r\n",
       "<text text-anchor=\"middle\" x=\"381.5\" y=\"-111.8\" font-family=\"Helvetica,sans-Serif\" font-size=\"14.00\">class = &#160;</text>\r\n",
       "</g>\r\n",
       "<!-- 3&#45;&gt;5 -->\r\n",
       "<g id=\"edge5\" class=\"edge\"><title>3&#45;&gt;5</title>\r\n",
       "<path fill=\"none\" stroke=\"black\" d=\"M339.051,-222.907C343.891,-214.195 349.057,-204.897 354.059,-195.893\"/>\r\n",
       "<polygon fill=\"black\" stroke=\"black\" points=\"357.192,-197.462 358.988,-187.021 351.072,-194.063 357.192,-197.462\"/>\r\n",
       "</g>\r\n",
       "<!-- 6 -->\r\n",
       "<g id=\"node7\" class=\"node\"><title>6</title>\r\n",
       "<path fill=\"#399de5\" fill-opacity=\"0.129412\" stroke=\"black\" d=\"M328,-68C328,-68 159,-68 159,-68 153,-68 147,-62 147,-56 147,-56 147,-12 147,-12 147,-6 153,-0 159,-0 159,-0 328,-0 328,-0 334,-0 340,-6 340,-12 340,-12 340,-56 340,-56 340,-62 334,-68 328,-68\"/>\r\n",
       "<text text-anchor=\"middle\" x=\"243.5\" y=\"-52.8\" font-family=\"Helvetica,sans-Serif\" font-size=\"14.00\">gini = 0.498</text>\r\n",
       "<text text-anchor=\"middle\" x=\"243.5\" y=\"-37.8\" font-family=\"Helvetica,sans-Serif\" font-size=\"14.00\">samples = 917</text>\r\n",
       "<text text-anchor=\"middle\" x=\"243.5\" y=\"-22.8\" font-family=\"Helvetica,sans-Serif\" font-size=\"14.00\">value = [0, 0, 427, 490, 0, 0]</text>\r\n",
       "<text text-anchor=\"middle\" x=\"243.5\" y=\"-7.8\" font-family=\"Helvetica,sans-Serif\" font-size=\"14.00\">class = &#160;</text>\r\n",
       "</g>\r\n",
       "<!-- 5&#45;&gt;6 -->\r\n",
       "<g id=\"edge6\" class=\"edge\"><title>5&#45;&gt;6</title>\r\n",
       "<path fill=\"none\" stroke=\"black\" d=\"M330.114,-103.726C318.159,-94.2406 305.449,-84.1551 293.553,-74.7159\"/>\r\n",
       "<polygon fill=\"black\" stroke=\"black\" points=\"295.476,-71.7736 285.467,-68.2996 291.125,-77.2571 295.476,-71.7736\"/>\r\n",
       "</g>\r\n",
       "<!-- 7 -->\r\n",
       "<g id=\"node8\" class=\"node\"><title>7</title>\r\n",
       "<path fill=\"#399de5\" stroke=\"black\" d=\"M531,-68C531,-68 370,-68 370,-68 364,-68 358,-62 358,-56 358,-56 358,-12 358,-12 358,-6 364,-0 370,-0 370,-0 531,-0 531,-0 537,-0 543,-6 543,-12 543,-12 543,-56 543,-56 543,-62 537,-68 531,-68\"/>\r\n",
       "<text text-anchor=\"middle\" x=\"450.5\" y=\"-52.8\" font-family=\"Helvetica,sans-Serif\" font-size=\"14.00\">gini = 0.0</text>\r\n",
       "<text text-anchor=\"middle\" x=\"450.5\" y=\"-37.8\" font-family=\"Helvetica,sans-Serif\" font-size=\"14.00\">samples = 1220</text>\r\n",
       "<text text-anchor=\"middle\" x=\"450.5\" y=\"-22.8\" font-family=\"Helvetica,sans-Serif\" font-size=\"14.00\">value = [0, 0, 0, 1220, 0, 0]</text>\r\n",
       "<text text-anchor=\"middle\" x=\"450.5\" y=\"-7.8\" font-family=\"Helvetica,sans-Serif\" font-size=\"14.00\">class = &#160;</text>\r\n",
       "</g>\r\n",
       "<!-- 5&#45;&gt;7 -->\r\n",
       "<g id=\"edge7\" class=\"edge\"><title>5&#45;&gt;7</title>\r\n",
       "<path fill=\"none\" stroke=\"black\" d=\"M407.193,-103.726C412.711,-94.9703 418.55,-85.7032 424.094,-76.9051\"/>\r\n",
       "<polygon fill=\"black\" stroke=\"black\" points=\"427.147,-78.6259 429.517,-68.2996 421.224,-74.8941 427.147,-78.6259\"/>\r\n",
       "</g>\r\n",
       "<!-- 9 -->\r\n",
       "<g id=\"node10\" class=\"node\"><title>9</title>\r\n",
       "<path fill=\"#e58139\" stroke=\"black\" d=\"M643,-298.5C643,-298.5 482,-298.5 482,-298.5 476,-298.5 470,-292.5 470,-286.5 470,-286.5 470,-242.5 470,-242.5 470,-236.5 476,-230.5 482,-230.5 482,-230.5 643,-230.5 643,-230.5 649,-230.5 655,-236.5 655,-242.5 655,-242.5 655,-286.5 655,-286.5 655,-292.5 649,-298.5 643,-298.5\"/>\r\n",
       "<text text-anchor=\"middle\" x=\"562.5\" y=\"-283.3\" font-family=\"Helvetica,sans-Serif\" font-size=\"14.00\">gini = 0.0</text>\r\n",
       "<text text-anchor=\"middle\" x=\"562.5\" y=\"-268.3\" font-family=\"Helvetica,sans-Serif\" font-size=\"14.00\">samples = 2038</text>\r\n",
       "<text text-anchor=\"middle\" x=\"562.5\" y=\"-253.3\" font-family=\"Helvetica,sans-Serif\" font-size=\"14.00\">value = [2038, 0, 0, 0, 0, 0]</text>\r\n",
       "<text text-anchor=\"middle\" x=\"562.5\" y=\"-238.3\" font-family=\"Helvetica,sans-Serif\" font-size=\"14.00\">class = [</text>\r\n",
       "</g>\r\n",
       "<!-- 8&#45;&gt;9 -->\r\n",
       "<g id=\"edge9\" class=\"edge\"><title>8&#45;&gt;9</title>\r\n",
       "<path fill=\"none\" stroke=\"black\" d=\"M569.684,-341.907C568.677,-331.204 567.588,-319.615 566.569,-308.776\"/>\r\n",
       "<polygon fill=\"black\" stroke=\"black\" points=\"570.039,-308.295 565.618,-298.667 563.07,-308.951 570.039,-308.295\"/>\r\n",
       "</g>\r\n",
       "<!-- 10 -->\r\n",
       "<g id=\"node11\" class=\"node\"><title>10</title>\r\n",
       "<path fill=\"#9de539\" fill-opacity=\"0.717647\" stroke=\"black\" d=\"M887.5,-306C887.5,-306 685.5,-306 685.5,-306 679.5,-306 673.5,-300 673.5,-294 673.5,-294 673.5,-235 673.5,-235 673.5,-229 679.5,-223 685.5,-223 685.5,-223 887.5,-223 887.5,-223 893.5,-223 899.5,-229 899.5,-235 899.5,-235 899.5,-294 899.5,-294 899.5,-300 893.5,-306 887.5,-306\"/>\r\n",
       "<text text-anchor=\"middle\" x=\"786.5\" y=\"-290.8\" font-family=\"Helvetica,sans-Serif\" font-size=\"14.00\">ProductCategory &lt;= 1.5</text>\r\n",
       "<text text-anchor=\"middle\" x=\"786.5\" y=\"-275.8\" font-family=\"Helvetica,sans-Serif\" font-size=\"14.00\">gini = 0.381</text>\r\n",
       "<text text-anchor=\"middle\" x=\"786.5\" y=\"-260.8\" font-family=\"Helvetica,sans-Serif\" font-size=\"14.00\">samples = 7837</text>\r\n",
       "<text text-anchor=\"middle\" x=\"786.5\" y=\"-245.8\" font-family=\"Helvetica,sans-Serif\" font-size=\"14.00\">value = [0, 6002, 1321, 514, 0, 0]</text>\r\n",
       "<text text-anchor=\"middle\" x=\"786.5\" y=\"-230.8\" font-family=\"Helvetica,sans-Serif\" font-size=\"14.00\">class = 1</text>\r\n",
       "</g>\r\n",
       "<!-- 8&#45;&gt;10 -->\r\n",
       "<g id=\"edge10\" class=\"edge\"><title>8&#45;&gt;10</title>\r\n",
       "<path fill=\"none\" stroke=\"black\" d=\"M647.399,-341.907C665.655,-331.879 685.326,-321.075 703.964,-310.837\"/>\r\n",
       "<polygon fill=\"black\" stroke=\"black\" points=\"705.652,-313.903 712.731,-306.021 702.281,-307.768 705.652,-313.903\"/>\r\n",
       "</g>\r\n",
       "<!-- 11 -->\r\n",
       "<g id=\"node12\" class=\"node\"><title>11</title>\r\n",
       "<path fill=\"#9de539\" stroke=\"black\" d=\"M761,-179.5C761,-179.5 600,-179.5 600,-179.5 594,-179.5 588,-173.5 588,-167.5 588,-167.5 588,-123.5 588,-123.5 588,-117.5 594,-111.5 600,-111.5 600,-111.5 761,-111.5 761,-111.5 767,-111.5 773,-117.5 773,-123.5 773,-123.5 773,-167.5 773,-167.5 773,-173.5 767,-179.5 761,-179.5\"/>\r\n",
       "<text text-anchor=\"middle\" x=\"680.5\" y=\"-164.3\" font-family=\"Helvetica,sans-Serif\" font-size=\"14.00\">gini = 0.0</text>\r\n",
       "<text text-anchor=\"middle\" x=\"680.5\" y=\"-149.3\" font-family=\"Helvetica,sans-Serif\" font-size=\"14.00\">samples = 6002</text>\r\n",
       "<text text-anchor=\"middle\" x=\"680.5\" y=\"-134.3\" font-family=\"Helvetica,sans-Serif\" font-size=\"14.00\">value = [0, 6002, 0, 0, 0, 0]</text>\r\n",
       "<text text-anchor=\"middle\" x=\"680.5\" y=\"-119.3\" font-family=\"Helvetica,sans-Serif\" font-size=\"14.00\">class = 1</text>\r\n",
       "</g>\r\n",
       "<!-- 10&#45;&gt;11 -->\r\n",
       "<g id=\"edge11\" class=\"edge\"><title>10&#45;&gt;11</title>\r\n",
       "<path fill=\"none\" stroke=\"black\" d=\"M749.724,-222.907C739.227,-211.321 727.79,-198.698 717.292,-187.111\"/>\r\n",
       "<polygon fill=\"black\" stroke=\"black\" points=\"719.857,-184.728 710.549,-179.667 714.669,-189.428 719.857,-184.728\"/>\r\n",
       "</g>\r\n",
       "<!-- 12 -->\r\n",
       "<g id=\"node13\" class=\"node\"><title>12</title>\r\n",
       "<path fill=\"#39e581\" fill-opacity=\"0.611765\" stroke=\"black\" d=\"M980,-187C980,-187 803,-187 803,-187 797,-187 791,-181 791,-175 791,-175 791,-116 791,-116 791,-110 797,-104 803,-104 803,-104 980,-104 980,-104 986,-104 992,-110 992,-116 992,-116 992,-175 992,-175 992,-181 986,-187 980,-187\"/>\r\n",
       "<text text-anchor=\"middle\" x=\"891.5\" y=\"-171.8\" font-family=\"Helvetica,sans-Serif\" font-size=\"14.00\">prodbin &lt;= 8.5</text>\r\n",
       "<text text-anchor=\"middle\" x=\"891.5\" y=\"-156.8\" font-family=\"Helvetica,sans-Serif\" font-size=\"14.00\">gini = 0.403</text>\r\n",
       "<text text-anchor=\"middle\" x=\"891.5\" y=\"-141.8\" font-family=\"Helvetica,sans-Serif\" font-size=\"14.00\">samples = 1835</text>\r\n",
       "<text text-anchor=\"middle\" x=\"891.5\" y=\"-126.8\" font-family=\"Helvetica,sans-Serif\" font-size=\"14.00\">value = [0, 0, 1321, 514, 0, 0]</text>\r\n",
       "<text text-anchor=\"middle\" x=\"891.5\" y=\"-111.8\" font-family=\"Helvetica,sans-Serif\" font-size=\"14.00\">class = ,</text>\r\n",
       "</g>\r\n",
       "<!-- 10&#45;&gt;12 -->\r\n",
       "<g id=\"edge12\" class=\"edge\"><title>10&#45;&gt;12</title>\r\n",
       "<path fill=\"none\" stroke=\"black\" d=\"M822.929,-222.907C831.155,-213.742 839.963,-203.927 848.433,-194.489\"/>\r\n",
       "<polygon fill=\"black\" stroke=\"black\" points=\"851.061,-196.801 855.135,-187.021 845.851,-192.126 851.061,-196.801\"/>\r\n",
       "</g>\r\n",
       "<!-- 13 -->\r\n",
       "<g id=\"node14\" class=\"node\"><title>13</title>\r\n",
       "<path fill=\"#399de5\" fill-opacity=\"0.050980\" stroke=\"black\" d=\"M874,-68C874,-68 705,-68 705,-68 699,-68 693,-62 693,-56 693,-56 693,-12 693,-12 693,-6 699,-0 705,-0 705,-0 874,-0 874,-0 880,-0 886,-6 886,-12 886,-12 886,-56 886,-56 886,-62 880,-68 874,-68\"/>\r\n",
       "<text text-anchor=\"middle\" x=\"789.5\" y=\"-52.8\" font-family=\"Helvetica,sans-Serif\" font-size=\"14.00\">gini = 0.5</text>\r\n",
       "<text text-anchor=\"middle\" x=\"789.5\" y=\"-37.8\" font-family=\"Helvetica,sans-Serif\" font-size=\"14.00\">samples = 1001</text>\r\n",
       "<text text-anchor=\"middle\" x=\"789.5\" y=\"-22.8\" font-family=\"Helvetica,sans-Serif\" font-size=\"14.00\">value = [0, 0, 487, 514, 0, 0]</text>\r\n",
       "<text text-anchor=\"middle\" x=\"789.5\" y=\"-7.8\" font-family=\"Helvetica,sans-Serif\" font-size=\"14.00\">class = &#160;</text>\r\n",
       "</g>\r\n",
       "<!-- 12&#45;&gt;13 -->\r\n",
       "<g id=\"edge13\" class=\"edge\"><title>12&#45;&gt;13</title>\r\n",
       "<path fill=\"none\" stroke=\"black\" d=\"M853.519,-103.726C845.023,-94.6054 836.01,-84.93 827.513,-75.8078\"/>\r\n",
       "<polygon fill=\"black\" stroke=\"black\" points=\"829.896,-73.2312 820.519,-68.2996 824.774,-78.0025 829.896,-73.2312\"/>\r\n",
       "</g>\r\n",
       "<!-- 14 -->\r\n",
       "<g id=\"node15\" class=\"node\"><title>14</title>\r\n",
       "<path fill=\"#39e581\" stroke=\"black\" d=\"M1068.5,-68C1068.5,-68 916.5,-68 916.5,-68 910.5,-68 904.5,-62 904.5,-56 904.5,-56 904.5,-12 904.5,-12 904.5,-6 910.5,-0 916.5,-0 916.5,-0 1068.5,-0 1068.5,-0 1074.5,-0 1080.5,-6 1080.5,-12 1080.5,-12 1080.5,-56 1080.5,-56 1080.5,-62 1074.5,-68 1068.5,-68\"/>\r\n",
       "<text text-anchor=\"middle\" x=\"992.5\" y=\"-52.8\" font-family=\"Helvetica,sans-Serif\" font-size=\"14.00\">gini = 0.0</text>\r\n",
       "<text text-anchor=\"middle\" x=\"992.5\" y=\"-37.8\" font-family=\"Helvetica,sans-Serif\" font-size=\"14.00\">samples = 834</text>\r\n",
       "<text text-anchor=\"middle\" x=\"992.5\" y=\"-22.8\" font-family=\"Helvetica,sans-Serif\" font-size=\"14.00\">value = [0, 0, 834, 0, 0, 0]</text>\r\n",
       "<text text-anchor=\"middle\" x=\"992.5\" y=\"-7.8\" font-family=\"Helvetica,sans-Serif\" font-size=\"14.00\">class = ,</text>\r\n",
       "</g>\r\n",
       "<!-- 12&#45;&gt;14 -->\r\n",
       "<g id=\"edge14\" class=\"edge\"><title>12&#45;&gt;14</title>\r\n",
       "<path fill=\"none\" stroke=\"black\" d=\"M929.109,-103.726C937.521,-94.6054 946.446,-84.93 954.86,-75.8078\"/>\r\n",
       "<polygon fill=\"black\" stroke=\"black\" points=\"957.578,-78.0232 961.785,-68.2996 952.433,-73.2772 957.578,-78.0232\"/>\r\n",
       "</g>\r\n",
       "</g>\r\n",
       "</svg>\r\n"
      ],
      "text/plain": [
       "<graphviz.files.Source at 0x5362e2d898>"
      ]
     },
     "execution_count": 56,
     "metadata": {},
     "output_type": "execute_result"
    }
   ],
   "source": [
    "tree_graph=plot_tree(DT1,clustered,'cluster',\"plot\")\n",
    "tree_graph"
   ]
  },
  {
   "cell_type": "code",
   "execution_count": 114,
   "metadata": {
    "collapsed": true
   },
   "outputs": [],
   "source": [
    "#checking with depth 3\n",
    "clf2=DecisionTreeClassifier(max_depth=3)"
   ]
  },
  {
   "cell_type": "code",
   "execution_count": 115,
   "metadata": {
    "collapsed": true
   },
   "outputs": [],
   "source": [
    "DT2=clf2.fit(trainx,trainy)\n",
    "pred_train=DT2.predict(trainx)\n",
    "pred_test=DT2.predict(testx)"
   ]
  },
  {
   "cell_type": "code",
   "execution_count": 116,
   "metadata": {},
   "outputs": [
    {
     "data": {
      "text/plain": [
       "0.9551627197789108"
      ]
     },
     "execution_count": 116,
     "metadata": {},
     "output_type": "execute_result"
    }
   ],
   "source": [
    "accuracy_score(y_pred=pred_train,y_true=trainy['cluster'])"
   ]
  },
  {
   "cell_type": "code",
   "execution_count": 117,
   "metadata": {},
   "outputs": [
    {
     "data": {
      "text/plain": [
       "0.9605336297943302"
      ]
     },
     "execution_count": 117,
     "metadata": {},
     "output_type": "execute_result"
    }
   ],
   "source": [
    "accuracy_score(y_pred=pred_test,y_true=testy['cluster'])"
   ]
  },
  {
   "cell_type": "code",
   "execution_count": 118,
   "metadata": {},
   "outputs": [
    {
     "data": {
      "text/plain": [
       "array([[2038,    0,    0,    0,    0,    0],\n",
       "       [   0, 6002,    0,    0,    0,    0],\n",
       "       [   0,    0, 1321,  427,    0,    0],\n",
       "       [   0,    0,  514, 1710,    0,    0],\n",
       "       [   0,    0,    0,    0, 6604,    0],\n",
       "       [   0,    0,    0,    0,    0, 2371]], dtype=int64)"
      ]
     },
     "execution_count": 118,
     "metadata": {},
     "output_type": "execute_result"
    }
   ],
   "source": [
    "confusion_matrix(y_pred=pred_train,y_true=trainy['cluster'])"
   ]
  },
  {
   "cell_type": "code",
   "execution_count": 119,
   "metadata": {},
   "outputs": [
    {
     "data": {
      "text/plain": [
       "array([[ 927,    0,    0,    0,    0,    0],\n",
       "       [   0, 2579,    0,    0,    0,    0],\n",
       "       [   0,    0,  515,  175,    0,    0],\n",
       "       [   0,    0,  180,  699,    0,    0],\n",
       "       [   0,    0,    0,    0, 2893,    0],\n",
       "       [   0,    0,    0,    0,    0, 1027]], dtype=int64)"
      ]
     },
     "execution_count": 119,
     "metadata": {},
     "output_type": "execute_result"
    }
   ],
   "source": [
    "confusion_matrix(y_pred=pred_test,y_true=testy['cluster'])"
   ]
  },
  {
   "cell_type": "code",
   "execution_count": 57,
   "metadata": {
    "collapsed": true
   },
   "outputs": [],
   "source": [
    "importances = clf1.feature_importances_"
   ]
  },
  {
   "cell_type": "code",
   "execution_count": 58,
   "metadata": {},
   "outputs": [
    {
     "data": {
      "image/png": "[encoded data removed]",
      "text/plain": [
       "<matplotlib.figure.Figure at 0x5360a402b0>"
      ]
     },
     "metadata": {},
     "output_type": "display_data"
    }
   ],
   "source": [
    "feat_importances = pd.Series(importances, index=trainx.columns)\n",
    "\n",
    "%matplotlib inline\n",
    "import matplotlib.pyplot as plt\n",
    "\n",
    "fig5,ax=plt.subplots(figsize=(10,10))\n",
    "plt.title('Feature Importance Plot')\n",
    "plt.xlabel('Important Attributes')\n",
    "plt.ylabel('accuracy')\n",
    "feat_importances.nlargest(20).plot(kind='bar')\n",
    "fig5.savefig(\"featureimportance.png\")"
   ]
  },
  {
   "cell_type": "code",
   "execution_count": 120,
   "metadata": {},
   "outputs": [
    {
     "data": {
      "image/svg+xml": [
       "<?xml version=\"1.0\" encoding=\"UTF-8\" standalone=\"no\"?>\r\n",
       "<!DOCTYPE svg PUBLIC \"-//W3C//DTD SVG 1.1//EN\"\r\n",
       " \"http://www.w3.org/Graphics/SVG/1.1/DTD/svg11.dtd\">\r\n",
       "<!-- Generated by graphviz version 2.38.0 (20140413.2041)\r\n",
       " -->\r\n",
       "<!-- Title: Tree Pages: 1 -->\r\n",
       "<svg width=\"1000pt\" height=\"433pt\"\r\n",
       " viewBox=\"0.00 0.00 1000.00 433.00\" xmlns=\"http://www.w3.org/2000/svg\" xmlns:xlink=\"http://www.w3.org/1999/xlink\">\r\n",
       "<g id=\"graph0\" class=\"graph\" transform=\"scale(1 1) rotate(0) translate(4 429)\">\r\n",
       "<title>Tree</title>\r\n",
       "<polygon fill=\"white\" stroke=\"none\" points=\"-4,4 -4,-429 996,-429 996,4 -4,4\"/>\r\n",
       "<!-- 0 -->\r\n",
       "<g id=\"node1\" class=\"node\"><title>0</title>\r\n",
       "<path fill=\"#8139e5\" fill-opacity=\"0.039216\" stroke=\"black\" d=\"M580.5,-425C580.5,-425 296.5,-425 296.5,-425 290.5,-425 284.5,-419 284.5,-413 284.5,-413 284.5,-354 284.5,-354 284.5,-348 290.5,-342 296.5,-342 296.5,-342 580.5,-342 580.5,-342 586.5,-342 592.5,-348 592.5,-354 592.5,-354 592.5,-413 592.5,-413 592.5,-419 586.5,-425 580.5,-425\"/>\r\n",
       "<text text-anchor=\"middle\" x=\"438.5\" y=\"-409.8\" font-family=\"Helvetica,sans-Serif\" font-size=\"14.00\">gender &lt;= 0.5</text>\r\n",
       "<text text-anchor=\"middle\" x=\"438.5\" y=\"-394.8\" font-family=\"Helvetica,sans-Serif\" font-size=\"14.00\">gini = 0.779</text>\r\n",
       "<text text-anchor=\"middle\" x=\"438.5\" y=\"-379.8\" font-family=\"Helvetica,sans-Serif\" font-size=\"14.00\">samples = 20987</text>\r\n",
       "<text text-anchor=\"middle\" x=\"438.5\" y=\"-364.8\" font-family=\"Helvetica,sans-Serif\" font-size=\"14.00\">value = [2038, 6002, 1748, 2224, 6604, 2371]</text>\r\n",
       "<text text-anchor=\"middle\" x=\"438.5\" y=\"-349.8\" font-family=\"Helvetica,sans-Serif\" font-size=\"14.00\">class = 2</text>\r\n",
       "</g>\r\n",
       "<!-- 1 -->\r\n",
       "<g id=\"node2\" class=\"node\"><title>1</title>\r\n",
       "<path fill=\"#8139e5\" fill-opacity=\"0.482353\" stroke=\"black\" d=\"M418,-306C418,-306 191,-306 191,-306 185,-306 179,-300 179,-294 179,-294 179,-235 179,-235 179,-229 185,-223 191,-223 191,-223 418,-223 418,-223 424,-223 430,-229 430,-235 430,-235 430,-294 430,-294 430,-300 424,-306 418,-306\"/>\r\n",
       "<text text-anchor=\"middle\" x=\"304.5\" y=\"-290.8\" font-family=\"Helvetica,sans-Serif\" font-size=\"14.00\">ProductCategory &lt;= 0.5</text>\r\n",
       "<text text-anchor=\"middle\" x=\"304.5\" y=\"-275.8\" font-family=\"Helvetica,sans-Serif\" font-size=\"14.00\">gini = 0.576</text>\r\n",
       "<text text-anchor=\"middle\" x=\"304.5\" y=\"-260.8\" font-family=\"Helvetica,sans-Serif\" font-size=\"14.00\">samples = 11112</text>\r\n",
       "<text text-anchor=\"middle\" x=\"304.5\" y=\"-245.8\" font-family=\"Helvetica,sans-Serif\" font-size=\"14.00\">value = [0, 0, 427, 1710, 6604, 2371]</text>\r\n",
       "<text text-anchor=\"middle\" x=\"304.5\" y=\"-230.8\" font-family=\"Helvetica,sans-Serif\" font-size=\"14.00\">class = 2</text>\r\n",
       "</g>\r\n",
       "<!-- 0&#45;&gt;1 -->\r\n",
       "<g id=\"edge1\" class=\"edge\"><title>0&#45;&gt;1</title>\r\n",
       "<path fill=\"none\" stroke=\"black\" d=\"M392.009,-341.907C381.2,-332.469 369.602,-322.343 358.5,-312.649\"/>\r\n",
       "<polygon fill=\"black\" stroke=\"black\" points=\"360.743,-309.961 350.908,-306.021 356.139,-315.234 360.743,-309.961\"/>\r\n",
       "<text text-anchor=\"middle\" x=\"352.598\" y=\"-327.264\" font-family=\"Helvetica,sans-Serif\" font-size=\"14.00\">True</text>\r\n",
       "</g>\r\n",
       "<!-- 6 -->\r\n",
       "<g id=\"node7\" class=\"node\"><title>6</title>\r\n",
       "<path fill=\"#9de539\" fill-opacity=\"0.505882\" stroke=\"black\" d=\"M687,-306C687,-306 460,-306 460,-306 454,-306 448,-300 448,-294 448,-294 448,-235 448,-235 448,-229 454,-223 460,-223 460,-223 687,-223 687,-223 693,-223 699,-229 699,-235 699,-235 699,-294 699,-294 699,-300 693,-306 687,-306\"/>\r\n",
       "<text text-anchor=\"middle\" x=\"573.5\" y=\"-290.8\" font-family=\"Helvetica,sans-Serif\" font-size=\"14.00\">ProductCategory &lt;= 0.5</text>\r\n",
       "<text text-anchor=\"middle\" x=\"573.5\" y=\"-275.8\" font-family=\"Helvetica,sans-Serif\" font-size=\"14.00\">gini = 0.567</text>\r\n",
       "<text text-anchor=\"middle\" x=\"573.5\" y=\"-260.8\" font-family=\"Helvetica,sans-Serif\" font-size=\"14.00\">samples = 9875</text>\r\n",
       "<text text-anchor=\"middle\" x=\"573.5\" y=\"-245.8\" font-family=\"Helvetica,sans-Serif\" font-size=\"14.00\">value = [2038, 6002, 1321, 514, 0, 0]</text>\r\n",
       "<text text-anchor=\"middle\" x=\"573.5\" y=\"-230.8\" font-family=\"Helvetica,sans-Serif\" font-size=\"14.00\">class = 1</text>\r\n",
       "</g>\r\n",
       "<!-- 0&#45;&gt;6 -->\r\n",
       "<g id=\"edge6\" class=\"edge\"><title>0&#45;&gt;6</title>\r\n",
       "<path fill=\"none\" stroke=\"black\" d=\"M485.338,-341.907C496.228,-332.469 507.912,-322.343 519.097,-312.649\"/>\r\n",
       "<polygon fill=\"black\" stroke=\"black\" points=\"521.481,-315.215 526.745,-306.021 516.896,-309.925 521.481,-315.215\"/>\r\n",
       "<text text-anchor=\"middle\" x=\"524.964\" y=\"-327.257\" font-family=\"Helvetica,sans-Serif\" font-size=\"14.00\">False</text>\r\n",
       "</g>\r\n",
       "<!-- 2 -->\r\n",
       "<g id=\"node3\" class=\"node\"><title>2</title>\r\n",
       "<path fill=\"#e5399d\" stroke=\"black\" d=\"M173,-179.5C173,-179.5 12,-179.5 12,-179.5 6,-179.5 0,-173.5 0,-167.5 0,-167.5 0,-123.5 0,-123.5 0,-117.5 6,-111.5 12,-111.5 12,-111.5 173,-111.5 173,-111.5 179,-111.5 185,-117.5 185,-123.5 185,-123.5 185,-167.5 185,-167.5 185,-173.5 179,-179.5 173,-179.5\"/>\r\n",
       "<text text-anchor=\"middle\" x=\"92.5\" y=\"-164.3\" font-family=\"Helvetica,sans-Serif\" font-size=\"14.00\">gini = 0.0</text>\r\n",
       "<text text-anchor=\"middle\" x=\"92.5\" y=\"-149.3\" font-family=\"Helvetica,sans-Serif\" font-size=\"14.00\">samples = 2371</text>\r\n",
       "<text text-anchor=\"middle\" x=\"92.5\" y=\"-134.3\" font-family=\"Helvetica,sans-Serif\" font-size=\"14.00\">value = [0, 0, 0, 0, 0, 2371]</text>\r\n",
       "<text text-anchor=\"middle\" x=\"92.5\" y=\"-119.3\" font-family=\"Helvetica,sans-Serif\" font-size=\"14.00\">class = ,</text>\r\n",
       "</g>\r\n",
       "<!-- 1&#45;&gt;2 -->\r\n",
       "<g id=\"edge2\" class=\"edge\"><title>1&#45;&gt;2</title>\r\n",
       "<path fill=\"none\" stroke=\"black\" d=\"M230.948,-222.907C208.454,-210.494 183.803,-196.889 161.616,-184.644\"/>\r\n",
       "<polygon fill=\"black\" stroke=\"black\" points=\"163.044,-181.435 152.597,-179.667 159.661,-187.563 163.044,-181.435\"/>\r\n",
       "</g>\r\n",
       "<!-- 3 -->\r\n",
       "<g id=\"node4\" class=\"node\"><title>3</title>\r\n",
       "<path fill=\"#8139e5\" fill-opacity=\"0.694118\" stroke=\"black\" d=\"M417.5,-187C417.5,-187 215.5,-187 215.5,-187 209.5,-187 203.5,-181 203.5,-175 203.5,-175 203.5,-116 203.5,-116 203.5,-110 209.5,-104 215.5,-104 215.5,-104 417.5,-104 417.5,-104 423.5,-104 429.5,-110 429.5,-116 429.5,-116 429.5,-175 429.5,-175 429.5,-181 423.5,-187 417.5,-187\"/>\r\n",
       "<text text-anchor=\"middle\" x=\"316.5\" y=\"-171.8\" font-family=\"Helvetica,sans-Serif\" font-size=\"14.00\">ProductCategory &lt;= 1.5</text>\r\n",
       "<text text-anchor=\"middle\" x=\"316.5\" y=\"-156.8\" font-family=\"Helvetica,sans-Serif\" font-size=\"14.00\">gini = 0.389</text>\r\n",
       "<text text-anchor=\"middle\" x=\"316.5\" y=\"-141.8\" font-family=\"Helvetica,sans-Serif\" font-size=\"14.00\">samples = 8741</text>\r\n",
       "<text text-anchor=\"middle\" x=\"316.5\" y=\"-126.8\" font-family=\"Helvetica,sans-Serif\" font-size=\"14.00\">value = [0, 0, 427, 1710, 6604, 0]</text>\r\n",
       "<text text-anchor=\"middle\" x=\"316.5\" y=\"-111.8\" font-family=\"Helvetica,sans-Serif\" font-size=\"14.00\">class = 2</text>\r\n",
       "</g>\r\n",
       "<!-- 1&#45;&gt;3 -->\r\n",
       "<g id=\"edge3\" class=\"edge\"><title>1&#45;&gt;3</title>\r\n",
       "<path fill=\"none\" stroke=\"black\" d=\"M308.663,-222.907C309.52,-214.558 310.431,-205.671 311.318,-197.02\"/>\r\n",
       "<polygon fill=\"black\" stroke=\"black\" points=\"314.805,-197.326 312.344,-187.021 307.842,-196.611 314.805,-197.326\"/>\r\n",
       "</g>\r\n",
       "<!-- 4 -->\r\n",
       "<g id=\"node5\" class=\"node\"><title>4</title>\r\n",
       "<path fill=\"#8139e5\" stroke=\"black\" d=\"M251,-68C251,-68 90,-68 90,-68 84,-68 78,-62 78,-56 78,-56 78,-12 78,-12 78,-6 84,-0 90,-0 90,-0 251,-0 251,-0 257,-0 263,-6 263,-12 263,-12 263,-56 263,-56 263,-62 257,-68 251,-68\"/>\r\n",
       "<text text-anchor=\"middle\" x=\"170.5\" y=\"-52.8\" font-family=\"Helvetica,sans-Serif\" font-size=\"14.00\">gini = 0.0</text>\r\n",
       "<text text-anchor=\"middle\" x=\"170.5\" y=\"-37.8\" font-family=\"Helvetica,sans-Serif\" font-size=\"14.00\">samples = 6604</text>\r\n",
       "<text text-anchor=\"middle\" x=\"170.5\" y=\"-22.8\" font-family=\"Helvetica,sans-Serif\" font-size=\"14.00\">value = [0, 0, 0, 0, 6604, 0]</text>\r\n",
       "<text text-anchor=\"middle\" x=\"170.5\" y=\"-7.8\" font-family=\"Helvetica,sans-Serif\" font-size=\"14.00\">class = 2</text>\r\n",
       "</g>\r\n",
       "<!-- 3&#45;&gt;4 -->\r\n",
       "<g id=\"edge4\" class=\"edge\"><title>3&#45;&gt;4</title>\r\n",
       "<path fill=\"none\" stroke=\"black\" d=\"M262.135,-103.726C249.366,-94.1494 235.781,-83.9611 223.092,-74.4438\"/>\r\n",
       "<polygon fill=\"black\" stroke=\"black\" points=\"224.999,-71.4996 214.899,-68.2996 220.799,-77.0996 224.999,-71.4996\"/>\r\n",
       "</g>\r\n",
       "<!-- 5 -->\r\n",
       "<g id=\"node6\" class=\"node\"><title>5</title>\r\n",
       "<path fill=\"#399de5\" fill-opacity=\"0.749020\" stroke=\"black\" d=\"M470,-68C470,-68 293,-68 293,-68 287,-68 281,-62 281,-56 281,-56 281,-12 281,-12 281,-6 287,-0 293,-0 293,-0 470,-0 470,-0 476,-0 482,-6 482,-12 482,-12 482,-56 482,-56 482,-62 476,-68 470,-68\"/>\r\n",
       "<text text-anchor=\"middle\" x=\"381.5\" y=\"-52.8\" font-family=\"Helvetica,sans-Serif\" font-size=\"14.00\">gini = 0.32</text>\r\n",
       "<text text-anchor=\"middle\" x=\"381.5\" y=\"-37.8\" font-family=\"Helvetica,sans-Serif\" font-size=\"14.00\">samples = 2137</text>\r\n",
       "<text text-anchor=\"middle\" x=\"381.5\" y=\"-22.8\" font-family=\"Helvetica,sans-Serif\" font-size=\"14.00\">value = [0, 0, 427, 1710, 0, 0]</text>\r\n",
       "<text text-anchor=\"middle\" x=\"381.5\" y=\"-7.8\" font-family=\"Helvetica,sans-Serif\" font-size=\"14.00\">class = &#160;</text>\r\n",
       "</g>\r\n",
       "<!-- 3&#45;&gt;5 -->\r\n",
       "<g id=\"edge5\" class=\"edge\"><title>3&#45;&gt;5</title>\r\n",
       "<path fill=\"none\" stroke=\"black\" d=\"M340.704,-103.726C345.901,-94.9703 351.402,-85.7032 356.625,-76.9051\"/>\r\n",
       "<polygon fill=\"black\" stroke=\"black\" points=\"359.638,-78.6853 361.733,-68.2996 353.619,-75.1121 359.638,-78.6853\"/>\r\n",
       "</g>\r\n",
       "<!-- 7 -->\r\n",
       "<g id=\"node8\" class=\"node\"><title>7</title>\r\n",
       "<path fill=\"#e58139\" stroke=\"black\" d=\"M643,-179.5C643,-179.5 482,-179.5 482,-179.5 476,-179.5 470,-173.5 470,-167.5 470,-167.5 470,-123.5 470,-123.5 470,-117.5 476,-111.5 482,-111.5 482,-111.5 643,-111.5 643,-111.5 649,-111.5 655,-117.5 655,-123.5 655,-123.5 655,-167.5 655,-167.5 655,-173.5 649,-179.5 643,-179.5\"/>\r\n",
       "<text text-anchor=\"middle\" x=\"562.5\" y=\"-164.3\" font-family=\"Helvetica,sans-Serif\" font-size=\"14.00\">gini = 0.0</text>\r\n",
       "<text text-anchor=\"middle\" x=\"562.5\" y=\"-149.3\" font-family=\"Helvetica,sans-Serif\" font-size=\"14.00\">samples = 2038</text>\r\n",
       "<text text-anchor=\"middle\" x=\"562.5\" y=\"-134.3\" font-family=\"Helvetica,sans-Serif\" font-size=\"14.00\">value = [2038, 0, 0, 0, 0, 0]</text>\r\n",
       "<text text-anchor=\"middle\" x=\"562.5\" y=\"-119.3\" font-family=\"Helvetica,sans-Serif\" font-size=\"14.00\">class = [</text>\r\n",
       "</g>\r\n",
       "<!-- 6&#45;&gt;7 -->\r\n",
       "<g id=\"edge7\" class=\"edge\"><title>6&#45;&gt;7</title>\r\n",
       "<path fill=\"none\" stroke=\"black\" d=\"M569.684,-222.907C568.677,-212.204 567.588,-200.615 566.569,-189.776\"/>\r\n",
       "<polygon fill=\"black\" stroke=\"black\" points=\"570.039,-189.295 565.618,-179.667 563.07,-189.951 570.039,-189.295\"/>\r\n",
       "</g>\r\n",
       "<!-- 8 -->\r\n",
       "<g id=\"node9\" class=\"node\"><title>8</title>\r\n",
       "<path fill=\"#9de539\" fill-opacity=\"0.717647\" stroke=\"black\" d=\"M887.5,-187C887.5,-187 685.5,-187 685.5,-187 679.5,-187 673.5,-181 673.5,-175 673.5,-175 673.5,-116 673.5,-116 673.5,-110 679.5,-104 685.5,-104 685.5,-104 887.5,-104 887.5,-104 893.5,-104 899.5,-110 899.5,-116 899.5,-116 899.5,-175 899.5,-175 899.5,-181 893.5,-187 887.5,-187\"/>\r\n",
       "<text text-anchor=\"middle\" x=\"786.5\" y=\"-171.8\" font-family=\"Helvetica,sans-Serif\" font-size=\"14.00\">ProductCategory &lt;= 1.5</text>\r\n",
       "<text text-anchor=\"middle\" x=\"786.5\" y=\"-156.8\" font-family=\"Helvetica,sans-Serif\" font-size=\"14.00\">gini = 0.381</text>\r\n",
       "<text text-anchor=\"middle\" x=\"786.5\" y=\"-141.8\" font-family=\"Helvetica,sans-Serif\" font-size=\"14.00\">samples = 7837</text>\r\n",
       "<text text-anchor=\"middle\" x=\"786.5\" y=\"-126.8\" font-family=\"Helvetica,sans-Serif\" font-size=\"14.00\">value = [0, 6002, 1321, 514, 0, 0]</text>\r\n",
       "<text text-anchor=\"middle\" x=\"786.5\" y=\"-111.8\" font-family=\"Helvetica,sans-Serif\" font-size=\"14.00\">class = 1</text>\r\n",
       "</g>\r\n",
       "<!-- 6&#45;&gt;8 -->\r\n",
       "<g id=\"edge8\" class=\"edge\"><title>6&#45;&gt;8</title>\r\n",
       "<path fill=\"none\" stroke=\"black\" d=\"M647.399,-222.907C665.655,-212.879 685.326,-202.075 703.964,-191.837\"/>\r\n",
       "<polygon fill=\"black\" stroke=\"black\" points=\"705.652,-194.903 712.731,-187.021 702.281,-188.768 705.652,-194.903\"/>\r\n",
       "</g>\r\n",
       "<!-- 9 -->\r\n",
       "<g id=\"node10\" class=\"node\"><title>9</title>\r\n",
       "<path fill=\"#9de539\" stroke=\"black\" d=\"M761,-68C761,-68 600,-68 600,-68 594,-68 588,-62 588,-56 588,-56 588,-12 588,-12 588,-6 594,-0 600,-0 600,-0 761,-0 761,-0 767,-0 773,-6 773,-12 773,-12 773,-56 773,-56 773,-62 767,-68 761,-68\"/>\r\n",
       "<text text-anchor=\"middle\" x=\"680.5\" y=\"-52.8\" font-family=\"Helvetica,sans-Serif\" font-size=\"14.00\">gini = 0.0</text>\r\n",
       "<text text-anchor=\"middle\" x=\"680.5\" y=\"-37.8\" font-family=\"Helvetica,sans-Serif\" font-size=\"14.00\">samples = 6002</text>\r\n",
       "<text text-anchor=\"middle\" x=\"680.5\" y=\"-22.8\" font-family=\"Helvetica,sans-Serif\" font-size=\"14.00\">value = [0, 6002, 0, 0, 0, 0]</text>\r\n",
       "<text text-anchor=\"middle\" x=\"680.5\" y=\"-7.8\" font-family=\"Helvetica,sans-Serif\" font-size=\"14.00\">class = 1</text>\r\n",
       "</g>\r\n",
       "<!-- 8&#45;&gt;9 -->\r\n",
       "<g id=\"edge9\" class=\"edge\"><title>8&#45;&gt;9</title>\r\n",
       "<path fill=\"none\" stroke=\"black\" d=\"M747.03,-103.726C738.112,-94.5142 728.647,-84.7364 719.739,-75.5343\"/>\r\n",
       "<polygon fill=\"black\" stroke=\"black\" points=\"722.205,-73.0502 712.735,-68.2996 717.176,-77.919 722.205,-73.0502\"/>\r\n",
       "</g>\r\n",
       "<!-- 10 -->\r\n",
       "<g id=\"node11\" class=\"node\"><title>10</title>\r\n",
       "<path fill=\"#39e581\" fill-opacity=\"0.611765\" stroke=\"black\" d=\"M980,-68C980,-68 803,-68 803,-68 797,-68 791,-62 791,-56 791,-56 791,-12 791,-12 791,-6 797,-0 803,-0 803,-0 980,-0 980,-0 986,-0 992,-6 992,-12 992,-12 992,-56 992,-56 992,-62 986,-68 980,-68\"/>\r\n",
       "<text text-anchor=\"middle\" x=\"891.5\" y=\"-52.8\" font-family=\"Helvetica,sans-Serif\" font-size=\"14.00\">gini = 0.403</text>\r\n",
       "<text text-anchor=\"middle\" x=\"891.5\" y=\"-37.8\" font-family=\"Helvetica,sans-Serif\" font-size=\"14.00\">samples = 1835</text>\r\n",
       "<text text-anchor=\"middle\" x=\"891.5\" y=\"-22.8\" font-family=\"Helvetica,sans-Serif\" font-size=\"14.00\">value = [0, 0, 1321, 514, 0, 0]</text>\r\n",
       "<text text-anchor=\"middle\" x=\"891.5\" y=\"-7.8\" font-family=\"Helvetica,sans-Serif\" font-size=\"14.00\">class = ,</text>\r\n",
       "</g>\r\n",
       "<!-- 8&#45;&gt;10 -->\r\n",
       "<g id=\"edge10\" class=\"edge\"><title>8&#45;&gt;10</title>\r\n",
       "<path fill=\"none\" stroke=\"black\" d=\"M825.598,-103.726C834.432,-94.5142 843.808,-84.7364 852.631,-75.5343\"/>\r\n",
       "<polygon fill=\"black\" stroke=\"black\" points=\"855.174,-77.9399 859.569,-68.2996 850.121,-73.095 855.174,-77.9399\"/>\r\n",
       "</g>\r\n",
       "</g>\r\n",
       "</svg>\r\n"
      ],
      "text/plain": [
       "<graphviz.files.Source at 0x53645fa160>"
      ]
     },
     "execution_count": 120,
     "metadata": {},
     "output_type": "execute_result"
    }
   ],
   "source": [
    "tree_graph=plot_tree(DT2,clustered,'cluster',\"plot\")\n",
    "tree_graph"
   ]
  },
  {
   "cell_type": "code",
   "execution_count": 59,
   "metadata": {
    "collapsed": true
   },
   "outputs": [],
   "source": [
    "# loading new customer dataset\n",
    "NewDem = pd.read_csv(\"./Data/NewCustomerDemographics_Segmentation.csv\")"
   ]
  },
  {
   "cell_type": "code",
   "execution_count": 60,
   "metadata": {
    "collapsed": true
   },
   "outputs": [],
   "source": [
    "NewTrans=pd.read_csv(\"./Data/NewCustomerTransactions_Segmentation.csv\")"
   ]
  },
  {
   "cell_type": "code",
   "execution_count": 61,
   "metadata": {},
   "outputs": [
    {
     "data": {
      "text/html": [
       "<div>\n",
       "<style scoped>\n",
       "    .dataframe tbody tr th:only-of-type {\n",
       "        vertical-align: middle;\n",
       "    }\n",
       "\n",
       "    .dataframe tbody tr th {\n",
       "        vertical-align: top;\n",
       "    }\n",
       "\n",
       "    .dataframe thead th {\n",
       "        text-align: right;\n",
       "    }\n",
       "</style>\n",
       "<table border=\"1\" class=\"dataframe\">\n",
       "  <thead>\n",
       "    <tr style=\"text-align: right;\">\n",
       "      <th></th>\n",
       "      <th>CustomerID</th>\n",
       "      <th>DOB</th>\n",
       "      <th>gender</th>\n",
       "      <th>MaritalStatus</th>\n",
       "      <th>Familysize</th>\n",
       "    </tr>\n",
       "  </thead>\n",
       "  <tbody>\n",
       "    <tr>\n",
       "      <th>0</th>\n",
       "      <td>C21116</td>\n",
       "      <td>1973-11-21</td>\n",
       "      <td>M</td>\n",
       "      <td>Yes</td>\n",
       "      <td>4</td>\n",
       "    </tr>\n",
       "    <tr>\n",
       "      <th>1</th>\n",
       "      <td>C21117</td>\n",
       "      <td>1985-03-12</td>\n",
       "      <td>M</td>\n",
       "      <td>Yes</td>\n",
       "      <td>3</td>\n",
       "    </tr>\n",
       "    <tr>\n",
       "      <th>2</th>\n",
       "      <td>C21118</td>\n",
       "      <td>1978-12-27</td>\n",
       "      <td>M</td>\n",
       "      <td>Yes</td>\n",
       "      <td>4</td>\n",
       "    </tr>\n",
       "    <tr>\n",
       "      <th>3</th>\n",
       "      <td>C21119</td>\n",
       "      <td>1998-09-21</td>\n",
       "      <td>M</td>\n",
       "      <td>Yes</td>\n",
       "      <td>3</td>\n",
       "    </tr>\n",
       "    <tr>\n",
       "      <th>4</th>\n",
       "      <td>C21120</td>\n",
       "      <td>1943-03-08</td>\n",
       "      <td>M</td>\n",
       "      <td>Yes</td>\n",
       "      <td>4</td>\n",
       "    </tr>\n",
       "  </tbody>\n",
       "</table>\n",
       "</div>"
      ],
      "text/plain": [
       "  CustomerID         DOB gender MaritalStatus  Familysize\n",
       "0     C21116  1973-11-21      M           Yes           4\n",
       "1     C21117  1985-03-12      M           Yes           3\n",
       "2     C21118  1978-12-27      M           Yes           4\n",
       "3     C21119  1998-09-21      M           Yes           3\n",
       "4     C21120  1943-03-08      M           Yes           4"
      ]
     },
     "execution_count": 61,
     "metadata": {},
     "output_type": "execute_result"
    }
   ],
   "source": [
    "NewDem.head()"
   ]
  },
  {
   "cell_type": "code",
   "execution_count": 62,
   "metadata": {},
   "outputs": [
    {
     "data": {
      "text/html": [
       "<div>\n",
       "<style scoped>\n",
       "    .dataframe tbody tr th:only-of-type {\n",
       "        vertical-align: middle;\n",
       "    }\n",
       "\n",
       "    .dataframe tbody tr th {\n",
       "        vertical-align: top;\n",
       "    }\n",
       "\n",
       "    .dataframe thead th {\n",
       "        text-align: right;\n",
       "    }\n",
       "</style>\n",
       "<table border=\"1\" class=\"dataframe\">\n",
       "  <thead>\n",
       "    <tr style=\"text-align: right;\">\n",
       "      <th></th>\n",
       "      <th>BillNumber</th>\n",
       "      <th>BillDate</th>\n",
       "      <th>CustomerID</th>\n",
       "      <th>ProductID</th>\n",
       "      <th>ProductCategory</th>\n",
       "      <th>Sales</th>\n",
       "      <th>Quantity</th>\n",
       "    </tr>\n",
       "  </thead>\n",
       "  <tbody>\n",
       "    <tr>\n",
       "      <th>0</th>\n",
       "      <td>B38262</td>\n",
       "      <td>2014-09-19</td>\n",
       "      <td>C21116</td>\n",
       "      <td>PR7012</td>\n",
       "      <td>Office Supplies</td>\n",
       "      <td>5.670</td>\n",
       "      <td>3</td>\n",
       "    </tr>\n",
       "    <tr>\n",
       "      <th>1</th>\n",
       "      <td>B38128</td>\n",
       "      <td>2014-09-23</td>\n",
       "      <td>C21116</td>\n",
       "      <td>PR7313</td>\n",
       "      <td>Office Supplies</td>\n",
       "      <td>28.800</td>\n",
       "      <td>9</td>\n",
       "    </tr>\n",
       "    <tr>\n",
       "      <th>2</th>\n",
       "      <td>B42017</td>\n",
       "      <td>2015-03-16</td>\n",
       "      <td>C21116</td>\n",
       "      <td>PR6640</td>\n",
       "      <td>Office Supplies</td>\n",
       "      <td>17.520</td>\n",
       "      <td>3</td>\n",
       "    </tr>\n",
       "    <tr>\n",
       "      <th>3</th>\n",
       "      <td>B39125</td>\n",
       "      <td>2015-04-29</td>\n",
       "      <td>C21116</td>\n",
       "      <td>PR7219</td>\n",
       "      <td>Office Supplies</td>\n",
       "      <td>7.968</td>\n",
       "      <td>2</td>\n",
       "    </tr>\n",
       "    <tr>\n",
       "      <th>4</th>\n",
       "      <td>B38809</td>\n",
       "      <td>2015-12-11</td>\n",
       "      <td>C21116</td>\n",
       "      <td>PR6925</td>\n",
       "      <td>Office Supplies</td>\n",
       "      <td>110.528</td>\n",
       "      <td>4</td>\n",
       "    </tr>\n",
       "  </tbody>\n",
       "</table>\n",
       "</div>"
      ],
      "text/plain": [
       "  BillNumber    BillDate CustomerID ProductID  ProductCategory    Sales  \\\n",
       "0     B38262  2014-09-19     C21116    PR7012  Office Supplies    5.670   \n",
       "1     B38128  2014-09-23     C21116    PR7313  Office Supplies   28.800   \n",
       "2     B42017  2015-03-16     C21116    PR6640  Office Supplies   17.520   \n",
       "3     B39125  2015-04-29     C21116    PR7219  Office Supplies    7.968   \n",
       "4     B38809  2015-12-11     C21116    PR6925  Office Supplies  110.528   \n",
       "\n",
       "   Quantity  \n",
       "0         3  \n",
       "1         9  \n",
       "2         3  \n",
       "3         2  \n",
       "4         4  "
      ]
     },
     "execution_count": 62,
     "metadata": {},
     "output_type": "execute_result"
    }
   ],
   "source": [
    "NewTrans.head()"
   ]
  },
  {
   "cell_type": "code",
   "execution_count": 63,
   "metadata": {
    "collapsed": true
   },
   "outputs": [],
   "source": [
    "NewMergeData= pd.merge(left=NewTrans, right=NewDem,how='left', left_on='CustomerID',right_on='CustomerID')"
   ]
  },
  {
   "cell_type": "code",
   "execution_count": 64,
   "metadata": {},
   "outputs": [
    {
     "data": {
      "text/html": [
       "<div>\n",
       "<style scoped>\n",
       "    .dataframe tbody tr th:only-of-type {\n",
       "        vertical-align: middle;\n",
       "    }\n",
       "\n",
       "    .dataframe tbody tr th {\n",
       "        vertical-align: top;\n",
       "    }\n",
       "\n",
       "    .dataframe thead th {\n",
       "        text-align: right;\n",
       "    }\n",
       "</style>\n",
       "<table border=\"1\" class=\"dataframe\">\n",
       "  <thead>\n",
       "    <tr style=\"text-align: right;\">\n",
       "      <th></th>\n",
       "      <th>BillNumber</th>\n",
       "      <th>BillDate</th>\n",
       "      <th>CustomerID</th>\n",
       "      <th>ProductID</th>\n",
       "      <th>ProductCategory</th>\n",
       "      <th>Sales</th>\n",
       "      <th>Quantity</th>\n",
       "      <th>DOB</th>\n",
       "      <th>gender</th>\n",
       "      <th>MaritalStatus</th>\n",
       "      <th>Familysize</th>\n",
       "    </tr>\n",
       "  </thead>\n",
       "  <tbody>\n",
       "    <tr>\n",
       "      <th>0</th>\n",
       "      <td>B38262</td>\n",
       "      <td>2014-09-19</td>\n",
       "      <td>C21116</td>\n",
       "      <td>PR7012</td>\n",
       "      <td>Office Supplies</td>\n",
       "      <td>5.670</td>\n",
       "      <td>3</td>\n",
       "      <td>1973-11-21</td>\n",
       "      <td>M</td>\n",
       "      <td>Yes</td>\n",
       "      <td>4</td>\n",
       "    </tr>\n",
       "    <tr>\n",
       "      <th>1</th>\n",
       "      <td>B38128</td>\n",
       "      <td>2014-09-23</td>\n",
       "      <td>C21116</td>\n",
       "      <td>PR7313</td>\n",
       "      <td>Office Supplies</td>\n",
       "      <td>28.800</td>\n",
       "      <td>9</td>\n",
       "      <td>1973-11-21</td>\n",
       "      <td>M</td>\n",
       "      <td>Yes</td>\n",
       "      <td>4</td>\n",
       "    </tr>\n",
       "    <tr>\n",
       "      <th>2</th>\n",
       "      <td>B42017</td>\n",
       "      <td>2015-03-16</td>\n",
       "      <td>C21116</td>\n",
       "      <td>PR6640</td>\n",
       "      <td>Office Supplies</td>\n",
       "      <td>17.520</td>\n",
       "      <td>3</td>\n",
       "      <td>1973-11-21</td>\n",
       "      <td>M</td>\n",
       "      <td>Yes</td>\n",
       "      <td>4</td>\n",
       "    </tr>\n",
       "    <tr>\n",
       "      <th>3</th>\n",
       "      <td>B39125</td>\n",
       "      <td>2015-04-29</td>\n",
       "      <td>C21116</td>\n",
       "      <td>PR7219</td>\n",
       "      <td>Office Supplies</td>\n",
       "      <td>7.968</td>\n",
       "      <td>2</td>\n",
       "      <td>1973-11-21</td>\n",
       "      <td>M</td>\n",
       "      <td>Yes</td>\n",
       "      <td>4</td>\n",
       "    </tr>\n",
       "    <tr>\n",
       "      <th>4</th>\n",
       "      <td>B38809</td>\n",
       "      <td>2015-12-11</td>\n",
       "      <td>C21116</td>\n",
       "      <td>PR6925</td>\n",
       "      <td>Office Supplies</td>\n",
       "      <td>110.528</td>\n",
       "      <td>4</td>\n",
       "      <td>1973-11-21</td>\n",
       "      <td>M</td>\n",
       "      <td>Yes</td>\n",
       "      <td>4</td>\n",
       "    </tr>\n",
       "  </tbody>\n",
       "</table>\n",
       "</div>"
      ],
      "text/plain": [
       "  BillNumber    BillDate CustomerID ProductID  ProductCategory    Sales  \\\n",
       "0     B38262  2014-09-19     C21116    PR7012  Office Supplies    5.670   \n",
       "1     B38128  2014-09-23     C21116    PR7313  Office Supplies   28.800   \n",
       "2     B42017  2015-03-16     C21116    PR6640  Office Supplies   17.520   \n",
       "3     B39125  2015-04-29     C21116    PR7219  Office Supplies    7.968   \n",
       "4     B38809  2015-12-11     C21116    PR6925  Office Supplies  110.528   \n",
       "\n",
       "   Quantity         DOB gender MaritalStatus  Familysize  \n",
       "0         3  1973-11-21      M           Yes           4  \n",
       "1         9  1973-11-21      M           Yes           4  \n",
       "2         3  1973-11-21      M           Yes           4  \n",
       "3         2  1973-11-21      M           Yes           4  \n",
       "4         4  1973-11-21      M           Yes           4  "
      ]
     },
     "execution_count": 64,
     "metadata": {},
     "output_type": "execute_result"
    }
   ],
   "source": [
    "NewMergeData.head()"
   ]
  },
  {
   "cell_type": "code",
   "execution_count": 65,
   "metadata": {
    "collapsed": true
   },
   "outputs": [],
   "source": [
    "NewMergeData['CustomerID']=NewMergeData['CustomerID'].str.replace('[a-zA-Z]', '')\n"
   ]
  },
  {
   "cell_type": "code",
   "execution_count": 67,
   "metadata": {},
   "outputs": [],
   "source": [
    "NewMergeData['CustomerID'];"
   ]
  },
  {
   "cell_type": "code",
   "execution_count": 68,
   "metadata": {
    "collapsed": true
   },
   "outputs": [],
   "source": [
    "NewMergeData['ProductID']=NewMergeData['ProductID'].str.replace('[a-zA-Z]', '')\n"
   ]
  },
  {
   "cell_type": "code",
   "execution_count": 69,
   "metadata": {},
   "outputs": [],
   "source": [
    "NewMergeData['ProductID'].str.replace('[a-zA-Z]', '').sort_values();"
   ]
  },
  {
   "cell_type": "code",
   "execution_count": 70,
   "metadata": {
    "collapsed": true
   },
   "outputs": [],
   "source": [
    "NewMergeData['ProductID']=NewMergeData['ProductID'].astype('int64')"
   ]
  },
  {
   "cell_type": "code",
   "execution_count": 71,
   "metadata": {
    "collapsed": true
   },
   "outputs": [],
   "source": [
    "#Binning product category in prodbins\n",
    "bins=[6000,6200,6400,6600,6800,7000,7200,7400,7600,7800,8000]\n",
    "labels = [1,2,3,4,5,6,7,8,9,10]\n",
    "\n",
    "NewMergeData['Prodbin'] = pd.cut(NewMergeData['ProductID'], bins=bins, labels=labels)\n"
   ]
  },
  {
   "cell_type": "code",
   "execution_count": 72,
   "metadata": {},
   "outputs": [
    {
     "data": {
      "text/plain": [
       "5     817\n",
       "8     765\n",
       "2     733\n",
       "4     671\n",
       "3     649\n",
       "6     636\n",
       "7     594\n",
       "9     534\n",
       "10    509\n",
       "1     312\n",
       "Name: Prodbin, dtype: int64"
      ]
     },
     "execution_count": 72,
     "metadata": {},
     "output_type": "execute_result"
    }
   ],
   "source": [
    "NewMergeData['Prodbin'].value_counts()"
   ]
  },
  {
   "cell_type": "code",
   "execution_count": 74,
   "metadata": {},
   "outputs": [],
   "source": [
    "NewMergeData['BillNumber'].str.replace('[a-zA-Z]', '').sort_values();"
   ]
  },
  {
   "cell_type": "code",
   "execution_count": null,
   "metadata": {
    "collapsed": true
   },
   "outputs": [],
   "source": []
  },
  {
   "cell_type": "code",
   "execution_count": 75,
   "metadata": {},
   "outputs": [
    {
     "data": {
      "text/html": [
       "<div>\n",
       "<style scoped>\n",
       "    .dataframe tbody tr th:only-of-type {\n",
       "        vertical-align: middle;\n",
       "    }\n",
       "\n",
       "    .dataframe tbody tr th {\n",
       "        vertical-align: top;\n",
       "    }\n",
       "\n",
       "    .dataframe thead th {\n",
       "        text-align: right;\n",
       "    }\n",
       "</style>\n",
       "<table border=\"1\" class=\"dataframe\">\n",
       "  <thead>\n",
       "    <tr style=\"text-align: right;\">\n",
       "      <th></th>\n",
       "      <th>BillNumber</th>\n",
       "      <th>BillDate</th>\n",
       "      <th>CustomerID</th>\n",
       "      <th>ProductID</th>\n",
       "      <th>ProductCategory</th>\n",
       "      <th>Sales</th>\n",
       "      <th>Quantity</th>\n",
       "      <th>DOB</th>\n",
       "      <th>gender</th>\n",
       "      <th>MaritalStatus</th>\n",
       "      <th>Familysize</th>\n",
       "      <th>Prodbin</th>\n",
       "    </tr>\n",
       "  </thead>\n",
       "  <tbody>\n",
       "    <tr>\n",
       "      <th>0</th>\n",
       "      <td>B38262</td>\n",
       "      <td>2014-09-19</td>\n",
       "      <td>21116</td>\n",
       "      <td>7012</td>\n",
       "      <td>Office Supplies</td>\n",
       "      <td>5.670</td>\n",
       "      <td>3</td>\n",
       "      <td>1973-11-21</td>\n",
       "      <td>M</td>\n",
       "      <td>Yes</td>\n",
       "      <td>4</td>\n",
       "      <td>6</td>\n",
       "    </tr>\n",
       "    <tr>\n",
       "      <th>1</th>\n",
       "      <td>B38128</td>\n",
       "      <td>2014-09-23</td>\n",
       "      <td>21116</td>\n",
       "      <td>7313</td>\n",
       "      <td>Office Supplies</td>\n",
       "      <td>28.800</td>\n",
       "      <td>9</td>\n",
       "      <td>1973-11-21</td>\n",
       "      <td>M</td>\n",
       "      <td>Yes</td>\n",
       "      <td>4</td>\n",
       "      <td>7</td>\n",
       "    </tr>\n",
       "    <tr>\n",
       "      <th>2</th>\n",
       "      <td>B42017</td>\n",
       "      <td>2015-03-16</td>\n",
       "      <td>21116</td>\n",
       "      <td>6640</td>\n",
       "      <td>Office Supplies</td>\n",
       "      <td>17.520</td>\n",
       "      <td>3</td>\n",
       "      <td>1973-11-21</td>\n",
       "      <td>M</td>\n",
       "      <td>Yes</td>\n",
       "      <td>4</td>\n",
       "      <td>4</td>\n",
       "    </tr>\n",
       "    <tr>\n",
       "      <th>3</th>\n",
       "      <td>B39125</td>\n",
       "      <td>2015-04-29</td>\n",
       "      <td>21116</td>\n",
       "      <td>7219</td>\n",
       "      <td>Office Supplies</td>\n",
       "      <td>7.968</td>\n",
       "      <td>2</td>\n",
       "      <td>1973-11-21</td>\n",
       "      <td>M</td>\n",
       "      <td>Yes</td>\n",
       "      <td>4</td>\n",
       "      <td>7</td>\n",
       "    </tr>\n",
       "    <tr>\n",
       "      <th>4</th>\n",
       "      <td>B38809</td>\n",
       "      <td>2015-12-11</td>\n",
       "      <td>21116</td>\n",
       "      <td>6925</td>\n",
       "      <td>Office Supplies</td>\n",
       "      <td>110.528</td>\n",
       "      <td>4</td>\n",
       "      <td>1973-11-21</td>\n",
       "      <td>M</td>\n",
       "      <td>Yes</td>\n",
       "      <td>4</td>\n",
       "      <td>5</td>\n",
       "    </tr>\n",
       "  </tbody>\n",
       "</table>\n",
       "</div>"
      ],
      "text/plain": [
       "  BillNumber    BillDate CustomerID  ProductID  ProductCategory    Sales  \\\n",
       "0     B38262  2014-09-19      21116       7012  Office Supplies    5.670   \n",
       "1     B38128  2014-09-23      21116       7313  Office Supplies   28.800   \n",
       "2     B42017  2015-03-16      21116       6640  Office Supplies   17.520   \n",
       "3     B39125  2015-04-29      21116       7219  Office Supplies    7.968   \n",
       "4     B38809  2015-12-11      21116       6925  Office Supplies  110.528   \n",
       "\n",
       "   Quantity         DOB gender MaritalStatus  Familysize Prodbin  \n",
       "0         3  1973-11-21      M           Yes           4       6  \n",
       "1         9  1973-11-21      M           Yes           4       7  \n",
       "2         3  1973-11-21      M           Yes           4       4  \n",
       "3         2  1973-11-21      M           Yes           4       7  \n",
       "4         4  1973-11-21      M           Yes           4       5  "
      ]
     },
     "execution_count": 75,
     "metadata": {},
     "output_type": "execute_result"
    }
   ],
   "source": [
    "NewMergeData.head()"
   ]
  },
  {
   "cell_type": "code",
   "execution_count": 76,
   "metadata": {
    "collapsed": true
   },
   "outputs": [],
   "source": [
    "#dropping ID variables\n",
    "NewMergeData=NewMergeData.drop(\"ProductID\",axis=1)\n",
    "NewMergeData=NewMergeData.drop(\"CustomerID\",axis=1)\n",
    "NewMergeData=NewMergeData.drop(\"BillNumber\",axis=1)"
   ]
  },
  {
   "cell_type": "code",
   "execution_count": 77,
   "metadata": {
    "collapsed": true
   },
   "outputs": [],
   "source": [
    "NewMergeData['BillDate']=pd.to_datetime(NewMergeData['BillDate'],format='%Y-%m-%d', errors='ignore')\n",
    "NewMergeData['DOB']=pd.to_datetime(NewMergeData['DOB'],format='%Y-%m-%d', errors='ignore')"
   ]
  },
  {
   "cell_type": "code",
   "execution_count": null,
   "metadata": {
    "collapsed": true
   },
   "outputs": [],
   "source": [
    "#extracting new features from data"
   ]
  },
  {
   "cell_type": "code",
   "execution_count": 78,
   "metadata": {
    "collapsed": true
   },
   "outputs": [],
   "source": [
    "NewMergeData['Age']=(NewMergeData['BillDate']-NewMergeData['DOB'])/np.timedelta64(1,'Y')"
   ]
  },
  {
   "cell_type": "code",
   "execution_count": 79,
   "metadata": {
    "collapsed": true
   },
   "outputs": [],
   "source": [
    "NewMergeData['year']=NewMergeData['BillDate'].dt.year"
   ]
  },
  {
   "cell_type": "code",
   "execution_count": 80,
   "metadata": {
    "collapsed": true
   },
   "outputs": [],
   "source": [
    "NewMergeData['month']=NewMergeData['BillDate'].dt.month"
   ]
  },
  {
   "cell_type": "code",
   "execution_count": 81,
   "metadata": {
    "collapsed": true
   },
   "outputs": [],
   "source": [
    "NewMergeData=NewMergeData.drop(\"BillDate\",axis=1)\n",
    "NewMergeData=NewMergeData.drop(\"DOB\",axis=1)"
   ]
  },
  {
   "cell_type": "code",
   "execution_count": 82,
   "metadata": {
    "collapsed": true
   },
   "outputs": [],
   "source": [
    "NewMergeData['Age']=NewMergeData['Age'].astype(int)"
   ]
  },
  {
   "cell_type": "code",
   "execution_count": 83,
   "metadata": {},
   "outputs": [
    {
     "data": {
      "text/html": [
       "<div>\n",
       "<style scoped>\n",
       "    .dataframe tbody tr th:only-of-type {\n",
       "        vertical-align: middle;\n",
       "    }\n",
       "\n",
       "    .dataframe tbody tr th {\n",
       "        vertical-align: top;\n",
       "    }\n",
       "\n",
       "    .dataframe thead th {\n",
       "        text-align: right;\n",
       "    }\n",
       "</style>\n",
       "<table border=\"1\" class=\"dataframe\">\n",
       "  <thead>\n",
       "    <tr style=\"text-align: right;\">\n",
       "      <th></th>\n",
       "      <th>ProductCategory</th>\n",
       "      <th>Sales</th>\n",
       "      <th>Quantity</th>\n",
       "      <th>gender</th>\n",
       "      <th>MaritalStatus</th>\n",
       "      <th>Familysize</th>\n",
       "      <th>Prodbin</th>\n",
       "      <th>Age</th>\n",
       "      <th>year</th>\n",
       "      <th>month</th>\n",
       "    </tr>\n",
       "  </thead>\n",
       "  <tbody>\n",
       "    <tr>\n",
       "      <th>0</th>\n",
       "      <td>Office Supplies</td>\n",
       "      <td>5.670</td>\n",
       "      <td>3</td>\n",
       "      <td>M</td>\n",
       "      <td>Yes</td>\n",
       "      <td>4</td>\n",
       "      <td>6</td>\n",
       "      <td>40</td>\n",
       "      <td>2014</td>\n",
       "      <td>9</td>\n",
       "    </tr>\n",
       "    <tr>\n",
       "      <th>1</th>\n",
       "      <td>Office Supplies</td>\n",
       "      <td>28.800</td>\n",
       "      <td>9</td>\n",
       "      <td>M</td>\n",
       "      <td>Yes</td>\n",
       "      <td>4</td>\n",
       "      <td>7</td>\n",
       "      <td>40</td>\n",
       "      <td>2014</td>\n",
       "      <td>9</td>\n",
       "    </tr>\n",
       "    <tr>\n",
       "      <th>2</th>\n",
       "      <td>Office Supplies</td>\n",
       "      <td>17.520</td>\n",
       "      <td>3</td>\n",
       "      <td>M</td>\n",
       "      <td>Yes</td>\n",
       "      <td>4</td>\n",
       "      <td>4</td>\n",
       "      <td>41</td>\n",
       "      <td>2015</td>\n",
       "      <td>3</td>\n",
       "    </tr>\n",
       "    <tr>\n",
       "      <th>3</th>\n",
       "      <td>Office Supplies</td>\n",
       "      <td>7.968</td>\n",
       "      <td>2</td>\n",
       "      <td>M</td>\n",
       "      <td>Yes</td>\n",
       "      <td>4</td>\n",
       "      <td>7</td>\n",
       "      <td>41</td>\n",
       "      <td>2015</td>\n",
       "      <td>4</td>\n",
       "    </tr>\n",
       "    <tr>\n",
       "      <th>4</th>\n",
       "      <td>Office Supplies</td>\n",
       "      <td>110.528</td>\n",
       "      <td>4</td>\n",
       "      <td>M</td>\n",
       "      <td>Yes</td>\n",
       "      <td>4</td>\n",
       "      <td>5</td>\n",
       "      <td>42</td>\n",
       "      <td>2015</td>\n",
       "      <td>12</td>\n",
       "    </tr>\n",
       "  </tbody>\n",
       "</table>\n",
       "</div>"
      ],
      "text/plain": [
       "   ProductCategory    Sales  Quantity gender MaritalStatus  Familysize  \\\n",
       "0  Office Supplies    5.670         3      M           Yes           4   \n",
       "1  Office Supplies   28.800         9      M           Yes           4   \n",
       "2  Office Supplies   17.520         3      M           Yes           4   \n",
       "3  Office Supplies    7.968         2      M           Yes           4   \n",
       "4  Office Supplies  110.528         4      M           Yes           4   \n",
       "\n",
       "  Prodbin  Age  year  month  \n",
       "0       6   40  2014      9  \n",
       "1       7   40  2014      9  \n",
       "2       4   41  2015      3  \n",
       "3       7   41  2015      4  \n",
       "4       5   42  2015     12  "
      ]
     },
     "execution_count": 83,
     "metadata": {},
     "output_type": "execute_result"
    }
   ],
   "source": [
    "NewMergeData.head()"
   ]
  },
  {
   "cell_type": "code",
   "execution_count": 84,
   "metadata": {
    "collapsed": true
   },
   "outputs": [],
   "source": [
    "#datatype conversion\n",
    "for col in ['gender', 'MaritalStatus', 'ProductCategory','Prodbin']:\n",
    "    NewMergeData[col] = NewMergeData[col].astype('category')"
   ]
  },
  {
   "cell_type": "code",
   "execution_count": 85,
   "metadata": {},
   "outputs": [
    {
     "data": {
      "text/plain": [
       "ProductCategory    category\n",
       "Sales               float64\n",
       "Quantity              int64\n",
       "gender             category\n",
       "MaritalStatus      category\n",
       "Familysize            int64\n",
       "Prodbin            category\n",
       "Age                   int32\n",
       "year                  int64\n",
       "month                 int64\n",
       "dtype: object"
      ]
     },
     "execution_count": 85,
     "metadata": {},
     "output_type": "execute_result"
    }
   ],
   "source": [
    "NewMergeData.dtypes"
   ]
  },
  {
   "cell_type": "code",
   "execution_count": 86,
   "metadata": {
    "collapsed": true
   },
   "outputs": [],
   "source": [
    "#saving the cleaned dataset\n",
    "NewMergeData.to_csv('NewMergeData.csv',index=False)"
   ]
  },
  {
   "cell_type": "code",
   "execution_count": 87,
   "metadata": {
    "collapsed": true
   },
   "outputs": [],
   "source": [
    "le = preprocessing.LabelEncoder()"
   ]
  },
  {
   "cell_type": "code",
   "execution_count": 88,
   "metadata": {
    "collapsed": true
   },
   "outputs": [],
   "source": [
    "lis =['gender', 'MaritalStatus', 'ProductCategory','Prodbin']"
   ]
  },
  {
   "cell_type": "code",
   "execution_count": 89,
   "metadata": {
    "collapsed": true
   },
   "outputs": [],
   "source": [
    "#label encoding the newdataset\n",
    "for i in lis:\n",
    "    le.fit(NewMergeData[i])\n",
    "    NewMergeData[i] = le.fit_transform(NewMergeData[i])"
   ]
  },
  {
   "cell_type": "code",
   "execution_count": 90,
   "metadata": {},
   "outputs": [
    {
     "data": {
      "text/html": [
       "<div>\n",
       "<style scoped>\n",
       "    .dataframe tbody tr th:only-of-type {\n",
       "        vertical-align: middle;\n",
       "    }\n",
       "\n",
       "    .dataframe tbody tr th {\n",
       "        vertical-align: top;\n",
       "    }\n",
       "\n",
       "    .dataframe thead th {\n",
       "        text-align: right;\n",
       "    }\n",
       "</style>\n",
       "<table border=\"1\" class=\"dataframe\">\n",
       "  <thead>\n",
       "    <tr style=\"text-align: right;\">\n",
       "      <th></th>\n",
       "      <th>ProductCategory</th>\n",
       "      <th>Sales</th>\n",
       "      <th>Quantity</th>\n",
       "      <th>gender</th>\n",
       "      <th>MaritalStatus</th>\n",
       "      <th>Familysize</th>\n",
       "      <th>Prodbin</th>\n",
       "      <th>Age</th>\n",
       "      <th>year</th>\n",
       "      <th>month</th>\n",
       "    </tr>\n",
       "  </thead>\n",
       "  <tbody>\n",
       "    <tr>\n",
       "      <th>0</th>\n",
       "      <td>1</td>\n",
       "      <td>5.670</td>\n",
       "      <td>3</td>\n",
       "      <td>1</td>\n",
       "      <td>1</td>\n",
       "      <td>4</td>\n",
       "      <td>5</td>\n",
       "      <td>40</td>\n",
       "      <td>2014</td>\n",
       "      <td>9</td>\n",
       "    </tr>\n",
       "    <tr>\n",
       "      <th>1</th>\n",
       "      <td>1</td>\n",
       "      <td>28.800</td>\n",
       "      <td>9</td>\n",
       "      <td>1</td>\n",
       "      <td>1</td>\n",
       "      <td>4</td>\n",
       "      <td>6</td>\n",
       "      <td>40</td>\n",
       "      <td>2014</td>\n",
       "      <td>9</td>\n",
       "    </tr>\n",
       "    <tr>\n",
       "      <th>2</th>\n",
       "      <td>1</td>\n",
       "      <td>17.520</td>\n",
       "      <td>3</td>\n",
       "      <td>1</td>\n",
       "      <td>1</td>\n",
       "      <td>4</td>\n",
       "      <td>3</td>\n",
       "      <td>41</td>\n",
       "      <td>2015</td>\n",
       "      <td>3</td>\n",
       "    </tr>\n",
       "    <tr>\n",
       "      <th>3</th>\n",
       "      <td>1</td>\n",
       "      <td>7.968</td>\n",
       "      <td>2</td>\n",
       "      <td>1</td>\n",
       "      <td>1</td>\n",
       "      <td>4</td>\n",
       "      <td>6</td>\n",
       "      <td>41</td>\n",
       "      <td>2015</td>\n",
       "      <td>4</td>\n",
       "    </tr>\n",
       "    <tr>\n",
       "      <th>4</th>\n",
       "      <td>1</td>\n",
       "      <td>110.528</td>\n",
       "      <td>4</td>\n",
       "      <td>1</td>\n",
       "      <td>1</td>\n",
       "      <td>4</td>\n",
       "      <td>4</td>\n",
       "      <td>42</td>\n",
       "      <td>2015</td>\n",
       "      <td>12</td>\n",
       "    </tr>\n",
       "  </tbody>\n",
       "</table>\n",
       "</div>"
      ],
      "text/plain": [
       "   ProductCategory    Sales  Quantity  gender  MaritalStatus  Familysize  \\\n",
       "0                1    5.670         3       1              1           4   \n",
       "1                1   28.800         9       1              1           4   \n",
       "2                1   17.520         3       1              1           4   \n",
       "3                1    7.968         2       1              1           4   \n",
       "4                1  110.528         4       1              1           4   \n",
       "\n",
       "   Prodbin  Age  year  month  \n",
       "0        5   40  2014      9  \n",
       "1        6   40  2014      9  \n",
       "2        3   41  2015      3  \n",
       "3        6   41  2015      4  \n",
       "4        4   42  2015     12  "
      ]
     },
     "execution_count": 90,
     "metadata": {},
     "output_type": "execute_result"
    }
   ],
   "source": [
    "NewMergeData.head()"
   ]
  },
  {
   "cell_type": "code",
   "execution_count": 91,
   "metadata": {
    "collapsed": true
   },
   "outputs": [],
   "source": [
    "prodbin=NewMergeData['Prodbin']"
   ]
  },
  {
   "cell_type": "code",
   "execution_count": 92,
   "metadata": {
    "collapsed": true
   },
   "outputs": [],
   "source": [
    "X=NewMergeData"
   ]
  },
  {
   "cell_type": "code",
   "execution_count": 93,
   "metadata": {
    "collapsed": true
   },
   "outputs": [],
   "source": [
    "\n",
    "pred3=DT1.predict(X)"
   ]
  },
  {
   "cell_type": "code",
   "execution_count": 94,
   "metadata": {
    "collapsed": true
   },
   "outputs": [],
   "source": [
    "NewMergeData['pred']=pred3"
   ]
  },
  {
   "cell_type": "code",
   "execution_count": 95,
   "metadata": {},
   "outputs": [
    {
     "data": {
      "text/html": [
       "<div>\n",
       "<style scoped>\n",
       "    .dataframe tbody tr th:only-of-type {\n",
       "        vertical-align: middle;\n",
       "    }\n",
       "\n",
       "    .dataframe tbody tr th {\n",
       "        vertical-align: top;\n",
       "    }\n",
       "\n",
       "    .dataframe thead th {\n",
       "        text-align: right;\n",
       "    }\n",
       "</style>\n",
       "<table border=\"1\" class=\"dataframe\">\n",
       "  <thead>\n",
       "    <tr style=\"text-align: right;\">\n",
       "      <th></th>\n",
       "      <th>ProductCategory</th>\n",
       "      <th>Sales</th>\n",
       "      <th>Quantity</th>\n",
       "      <th>gender</th>\n",
       "      <th>MaritalStatus</th>\n",
       "      <th>Familysize</th>\n",
       "      <th>Prodbin</th>\n",
       "      <th>Age</th>\n",
       "      <th>year</th>\n",
       "      <th>month</th>\n",
       "      <th>pred</th>\n",
       "    </tr>\n",
       "  </thead>\n",
       "  <tbody>\n",
       "    <tr>\n",
       "      <th>0</th>\n",
       "      <td>1</td>\n",
       "      <td>5.670</td>\n",
       "      <td>3</td>\n",
       "      <td>1</td>\n",
       "      <td>1</td>\n",
       "      <td>4</td>\n",
       "      <td>5</td>\n",
       "      <td>40</td>\n",
       "      <td>2014</td>\n",
       "      <td>9</td>\n",
       "      <td>2</td>\n",
       "    </tr>\n",
       "    <tr>\n",
       "      <th>1</th>\n",
       "      <td>1</td>\n",
       "      <td>28.800</td>\n",
       "      <td>9</td>\n",
       "      <td>1</td>\n",
       "      <td>1</td>\n",
       "      <td>4</td>\n",
       "      <td>6</td>\n",
       "      <td>40</td>\n",
       "      <td>2014</td>\n",
       "      <td>9</td>\n",
       "      <td>2</td>\n",
       "    </tr>\n",
       "    <tr>\n",
       "      <th>2</th>\n",
       "      <td>1</td>\n",
       "      <td>17.520</td>\n",
       "      <td>3</td>\n",
       "      <td>1</td>\n",
       "      <td>1</td>\n",
       "      <td>4</td>\n",
       "      <td>3</td>\n",
       "      <td>41</td>\n",
       "      <td>2015</td>\n",
       "      <td>3</td>\n",
       "      <td>2</td>\n",
       "    </tr>\n",
       "    <tr>\n",
       "      <th>3</th>\n",
       "      <td>1</td>\n",
       "      <td>7.968</td>\n",
       "      <td>2</td>\n",
       "      <td>1</td>\n",
       "      <td>1</td>\n",
       "      <td>4</td>\n",
       "      <td>6</td>\n",
       "      <td>41</td>\n",
       "      <td>2015</td>\n",
       "      <td>4</td>\n",
       "      <td>2</td>\n",
       "    </tr>\n",
       "    <tr>\n",
       "      <th>4</th>\n",
       "      <td>1</td>\n",
       "      <td>110.528</td>\n",
       "      <td>4</td>\n",
       "      <td>1</td>\n",
       "      <td>1</td>\n",
       "      <td>4</td>\n",
       "      <td>4</td>\n",
       "      <td>42</td>\n",
       "      <td>2015</td>\n",
       "      <td>12</td>\n",
       "      <td>2</td>\n",
       "    </tr>\n",
       "  </tbody>\n",
       "</table>\n",
       "</div>"
      ],
      "text/plain": [
       "   ProductCategory    Sales  Quantity  gender  MaritalStatus  Familysize  \\\n",
       "0                1    5.670         3       1              1           4   \n",
       "1                1   28.800         9       1              1           4   \n",
       "2                1   17.520         3       1              1           4   \n",
       "3                1    7.968         2       1              1           4   \n",
       "4                1  110.528         4       1              1           4   \n",
       "\n",
       "   Prodbin  Age  year  month  pred  \n",
       "0        5   40  2014      9     2  \n",
       "1        6   40  2014      9     2  \n",
       "2        3   41  2015      3     2  \n",
       "3        6   41  2015      4     2  \n",
       "4        4   42  2015     12     2  "
      ]
     },
     "execution_count": 95,
     "metadata": {},
     "output_type": "execute_result"
    }
   ],
   "source": [
    "NewMergeData.head()"
   ]
  },
  {
   "cell_type": "code",
   "execution_count": 96,
   "metadata": {
    "collapsed": true
   },
   "outputs": [],
   "source": [
    "NewUnsupPred = pd.read_csv(\"./NewunsupPred.csv\")"
   ]
  },
  {
   "cell_type": "code",
   "execution_count": 97,
   "metadata": {},
   "outputs": [
    {
     "data": {
      "text/plain": [
       "0.4009646302250804"
      ]
     },
     "execution_count": 97,
     "metadata": {},
     "output_type": "execute_result"
    }
   ],
   "source": [
    "accuracy_score(y_pred=NewMergeData['pred'],y_true=NewUnsupPred['pred'])"
   ]
  },
  {
   "cell_type": "code",
   "execution_count": 98,
   "metadata": {},
   "outputs": [
    {
     "data": {
      "text/plain": [
       "array([[   0,    0,    0,    0,  591,    0],\n",
       "       [   0, 1751,    0,    0,    0,    0],\n",
       "       [   0,  514,    0,    0,    0,    0],\n",
       "       [ 620,    0,    0,    0,    0,    0],\n",
       "       [2001,    0,    0,    0,    0,    0],\n",
       "       [   0,    0,    0,    0,    0,  743]], dtype=int64)"
      ]
     },
     "execution_count": 98,
     "metadata": {},
     "output_type": "execute_result"
    }
   ],
   "source": [
    "confusion_matrix(y_pred=NewMergeData['pred'],y_true=NewUnsupPred['pred'])"
   ]
  },
  {
   "cell_type": "code",
   "execution_count": 99,
   "metadata": {},
   "outputs": [
    {
     "data": {
      "text/plain": [
       "1    2621\n",
       "2    2265\n",
       "6     743\n",
       "5     591\n",
       "Name: pred, dtype: int64"
      ]
     },
     "execution_count": 99,
     "metadata": {},
     "output_type": "execute_result"
    }
   ],
   "source": [
    "NewMergeData['pred'].value_counts()"
   ]
  },
  {
   "cell_type": "code",
   "execution_count": 100,
   "metadata": {},
   "outputs": [
    {
     "data": {
      "text/plain": [
       "5    2001\n",
       "2    1751\n",
       "6     743\n",
       "4     620\n",
       "1     591\n",
       "3     514\n",
       "Name: pred, dtype: int64"
      ]
     },
     "execution_count": 100,
     "metadata": {},
     "output_type": "execute_result"
    }
   ],
   "source": [
    "NewUnsupPred['pred'].value_counts()"
   ]
  },
  {
   "cell_type": "markdown",
   "metadata": {},
   "source": [
    "# Segement Behaviour"
   ]
  },
  {
   "cell_type": "markdown",
   "metadata": {
    "collapsed": true
   },
   "source": [
    "Cluster 7\n",
    "gender F, Product category-0, familysize>1,\n",
    "\n",
    "Cluster-6\n",
    "gender-F, product category-2,familysie=1\n",
    "\n",
    "Cluster-5\n",
    "gender-F, product category-1,\n",
    "\n",
    "Cluster-4\n",
    "gender-M,single,product category-0\n",
    "\n",
    "Cluster-3\n",
    "gender-M, product category-2\n",
    "\n",
    "Cluster-2\n",
    "gender-M,product category-1,\n",
    "\n",
    "\n",
    "Cluster-1\n",
    "gender-M,Married,product category-0\n"
   ]
  },
  {
   "cell_type": "code",
   "execution_count": null,
   "metadata": {
    "collapsed": true
   },
   "outputs": [],
   "source": []
  }
 ],
 "metadata": {
  "kernelspec": {
   "display_name": "Python 3",
   "language": "python",
   "name": "python3"
  },
  "language_info": {
   "codemirror_mode": {
    "name": "ipython",
    "version": 3
   },
   "file_extension": ".py",
   "mimetype": "text/x-python",
   "name": "python",
   "nbconvert_exporter": "python",
   "pygments_lexer": "ipython3",
   "version": "3.6.0"
  }
 },
 "nbformat": 4,
 "nbformat_minor": 2
}
